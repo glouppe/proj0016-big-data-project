{
 "cells": [
  {
   "cell_type": "markdown",
   "metadata": {},
   "source": [
    "# Solution to Pandas exercises"
   ]
  },
  {
   "cell_type": "markdown",
   "source": [
    "---"
   ],
   "metadata": {
    "collapsed": false
   }
  },
  {
   "cell_type": "code",
   "execution_count": 1,
   "metadata": {
    "pycharm": {
     "is_executing": false,
     "name": "#%%\n"
    }
   },
   "outputs": [],
   "source": [
    "import pandas as pd\n",
    "import numpy as np\n",
    "import matplotlib.pyplot as plt"
   ]
  },
  {
   "cell_type": "markdown",
   "metadata": {},
   "source": [
    "## 2.7 EXERCISES `Series`\n",
    "\n",
    "<div class=\"alert alert-success\">\n",
    "\n",
    "<b>EXERCISES</b>:\n",
    "\n",
    " <ul>\n",
    "  <li>Write a Python program to convert a NumPy array to a Pandas series.</li>\n",
    "</ul>\n",
    " <ul>\n",
    "  <li>Write a Pandas program to convert a given Series to an array.</li>\n",
    "</ul>\n",
    "<ul>\n",
    "  <li>Write a Pandas program to convert Series of lists to one Series.</li>\n",
    "</ul>\n",
    "<ul>\n",
    "  <li>Write a Pandas program to add some data to an existing Series. </li>\n",
    "</ul>\n",
    "<ul>\n",
    "  <li>Write a Pandas program to create the mean and standard deviation of the data of a given Series.</li>\n",
    "</ul>\n",
    "</div>\n",
    "\n",
    "https://www.w3resource.com/python-exercises/pandas/python-pandas-data-series-exercise-6.php  \n",
    "https://www.w3resource.com/python-exercises/pandas/python-pandas-data-series-exercise-9.php  \n",
    "https://www.w3resource.com/python-exercises/pandas/python-pandas-data-series-exercise-10.php  \n",
    "https://www.w3resource.com/python-exercises/pandas/python-pandas-data-series-exercise-12.php  \n",
    "https://www.w3resource.com/python-exercises/pandas/python-pandas-data-series-exercise-15.php  "
   ]
  },
  {
   "cell_type": "code",
   "execution_count": 2,
   "metadata": {
    "pycharm": {
     "is_executing": false,
     "name": "#%%\n"
    }
   },
   "outputs": [
    {
     "name": "stdout",
     "output_type": "stream",
     "text": [
      "NumPy array:\n",
      "[10 20 30 40 50]\n",
      "Converted Pandas series:\n",
      "0    10\n",
      "1    20\n",
      "2    30\n",
      "3    40\n",
      "4    50\n",
      "dtype: int64\n"
     ]
    }
   ],
   "source": [
    "np_array = np.array([10, 20, 30, 40, 50])\n",
    "print(\"NumPy array:\")\n",
    "print(np_array)\n",
    "new_series = pd.Series(np_array)\n",
    "print(\"Converted Pandas series:\")\n",
    "print(new_series)"
   ]
  },
  {
   "cell_type": "code",
   "execution_count": 3,
   "metadata": {
    "pycharm": {
     "is_executing": false,
     "name": "#%%\n"
    }
   },
   "outputs": [
    {
     "name": "stdout",
     "output_type": "stream",
     "text": [
      "Original Data Series:\n",
      "0       100\n",
      "1       200\n",
      "2    python\n",
      "3    300.12\n",
      "4       400\n",
      "dtype: object\n",
      "Series to an array\n",
      "['100' '200' 'python' '300.12' '400']\n"
     ]
    }
   ],
   "source": [
    "s1 = pd.Series(['100', '200', 'python', '300.12', '400'])\n",
    "print(\"Original Data Series:\")\n",
    "print(s1)\n",
    "print(\"Series to an array\")\n",
    "a = np.array(s1.values.tolist())\n",
    "print (a)"
   ]
  },
  {
   "cell_type": "code",
   "execution_count": 4,
   "metadata": {
    "pycharm": {
     "is_executing": false,
     "name": "#%%\n"
    }
   },
   "outputs": [
    {
     "name": "stdout",
     "output_type": "stream",
     "text": [
      "Original Series of list\n",
      "0    [Red, Green, White]\n",
      "1           [Red, Black]\n",
      "2               [Yellow]\n",
      "dtype: object\n",
      "One Series\n",
      "0       Red\n",
      "1     Green\n",
      "2     White\n",
      "3       Red\n",
      "4     Black\n",
      "5    Yellow\n",
      "dtype: object\n"
     ]
    }
   ],
   "source": [
    "s = pd.Series([\n",
    "    ['Red', 'Green', 'White'],\n",
    "    ['Red', 'Black'],\n",
    "    ['Yellow']])\n",
    "print(\"Original Series of list\")\n",
    "print(s)\n",
    "s = s.apply(pd.Series).stack().reset_index(drop=True)\n",
    "print(\"One Series\")\n",
    "print(s)\n"
   ]
  },
  {
   "cell_type": "code",
   "execution_count": 5,
   "metadata": {
    "pycharm": {
     "is_executing": false,
     "name": "#%%\n"
    }
   },
   "outputs": [
    {
     "name": "stdout",
     "output_type": "stream",
     "text": [
      "Original Data Series:\n",
      "0       100\n",
      "1       200\n",
      "2    python\n",
      "3    300.12\n",
      "4       400\n",
      "dtype: object\n",
      "\n",
      "Data Series after adding some data:\n",
      "0       100\n",
      "1       200\n",
      "2    python\n",
      "3    300.12\n",
      "4       400\n",
      "0       500\n",
      "1       php\n",
      "dtype: object\n"
     ]
    }
   ],
   "source": [
    "s = pd.Series(['100', '200', 'python', '300.12', '400'])\n",
    "print(\"Original Data Series:\")\n",
    "print(s)\n",
    "print(\"\\nData Series after adding some data:\")\n",
    "new_s = s.append(pd.Series(['500', 'php']))\n",
    "print(new_s)\n"
   ]
  },
  {
   "cell_type": "code",
   "execution_count": 6,
   "metadata": {
    "pycharm": {
     "is_executing": false,
     "name": "#%%\n"
    }
   },
   "outputs": [
    {
     "name": "stdout",
     "output_type": "stream",
     "text": [
      "Original Data Series:\n",
      "0     1\n",
      "1     2\n",
      "2     3\n",
      "3     4\n",
      "4     5\n",
      "5     6\n",
      "6     7\n",
      "7     8\n",
      "8     9\n",
      "9     5\n",
      "10    3\n",
      "dtype: int64\n",
      "Mean of the said Data Series:\n",
      "4.818181818181818\n",
      "Standard deviation of the said Data Series:\n",
      "2.522624895547565\n"
     ]
    }
   ],
   "source": [
    "s = pd.Series(data = [1,2,3,4,5,6,7,8,9,5,3])\n",
    "print(\"Original Data Series:\")\n",
    "print(s)\n",
    "print(\"Mean of the said Data Series:\")\n",
    "print(s.mean())\n",
    "print(\"Standard deviation of the said Data Series:\")\n",
    "print(s.std())"
   ]
  },
  {
   "cell_type": "markdown",
   "metadata": {},
   "source": [
    "## 3.1 EXERCISES Creating a `DataFrame`\n",
    "\n",
    "<div class=\"alert alert-success\">\n",
    "\n",
    "<b>EXERCISE</b>:\n",
    "\n",
    "<ul>\n",
    "  <li>Write a Pandas program to create and display a DataFrame from a specified dictionary data which has the index labels.</li>\n",
    "</ul>\n",
    "\n",
    "https://www.w3resource.com/python-exercises/pandas/python-pandas-data-frame-exercise-2.php\n",
    "</div>"
   ]
  },
  {
   "cell_type": "code",
   "execution_count": 7,
   "metadata": {
    "pycharm": {
     "is_executing": false,
     "name": "#%%\n"
    }
   },
   "outputs": [
    {
     "name": "stdout",
     "output_type": "stream",
     "text": [
      "        name  score  attempts qualify\n",
      "a  Anastasia   12.5         1     yes\n",
      "b       Dima    9.0         3      no\n",
      "c  Katherine   16.5         2     yes\n",
      "d      James    NaN         3      no\n",
      "e      Emily    9.0         2      no\n",
      "f    Michael   20.0         3     yes\n",
      "g    Matthew   14.5         1     yes\n",
      "h      Laura    NaN         1      no\n",
      "i      Kevin    8.0         2      no\n",
      "j      Jonas   19.0         1     yes\n"
     ]
    }
   ],
   "source": [
    "exam_data  = {'name': ['Anastasia', 'Dima', 'Katherine', 'James', 'Emily', 'Michael', 'Matthew', 'Laura', 'Kevin', 'Jonas'],\n",
    "        'score': [12.5, 9, 16.5, np.nan, 9, 20, 14.5, np.nan, 8, 19],\n",
    "        'attempts': [1, 3, 2, 3, 2, 3, 1, 1, 2, 1],\n",
    "        'qualify': ['yes', 'no', 'yes', 'no', 'no', 'yes', 'yes', 'no', 'no', 'yes']}\n",
    "labels = ['a', 'b', 'c', 'd', 'e', 'f', 'g', 'h', 'i', 'j']\n",
    "\n",
    "df = pd.DataFrame(exam_data , index=labels)\n",
    "print(df)\n"
   ]
  },
  {
   "cell_type": "markdown",
   "metadata": {
    "pycharm": {
     "name": "#%% md\n"
    }
   },
   "source": [
    "## 3.2 EXERCISES overview of DataFrame\n",
    "\n",
    "<div class=\"alert alert-success\">\n",
    "\n",
    "<b>EXERCISE</b>:\n",
    "\n",
    "<ul>\n",
    "  <li>Write a Pandas program to display the first 10 rows of the titanic DataFrame.</li>\n",
    "</ul>\n",
    "\n",
    "<ul>\n",
    "  <li>Write a Pandas program to get the details of the columns PassengerId and Survived of the DataFrame.</li>\n",
    "</ul>\n",
    "\n",
    "</div>"
   ]
  },
  {
   "cell_type": "code",
   "execution_count": 8,
   "metadata": {
    "pycharm": {
     "is_executing": false,
     "name": "#%%\n"
    }
   },
   "outputs": [
    {
     "name": "stdout",
     "output_type": "stream",
     "text": [
      "First 10 rows of the DataFrame:\n",
      "   PassengerId  Survived  Pclass  \\\n",
      "0            1         0       3   \n",
      "1            2         1       1   \n",
      "2            3         1       3   \n",
      "3            4         1       1   \n",
      "4            5         0       3   \n",
      "5            6         0       3   \n",
      "6            7         0       1   \n",
      "7            8         0       3   \n",
      "8            9         1       3   \n",
      "9           10         1       2   \n",
      "\n",
      "                                                Name     Sex   Age  SibSp  \\\n",
      "0                            Braund, Mr. Owen Harris    male  22.0      1   \n",
      "1  Cumings, Mrs. John Bradley (Florence Briggs Th...  female  38.0      1   \n",
      "2                             Heikkinen, Miss. Laina  female  26.0      0   \n",
      "3       Futrelle, Mrs. Jacques Heath (Lily May Peel)  female  35.0      1   \n",
      "4                           Allen, Mr. William Henry    male  35.0      0   \n",
      "5                                   Moran, Mr. James    male   NaN      0   \n",
      "6                            McCarthy, Mr. Timothy J    male  54.0      0   \n",
      "7                     Palsson, Master. Gosta Leonard    male   2.0      3   \n",
      "8  Johnson, Mrs. Oscar W (Elisabeth Vilhelmina Berg)  female  27.0      0   \n",
      "9                Nasser, Mrs. Nicholas (Adele Achem)  female  14.0      1   \n",
      "\n",
      "   Parch            Ticket     Fare Cabin Embarked  \n",
      "0      0         A/5 21171   7.2500   NaN        S  \n",
      "1      0          PC 17599  71.2833   C85        C  \n",
      "2      0  STON/O2. 3101282   7.9250   NaN        S  \n",
      "3      0            113803  53.1000  C123        S  \n",
      "4      0            373450   8.0500   NaN        S  \n",
      "5      0            330877   8.4583   NaN        Q  \n",
      "6      0             17463  51.8625   E46        S  \n",
      "7      1            349909  21.0750   NaN        S  \n",
      "8      2            347742  11.1333   NaN        S  \n",
      "9      0            237736  30.0708   NaN        C  \n"
     ]
    }
   ],
   "source": [
    "df = pd.read_csv('data/titanic.csv')\n",
    "#Display the first 10 rows\n",
    "result = df.head(10)\n",
    "print(\"First 10 rows of the DataFrame:\")\n",
    "print(result)\n"
   ]
  },
  {
   "cell_type": "code",
   "execution_count": 9,
   "metadata": {
    "pycharm": {
     "is_executing": false,
     "name": "#%%\n"
    }
   },
   "outputs": [
    {
     "name": "stdout",
     "output_type": "stream",
     "text": [
      "Details of title and genres:\n",
      "     PassengerId  Survived\n",
      "0              1         0\n",
      "1              2         1\n",
      "2              3         1\n",
      "3              4         1\n",
      "4              5         0\n",
      "..           ...       ...\n",
      "886          887         0\n",
      "887          888         1\n",
      "888          889         0\n",
      "889          890         1\n",
      "890          891         0\n",
      "\n",
      "[891 rows x 2 columns]\n"
     ]
    }
   ],
   "source": [
    "df = pd.read_csv('data/titanic.csv')\n",
    "result = df[['PassengerId', 'Survived']]\n",
    "print(\"Details of title and genres:\")\n",
    "print(result)"
   ]
  },
  {
   "cell_type": "markdown",
   "metadata": {
    "pycharm": {
     "name": "#%% md\n"
    }
   },
   "source": [
    "## 3.3 EXERCISES Accessing rows\n",
    "\n",
    "<div class=\"alert alert-success\">\n",
    "\n",
    "<b>EXERCISE</b>:\n",
    "\n",
    "<ul>\n",
    "  <li>Write a Pandas program to change the score in row 'd' to 11.5.</li>\n",
    "</ul>\n",
    "\n",
    "</div>\n",
    "\n",
    "https://www.w3resource.com/python-exercises/pandas/python-pandas-data-frame-exercise-12.php"
   ]
  },
  {
   "cell_type": "code",
   "execution_count": 10,
   "metadata": {
    "pycharm": {
     "is_executing": false,
     "name": "#%%\n"
    }
   },
   "outputs": [
    {
     "name": "stdout",
     "output_type": "stream",
     "text": [
      "\n",
      "Original data frame:\n",
      "        name  score  attempts qualify\n",
      "a  Anastasia   12.5         1     yes\n",
      "b       Dima    9.0         3      no\n",
      "c  Katherine   16.5         2     yes\n",
      "d      James    NaN         3      no\n",
      "e      Emily    9.0         2      no\n",
      "f    Michael   20.0         3     yes\n",
      "g    Matthew   14.5         1     yes\n",
      "h      Laura    NaN         1      no\n",
      "i      Kevin    8.0         2      no\n",
      "j      Jonas   19.0         1     yes\n",
      "\n",
      "Change the score in row 'd' to 11.5:\n",
      "        name  score  attempts qualify\n",
      "a  Anastasia   12.5         1     yes\n",
      "b       Dima    9.0         3      no\n",
      "c  Katherine   16.5         2     yes\n",
      "d      James   11.5         3      no\n",
      "e      Emily    9.0         2      no\n",
      "f    Michael   20.0         3     yes\n",
      "g    Matthew   14.5         1     yes\n",
      "h      Laura    NaN         1      no\n",
      "i      Kevin    8.0         2      no\n",
      "j      Jonas   19.0         1     yes\n"
     ]
    }
   ],
   "source": [
    "exam_data  = {'name': ['Anastasia', 'Dima', 'Katherine', 'James', 'Emily', 'Michael', 'Matthew', 'Laura', 'Kevin', 'Jonas'],\n",
    "        'score': [12.5, 9, 16.5, np.nan, 9, 20, 14.5, np.nan, 8, 19],\n",
    "        'attempts': [1, 3, 2, 3, 2, 3, 1, 1, 2, 1],\n",
    "        'qualify': ['yes', 'no', 'yes', 'no', 'no', 'yes', 'yes', 'no', 'no', 'yes']}\n",
    "labels = ['a', 'b', 'c', 'd', 'e', 'f', 'g', 'h', 'i', 'j']\n",
    "\n",
    "df = pd.DataFrame(exam_data , index=labels)\n",
    "print(\"\\nOriginal data frame:\")\n",
    "print(df)\n",
    "print(\"\\nChange the score in row 'd' to 11.5:\")\n",
    "df.loc['d', 'score'] = 11.5\n",
    "print(df)\n"
   ]
  },
  {
   "cell_type": "markdown",
   "metadata": {
    "pycharm": {
     "name": "#%% md\n"
    }
   },
   "source": [
    "## 3.6 EXERCISES Querying a `DataFrame`\n",
    "\n",
    "<div class=\"alert alert-success\">\n",
    "\n",
    "<b>EXERCISE</b>:\n",
    "\n",
    "<ul>\n",
    "  <li>Write a Pandas program to select the rows where number of attempts in the examination is less than 2 and score greater than 15.</li>\n",
    "</ul>\n",
    "\n",
    "</div>\n",
    "\n",
    "https://www.w3resource.com/python-exercises/pandas/python-pandas-data-frame-exercise-11.php"
   ]
  },
  {
   "cell_type": "code",
   "execution_count": 11,
   "metadata": {
    "pycharm": {
     "is_executing": false,
     "name": "#%%\n"
    }
   },
   "outputs": [
    {
     "name": "stdout",
     "output_type": "stream",
     "text": [
      "Rows where score between 15 and 20 (inclusive):\n",
      "        name  score  attempts qualify\n",
      "c  Katherine   16.5         2     yes\n",
      "j      Jonas   19.0         1     yes\n"
     ]
    }
   ],
   "source": [
    "exam_data  = {'name': ['Anastasia', 'Dima', 'Katherine', 'James', 'Emily', 'Michael', 'Matthew', 'Laura', 'Kevin', 'Jonas'],\n",
    "        'score': [12.5, 9, 16.5, np.nan, 9, 20, 14.5, np.nan, 8, 19],\n",
    "        'attempts': [1, 3, 2, 3, 2, 3, 1, 1, 2, 1],\n",
    "        'qualify': ['yes', 'no', 'yes', 'no', 'no', 'yes', 'yes', 'no', 'no', 'yes']}\n",
    "labels = ['a', 'b', 'c', 'd', 'e', 'f', 'g', 'h', 'i', 'j']\n",
    "\n",
    "df = pd.DataFrame(exam_data , index=labels)\n",
    "print(\"Rows where score between 15 and 20 (inclusive):\")\n",
    "print(df[(df['attempts'] < 3) & (df['score'] > 15)])"
   ]
  },
  {
   "cell_type": "markdown",
   "metadata": {
    "pycharm": {
     "name": "#%% md\n"
    }
   },
   "source": [
    "## 3.7 EXERCISES Sorting a `DataFrame`\n",
    "\n",
    "<div class=\"alert alert-success\">\n",
    "\n",
    "<b>EXERCISE</b>:\n",
    "\n",
    "<ul>\n",
    "  <li>Write a Pandas program to sort the data frame first by 'name' in descending order, then by 'score' in ascending order.</li>\n",
    "</ul>\n",
    "\n",
    "</div>\n",
    "\n",
    "https://www.w3resource.com/python-exercises/pandas/python-pandas-data-frame-exercise-16.php\n"
   ]
  },
  {
   "cell_type": "code",
   "execution_count": 12,
   "metadata": {
    "pycharm": {
     "is_executing": false,
     "name": "#%%\n"
    }
   },
   "outputs": [
    {
     "name": "stdout",
     "output_type": "stream",
     "text": [
      "Orginal rows:\n",
      "        name  score  attempts qualify\n",
      "a  Anastasia   12.5         1     yes\n",
      "b       Dima    9.0         3      no\n",
      "c  Katherine   16.5         2     yes\n",
      "d      James    NaN         3      no\n",
      "e      Emily    9.0         2      no\n",
      "f    Michael   20.0         3     yes\n",
      "g    Matthew   14.5         1     yes\n",
      "h      Laura    NaN         1      no\n",
      "i      Kevin    8.0         2      no\n",
      "j      Jonas   19.0         1     yes\n",
      "Sort the data frame first by ‘name’ in descending order, then by ‘score’ in ascending order:\n",
      "        name  score  attempts qualify\n",
      "a  Anastasia   12.5         1     yes\n",
      "b       Dima    9.0         3      no\n",
      "c  Katherine   16.5         2     yes\n",
      "d      James    NaN         3      no\n",
      "e      Emily    9.0         2      no\n",
      "f    Michael   20.0         3     yes\n",
      "g    Matthew   14.5         1     yes\n",
      "h      Laura    NaN         1      no\n",
      "i      Kevin    8.0         2      no\n",
      "j      Jonas   19.0         1     yes\n"
     ]
    }
   ],
   "source": [
    "exam_data  = {'name': ['Anastasia', 'Dima', 'Katherine', 'James', 'Emily', 'Michael', 'Matthew', 'Laura', 'Kevin', 'Jonas'],\n",
    "        'score': [12.5, 9, 16.5, np.nan, 9, 20, 14.5, np.nan, 8, 19],\n",
    "        'attempts': [1, 3, 2, 3, 2, 3, 1, 1, 2, 1],\n",
    "        'qualify': ['yes', 'no', 'yes', 'no', 'no', 'yes', 'yes', 'no', 'no', 'yes']}\n",
    "labels = ['a', 'b', 'c', 'd', 'e', 'f', 'g', 'h', 'i', 'j']\n",
    "\n",
    "df = pd.DataFrame(exam_data , index=labels)\n",
    "print(\"Orginal rows:\")\n",
    "print(df)\n",
    "df.sort_values(by=['name', 'score'], ascending=[False, True])\n",
    "print(\"Sort the data frame first by ‘name’ in descending order, then by ‘score’ in ascending order:\")\n",
    "print(df)"
   ]
  },
  {
   "cell_type": "markdown",
   "metadata": {
    "pycharm": {
     "name": "#%% md\n"
    }
   },
   "source": [
    "## 3.9 EXERCISES Operations on `DataFrame`s\n",
    "\n",
    "<div class=\"alert alert-success\">\n",
    "\n",
    "<b>EXERCISE</b>:\n",
    "\n",
    "<ul>\n",
    "  <li>Write a Pandas program to calculate the mean score for each different student in data frame.</li>\n",
    "</ul>\n",
    "\n",
    "</div>\n",
    "\n",
    "https://www.w3resource.com/python-exercises/pandas/python-pandas-data-frame-exercise-14.php"
   ]
  },
  {
   "cell_type": "code",
   "execution_count": 13,
   "metadata": {
    "pycharm": {
     "is_executing": false,
     "name": "#%%\n"
    }
   },
   "outputs": [
    {
     "name": "stdout",
     "output_type": "stream",
     "text": [
      "\n",
      "Mean score for each different student in data frame:\n",
      "13.5625\n"
     ]
    }
   ],
   "source": [
    "exam_data  = {'name': ['Anastasia', 'Dima', 'Katherine', 'James', 'Emily', 'Michael', 'Matthew', 'Laura', 'Kevin', 'Jonas'],\n",
    "        'score': [12.5, 9, 16.5, np.nan, 9, 20, 14.5, np.nan, 8, 19],\n",
    "        'attempts': [1, 3, 2, 3, 2, 3, 1, 1, 2, 1],\n",
    "        'qualify': ['yes', 'no', 'yes', 'no', 'no', 'yes', 'yes', 'no', 'no', 'yes']}\n",
    "labels = ['a', 'b', 'c', 'd', 'e', 'f', 'g', 'h', 'i', 'j']\n",
    "\n",
    "df = pd.DataFrame(exam_data , index=labels)\n",
    "print(\"\\nMean score for each different student in data frame:\")\n",
    "print(df['score'].mean())\n"
   ]
  },
  {
   "cell_type": "markdown",
   "metadata": {
    "pycharm": {
     "name": "#%% md\n"
    }
   },
   "source": [
    "## 3.10 ADVANCED EXERCISES on `DataFrame`\n",
    "\n",
    "NO2 dataset."
   ]
  },
  {
   "cell_type": "code",
   "execution_count": 14,
   "metadata": {
    "pycharm": {
     "is_executing": false,
     "name": "#%%\n"
    }
   },
   "outputs": [],
   "source": [
    "no2 = pd.read_csv('data/20000101_20161231-NO2.csv', sep=';', skiprows=[1], na_values=['n/d'], index_col=0, parse_dates=True)\n"
   ]
  },
  {
   "cell_type": "markdown",
   "metadata": {
    "pycharm": {
     "name": "#%% md\n"
    }
   },
   "source": [
    "<div class=\"alert alert-success\">\n",
    "\n",
    "<b>EXERCISE</b>: The evolution of the yearly averages with, and the overall mean of all stations\n",
    "\n",
    "</div>"
   ]
  },
  {
   "cell_type": "code",
   "execution_count": 15,
   "metadata": {
    "pycharm": {
     "is_executing": false,
     "name": "#%%\n"
    }
   },
   "outputs": [
    {
     "data": {
      "text/plain": [
       "<matplotlib.axes._subplots.AxesSubplot at 0x1176769b0>"
      ]
     },
     "execution_count": 15,
     "metadata": {},
     "output_type": "execute_result"
    },
    {
     "data": {
      "image/png": "[encoded data removed]",
      "text/plain": [
       "<Figure size 432x288 with 1 Axes>"
      ]
     },
     "metadata": {
      "needs_background": "light"
     },
     "output_type": "display_data"
    }
   ],
   "source": [
    "no2.resample('A').mean().plot()\n",
    "no2.mean(axis=1).resample('A').mean().plot(color='k', linestyle='--', linewidth=4)"
   ]
  },
  {
   "cell_type": "markdown",
   "metadata": {},
   "source": [
    "\n",
    "<div class=\"alert alert-success\">\n",
    "\n",
    "<b>EXERCISE</b>: how does the *typical monthly profile* look like for the different stations?\n",
    "\n",
    " <ul>\n",
    "  <li>Add a 'month' column to the dataframe.</li>\n",
    "  <li>Group by the month to obtain the typical monthly averages over the different years.</li>\n",
    "</ul>\n",
    "</div>"
   ]
  },
  {
   "cell_type": "markdown",
   "metadata": {},
   "source": [
    "First, we add a column to the dataframe that indicates the month (integer value of 1 to 12):"
   ]
  },
  {
   "cell_type": "code",
   "execution_count": 16,
   "metadata": {
    "pycharm": {
     "is_executing": false,
     "name": "#%%\n"
    }
   },
   "outputs": [],
   "source": [
    "no2['month'] = no2.index.month"
   ]
  },
  {
   "cell_type": "markdown",
   "metadata": {},
   "source": [
    "Now, we can calculate the mean of each month over the different years:"
   ]
  },
  {
   "cell_type": "code",
   "execution_count": 17,
   "metadata": {
    "pycharm": {
     "is_executing": false,
     "name": "#%%\n"
    }
   },
   "outputs": [
    {
     "data": {
      "text/html": [
       "<div>\n",
       "<style scoped>\n",
       "    .dataframe tbody tr th:only-of-type {\n",
       "        vertical-align: middle;\n",
       "    }\n",
       "\n",
       "    .dataframe tbody tr th {\n",
       "        vertical-align: top;\n",
       "    }\n",
       "\n",
       "    .dataframe thead th {\n",
       "        text-align: right;\n",
       "    }\n",
       "</style>\n",
       "<table border=\"1\" class=\"dataframe\">\n",
       "  <thead>\n",
       "    <tr style=\"text-align: right;\">\n",
       "      <th></th>\n",
       "      <th>BASCH</th>\n",
       "      <th>BONAP</th>\n",
       "      <th>PA18</th>\n",
       "      <th>VERS</th>\n",
       "    </tr>\n",
       "    <tr>\n",
       "      <th>month</th>\n",
       "      <th></th>\n",
       "      <th></th>\n",
       "      <th></th>\n",
       "      <th></th>\n",
       "    </tr>\n",
       "  </thead>\n",
       "  <tbody>\n",
       "    <tr>\n",
       "      <td>1</td>\n",
       "      <td>83.907542</td>\n",
       "      <td>65.387329</td>\n",
       "      <td>52.771067</td>\n",
       "      <td>30.995293</td>\n",
       "    </tr>\n",
       "    <tr>\n",
       "      <td>2</td>\n",
       "      <td>88.347532</td>\n",
       "      <td>67.387637</td>\n",
       "      <td>53.922040</td>\n",
       "      <td>33.890926</td>\n",
       "    </tr>\n",
       "    <tr>\n",
       "      <td>3</td>\n",
       "      <td>94.812926</td>\n",
       "      <td>73.588946</td>\n",
       "      <td>54.171491</td>\n",
       "      <td>35.508674</td>\n",
       "    </tr>\n",
       "    <tr>\n",
       "      <td>4</td>\n",
       "      <td>95.841468</td>\n",
       "      <td>71.824767</td>\n",
       "      <td>47.619196</td>\n",
       "      <td>30.184283</td>\n",
       "    </tr>\n",
       "    <tr>\n",
       "      <td>5</td>\n",
       "      <td>89.890137</td>\n",
       "      <td>63.924682</td>\n",
       "      <td>39.332258</td>\n",
       "      <td>23.140467</td>\n",
       "    </tr>\n",
       "    <tr>\n",
       "      <td>6</td>\n",
       "      <td>91.823459</td>\n",
       "      <td>62.299894</td>\n",
       "      <td>35.728969</td>\n",
       "      <td>21.506087</td>\n",
       "    </tr>\n",
       "    <tr>\n",
       "      <td>7</td>\n",
       "      <td>87.524715</td>\n",
       "      <td>55.383734</td>\n",
       "      <td>32.228277</td>\n",
       "      <td>19.059214</td>\n",
       "    </tr>\n",
       "    <tr>\n",
       "      <td>8</td>\n",
       "      <td>79.624439</td>\n",
       "      <td>50.918542</td>\n",
       "      <td>32.288458</td>\n",
       "      <td>19.327868</td>\n",
       "    </tr>\n",
       "    <tr>\n",
       "      <td>9</td>\n",
       "      <td>95.748555</td>\n",
       "      <td>65.478451</td>\n",
       "      <td>46.283842</td>\n",
       "      <td>29.060800</td>\n",
       "    </tr>\n",
       "    <tr>\n",
       "      <td>10</td>\n",
       "      <td>92.084073</td>\n",
       "      <td>65.832718</td>\n",
       "      <td>48.139287</td>\n",
       "      <td>29.232252</td>\n",
       "    </tr>\n",
       "    <tr>\n",
       "      <td>11</td>\n",
       "      <td>86.824953</td>\n",
       "      <td>62.795296</td>\n",
       "      <td>49.082940</td>\n",
       "      <td>29.815414</td>\n",
       "    </tr>\n",
       "    <tr>\n",
       "      <td>12</td>\n",
       "      <td>85.031296</td>\n",
       "      <td>63.964938</td>\n",
       "      <td>51.229126</td>\n",
       "      <td>31.136172</td>\n",
       "    </tr>\n",
       "  </tbody>\n",
       "</table>\n",
       "</div>"
      ],
      "text/plain": [
       "           BASCH      BONAP       PA18       VERS\n",
       "month                                            \n",
       "1      83.907542  65.387329  52.771067  30.995293\n",
       "2      88.347532  67.387637  53.922040  33.890926\n",
       "3      94.812926  73.588946  54.171491  35.508674\n",
       "4      95.841468  71.824767  47.619196  30.184283\n",
       "5      89.890137  63.924682  39.332258  23.140467\n",
       "6      91.823459  62.299894  35.728969  21.506087\n",
       "7      87.524715  55.383734  32.228277  19.059214\n",
       "8      79.624439  50.918542  32.288458  19.327868\n",
       "9      95.748555  65.478451  46.283842  29.060800\n",
       "10     92.084073  65.832718  48.139287  29.232252\n",
       "11     86.824953  62.795296  49.082940  29.815414\n",
       "12     85.031296  63.964938  51.229126  31.136172"
      ]
     },
     "execution_count": 17,
     "metadata": {},
     "output_type": "execute_result"
    }
   ],
   "source": [
    "no2.groupby('month').mean()"
   ]
  },
  {
   "cell_type": "code",
   "execution_count": 18,
   "metadata": {
    "pycharm": {
     "is_executing": false,
     "name": "#%%\n"
    }
   },
   "outputs": [
    {
     "data": {
      "text/plain": [
       "<matplotlib.axes._subplots.AxesSubplot at 0x1189cdc18>"
      ]
     },
     "execution_count": 18,
     "metadata": {},
     "output_type": "execute_result"
    },
    {
     "data": {
      "image/png": "[encoded data removed]",
      "text/plain": [
       "<Figure size 432x288 with 1 Axes>"
      ]
     },
     "metadata": {
      "needs_background": "light"
     },
     "output_type": "display_data"
    }
   ],
   "source": [
    "no2.groupby('month').mean().plot()"
   ]
  },
  {
   "cell_type": "markdown",
   "metadata": {},
   "source": [
    "\n",
    "<div class=\"alert alert-success\">\n",
    "\n",
    "<b>EXERCISE</b>: The typical diurnal profile for the different stations\n",
    "\n",
    " <ul>\n",
    "  <li>Similar as for the month, you can now group by the hour of the day.</li>\n",
    "</ul>\n",
    "</div>"
   ]
  },
  {
   "cell_type": "code",
   "execution_count": 19,
   "metadata": {
    "pycharm": {
     "is_executing": false,
     "name": "#%%\n"
    }
   },
   "outputs": [
    {
     "data": {
      "text/plain": [
       "<matplotlib.axes._subplots.AxesSubplot at 0x116bb4940>"
      ]
     },
     "execution_count": 19,
     "metadata": {},
     "output_type": "execute_result"
    },
    {
     "data": {
      "image/png": "[encoded data removed]",
      "text/plain": [
       "<Figure size 432x288 with 1 Axes>"
      ]
     },
     "metadata": {
      "needs_background": "light"
     },
     "output_type": "display_data"
    }
   ],
   "source": [
    "no2.groupby(no2.index.hour).mean().plot()\n"
   ]
  },
  {
   "cell_type": "markdown",
   "metadata": {},
   "source": [
    "\n",
    "<div class=\"alert alert-success\">\n",
    "\n",
    "<b>EXERCISE</b>: What is the difference in the typical diurnal profile between week and weekend days for the 'BASCH' station.\n",
    "\n",
    " <ul>\n",
    "  <li>Add a column 'weekday' defining the different days in the week.</li>\n",
    "  <li>Add a column 'weekend' defining if a days is in the weekend (i.e. days 5 and 6) or not (True/False).</li>\n",
    "  <li>You can groupby on multiple items at the same time. In this case you would need to group by both weekend/weekday and hour of the day.</li>\n",
    "</ul>\n",
    "</div>"
   ]
  },
  {
   "cell_type": "markdown",
   "metadata": {},
   "source": [
    "Add a column indicating the weekday:"
   ]
  },
  {
   "cell_type": "code",
   "execution_count": 20,
   "metadata": {
    "pycharm": {
     "is_executing": false,
     "name": "#%%\n"
    }
   },
   "outputs": [],
   "source": [
    "no2.index.weekday?"
   ]
  },
  {
   "cell_type": "code",
   "execution_count": 21,
   "metadata": {
    "pycharm": {
     "is_executing": false,
     "name": "#%%\n"
    }
   },
   "outputs": [],
   "source": [
    "no2['weekday'] = no2.index.weekday"
   ]
  },
  {
   "cell_type": "markdown",
   "metadata": {},
   "source": [
    "Add a column indicating week/weekend"
   ]
  },
  {
   "cell_type": "code",
   "execution_count": 22,
   "metadata": {
    "pycharm": {
     "is_executing": false,
     "name": "#%%\n"
    }
   },
   "outputs": [],
   "source": [
    "no2['weekend'] = no2['weekday'].isin([5, 6])"
   ]
  },
  {
   "cell_type": "markdown",
   "metadata": {},
   "source": [
    "Now we can groupby the hour of the day and the weekend (or use `pivot_table`):"
   ]
  },
  {
   "cell_type": "code",
   "execution_count": 23,
   "metadata": {
    "pycharm": {
     "is_executing": false,
     "name": "#%%\n"
    }
   },
   "outputs": [
    {
     "data": {
      "text/html": [
       "<div>\n",
       "<style scoped>\n",
       "    .dataframe tbody tr th:only-of-type {\n",
       "        vertical-align: middle;\n",
       "    }\n",
       "\n",
       "    .dataframe tbody tr th {\n",
       "        vertical-align: top;\n",
       "    }\n",
       "\n",
       "    .dataframe thead th {\n",
       "        text-align: right;\n",
       "    }\n",
       "</style>\n",
       "<table border=\"1\" class=\"dataframe\">\n",
       "  <thead>\n",
       "    <tr style=\"text-align: right;\">\n",
       "      <th></th>\n",
       "      <th></th>\n",
       "      <th>BASCH</th>\n",
       "      <th>BONAP</th>\n",
       "      <th>PA18</th>\n",
       "      <th>VERS</th>\n",
       "      <th>month</th>\n",
       "      <th>weekday</th>\n",
       "    </tr>\n",
       "    <tr>\n",
       "      <th>weekend</th>\n",
       "      <th>timestamp</th>\n",
       "      <th></th>\n",
       "      <th></th>\n",
       "      <th></th>\n",
       "      <th></th>\n",
       "      <th></th>\n",
       "      <th></th>\n",
       "    </tr>\n",
       "  </thead>\n",
       "  <tbody>\n",
       "    <tr>\n",
       "      <td rowspan=\"5\" valign=\"top\">False</td>\n",
       "      <td>0</td>\n",
       "      <td>62.683270</td>\n",
       "      <td>49.385498</td>\n",
       "      <td>41.966667</td>\n",
       "      <td>25.601584</td>\n",
       "      <td>6.522435</td>\n",
       "      <td>2.0</td>\n",
       "    </tr>\n",
       "    <tr>\n",
       "      <td>1</td>\n",
       "      <td>51.150107</td>\n",
       "      <td>41.151063</td>\n",
       "      <td>37.160479</td>\n",
       "      <td>22.988806</td>\n",
       "      <td>6.522435</td>\n",
       "      <td>2.0</td>\n",
       "    </tr>\n",
       "    <tr>\n",
       "      <td>2</td>\n",
       "      <td>44.088698</td>\n",
       "      <td>36.148094</td>\n",
       "      <td>33.933945</td>\n",
       "      <td>21.275548</td>\n",
       "      <td>6.522435</td>\n",
       "      <td>2.0</td>\n",
       "    </tr>\n",
       "    <tr>\n",
       "      <td>3</td>\n",
       "      <td>43.542551</td>\n",
       "      <td>33.898973</td>\n",
       "      <td>32.919567</td>\n",
       "      <td>20.782081</td>\n",
       "      <td>6.522435</td>\n",
       "      <td>2.0</td>\n",
       "    </tr>\n",
       "    <tr>\n",
       "      <td>4</td>\n",
       "      <td>53.439094</td>\n",
       "      <td>35.102370</td>\n",
       "      <td>35.566087</td>\n",
       "      <td>22.241620</td>\n",
       "      <td>6.522435</td>\n",
       "      <td>2.0</td>\n",
       "    </tr>\n",
       "  </tbody>\n",
       "</table>\n",
       "</div>"
      ],
      "text/plain": [
       "                       BASCH      BONAP       PA18       VERS     month  \\\n",
       "weekend timestamp                                                         \n",
       "False   0          62.683270  49.385498  41.966667  25.601584  6.522435   \n",
       "        1          51.150107  41.151063  37.160479  22.988806  6.522435   \n",
       "        2          44.088698  36.148094  33.933945  21.275548  6.522435   \n",
       "        3          43.542551  33.898973  32.919567  20.782081  6.522435   \n",
       "        4          53.439094  35.102370  35.566087  22.241620  6.522435   \n",
       "\n",
       "                   weekday  \n",
       "weekend timestamp           \n",
       "False   0              2.0  \n",
       "        1              2.0  \n",
       "        2              2.0  \n",
       "        3              2.0  \n",
       "        4              2.0  "
      ]
     },
     "execution_count": 23,
     "metadata": {},
     "output_type": "execute_result"
    }
   ],
   "source": [
    "data_weekend = no2.groupby(['weekend', no2.index.hour]).mean()\n",
    "data_weekend.head()"
   ]
  },
  {
   "cell_type": "code",
   "execution_count": 24,
   "metadata": {
    "pycharm": {
     "is_executing": false,
     "name": "#%%\n"
    }
   },
   "outputs": [
    {
     "data": {
      "text/html": [
       "<div>\n",
       "<style scoped>\n",
       "    .dataframe tbody tr th:only-of-type {\n",
       "        vertical-align: middle;\n",
       "    }\n",
       "\n",
       "    .dataframe tbody tr th {\n",
       "        vertical-align: top;\n",
       "    }\n",
       "\n",
       "    .dataframe thead th {\n",
       "        text-align: right;\n",
       "    }\n",
       "</style>\n",
       "<table border=\"1\" class=\"dataframe\">\n",
       "  <thead>\n",
       "    <tr style=\"text-align: right;\">\n",
       "      <th>weekend</th>\n",
       "      <th>False</th>\n",
       "      <th>True</th>\n",
       "    </tr>\n",
       "    <tr>\n",
       "      <th>timestamp</th>\n",
       "      <th></th>\n",
       "      <th></th>\n",
       "    </tr>\n",
       "  </thead>\n",
       "  <tbody>\n",
       "    <tr>\n",
       "      <td>0</td>\n",
       "      <td>62.683270</td>\n",
       "      <td>77.040828</td>\n",
       "    </tr>\n",
       "    <tr>\n",
       "      <td>1</td>\n",
       "      <td>51.150107</td>\n",
       "      <td>68.010059</td>\n",
       "    </tr>\n",
       "    <tr>\n",
       "      <td>2</td>\n",
       "      <td>44.088698</td>\n",
       "      <td>59.186060</td>\n",
       "    </tr>\n",
       "    <tr>\n",
       "      <td>3</td>\n",
       "      <td>43.542551</td>\n",
       "      <td>53.515366</td>\n",
       "    </tr>\n",
       "    <tr>\n",
       "      <td>4</td>\n",
       "      <td>53.439094</td>\n",
       "      <td>53.383797</td>\n",
       "    </tr>\n",
       "  </tbody>\n",
       "</table>\n",
       "</div>"
      ],
      "text/plain": [
       "weekend        False      True \n",
       "timestamp                      \n",
       "0          62.683270  77.040828\n",
       "1          51.150107  68.010059\n",
       "2          44.088698  59.186060\n",
       "3          43.542551  53.515366\n",
       "4          53.439094  53.383797"
      ]
     },
     "execution_count": 24,
     "metadata": {},
     "output_type": "execute_result"
    }
   ],
   "source": [
    "data_weekend_BASCH = data_weekend['BASCH'].unstack(level=0)\n",
    "data_weekend_BASCH.head()"
   ]
  },
  {
   "cell_type": "code",
   "execution_count": 25,
   "metadata": {
    "pycharm": {
     "is_executing": false,
     "name": "#%%\n"
    }
   },
   "outputs": [
    {
     "data": {
      "text/plain": [
       "<matplotlib.axes._subplots.AxesSubplot at 0x1058d7048>"
      ]
     },
     "execution_count": 25,
     "metadata": {},
     "output_type": "execute_result"
    },
    {
     "data": {
      "image/png": "[encoded data removed]",
      "text/plain": [
       "<Figure size 432x288 with 1 Axes>"
      ]
     },
     "metadata": {
      "needs_background": "light"
     },
     "output_type": "display_data"
    }
   ],
   "source": [
    "data_weekend_BASCH.plot()"
   ]
  },
  {
   "cell_type": "code",
   "execution_count": 26,
   "metadata": {
    "pycharm": {
     "is_executing": false,
     "name": "#%%\n"
    }
   },
   "outputs": [
    {
     "data": {
      "text/html": [
       "<div>\n",
       "<style scoped>\n",
       "    .dataframe tbody tr th:only-of-type {\n",
       "        vertical-align: middle;\n",
       "    }\n",
       "\n",
       "    .dataframe tbody tr th {\n",
       "        vertical-align: top;\n",
       "    }\n",
       "\n",
       "    .dataframe thead th {\n",
       "        text-align: right;\n",
       "    }\n",
       "</style>\n",
       "<table border=\"1\" class=\"dataframe\">\n",
       "  <thead>\n",
       "    <tr style=\"text-align: right;\">\n",
       "      <th>weekend</th>\n",
       "      <th>False</th>\n",
       "      <th>True</th>\n",
       "    </tr>\n",
       "    <tr>\n",
       "      <th>hour</th>\n",
       "      <th></th>\n",
       "      <th></th>\n",
       "    </tr>\n",
       "  </thead>\n",
       "  <tbody>\n",
       "    <tr>\n",
       "      <td>0</td>\n",
       "      <td>62.683270</td>\n",
       "      <td>77.040828</td>\n",
       "    </tr>\n",
       "    <tr>\n",
       "      <td>1</td>\n",
       "      <td>51.150107</td>\n",
       "      <td>68.010059</td>\n",
       "    </tr>\n",
       "    <tr>\n",
       "      <td>2</td>\n",
       "      <td>44.088698</td>\n",
       "      <td>59.186060</td>\n",
       "    </tr>\n",
       "    <tr>\n",
       "      <td>3</td>\n",
       "      <td>43.542551</td>\n",
       "      <td>53.515366</td>\n",
       "    </tr>\n",
       "    <tr>\n",
       "      <td>4</td>\n",
       "      <td>53.439094</td>\n",
       "      <td>53.383797</td>\n",
       "    </tr>\n",
       "    <tr>\n",
       "      <td>5</td>\n",
       "      <td>75.816097</td>\n",
       "      <td>57.954438</td>\n",
       "    </tr>\n",
       "    <tr>\n",
       "      <td>6</td>\n",
       "      <td>100.541348</td>\n",
       "      <td>63.734754</td>\n",
       "    </tr>\n",
       "    <tr>\n",
       "      <td>7</td>\n",
       "      <td>116.539861</td>\n",
       "      <td>67.481350</td>\n",
       "    </tr>\n",
       "    <tr>\n",
       "      <td>8</td>\n",
       "      <td>119.477955</td>\n",
       "      <td>70.618483</td>\n",
       "    </tr>\n",
       "    <tr>\n",
       "      <td>9</td>\n",
       "      <td>114.449410</td>\n",
       "      <td>73.499407</td>\n",
       "    </tr>\n",
       "    <tr>\n",
       "      <td>10</td>\n",
       "      <td>109.277806</td>\n",
       "      <td>75.553179</td>\n",
       "    </tr>\n",
       "    <tr>\n",
       "      <td>11</td>\n",
       "      <td>104.308432</td>\n",
       "      <td>77.515476</td>\n",
       "    </tr>\n",
       "    <tr>\n",
       "      <td>12</td>\n",
       "      <td>99.182259</td>\n",
       "      <td>76.363148</td>\n",
       "    </tr>\n",
       "    <tr>\n",
       "      <td>13</td>\n",
       "      <td>101.136002</td>\n",
       "      <td>77.019690</td>\n",
       "    </tr>\n",
       "    <tr>\n",
       "      <td>14</td>\n",
       "      <td>106.940287</td>\n",
       "      <td>81.637612</td>\n",
       "    </tr>\n",
       "    <tr>\n",
       "      <td>15</td>\n",
       "      <td>113.383459</td>\n",
       "      <td>87.116418</td>\n",
       "    </tr>\n",
       "    <tr>\n",
       "      <td>16</td>\n",
       "      <td>120.517109</td>\n",
       "      <td>93.759690</td>\n",
       "    </tr>\n",
       "    <tr>\n",
       "      <td>17</td>\n",
       "      <td>123.377746</td>\n",
       "      <td>100.612634</td>\n",
       "    </tr>\n",
       "    <tr>\n",
       "      <td>18</td>\n",
       "      <td>123.188067</td>\n",
       "      <td>106.086310</td>\n",
       "    </tr>\n",
       "    <tr>\n",
       "      <td>19</td>\n",
       "      <td>117.005237</td>\n",
       "      <td>104.194163</td>\n",
       "    </tr>\n",
       "    <tr>\n",
       "      <td>20</td>\n",
       "      <td>103.314564</td>\n",
       "      <td>94.654967</td>\n",
       "    </tr>\n",
       "    <tr>\n",
       "      <td>21</td>\n",
       "      <td>91.401094</td>\n",
       "      <td>85.394768</td>\n",
       "    </tr>\n",
       "    <tr>\n",
       "      <td>22</td>\n",
       "      <td>86.642586</td>\n",
       "      <td>81.529132</td>\n",
       "    </tr>\n",
       "    <tr>\n",
       "      <td>23</td>\n",
       "      <td>79.266397</td>\n",
       "      <td>76.563615</td>\n",
       "    </tr>\n",
       "  </tbody>\n",
       "</table>\n",
       "</div>"
      ],
      "text/plain": [
       "weekend       False       True \n",
       "hour                           \n",
       "0         62.683270   77.040828\n",
       "1         51.150107   68.010059\n",
       "2         44.088698   59.186060\n",
       "3         43.542551   53.515366\n",
       "4         53.439094   53.383797\n",
       "5         75.816097   57.954438\n",
       "6        100.541348   63.734754\n",
       "7        116.539861   67.481350\n",
       "8        119.477955   70.618483\n",
       "9        114.449410   73.499407\n",
       "10       109.277806   75.553179\n",
       "11       104.308432   77.515476\n",
       "12        99.182259   76.363148\n",
       "13       101.136002   77.019690\n",
       "14       106.940287   81.637612\n",
       "15       113.383459   87.116418\n",
       "16       120.517109   93.759690\n",
       "17       123.377746  100.612634\n",
       "18       123.188067  106.086310\n",
       "19       117.005237  104.194163\n",
       "20       103.314564   94.654967\n",
       "21        91.401094   85.394768\n",
       "22        86.642586   81.529132\n",
       "23        79.266397   76.563615"
      ]
     },
     "execution_count": 26,
     "metadata": {},
     "output_type": "execute_result"
    }
   ],
   "source": [
    "no2['hour'] = no2.index.hour\n",
    "no2.pivot_table(columns='weekend', index='hour', values='BASCH')"
   ]
  },
  {
   "cell_type": "markdown",
   "metadata": {},
   "source": [
    "<div class=\"alert alert-success\">\n",
    "\n",
    "<b>EXERCISE</b>: What are the number of exceedances of hourly values above the European limit 200 µg/m3 ?\n",
    "\n",
    "Count the number of exceedances of hourly values above the European limit 200 µg/m3 for each year and station after 2005. Make a barplot of the counts. Add an horizontal line indicating the maximum number of exceedances (which is 18) allowed per year?\n",
    "<br><br>\n",
    "\n",
    "Hints:\n",
    "\n",
    " <ul>\n",
    "  <li>Create a new DataFrame, called `exceedances`, (with boolean values) indicating if the threshold is exceeded or not</li>\n",
    "  <li>Remember that the sum of True values can be used to count elements. Do this using groupby for each year.</li>\n",
    "  <li>Adding a horizontal line can be done with the matplotlib function `ax.axhline`.</li>\n",
    "</ul>\n",
    "</div>"
   ]
  },
  {
   "cell_type": "code",
   "execution_count": 27,
   "metadata": {
    "pycharm": {
     "is_executing": false,
     "name": "#%%\n"
    }
   },
   "outputs": [],
   "source": [
    "\n",
    "# re-reading the data to have a clean version\n",
    "no2 = pd.read_csv('data/20000101_20161231-NO2.csv', sep=';', skiprows=[1], na_values=['n/d'], index_col=0, parse_dates=True)"
   ]
  },
  {
   "cell_type": "code",
   "execution_count": 28,
   "metadata": {
    "pycharm": {
     "is_executing": false,
     "name": "#%%\n"
    }
   },
   "outputs": [],
   "source": [
    "exceedances = no2 > 200"
   ]
  },
  {
   "cell_type": "code",
   "execution_count": 29,
   "metadata": {
    "pycharm": {
     "is_executing": false,
     "name": "#%%\n"
    }
   },
   "outputs": [],
   "source": [
    "# group by year and count exceedances (sum of boolean)\n",
    "exceedances = exceedances.groupby(exceedances.index.year).sum()"
   ]
  },
  {
   "cell_type": "code",
   "execution_count": 30,
   "metadata": {
    "pycharm": {
     "is_executing": false,
     "name": "#%%\n"
    }
   },
   "outputs": [
    {
     "data": {
      "text/plain": [
       "<matplotlib.lines.Line2D at 0x1058fc438>"
      ]
     },
     "execution_count": 30,
     "metadata": {},
     "output_type": "execute_result"
    },
    {
     "data": {
      "image/png": "[encoded data removed]",
      "text/plain": [
       "<Figure size 432x288 with 1 Axes>"
      ]
     },
     "metadata": {
      "needs_background": "light"
     },
     "output_type": "display_data"
    }
   ],
   "source": [
    "ax = exceedances.loc[2005:].plot(kind='bar')\n",
    "ax.axhline(18, color='k', linestyle='--')"
   ]
  },
  {
   "cell_type": "markdown",
   "metadata": {},
   "source": [
    "## 4.4 EXERCISES Selecting data from a time series\n",
    "\n",
    "<div class=\"alert alert-success\">\n",
    "\n",
    "<b>EXERCISE</b>:\n",
    "\n",
    " <ul>\n",
    "  <li>select all data starting from 2012</li>\n",
    "</ul>\n",
    "</div>"
   ]
  },
  {
   "cell_type": "code",
   "execution_count": 31,
   "metadata": {
    "pycharm": {
     "is_executing": false,
     "name": "#%%\n"
    }
   },
   "outputs": [
    {
     "data": {
      "text/html": [
       "<div>\n",
       "<style scoped>\n",
       "    .dataframe tbody tr th:only-of-type {\n",
       "        vertical-align: middle;\n",
       "    }\n",
       "\n",
       "    .dataframe tbody tr th {\n",
       "        vertical-align: top;\n",
       "    }\n",
       "\n",
       "    .dataframe thead th {\n",
       "        text-align: right;\n",
       "    }\n",
       "</style>\n",
       "<table border=\"1\" class=\"dataframe\">\n",
       "  <thead>\n",
       "    <tr style=\"text-align: right;\">\n",
       "      <th></th>\n",
       "      <th>L06_347</th>\n",
       "      <th>LS06_347</th>\n",
       "      <th>LS06_348</th>\n",
       "    </tr>\n",
       "    <tr>\n",
       "      <th>Time</th>\n",
       "      <th></th>\n",
       "      <th></th>\n",
       "      <th></th>\n",
       "    </tr>\n",
       "  </thead>\n",
       "  <tbody>\n",
       "    <tr>\n",
       "      <td>2012-01-01 00:00:00</td>\n",
       "      <td>0.307167</td>\n",
       "      <td>0.273917</td>\n",
       "      <td>0.028000</td>\n",
       "    </tr>\n",
       "    <tr>\n",
       "      <td>2012-01-01 03:00:00</td>\n",
       "      <td>0.302917</td>\n",
       "      <td>0.270833</td>\n",
       "      <td>0.030583</td>\n",
       "    </tr>\n",
       "    <tr>\n",
       "      <td>2012-01-01 06:00:00</td>\n",
       "      <td>0.331500</td>\n",
       "      <td>0.284750</td>\n",
       "      <td>0.030917</td>\n",
       "    </tr>\n",
       "    <tr>\n",
       "      <td>2012-01-01 09:00:00</td>\n",
       "      <td>0.330750</td>\n",
       "      <td>0.293583</td>\n",
       "      <td>0.029750</td>\n",
       "    </tr>\n",
       "    <tr>\n",
       "      <td>2012-01-01 12:00:00</td>\n",
       "      <td>0.295000</td>\n",
       "      <td>0.285167</td>\n",
       "      <td>0.031750</td>\n",
       "    </tr>\n",
       "    <tr>\n",
       "      <td>...</td>\n",
       "      <td>...</td>\n",
       "      <td>...</td>\n",
       "      <td>...</td>\n",
       "    </tr>\n",
       "    <tr>\n",
       "      <td>2013-01-01 12:00:00</td>\n",
       "      <td>1.710000</td>\n",
       "      <td>1.710000</td>\n",
       "      <td>0.129583</td>\n",
       "    </tr>\n",
       "    <tr>\n",
       "      <td>2013-01-01 15:00:00</td>\n",
       "      <td>1.420000</td>\n",
       "      <td>1.420000</td>\n",
       "      <td>0.096333</td>\n",
       "    </tr>\n",
       "    <tr>\n",
       "      <td>2013-01-01 18:00:00</td>\n",
       "      <td>1.178583</td>\n",
       "      <td>1.178583</td>\n",
       "      <td>0.083083</td>\n",
       "    </tr>\n",
       "    <tr>\n",
       "      <td>2013-01-01 21:00:00</td>\n",
       "      <td>0.898250</td>\n",
       "      <td>0.898250</td>\n",
       "      <td>0.077167</td>\n",
       "    </tr>\n",
       "    <tr>\n",
       "      <td>2013-01-02 00:00:00</td>\n",
       "      <td>0.860000</td>\n",
       "      <td>0.860000</td>\n",
       "      <td>0.075000</td>\n",
       "    </tr>\n",
       "  </tbody>\n",
       "</table>\n",
       "<p>2937 rows × 3 columns</p>\n",
       "</div>"
      ],
      "text/plain": [
       "                      L06_347  LS06_347  LS06_348\n",
       "Time                                             \n",
       "2012-01-01 00:00:00  0.307167  0.273917  0.028000\n",
       "2012-01-01 03:00:00  0.302917  0.270833  0.030583\n",
       "2012-01-01 06:00:00  0.331500  0.284750  0.030917\n",
       "2012-01-01 09:00:00  0.330750  0.293583  0.029750\n",
       "2012-01-01 12:00:00  0.295000  0.285167  0.031750\n",
       "...                       ...       ...       ...\n",
       "2013-01-01 12:00:00  1.710000  1.710000  0.129583\n",
       "2013-01-01 15:00:00  1.420000  1.420000  0.096333\n",
       "2013-01-01 18:00:00  1.178583  1.178583  0.083083\n",
       "2013-01-01 21:00:00  0.898250  0.898250  0.077167\n",
       "2013-01-02 00:00:00  0.860000  0.860000  0.075000\n",
       "\n",
       "[2937 rows x 3 columns]"
      ]
     },
     "execution_count": 31,
     "metadata": {},
     "output_type": "execute_result"
    }
   ],
   "source": [
    "data = pd.read_csv(\"data/flowdata.csv\", index_col=0, parse_dates=True)\n",
    "\n",
    "data['2012':]"
   ]
  },
  {
   "cell_type": "markdown",
   "metadata": {},
   "source": [
    "<div class=\"alert alert-success\">\n",
    "\n",
    "<b>EXERCISE</b>:\n",
    "\n",
    " <ul>\n",
    "  <li>select all data in January for all different years</li>\n",
    "</ul>\n",
    "</div>"
   ]
  },
  {
   "cell_type": "code",
   "execution_count": 32,
   "metadata": {
    "pycharm": {
     "is_executing": false,
     "name": "#%%\n"
    }
   },
   "outputs": [
    {
     "data": {
      "text/html": [
       "<div>\n",
       "<style scoped>\n",
       "    .dataframe tbody tr th:only-of-type {\n",
       "        vertical-align: middle;\n",
       "    }\n",
       "\n",
       "    .dataframe tbody tr th {\n",
       "        vertical-align: top;\n",
       "    }\n",
       "\n",
       "    .dataframe thead th {\n",
       "        text-align: right;\n",
       "    }\n",
       "</style>\n",
       "<table border=\"1\" class=\"dataframe\">\n",
       "  <thead>\n",
       "    <tr style=\"text-align: right;\">\n",
       "      <th></th>\n",
       "      <th>L06_347</th>\n",
       "      <th>LS06_347</th>\n",
       "      <th>LS06_348</th>\n",
       "    </tr>\n",
       "    <tr>\n",
       "      <th>Time</th>\n",
       "      <th></th>\n",
       "      <th></th>\n",
       "      <th></th>\n",
       "    </tr>\n",
       "  </thead>\n",
       "  <tbody>\n",
       "    <tr>\n",
       "      <td>2009-01-01 00:00:00</td>\n",
       "      <td>0.137417</td>\n",
       "      <td>0.097500</td>\n",
       "      <td>0.016833</td>\n",
       "    </tr>\n",
       "    <tr>\n",
       "      <td>2009-01-01 03:00:00</td>\n",
       "      <td>0.131250</td>\n",
       "      <td>0.088833</td>\n",
       "      <td>0.016417</td>\n",
       "    </tr>\n",
       "    <tr>\n",
       "      <td>2009-01-01 06:00:00</td>\n",
       "      <td>0.113500</td>\n",
       "      <td>0.091250</td>\n",
       "      <td>0.016750</td>\n",
       "    </tr>\n",
       "    <tr>\n",
       "      <td>2009-01-01 09:00:00</td>\n",
       "      <td>0.135750</td>\n",
       "      <td>0.091500</td>\n",
       "      <td>0.016250</td>\n",
       "    </tr>\n",
       "    <tr>\n",
       "      <td>2009-01-01 12:00:00</td>\n",
       "      <td>0.140917</td>\n",
       "      <td>0.096167</td>\n",
       "      <td>0.017000</td>\n",
       "    </tr>\n",
       "    <tr>\n",
       "      <td>...</td>\n",
       "      <td>...</td>\n",
       "      <td>...</td>\n",
       "      <td>...</td>\n",
       "    </tr>\n",
       "    <tr>\n",
       "      <td>2013-01-01 12:00:00</td>\n",
       "      <td>1.710000</td>\n",
       "      <td>1.710000</td>\n",
       "      <td>0.129583</td>\n",
       "    </tr>\n",
       "    <tr>\n",
       "      <td>2013-01-01 15:00:00</td>\n",
       "      <td>1.420000</td>\n",
       "      <td>1.420000</td>\n",
       "      <td>0.096333</td>\n",
       "    </tr>\n",
       "    <tr>\n",
       "      <td>2013-01-01 18:00:00</td>\n",
       "      <td>1.178583</td>\n",
       "      <td>1.178583</td>\n",
       "      <td>0.083083</td>\n",
       "    </tr>\n",
       "    <tr>\n",
       "      <td>2013-01-01 21:00:00</td>\n",
       "      <td>0.898250</td>\n",
       "      <td>0.898250</td>\n",
       "      <td>0.077167</td>\n",
       "    </tr>\n",
       "    <tr>\n",
       "      <td>2013-01-02 00:00:00</td>\n",
       "      <td>0.860000</td>\n",
       "      <td>0.860000</td>\n",
       "      <td>0.075000</td>\n",
       "    </tr>\n",
       "  </tbody>\n",
       "</table>\n",
       "<p>1001 rows × 3 columns</p>\n",
       "</div>"
      ],
      "text/plain": [
       "                      L06_347  LS06_347  LS06_348\n",
       "Time                                             \n",
       "2009-01-01 00:00:00  0.137417  0.097500  0.016833\n",
       "2009-01-01 03:00:00  0.131250  0.088833  0.016417\n",
       "2009-01-01 06:00:00  0.113500  0.091250  0.016750\n",
       "2009-01-01 09:00:00  0.135750  0.091500  0.016250\n",
       "2009-01-01 12:00:00  0.140917  0.096167  0.017000\n",
       "...                       ...       ...       ...\n",
       "2013-01-01 12:00:00  1.710000  1.710000  0.129583\n",
       "2013-01-01 15:00:00  1.420000  1.420000  0.096333\n",
       "2013-01-01 18:00:00  1.178583  1.178583  0.083083\n",
       "2013-01-01 21:00:00  0.898250  0.898250  0.077167\n",
       "2013-01-02 00:00:00  0.860000  0.860000  0.075000\n",
       "\n",
       "[1001 rows x 3 columns]"
      ]
     },
     "execution_count": 32,
     "metadata": {},
     "output_type": "execute_result"
    }
   ],
   "source": [
    "data[data.index.month == 1]"
   ]
  },
  {
   "cell_type": "markdown",
   "metadata": {},
   "source": [
    "<div class=\"alert alert-success\">\n",
    "\n",
    "<b>EXERCISE</b>:\n",
    "\n",
    " <ul>\n",
    "  <li>select all data in January, February and March for all different years</li>\n",
    "</ul>\n",
    "</div>"
   ]
  },
  {
   "cell_type": "code",
   "execution_count": 33,
   "metadata": {
    "pycharm": {
     "is_executing": false,
     "name": "#%%\n"
    }
   },
   "outputs": [
    {
     "data": {
      "text/html": [
       "<div>\n",
       "<style scoped>\n",
       "    .dataframe tbody tr th:only-of-type {\n",
       "        vertical-align: middle;\n",
       "    }\n",
       "\n",
       "    .dataframe tbody tr th {\n",
       "        vertical-align: top;\n",
       "    }\n",
       "\n",
       "    .dataframe thead th {\n",
       "        text-align: right;\n",
       "    }\n",
       "</style>\n",
       "<table border=\"1\" class=\"dataframe\">\n",
       "  <thead>\n",
       "    <tr style=\"text-align: right;\">\n",
       "      <th></th>\n",
       "      <th>L06_347</th>\n",
       "      <th>LS06_347</th>\n",
       "      <th>LS06_348</th>\n",
       "      <th>months</th>\n",
       "    </tr>\n",
       "    <tr>\n",
       "      <th>Time</th>\n",
       "      <th></th>\n",
       "      <th></th>\n",
       "      <th></th>\n",
       "      <th></th>\n",
       "    </tr>\n",
       "  </thead>\n",
       "  <tbody>\n",
       "    <tr>\n",
       "      <td>2009-01-01 00:00:00</td>\n",
       "      <td>0.137417</td>\n",
       "      <td>0.097500</td>\n",
       "      <td>0.016833</td>\n",
       "      <td>1</td>\n",
       "    </tr>\n",
       "    <tr>\n",
       "      <td>2009-01-01 03:00:00</td>\n",
       "      <td>0.131250</td>\n",
       "      <td>0.088833</td>\n",
       "      <td>0.016417</td>\n",
       "      <td>1</td>\n",
       "    </tr>\n",
       "    <tr>\n",
       "      <td>2009-01-01 06:00:00</td>\n",
       "      <td>0.113500</td>\n",
       "      <td>0.091250</td>\n",
       "      <td>0.016750</td>\n",
       "      <td>1</td>\n",
       "    </tr>\n",
       "    <tr>\n",
       "      <td>2009-01-01 09:00:00</td>\n",
       "      <td>0.135750</td>\n",
       "      <td>0.091500</td>\n",
       "      <td>0.016250</td>\n",
       "      <td>1</td>\n",
       "    </tr>\n",
       "    <tr>\n",
       "      <td>2009-01-01 12:00:00</td>\n",
       "      <td>0.140917</td>\n",
       "      <td>0.096167</td>\n",
       "      <td>0.017000</td>\n",
       "      <td>1</td>\n",
       "    </tr>\n",
       "    <tr>\n",
       "      <td>...</td>\n",
       "      <td>...</td>\n",
       "      <td>...</td>\n",
       "      <td>...</td>\n",
       "      <td>...</td>\n",
       "    </tr>\n",
       "    <tr>\n",
       "      <td>2013-01-01 12:00:00</td>\n",
       "      <td>1.710000</td>\n",
       "      <td>1.710000</td>\n",
       "      <td>0.129583</td>\n",
       "      <td>1</td>\n",
       "    </tr>\n",
       "    <tr>\n",
       "      <td>2013-01-01 15:00:00</td>\n",
       "      <td>1.420000</td>\n",
       "      <td>1.420000</td>\n",
       "      <td>0.096333</td>\n",
       "      <td>1</td>\n",
       "    </tr>\n",
       "    <tr>\n",
       "      <td>2013-01-01 18:00:00</td>\n",
       "      <td>1.178583</td>\n",
       "      <td>1.178583</td>\n",
       "      <td>0.083083</td>\n",
       "      <td>1</td>\n",
       "    </tr>\n",
       "    <tr>\n",
       "      <td>2013-01-01 21:00:00</td>\n",
       "      <td>0.898250</td>\n",
       "      <td>0.898250</td>\n",
       "      <td>0.077167</td>\n",
       "      <td>1</td>\n",
       "    </tr>\n",
       "    <tr>\n",
       "      <td>2013-01-02 00:00:00</td>\n",
       "      <td>0.860000</td>\n",
       "      <td>0.860000</td>\n",
       "      <td>0.075000</td>\n",
       "      <td>1</td>\n",
       "    </tr>\n",
       "  </tbody>\n",
       "</table>\n",
       "<p>2897 rows × 4 columns</p>\n",
       "</div>"
      ],
      "text/plain": [
       "                      L06_347  LS06_347  LS06_348  months\n",
       "Time                                                     \n",
       "2009-01-01 00:00:00  0.137417  0.097500  0.016833       1\n",
       "2009-01-01 03:00:00  0.131250  0.088833  0.016417       1\n",
       "2009-01-01 06:00:00  0.113500  0.091250  0.016750       1\n",
       "2009-01-01 09:00:00  0.135750  0.091500  0.016250       1\n",
       "2009-01-01 12:00:00  0.140917  0.096167  0.017000       1\n",
       "...                       ...       ...       ...     ...\n",
       "2013-01-01 12:00:00  1.710000  1.710000  0.129583       1\n",
       "2013-01-01 15:00:00  1.420000  1.420000  0.096333       1\n",
       "2013-01-01 18:00:00  1.178583  1.178583  0.083083       1\n",
       "2013-01-01 21:00:00  0.898250  0.898250  0.077167       1\n",
       "2013-01-02 00:00:00  0.860000  0.860000  0.075000       1\n",
       "\n",
       "[2897 rows x 4 columns]"
      ]
     },
     "execution_count": 33,
     "metadata": {},
     "output_type": "execute_result"
    }
   ],
   "source": [
    "data['months'] = data.index.month\n",
    "data[data['months'].isin([1, 2, 3])]"
   ]
  },
  {
   "cell_type": "code",
   "execution_count": 34,
   "metadata": {
    "pycharm": {
     "is_executing": false,
     "name": "#%%\n"
    }
   },
   "outputs": [],
   "source": [
    "data = data.drop(\"months\", axis=1)"
   ]
  },
  {
   "cell_type": "markdown",
   "metadata": {},
   "source": [
    "<div class=\"alert alert-success\">\n",
    "\n",
    "<b>EXERCISE</b>:\n",
    "\n",
    " <ul>\n",
    "  <li>select all 'daytime' data (between 8h and 20h) for all days</li>\n",
    "</ul>\n",
    "</div>"
   ]
  },
  {
   "cell_type": "code",
   "execution_count": 35,
   "metadata": {
    "pycharm": {
     "is_executing": false,
     "name": "#%%\n"
    }
   },
   "outputs": [
    {
     "data": {
      "text/html": [
       "<div>\n",
       "<style scoped>\n",
       "    .dataframe tbody tr th:only-of-type {\n",
       "        vertical-align: middle;\n",
       "    }\n",
       "\n",
       "    .dataframe tbody tr th {\n",
       "        vertical-align: top;\n",
       "    }\n",
       "\n",
       "    .dataframe thead th {\n",
       "        text-align: right;\n",
       "    }\n",
       "</style>\n",
       "<table border=\"1\" class=\"dataframe\">\n",
       "  <thead>\n",
       "    <tr style=\"text-align: right;\">\n",
       "      <th></th>\n",
       "      <th>L06_347</th>\n",
       "      <th>LS06_347</th>\n",
       "      <th>LS06_348</th>\n",
       "    </tr>\n",
       "    <tr>\n",
       "      <th>Time</th>\n",
       "      <th></th>\n",
       "      <th></th>\n",
       "      <th></th>\n",
       "    </tr>\n",
       "  </thead>\n",
       "  <tbody>\n",
       "    <tr>\n",
       "      <td>2009-01-01 09:00:00</td>\n",
       "      <td>0.135750</td>\n",
       "      <td>0.091500</td>\n",
       "      <td>0.016250</td>\n",
       "    </tr>\n",
       "    <tr>\n",
       "      <td>2009-01-01 12:00:00</td>\n",
       "      <td>0.140917</td>\n",
       "      <td>0.096167</td>\n",
       "      <td>0.017000</td>\n",
       "    </tr>\n",
       "    <tr>\n",
       "      <td>2009-01-01 15:00:00</td>\n",
       "      <td>0.099167</td>\n",
       "      <td>0.091667</td>\n",
       "      <td>0.017583</td>\n",
       "    </tr>\n",
       "    <tr>\n",
       "      <td>2009-01-01 18:00:00</td>\n",
       "      <td>0.132667</td>\n",
       "      <td>0.090167</td>\n",
       "      <td>0.016250</td>\n",
       "    </tr>\n",
       "    <tr>\n",
       "      <td>2009-01-02 09:00:00</td>\n",
       "      <td>0.141917</td>\n",
       "      <td>0.097083</td>\n",
       "      <td>0.016417</td>\n",
       "    </tr>\n",
       "    <tr>\n",
       "      <td>...</td>\n",
       "      <td>...</td>\n",
       "      <td>...</td>\n",
       "      <td>...</td>\n",
       "    </tr>\n",
       "    <tr>\n",
       "      <td>2012-12-31 18:00:00</td>\n",
       "      <td>0.617333</td>\n",
       "      <td>0.617333</td>\n",
       "      <td>0.060583</td>\n",
       "    </tr>\n",
       "    <tr>\n",
       "      <td>2013-01-01 09:00:00</td>\n",
       "      <td>2.055000</td>\n",
       "      <td>2.055000</td>\n",
       "      <td>0.175667</td>\n",
       "    </tr>\n",
       "    <tr>\n",
       "      <td>2013-01-01 12:00:00</td>\n",
       "      <td>1.710000</td>\n",
       "      <td>1.710000</td>\n",
       "      <td>0.129583</td>\n",
       "    </tr>\n",
       "    <tr>\n",
       "      <td>2013-01-01 15:00:00</td>\n",
       "      <td>1.420000</td>\n",
       "      <td>1.420000</td>\n",
       "      <td>0.096333</td>\n",
       "    </tr>\n",
       "    <tr>\n",
       "      <td>2013-01-01 18:00:00</td>\n",
       "      <td>1.178583</td>\n",
       "      <td>1.178583</td>\n",
       "      <td>0.083083</td>\n",
       "    </tr>\n",
       "  </tbody>\n",
       "</table>\n",
       "<p>5848 rows × 3 columns</p>\n",
       "</div>"
      ],
      "text/plain": [
       "                      L06_347  LS06_347  LS06_348\n",
       "Time                                             \n",
       "2009-01-01 09:00:00  0.135750  0.091500  0.016250\n",
       "2009-01-01 12:00:00  0.140917  0.096167  0.017000\n",
       "2009-01-01 15:00:00  0.099167  0.091667  0.017583\n",
       "2009-01-01 18:00:00  0.132667  0.090167  0.016250\n",
       "2009-01-02 09:00:00  0.141917  0.097083  0.016417\n",
       "...                       ...       ...       ...\n",
       "2012-12-31 18:00:00  0.617333  0.617333  0.060583\n",
       "2013-01-01 09:00:00  2.055000  2.055000  0.175667\n",
       "2013-01-01 12:00:00  1.710000  1.710000  0.129583\n",
       "2013-01-01 15:00:00  1.420000  1.420000  0.096333\n",
       "2013-01-01 18:00:00  1.178583  1.178583  0.083083\n",
       "\n",
       "[5848 rows x 3 columns]"
      ]
     },
     "execution_count": 35,
     "metadata": {},
     "output_type": "execute_result"
    }
   ],
   "source": [
    "data[(data.index.hour > 8) & (data.index.hour < 20)]"
   ]
  },
  {
   "cell_type": "code",
   "execution_count": 36,
   "metadata": {
    "pycharm": {
     "is_executing": false,
     "name": "#%%\n"
    }
   },
   "outputs": [
    {
     "data": {
      "text/html": [
       "<div>\n",
       "<style scoped>\n",
       "    .dataframe tbody tr th:only-of-type {\n",
       "        vertical-align: middle;\n",
       "    }\n",
       "\n",
       "    .dataframe tbody tr th {\n",
       "        vertical-align: top;\n",
       "    }\n",
       "\n",
       "    .dataframe thead th {\n",
       "        text-align: right;\n",
       "    }\n",
       "</style>\n",
       "<table border=\"1\" class=\"dataframe\">\n",
       "  <thead>\n",
       "    <tr style=\"text-align: right;\">\n",
       "      <th></th>\n",
       "      <th>L06_347</th>\n",
       "      <th>LS06_347</th>\n",
       "      <th>LS06_348</th>\n",
       "    </tr>\n",
       "    <tr>\n",
       "      <th>Time</th>\n",
       "      <th></th>\n",
       "      <th></th>\n",
       "      <th></th>\n",
       "    </tr>\n",
       "  </thead>\n",
       "  <tbody>\n",
       "    <tr>\n",
       "      <td>2009-01-01 09:00:00</td>\n",
       "      <td>0.135750</td>\n",
       "      <td>0.091500</td>\n",
       "      <td>0.016250</td>\n",
       "    </tr>\n",
       "    <tr>\n",
       "      <td>2009-01-01 12:00:00</td>\n",
       "      <td>0.140917</td>\n",
       "      <td>0.096167</td>\n",
       "      <td>0.017000</td>\n",
       "    </tr>\n",
       "    <tr>\n",
       "      <td>2009-01-01 15:00:00</td>\n",
       "      <td>0.099167</td>\n",
       "      <td>0.091667</td>\n",
       "      <td>0.017583</td>\n",
       "    </tr>\n",
       "    <tr>\n",
       "      <td>2009-01-01 18:00:00</td>\n",
       "      <td>0.132667</td>\n",
       "      <td>0.090167</td>\n",
       "      <td>0.016250</td>\n",
       "    </tr>\n",
       "    <tr>\n",
       "      <td>2009-01-02 09:00:00</td>\n",
       "      <td>0.141917</td>\n",
       "      <td>0.097083</td>\n",
       "      <td>0.016417</td>\n",
       "    </tr>\n",
       "    <tr>\n",
       "      <td>...</td>\n",
       "      <td>...</td>\n",
       "      <td>...</td>\n",
       "      <td>...</td>\n",
       "    </tr>\n",
       "    <tr>\n",
       "      <td>2012-12-31 18:00:00</td>\n",
       "      <td>0.617333</td>\n",
       "      <td>0.617333</td>\n",
       "      <td>0.060583</td>\n",
       "    </tr>\n",
       "    <tr>\n",
       "      <td>2013-01-01 09:00:00</td>\n",
       "      <td>2.055000</td>\n",
       "      <td>2.055000</td>\n",
       "      <td>0.175667</td>\n",
       "    </tr>\n",
       "    <tr>\n",
       "      <td>2013-01-01 12:00:00</td>\n",
       "      <td>1.710000</td>\n",
       "      <td>1.710000</td>\n",
       "      <td>0.129583</td>\n",
       "    </tr>\n",
       "    <tr>\n",
       "      <td>2013-01-01 15:00:00</td>\n",
       "      <td>1.420000</td>\n",
       "      <td>1.420000</td>\n",
       "      <td>0.096333</td>\n",
       "    </tr>\n",
       "    <tr>\n",
       "      <td>2013-01-01 18:00:00</td>\n",
       "      <td>1.178583</td>\n",
       "      <td>1.178583</td>\n",
       "      <td>0.083083</td>\n",
       "    </tr>\n",
       "  </tbody>\n",
       "</table>\n",
       "<p>5848 rows × 3 columns</p>\n",
       "</div>"
      ],
      "text/plain": [
       "                      L06_347  LS06_347  LS06_348\n",
       "Time                                             \n",
       "2009-01-01 09:00:00  0.135750  0.091500  0.016250\n",
       "2009-01-01 12:00:00  0.140917  0.096167  0.017000\n",
       "2009-01-01 15:00:00  0.099167  0.091667  0.017583\n",
       "2009-01-01 18:00:00  0.132667  0.090167  0.016250\n",
       "2009-01-02 09:00:00  0.141917  0.097083  0.016417\n",
       "...                       ...       ...       ...\n",
       "2012-12-31 18:00:00  0.617333  0.617333  0.060583\n",
       "2013-01-01 09:00:00  2.055000  2.055000  0.175667\n",
       "2013-01-01 12:00:00  1.710000  1.710000  0.129583\n",
       "2013-01-01 15:00:00  1.420000  1.420000  0.096333\n",
       "2013-01-01 18:00:00  1.178583  1.178583  0.083083\n",
       "\n",
       "[5848 rows x 3 columns]"
      ]
     },
     "execution_count": 36,
     "metadata": {},
     "output_type": "execute_result"
    }
   ],
   "source": [
    "data.between_time('08:00', '20:00')"
   ]
  },
  {
   "cell_type": "markdown",
   "metadata": {},
   "source": [
    "## 4.5 EXERCISES Resampling\n",
    "\n",
    "<div class=\"alert alert-success\">\n",
    "\n",
    "<b>EXERCISE</b>:\n",
    "\n",
    " <ul>\n",
    "  <li>plot the monthly standard deviation of the columns</li>\n",
    "</ul>\n",
    "</div>"
   ]
  },
  {
   "cell_type": "code",
   "execution_count": 37,
   "metadata": {
    "pycharm": {
     "is_executing": false,
     "name": "#%%\n"
    }
   },
   "outputs": [
    {
     "data": {
      "text/plain": [
       "<matplotlib.axes._subplots.AxesSubplot at 0x117cc95f8>"
      ]
     },
     "execution_count": 37,
     "metadata": {},
     "output_type": "execute_result"
    },
    {
     "data": {
      "image/png": "[encoded data removed]",
      "text/plain": [
       "<Figure size 432x288 with 1 Axes>"
      ]
     },
     "metadata": {
      "needs_background": "light"
     },
     "output_type": "display_data"
    }
   ],
   "source": [
    "data = pd.read_csv(\"data/flowdata.csv\", index_col=0, parse_dates=True)\n",
    "data.resample('M').std().plot() # 'A'"
   ]
  },
  {
   "cell_type": "markdown",
   "metadata": {},
   "source": [
    "<div class=\"alert alert-success\">\n",
    "\n",
    "<b>EXERCISE</b>:\n",
    "\n",
    " <ul>\n",
    "  <li>plot the monthly mean and median values for the years 2011-2012 for 'L06_347'<br><br></li>\n",
    "</ul>\n",
    "    \n",
    "    **Note** <br>You can create a new figure with `fig, ax = plt.subplots()` and add each of the plots to the created `ax` object (see documentation of pandas plot function)\n",
    "</div>"
   ]
  },
  {
   "cell_type": "code",
   "execution_count": 38,
   "metadata": {
    "pycharm": {
     "is_executing": false,
     "name": "#%%\n"
    }
   },
   "outputs": [
    {
     "data": {
      "text/plain": [
       "<matplotlib.legend.Legend at 0x117a35fd0>"
      ]
     },
     "execution_count": 38,
     "metadata": {},
     "output_type": "execute_result"
    },
    {
     "data": {
      "image/png": "[encoded data removed]",
      "text/plain": [
       "<Figure size 432x288 with 1 Axes>"
      ]
     },
     "metadata": {
      "needs_background": "light"
     },
     "output_type": "display_data"
    }
   ],
   "source": [
    "fig, ax = plt.subplots()\n",
    "data.loc['2011':'2012', 'L06_347'].resample('M').mean().plot(ax=ax)\n",
    "data.loc['2011':'2012', 'L06_347'].resample('M').median().plot(ax=ax)\n",
    "ax.legend([\"mean\", \"median\"])"
   ]
  },
  {
   "cell_type": "code",
   "execution_count": 39,
   "metadata": {
    "pycharm": {
     "is_executing": false,
     "name": "#%%\n"
    }
   },
   "outputs": [
    {
     "data": {
      "text/plain": [
       "<matplotlib.axes._subplots.AxesSubplot at 0x1177fd5f8>"
      ]
     },
     "execution_count": 39,
     "metadata": {},
     "output_type": "execute_result"
    },
    {
     "data": {
      "image/png": "[encoded data removed]",
      "text/plain": [
       "<Figure size 432x288 with 1 Axes>"
      ]
     },
     "metadata": {
      "needs_background": "light"
     },
     "output_type": "display_data"
    }
   ],
   "source": [
    "data.loc['2011':'2012', 'L06_347'].resample('M').agg(['mean', 'median']).plot()"
   ]
  },
  {
   "cell_type": "markdown",
   "metadata": {},
   "source": [
    "<div class=\"alert alert-success\">\n",
    "\n",
    "<b>EXERCISE</b>:\n",
    "\n",
    " <ul>\n",
    "  <li>plot the monthly mininum and maximum daily average value of the 'LS06_348' column</li>\n",
    "</ul>\n",
    "</div>"
   ]
  },
  {
   "cell_type": "code",
   "execution_count": 40,
   "metadata": {
    "pycharm": {
     "is_executing": false,
     "name": "#%%\n"
    }
   },
   "outputs": [],
   "source": [
    "daily = data['LS06_348'].resample('D').mean() # daily avergaes calculated"
   ]
  },
  {
   "cell_type": "code",
   "execution_count": 41,
   "metadata": {
    "pycharm": {
     "is_executing": false,
     "name": "#%%\n"
    }
   },
   "outputs": [
    {
     "data": {
      "text/plain": [
       "<matplotlib.axes._subplots.AxesSubplot at 0x117cbc860>"
      ]
     },
     "execution_count": 41,
     "metadata": {},
     "output_type": "execute_result"
    },
    {
     "data": {
      "image/png": "[encoded data removed]",
      "text/plain": [
       "<Figure size 432x288 with 1 Axes>"
      ]
     },
     "metadata": {
      "needs_background": "light"
     },
     "output_type": "display_data"
    }
   ],
   "source": [
    "daily.resample('M').agg(['min', 'max']).plot() # monthly minimum and maximum values of these daily averages"
   ]
  },
  {
   "cell_type": "markdown",
   "metadata": {},
   "source": [
    "<div class=\"alert alert-success\">\n",
    "<b>EXERCISE</b>:\n",
    "\n",
    " <ul>\n",
    "  <li>make a bar plot of the mean of the stations in year of 2013 (Remark: create a `fig, ax = plt.subplots()` object and add the plot to the created ax</li>\n",
    "</ul>\n",
    "\n",
    "</div>"
   ]
  },
  {
   "cell_type": "code",
   "execution_count": 42,
   "metadata": {
    "pycharm": {
     "is_executing": false,
     "name": "#%%\n"
    }
   },
   "outputs": [
    {
     "data": {
      "text/plain": [
       "<matplotlib.axes._subplots.AxesSubplot at 0x117d68710>"
      ]
     },
     "execution_count": 42,
     "metadata": {},
     "output_type": "execute_result"
    },
    {
     "data": {
      "image/png": "[encoded data removed]",
      "text/plain": [
       "<Figure size 432x288 with 1 Axes>"
      ]
     },
     "metadata": {
      "needs_background": "light"
     },
     "output_type": "display_data"
    }
   ],
   "source": [
    "fig, ax = plt.subplots()\n",
    "data['2013'].mean().plot(kind='barh', ax=ax)"
   ]
  },
  {
   "cell_type": "markdown",
   "metadata": {},
   "source": [
    "<div class=\"alert alert-success\">\n",
    "<b>EXERCISE</b>:\n",
    "\n",
    " <ul>\n",
    "  <li>Calculate the typical yearly pattern with monthly resolution (plot of the typical monthly average over the years)</li>\n",
    "</ul>\n",
    "\n",
    "</div>"
   ]
  },
  {
   "cell_type": "code",
   "execution_count": 43,
   "metadata": {
    "pycharm": {
     "is_executing": false,
     "name": "#%%\n"
    }
   },
   "outputs": [
    {
     "data": {
      "text/plain": [
       "<matplotlib.axes._subplots.AxesSubplot at 0x117f137f0>"
      ]
     },
     "execution_count": 43,
     "metadata": {},
     "output_type": "execute_result"
    },
    {
     "data": {
      "image/png": "[encoded data removed]",
      "text/plain": [
       "<Figure size 432x288 with 1 Axes>"
      ]
     },
     "metadata": {
      "needs_background": "light"
     },
     "output_type": "display_data"
    }
   ],
   "source": [
    "data.groupby(data.index.month).mean().plot()"
   ]
  }
 ],
 "metadata": {
  "kernelspec": {
   "display_name": "Python 3",
   "language": "python",
   "name": "python3"
  },
  "language_info": {
   "codemirror_mode": {
    "name": "ipython",
    "version": 3
   },
   "file_extension": ".py",
   "mimetype": "text/x-python",
   "name": "python",
   "nbconvert_exporter": "python",
   "pygments_lexer": "ipython3",
   "version": "3.7.1"
  },
  "pycharm": {
   "stem_cell": {
    "cell_type": "raw",
    "source": [],
    "metadata": {
     "collapsed": false
    }
   }
  },
  "toc": {
   "toc_cell": false,
   "toc_number_sections": true,
   "toc_section_display": "block",
   "toc_threshold": 6,
   "toc_window_display": false
  },
  "toc_position": {
   "height": "677px",
   "left": "1195.02px",
   "right": "20px",
   "top": "78px",
   "width": "238px"
  }
 },
 "nbformat": 4,
 "nbformat_minor": 1
}