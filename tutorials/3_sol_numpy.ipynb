{
 "cells": [
  {
   "cell_type": "markdown",
   "metadata": {},
   "source": [
    "# Solution to NumPy exercises"
   ]
  },
  {
   "cell_type": "markdown",
   "metadata": {},
   "source": [
    "---"
   ]
  },
  {
   "cell_type": "code",
   "execution_count": 1,
   "metadata": {
    "pycharm": {
     "is_executing": false,
     "name": "#%%\n"
    }
   },
   "outputs": [],
   "source": [
    "import numpy as np"
   ]
  },
  {
   "cell_type": "markdown",
   "metadata": {},
   "source": [
    "## 1.12 EXERCISES Creating array\n",
    "\n",
    "<div class=\"alert alert-success\">\n",
    "\n",
    "<b>EXERCISES</b>:\n",
    "\n",
    " <ul>\n",
    "  <li>Write a NumPy program to create a 3x3 matrix with values ranging from 2 to 10</li>\n",
    "</ul>\n",
    " <ul>\n",
    "  <li>Write a NumPy program to create a array with values ranging from 12 to 38</li>\n",
    "</ul>\n",
    "<ul>\n",
    "  <li>Write a NumPy program to create a 2-dimensional array of size 2 x 3 (composed of 4-byte integer elements), also print the shape, type and data type of the array.</li>\n",
    "</ul>\n",
    "</div>\n",
    "\n",
    "https://www.w3resource.com/python-exercises/numpy/python-numpy-exercise-3.php   \n",
    "https://www.w3resource.com/python-exercises/numpy/python-numpy-exercise-5.php   \n",
    "https://www.w3resource.com/python-exercises/numpy/python-numpy-exercise-37.php  \n"
   ]
  },
  {
   "cell_type": "code",
   "execution_count": 2,
   "metadata": {
    "pycharm": {
     "is_executing": false,
     "name": "#%%\n"
    }
   },
   "outputs": [
    {
     "name": "stdout",
     "output_type": "stream",
     "text": [
      "[[ 2  3  4]\n",
      " [ 5  6  7]\n",
      " [ 8  9 10]]\n"
     ]
    }
   ],
   "source": [
    "x =  np.arange(2, 11).reshape(3,3)\n",
    "print(x)"
   ]
  },
  {
   "cell_type": "code",
   "execution_count": 3,
   "metadata": {
    "pycharm": {
     "is_executing": false,
     "name": "#%%\n"
    }
   },
   "outputs": [
    {
     "name": "stdout",
     "output_type": "stream",
     "text": [
      "[12 13 14 15 16 17 18 19 20 21 22 23 24 25 26 27 28 29 30 31 32 33 34 35\n",
      " 36 37]\n"
     ]
    }
   ],
   "source": [
    "x = np.arange(12, 38)\n",
    "print(x)"
   ]
  },
  {
   "cell_type": "code",
   "execution_count": 4,
   "metadata": {
    "pycharm": {
     "is_executing": false,
     "name": "#%%\n"
    }
   },
   "outputs": [
    {
     "name": "stdout",
     "output_type": "stream",
     "text": [
      "<class 'numpy.ndarray'>\n",
      "(2, 3)\n",
      "int32\n"
     ]
    }
   ],
   "source": [
    "x = np.array([[2, 4, 6], [6, 8, 10]], np.int32)\n",
    "print(type(x))\t\n",
    "print(x.shape)\n",
    "print(x.dtype)"
   ]
  },
  {
   "cell_type": "markdown",
   "metadata": {},
   "source": [
    "## 2.4 EXERCISES Reshaping an array\n",
    "\n",
    "<div class=\"alert alert-success\">\n",
    "\n",
    "<b>EXERCISE</b>:\n",
    "\n",
    "<ul>\n",
    "  <li>Write a NumPy program to change the dimension of an array: 6 rows and 0 columns = (6,) -> \n",
    "(3, 3) = 3 rows and 3 columns</li>\n",
    "</ul>\n",
    "\n",
    "https://www.w3resource.com/python-exercises/numpy/python-numpy-exercise-35.php"
   ]
  },
  {
   "cell_type": "code",
   "execution_count": 5,
   "metadata": {
    "pycharm": {
     "is_executing": false,
     "name": "#%%\n"
    }
   },
   "outputs": [
    {
     "name": "stdout",
     "output_type": "stream",
     "text": [
      "6 rows and 0 columns\n",
      "(6,)\n",
      "(3, 3) -> 3 rows and 3 columns \n",
      "[[1 2 3]\n",
      " [4 5 6]\n",
      " [7 8 9]]\n",
      "Change array shape to (3, 3) -> 3 rows and 3 columns \n",
      "[[1 2 3]\n",
      " [4 5 6]\n",
      " [7 8 9]]\n"
     ]
    }
   ],
   "source": [
    "x = np.array([1, 2, 3, 4, 5, 6])\n",
    "print(\"6 rows and 0 columns\")\n",
    "print(x.shape)\n",
    "\n",
    "y = np.array([[1, 2, 3],[4, 5, 6],[7,8,9]])\n",
    "print(\"(3, 3) -> 3 rows and 3 columns \")\n",
    "print(y)\n",
    "\n",
    "x = np.array([1,2,3,4,5,6,7,8,9])\n",
    "print(\"Change array shape to (3, 3) -> 3 rows and 3 columns \")\n",
    "x.shape = (3, 3)\n",
    "print(x)\n"
   ]
  },
  {
   "cell_type": "markdown",
   "metadata": {},
   "source": [
    "## 4.5 EXERCISES Broadcasting\n",
    "\n",
    "<div class=\"alert alert-success\">\n",
    "\n",
    "<b>EXERCISES</b>:\n",
    "\n",
    "<ul>\n",
    "  <li>Write a NumPy program to broadcast on different shapes of arrays where p(3,3) + q(3).</li>\n",
    "</ul>\n",
    "<ul>\n",
    "  <li>Write a NumPy program to broadcast on different shapes of arrays where a(,3) + b(3).</li>\n",
    "</ul>\n",
    "\n",
    "https://www.w3resource.com/python-exercises/numpy/python-numpy-exercise-124.php  \n",
    "https://www.w3resource.com/python-exercises/numpy/python-numpy-exercise-125.php"
   ]
  },
  {
   "cell_type": "code",
   "execution_count": 6,
   "metadata": {
    "pycharm": {
     "is_executing": false,
     "name": "#%%\n"
    }
   },
   "outputs": [
    {
     "name": "stdout",
     "output_type": "stream",
     "text": [
      "Original arrays:\n",
      "Array-1\n",
      "[[0 0 0]\n",
      " [1 2 3]\n",
      " [4 5 6]]\n",
      "Array-2\n",
      "[10 11 12]\n",
      "\n",
      "New Array:\n",
      "[[10 11 12]\n",
      " [11 13 15]\n",
      " [14 16 18]]\n"
     ]
    }
   ],
   "source": [
    "p = np.array([[0, 0, 0],\n",
    "              [1, 2, 3],\n",
    "              [4, 5, 6]]) \n",
    "q= np.array([10, 11, 12]) \n",
    "print(\"Original arrays:\")\n",
    "print(\"Array-1\")\n",
    "print(p)\n",
    "print(\"Array-2\")\n",
    "print(q)\n",
    "print(\"\\nNew Array:\")\n",
    "new_array1 = p + q \n",
    "print(new_array1)"
   ]
  },
  {
   "cell_type": "code",
   "execution_count": 7,
   "metadata": {
    "pycharm": {
     "is_executing": false,
     "name": "#%%\n"
    }
   },
   "outputs": [
    {
     "name": "stdout",
     "output_type": "stream",
     "text": [
      "Original arrays:\n",
      "Array-1\n",
      "[[ 0]\n",
      " [10]\n",
      " [20]]\n",
      "Array-2\n",
      "[10 11 12]\n",
      "\n",
      "New Array:\n",
      "[[10 11 12]\n",
      " [20 21 22]\n",
      " [30 31 32]]\n"
     ]
    }
   ],
   "source": [
    "p = np.array([[0], [10], [20]]) \n",
    "q= np.array([10, 11, 12]) \n",
    "print(\"Original arrays:\")\n",
    "print(\"Array-1\")\n",
    "print(p)\n",
    "print(\"Array-2\")\n",
    "print(q)\n",
    "print(\"\\nNew Array:\")\n",
    "new_array1 = p + q \n",
    "print(new_array1)"
   ]
  },
  {
   "cell_type": "markdown",
   "metadata": {},
   "source": [
    "## 6.4 EXERCISES Mathematical and statistical functions\n",
    "\n",
    "<div class=\"alert alert-success\">\n",
    "\n",
    "<b>EXERCISES</b>:\n",
    "\n",
    "<ul>\n",
    "  <li>Write a NumPy program to compute logarithm of the sum of exponentiations of the inputs, sum of exponentiations of the inputs in base-2.</li>\n",
    "</ul>\n",
    "<ul>\n",
    "  <li>Write a NumPy program to get true division of the element-wise array inputs.</li>\n",
    "</ul>\n",
    "<ul>\n",
    "  <li>Write a NumPy program to multiply a matrix by another matrix of complex numbers and create a new matrix of complex numbers.</li>\n",
    "</ul>\n",
    "<ul>\n",
    "  <li>Write a NumPy program to calculate round, floor, ceiling, truncated and round (to the given number of decimals) of the input, element-wise of a given array. </li>\n",
    "</ul>\n",
    "\n",
    "\n",
    "https://www.w3resource.com/python-exercises/numpy/python-numpy-math-exercise-2.php  \n",
    "https://www.w3resource.com/python-exercises/numpy/python-numpy-math-exercise-3.php  \n",
    "https://www.w3resource.com/python-exercises/numpy/python-numpy-math-exercise-12.php  \n",
    "https://www.w3resource.com/python-exercises/numpy/python-numpy-math-exercise-26.php  "
   ]
  },
  {
   "cell_type": "code",
   "execution_count": 8,
   "metadata": {
    "pycharm": {
     "is_executing": false,
     "name": "#%%\n"
    }
   },
   "outputs": [
    {
     "name": "stdout",
     "output_type": "stream",
     "text": [
      "Logarithm of the sum of exponentiations:\n",
      "-113.87649168120691\n",
      "Logarithm of the sum of exponentiations of the inputs in base-2:\n",
      "-113.59955522772194\n"
     ]
    }
   ],
   "source": [
    "l1 = np.log(1e-50)\n",
    "l2 = np.log(2.5e-50)\n",
    "print(\"Logarithm of the sum of exponentiations:\")\n",
    "print(np.logaddexp(l1, l2))\n",
    "print(\"Logarithm of the sum of exponentiations of the inputs in base-2:\")\n",
    "print(np.logaddexp2(l1, l2))\n",
    "\n"
   ]
  },
  {
   "cell_type": "code",
   "execution_count": 9,
   "metadata": {
    "pycharm": {
     "is_executing": false,
     "name": "#%%\n"
    }
   },
   "outputs": [
    {
     "name": "stdout",
     "output_type": "stream",
     "text": [
      "Original array:\n",
      "[0 1 2 3 4 5 6 7 8 9]\n",
      "Division of the array inputs, element-wise:\n",
      "[0.         0.33333333 0.66666667 1.         1.33333333 1.66666667\n",
      " 2.         2.33333333 2.66666667 3.        ]\n"
     ]
    }
   ],
   "source": [
    "x = np.arange(10)\n",
    "print(\"Original array:\")\n",
    "print(x)\n",
    "print(\"Division of the array inputs, element-wise:\")\n",
    "print(np.true_divide(x, 3))\n"
   ]
  },
  {
   "cell_type": "code",
   "execution_count": 10,
   "metadata": {
    "pycharm": {
     "is_executing": false,
     "name": "#%%\n"
    }
   },
   "outputs": [
    {
     "name": "stdout",
     "output_type": "stream",
     "text": [
      "First array:\n",
      "[1.+2.j 3.+4.j]\n",
      "Second array:\n",
      "[5.+6.j 7.+8.j]\n",
      "Product of above two arrays:\n",
      "(70-8j)\n"
     ]
    }
   ],
   "source": [
    "x = np.array([1+2j,3+4j])\n",
    "print(\"First array:\")\n",
    "print(x)\n",
    "y = np.array([5+6j,7+8j])\n",
    "print(\"Second array:\")\n",
    "print(y)\n",
    "z = np.vdot(x, y)\n",
    "print(\"Product of above two arrays:\")\n",
    "print(z)"
   ]
  },
  {
   "cell_type": "code",
   "execution_count": 11,
   "metadata": {
    "pycharm": {
     "is_executing": false,
     "name": "#%%\n"
    }
   },
   "outputs": [
    {
     "name": "stdout",
     "output_type": "stream",
     "text": [
      "Original array: \n",
      "[ 3.1  3.5  4.5  2.9 -3.1 -3.5 -5.9]\n",
      "\n",
      "around:    [ 3.  4.  4.  3. -3. -4. -6.]\n",
      "floor:     [ 3.  3.  4.  2. -4. -4. -6.]\n",
      "ceil:      [ 4.  4.  5.  3. -3. -3. -5.]\n",
      "trunc:     [ 3.  3.  4.  2. -3. -3. -5.]\n",
      "round:     [3.0, 4.0, 4.0, 3.0, -3.0, -4.0, -6.0]\n"
     ]
    }
   ],
   "source": [
    "x = np.array([3.1, 3.5, 4.5, 2.9, -3.1, -3.5, -5.9])\n",
    "print(\"Original array: \")\n",
    "print(x)\n",
    "r1 = np.around(x)\n",
    "r2 = np.floor(x)\n",
    "r3 = np.ceil(x)\n",
    "r4 = np.trunc(x)\n",
    "r5 = [round(elem) for elem in x]\n",
    "\n",
    "print(\"\\naround:   \", r1)\n",
    "print(\"floor:    \",r2)\n",
    "print(\"ceil:     \",r3)\n",
    "print(\"trunc:    \",r4)\n",
    "print(\"round:    \",r5)"
   ]
  },
  {
   "cell_type": "markdown",
   "metadata": {},
   "source": [
    "## 7.7 EXERCISES Array indexing\n",
    "\n",
    "<div class=\"alert alert-success\">\n",
    "\n",
    "<b>EXERCISES</b>:\n",
    "\n",
    "<ul>\n",
    "  <li>Write a NumPy program to create a structured array from given student name, height, class and their data types. Now sort the array on height.</li>\n",
    "</ul>\n",
    "<ul>\n",
    "  <li>Write a NumPy program to sort the student id with increasing height of the students from given students id and height. Print the integer indices that describes the sort order by multiple columns and the sorted data.</li>\n",
    "</ul>\n",
    "\n",
    "https://www.w3resource.com/python-exercises/numpy/python-numpy-sorting-and-searching-exercise-2.php\n",
    "https://www.w3resource.com/python-exercises/numpy/python-numpy-sorting-and-searching-exercise-4.php"
   ]
  },
  {
   "cell_type": "code",
   "execution_count": 12,
   "metadata": {
    "pycharm": {
     "is_executing": false,
     "name": "#%%\n"
    }
   },
   "outputs": [
    {
     "name": "stdout",
     "output_type": "stream",
     "text": [
      "Original array:\n",
      "[(b'James', 5, 48.5 ) (b'Nail', 6, 52.5 ) (b'Paul', 5, 42.1 )\n",
      " (b'Pit', 5, 40.11)]\n",
      "Sort by height\n",
      "[(b'Pit', 5, 40.11) (b'Paul', 5, 42.1 ) (b'James', 5, 48.5 )\n",
      " (b'Nail', 6, 52.5 )]\n"
     ]
    }
   ],
   "source": [
    "data_type = [('name', 'S15'), ('class', int), ('height', float)]\n",
    "students_details = [('James', 5, 48.5), ('Nail', 6, 52.5),('Paul', 5, 42.10), ('Pit', 5, 40.11)]\n",
    "# create a structured array\n",
    "students = np.array(students_details, dtype=data_type)   \n",
    "print(\"Original array:\")\n",
    "print(students)\n",
    "print(\"Sort by height\")\n",
    "print(np.sort(students, order='height')) \n"
   ]
  },
  {
   "cell_type": "code",
   "execution_count": 13,
   "metadata": {
    "pycharm": {
     "is_executing": false,
     "name": "#%%\n"
    }
   },
   "outputs": [
    {
     "name": "stdout",
     "output_type": "stream",
     "text": [
      "Sorted indices:\n",
      "[4 0 5 3 6 1 2]\n",
      "Sorted data:\n",
      "1682 38.0\n",
      "1023 40.0\n",
      "5241 40.0\n",
      "1671 41.0\n",
      "4532 42.0\n",
      "5202 42.0\n",
      "6230 45.0\n"
     ]
    }
   ],
   "source": [
    "student_id = np.array([1023, 5202, 6230, 1671, 1682, 5241, 4532])\n",
    "student_height = np.array([40., 42., 45., 41., 38., 40., 42.0])\n",
    "#Sort by studen_id then by student_height\n",
    "indices = np.lexsort((student_id, student_height))\n",
    "print(\"Sorted indices:\")\n",
    "print(indices)\n",
    "print(\"Sorted data:\")\n",
    "for n in indices:\n",
    "  print(student_id[n], student_height[n])"
   ]
  },
  {
   "cell_type": "markdown",
   "metadata": {},
   "source": [
    "## EXERCISES Splitting arrays\n",
    "\n",
    "<div class=\"alert alert-success\">\n",
    "\n",
    "<b>EXERCISES</b>:\n",
    "\n",
    "<ul>\n",
    "  <li>Write a NumPy program to split an given array into multiple sub-arrays vertically (row-wise). </li>\n",
    "</ul>\n",
    "<ul>\n",
    "  <li>Write a NumPy program to split array into multiple sub-arrays along the 3rd axis.</li>\n",
    "</ul>\n",
    "\n",
    "https://www.w3resource.com/python-exercises/numpy/python-numpy-exercise-131.php  \n",
    "https://www.w3resource.com/python-exercises/numpy/python-numpy-exercise-132.php"
   ]
  },
  {
   "cell_type": "code",
   "execution_count": 14,
   "metadata": {
    "pycharm": {
     "is_executing": false,
     "name": "#%%\n"
    }
   },
   "outputs": [
    {
     "name": "stdout",
     "output_type": "stream",
     "text": [
      "\n",
      "Original arrays:\n",
      "[[ 0.  1.  2.  3.]\n",
      " [ 4.  5.  6.  7.]\n",
      " [ 8.  9. 10. 11.]\n",
      " [12. 13. 14. 15.]]\n",
      "\n",
      "Split an array into multiple sub-arrays vertically:\n",
      "[array([[0., 1., 2., 3.],\n",
      "       [4., 5., 6., 7.]]), array([[ 8.,  9., 10., 11.],\n",
      "       [12., 13., 14., 15.]])]\n"
     ]
    }
   ],
   "source": [
    "print(\"\\nOriginal arrays:\")\n",
    "x = np.arange(16.0).reshape(4, 4)\n",
    "print(x)\n",
    "new_array1 =  np.vsplit(x, 2)\n",
    "print(\"\\nSplit an array into multiple sub-arrays vertically:\")\n",
    "print(new_array1)\n"
   ]
  },
  {
   "cell_type": "code",
   "execution_count": 15,
   "metadata": {
    "pycharm": {
     "is_executing": false,
     "name": "#%%\n"
    }
   },
   "outputs": [
    {
     "name": "stdout",
     "output_type": "stream",
     "text": [
      "\n",
      "Original arrays:\n",
      "[[[ 0.  1.  2.  3.]\n",
      "  [ 4.  5.  6.  7.]]\n",
      "\n",
      " [[ 8.  9. 10. 11.]\n",
      "  [12. 13. 14. 15.]]]\n",
      "\n",
      "split array into multiple sub-arrays along the 3rd axis:\n",
      "[array([[[ 0.,  1.],\n",
      "        [ 4.,  5.]],\n",
      "\n",
      "       [[ 8.,  9.],\n",
      "        [12., 13.]]]), array([[[ 2.,  3.],\n",
      "        [ 6.,  7.]],\n",
      "\n",
      "       [[10., 11.],\n",
      "        [14., 15.]]])]\n"
     ]
    }
   ],
   "source": [
    "\n",
    "print(\"\\nOriginal arrays:\")\n",
    "x = np.arange(16.0).reshape(2, 2, 4)\n",
    "print(x)\n",
    "new_array1 = np.dsplit(x, 2)\n",
    "print(\"\\nsplit array into multiple sub-arrays along the 3rd axis:\")\n",
    "print(new_array1)"
   ]
  },
  {
   "cell_type": "markdown",
   "metadata": {},
   "source": [
    "## EXERCISES Linear Algebra\n",
    "\n",
    "<div class=\"alert alert-success\">\n",
    "\n",
    "<b>EXERCISES</b>:\n",
    "\n",
    "<ul>\n",
    "  <li>Write a NumPy program to compute the multiplication of two given matrixes. </li>\n",
    "</ul>\n",
    "<ul>\n",
    "  <li>Write a NumPy program to compute the outer product of two given vectors.</li>\n",
    "</ul>\n",
    "<ul>\n",
    "  <li>Write a NumPy program to compute the eigenvalues and right eigenvectors of a given square array.</li>\n",
    "</ul>\n",
    "<ul>\n",
    "  <li>Write a NumPy program to calculate the QR decomposition of a given matrix.</li>\n",
    "</ul>\n",
    "<ul>\n",
    "  <li>Write a NumPy program to get the qr factorization of a given array.</li>\n",
    "</ul>\n",
    "\n",
    "\n",
    "https://www.w3resource.com/python-exercises/numpy/linear-algebra/numpy-linear-algebra-exercise-1.php  \n",
    "https://www.w3resource.com/python-exercises/numpy/linear-algebra/numpy-linear-algebra-exercise-2.php\n",
    "https://www.w3resource.com/python-exercises/numpy/linear-algebra/numpy-linear-algebra-exercise-7.php\n",
    "https://www.w3resource.com/python-exercises/numpy/linear-algebra/numpy-linear-algebra-exercise-13.php\n",
    "https://www.w3resource.com/python-exercises/numpy/linear-algebra/numpy-linear-algebra-exercise-17.php"
   ]
  },
  {
   "cell_type": "code",
   "execution_count": 16,
   "metadata": {
    "pycharm": {
     "is_executing": false,
     "name": "#%%\n"
    }
   },
   "outputs": [
    {
     "name": "stdout",
     "output_type": "stream",
     "text": [
      "original matrix:\n",
      "[[1, 0], [0, 1]]\n",
      "[[1, 2], [3, 4]]\n",
      "Result of the said matrix multiplication:\n",
      "[[1 2]\n",
      " [3 4]]\n"
     ]
    }
   ],
   "source": [
    "p = [[1, 0], [0, 1]]\n",
    "q = [[1, 2], [3, 4]]\n",
    "print(\"original matrix:\")\n",
    "print(p)\n",
    "print(q)\n",
    "result1 = np.dot(p, q)\n",
    "print(\"Result of the said matrix multiplication:\")\n",
    "print(result1)"
   ]
  },
  {
   "cell_type": "code",
   "execution_count": 17,
   "metadata": {
    "pycharm": {
     "is_executing": false,
     "name": "#%%\n"
    }
   },
   "outputs": [
    {
     "name": "stdout",
     "output_type": "stream",
     "text": [
      "original matrix:\n",
      "[[1, 0], [0, 1]]\n",
      "[[1, 2], [3, 4]]\n",
      "Outer product of the said two vectors:\n",
      "[[1 2 3 4]\n",
      " [0 0 0 0]\n",
      " [0 0 0 0]\n",
      " [1 2 3 4]]\n"
     ]
    }
   ],
   "source": [
    "p = [[1, 0], [0, 1]]\n",
    "q = [[1, 2], [3, 4]]\n",
    "print(\"original matrix:\")\n",
    "print(p)\n",
    "print(q)\n",
    "result = np.outer(p, q)\n",
    "print(\"Outer product of the said two vectors:\")\n",
    "print(result)"
   ]
  },
  {
   "cell_type": "code",
   "execution_count": 18,
   "metadata": {
    "pycharm": {
     "is_executing": false,
     "name": "#%%\n"
    }
   },
   "outputs": [
    {
     "name": "stdout",
     "output_type": "stream",
     "text": [
      "Original matrix:\n",
      "a\n",
      " [[ 3 -2]\n",
      " [ 1  0]]\n",
      "Eigenvalues of the said matrix [2. 1.]\n",
      "Eigenvectors of the said matrix [[0.89442719 0.70710678]\n",
      " [0.4472136  0.70710678]]\n"
     ]
    }
   ],
   "source": [
    "m = np.mat(\"3 -2;1 0\")\n",
    "print(\"Original matrix:\")\n",
    "print(\"a\\n\", m)\n",
    "w, v = np.linalg.eig(m) \n",
    "print( \"Eigenvalues of the said matrix\",w)\n",
    "print( \"Eigenvectors of the said matrix\",v)"
   ]
  },
  {
   "cell_type": "code",
   "execution_count": 19,
   "metadata": {
    "pycharm": {
     "is_executing": false,
     "name": "#%%\n"
    }
   },
   "outputs": [
    {
     "name": "stdout",
     "output_type": "stream",
     "text": [
      "Original matrix:\n",
      "[[1 2]\n",
      " [3 4]]\n",
      "Decomposition of the said matrix:\n",
      "(array([[-0.31622777, -0.9486833 ],\n",
      "       [-0.9486833 ,  0.31622777]]), array([[-3.16227766, -4.42718872],\n",
      "       [ 0.        , -0.63245553]]))\n"
     ]
    }
   ],
   "source": [
    "m = np.array([[1,2],[3,4]])\n",
    "print(\"Original matrix:\")\n",
    "print(m)\n",
    "result =  np.linalg.qr(m)\n",
    "print(\"Decomposition of the said matrix:\")\n",
    "print(result)"
   ]
  },
  {
   "cell_type": "code",
   "execution_count": 20,
   "metadata": {
    "pycharm": {
     "is_executing": false,
     "name": "#%%\n"
    }
   },
   "outputs": [
    {
     "name": "stdout",
     "output_type": "stream",
     "text": [
      "Original array:\n",
      "[[  4  12 -14]\n",
      " [ 12  37 -53]\n",
      " [-14 -53  98]]\n",
      "qr factorization of the said array:\n",
      "q=\n",
      " [[-0.21199958 -0.27930103  0.93650794]\n",
      " [-0.63599873 -0.68815735 -0.34920635]\n",
      " [ 0.74199852 -0.66964945 -0.03174603]] \n",
      "r=\n",
      " [[-18.86796226 -65.4018692  109.39178122]\n",
      " [  0.           6.67798664 -25.24309237]\n",
      " [  0.           0.           2.28571429]]\n"
     ]
    }
   ],
   "source": [
    "a = np.array([[4, 12, -14], [12, 37, -53], [-14, -53, 98]], dtype=np.int32)\n",
    "print(\"Original array:\")\n",
    "print(a)\n",
    "q, r = np.linalg.qr(a)\n",
    "print(\"qr factorization of the said array:\")\n",
    "print( \"q=\\n\", q, \"\\nr=\\n\", r)"
   ]
  },
  {
   "cell_type": "markdown",
   "metadata": {},
   "source": [
    "# What next?\n",
    "More exercises: https://www.w3resource.com/python-exercises/numpy/"
   ]
  }
 ],
 "metadata": {
  "kernelspec": {
   "display_name": "Python 3",
   "language": "python",
   "name": "python3"
  },
  "language_info": {
   "codemirror_mode": {
    "name": "ipython",
    "version": 3
   },
   "file_extension": ".py",
   "mimetype": "text/x-python",
   "name": "python",
   "nbconvert_exporter": "python",
   "pygments_lexer": "ipython3",
   "version": "3.6.8"
  },
  "pycharm": {
   "stem_cell": {
    "cell_type": "raw",
    "metadata": {
     "collapsed": false
    },
    "source": []
   }
  },
  "toc": {
   "toc_cell": false,
   "toc_number_sections": true,
   "toc_section_display": "block",
   "toc_threshold": 6,
   "toc_window_display": false
  },
  "toc_position": {
   "height": "677px",
   "left": "1195.02px",
   "right": "20px",
   "top": "78px",
   "width": "238px"
  }
 },
 "nbformat": 4,
 "nbformat_minor": 1
}
