{
 "cells": [
  {
   "cell_type": "markdown",
   "metadata": {},
   "source": [
    "# Tools - pandas\n",
    "\n",
    "mainly based on pandas tutorials:\n",
    "- from Aurélien Geron in Hands on machine learning v2: https://github.com/ageron/handson-ml2\n",
    "- Gilles Loupe https://github.com/AI-BlackBelt/yellow/tree/master/notebooks\n",
    "\n",
    "\n",
    "*The `pandas` library provides high-performance, easy-to-use data structures and data analysis tools. The main data structure is the `DataFrame`, which you can think of as an in-memory 2D table (like a spreadsheet, with column names and row labels). Many features available in Excel are available programmatically, such as creating pivot tables, computing columns based on other columns, plotting graphs, etc. You can also group rows by column value, or join tables much like in SQL. Pandas is also great at handling time series.*\n",
    "\n",
    "Prerequisites:\n",
    "* NumPy – if you are not familiar with NumPy, we recommend that you go through the [NumPy tutorial](3_tools_numpy.ipynb) now.\n",
    "\n",
    "# Summary\n",
    "\n",
    "## 0. Let's start with a showcase\n",
    "## 1. Pandas: data analysis in python\n",
    "## 2. `Series` objects\n",
    "## 3. `DataFrame` objects\n",
    "## 4. Handling time\n",
    "## 5. Saving & loading\n",
    "## 6. Combining `DataFrame`s\n",
    "## 7. Handling missing data\n",
    "\n",
    "\n"
   ]
  },
  {
   "cell_type": "markdown",
   "metadata": {},
   "source": [
    "Let's import `pandas`. People usually import it as `pd`:"
   ]
  },
  {
   "cell_type": "code",
   "execution_count": 1,
   "metadata": {
    "pycharm": {
     "is_executing": false,
     "name": "#%%\n"
    }
   },
   "outputs": [],
   "source": [
    "import pandas as pd"
   ]
  },
  {
   "cell_type": "markdown",
   "metadata": {},
   "source": [
    "# 0. Let's start with a showcase -> Gilles Loupe tutorial\n",
    "\n",
    "## 0.1 Case 1: titanic survival data"
   ]
  },
  {
   "cell_type": "code",
   "execution_count": 2,
   "metadata": {
    "pycharm": {
     "is_executing": false,
     "name": "#%%\n"
    }
   },
   "outputs": [],
   "source": [
    "df = pd.read_csv(\"data/titanic.csv\")"
   ]
  },
  {
   "cell_type": "code",
   "execution_count": 3,
   "metadata": {
    "pycharm": {
     "is_executing": false,
     "name": "#%%\n"
    }
   },
   "outputs": [
    {
     "data": {
      "text/plain": "   PassengerId  Survived  Pclass  \\\n0            1         0       3   \n1            2         1       1   \n2            3         1       3   \n3            4         1       1   \n4            5         0       3   \n\n                                                Name     Sex   Age  SibSp  \\\n0                            Braund, Mr. Owen Harris    male  22.0      1   \n1  Cumings, Mrs. John Bradley (Florence Briggs Th...  female  38.0      1   \n2                             Heikkinen, Miss. Laina  female  26.0      0   \n3       Futrelle, Mrs. Jacques Heath (Lily May Peel)  female  35.0      1   \n4                           Allen, Mr. William Henry    male  35.0      0   \n\n   Parch            Ticket     Fare Cabin Embarked  \n0      0         A/5 21171   7.2500   NaN        S  \n1      0          PC 17599  71.2833   C85        C  \n2      0  STON/O2. 3101282   7.9250   NaN        S  \n3      0            113803  53.1000  C123        S  \n4      0            373450   8.0500   NaN        S  ",
      "text/html": "<div>\n<style scoped>\n    .dataframe tbody tr th:only-of-type {\n        vertical-align: middle;\n    }\n\n    .dataframe tbody tr th {\n        vertical-align: top;\n    }\n\n    .dataframe thead th {\n        text-align: right;\n    }\n</style>\n<table border=\"1\" class=\"dataframe\">\n  <thead>\n    <tr style=\"text-align: right;\">\n      <th></th>\n      <th>PassengerId</th>\n      <th>Survived</th>\n      <th>Pclass</th>\n      <th>Name</th>\n      <th>Sex</th>\n      <th>Age</th>\n      <th>SibSp</th>\n      <th>Parch</th>\n      <th>Ticket</th>\n      <th>Fare</th>\n      <th>Cabin</th>\n      <th>Embarked</th>\n    </tr>\n  </thead>\n  <tbody>\n    <tr>\n      <td>0</td>\n      <td>1</td>\n      <td>0</td>\n      <td>3</td>\n      <td>Braund, Mr. Owen Harris</td>\n      <td>male</td>\n      <td>22.0</td>\n      <td>1</td>\n      <td>0</td>\n      <td>A/5 21171</td>\n      <td>7.2500</td>\n      <td>NaN</td>\n      <td>S</td>\n    </tr>\n    <tr>\n      <td>1</td>\n      <td>2</td>\n      <td>1</td>\n      <td>1</td>\n      <td>Cumings, Mrs. John Bradley (Florence Briggs Th...</td>\n      <td>female</td>\n      <td>38.0</td>\n      <td>1</td>\n      <td>0</td>\n      <td>PC 17599</td>\n      <td>71.2833</td>\n      <td>C85</td>\n      <td>C</td>\n    </tr>\n    <tr>\n      <td>2</td>\n      <td>3</td>\n      <td>1</td>\n      <td>3</td>\n      <td>Heikkinen, Miss. Laina</td>\n      <td>female</td>\n      <td>26.0</td>\n      <td>0</td>\n      <td>0</td>\n      <td>STON/O2. 3101282</td>\n      <td>7.9250</td>\n      <td>NaN</td>\n      <td>S</td>\n    </tr>\n    <tr>\n      <td>3</td>\n      <td>4</td>\n      <td>1</td>\n      <td>1</td>\n      <td>Futrelle, Mrs. Jacques Heath (Lily May Peel)</td>\n      <td>female</td>\n      <td>35.0</td>\n      <td>1</td>\n      <td>0</td>\n      <td>113803</td>\n      <td>53.1000</td>\n      <td>C123</td>\n      <td>S</td>\n    </tr>\n    <tr>\n      <td>4</td>\n      <td>5</td>\n      <td>0</td>\n      <td>3</td>\n      <td>Allen, Mr. William Henry</td>\n      <td>male</td>\n      <td>35.0</td>\n      <td>0</td>\n      <td>0</td>\n      <td>373450</td>\n      <td>8.0500</td>\n      <td>NaN</td>\n      <td>S</td>\n    </tr>\n  </tbody>\n</table>\n</div>"
     },
     "metadata": {},
     "output_type": "execute_result",
     "execution_count": 3
    }
   ],
   "source": [
    "df.head()"
   ]
  },
  {
   "cell_type": "markdown",
   "metadata": {},
   "source": [
    "Starting from reading this dataset, to answering questions about this data in a few lines of code:"
   ]
  },
  {
   "cell_type": "markdown",
   "metadata": {},
   "source": [
    "**What is the age distribution of the passengers?**"
   ]
  },
  {
   "cell_type": "code",
   "execution_count": 4,
   "metadata": {
    "pycharm": {
     "is_executing": false,
     "name": "#%%\n"
    }
   },
   "outputs": [
    {
     "data": {
      "text/plain": "<matplotlib.axes._subplots.AxesSubplot at 0x116ebd908>"
     },
     "metadata": {},
     "output_type": "execute_result",
     "execution_count": 4
    }
   ],
   "source": [
    "df['Age'].hist()"
   ]
  },
  {
   "cell_type": "markdown",
   "metadata": {},
   "source": [
    "**How does the survival rate of the passengers differ between sexes?**"
   ]
  },
  {
   "cell_type": "code",
   "execution_count": 5,
   "metadata": {
    "pycharm": {
     "is_executing": false,
     "name": "#%%\n"
    }
   },
   "outputs": [
    {
     "data": {
      "text/plain": "        Survived\nSex             \nfemale  0.742038\nmale    0.188908",
      "text/html": "<div>\n<style scoped>\n    .dataframe tbody tr th:only-of-type {\n        vertical-align: middle;\n    }\n\n    .dataframe tbody tr th {\n        vertical-align: top;\n    }\n\n    .dataframe thead th {\n        text-align: right;\n    }\n</style>\n<table border=\"1\" class=\"dataframe\">\n  <thead>\n    <tr style=\"text-align: right;\">\n      <th></th>\n      <th>Survived</th>\n    </tr>\n    <tr>\n      <th>Sex</th>\n      <th></th>\n    </tr>\n  </thead>\n  <tbody>\n    <tr>\n      <td>female</td>\n      <td>0.742038</td>\n    </tr>\n    <tr>\n      <td>male</td>\n      <td>0.188908</td>\n    </tr>\n  </tbody>\n</table>\n</div>"
     },
     "metadata": {},
     "output_type": "execute_result",
     "execution_count": 5
    }
   ],
   "source": [
    "df.groupby('Sex')[['Survived']].aggregate(lambda x: x.sum() / len(x))"
   ]
  },
  {
   "cell_type": "markdown",
   "metadata": {},
   "source": [
    "**Or how does it differ between the different classes?**"
   ]
  },
  {
   "cell_type": "code",
   "execution_count": 6,
   "metadata": {
    "pycharm": {
     "is_executing": false,
     "name": "#%%\n"
    }
   },
   "outputs": [
    {
     "data": {
      "text/plain": "<matplotlib.axes._subplots.AxesSubplot at 0x11947f7b8>"
     },
     "metadata": {},
     "output_type": "execute_result",
     "execution_count": 6
    },
    {
     "data": {
      "text/plain": "<Figure size 432x288 with 1 Axes>",
      "image/png": "[encoded data removed]"
     },
     "metadata": {
      "needs_background": "light"
     },
     "output_type": "display_data"
    }
   ],
   "source": [
    "df.groupby('Pclass')['Survived'].aggregate(lambda x: x.sum() / len(x)).plot(kind='bar')"
   ]
  },
  {
   "cell_type": "markdown",
   "metadata": {},
   "source": [
    "All the needed functionality for the above examples will be explained throughout this tutorial."
   ]
  },
  {
   "cell_type": "markdown",
   "metadata": {},
   "source": [
    "## 0.2 Case 2: air quality measurement timeseries"
   ]
  },
  {
   "cell_type": "markdown",
   "metadata": {},
   "source": [
    "AirBase (The European Air quality dataBase): hourly measurements of all air quality monitoring stations from Europe\n",
    "\n",
    "Starting from these hourly data for different stations:"
   ]
  },
  {
   "cell_type": "code",
   "execution_count": 7,
   "metadata": {
    "pycharm": {
     "is_executing": false,
     "name": "#%%\n"
    }
   },
   "outputs": [],
   "source": [
    "data = pd.read_csv('data/20000101_20161231-NO2.csv', sep=';', skiprows=[1], na_values=['n/d'], index_col=0, parse_dates=True)"
   ]
  },
  {
   "cell_type": "code",
   "execution_count": 8,
   "metadata": {
    "pycharm": {
     "is_executing": false,
     "name": "#%%\n"
    }
   },
   "outputs": [
    {
     "data": {
      "text/plain": "                     BASCH  BONAP  PA18  VERS\ntimestamp                                    \n2000-01-01 01:00:00  108.0    NaN  65.0  47.0\n2000-01-01 02:00:00  104.0   60.0  77.0  42.0\n2000-01-01 03:00:00   97.0   58.0  73.0  34.0\n2000-01-01 04:00:00   77.0   52.0  57.0  29.0\n2000-01-01 05:00:00   79.0   52.0  64.0  28.0",
      "text/html": "<div>\n<style scoped>\n    .dataframe tbody tr th:only-of-type {\n        vertical-align: middle;\n    }\n\n    .dataframe tbody tr th {\n        vertical-align: top;\n    }\n\n    .dataframe thead th {\n        text-align: right;\n    }\n</style>\n<table border=\"1\" class=\"dataframe\">\n  <thead>\n    <tr style=\"text-align: right;\">\n      <th></th>\n      <th>BASCH</th>\n      <th>BONAP</th>\n      <th>PA18</th>\n      <th>VERS</th>\n    </tr>\n    <tr>\n      <th>timestamp</th>\n      <th></th>\n      <th></th>\n      <th></th>\n      <th></th>\n    </tr>\n  </thead>\n  <tbody>\n    <tr>\n      <td>2000-01-01 01:00:00</td>\n      <td>108.0</td>\n      <td>NaN</td>\n      <td>65.0</td>\n      <td>47.0</td>\n    </tr>\n    <tr>\n      <td>2000-01-01 02:00:00</td>\n      <td>104.0</td>\n      <td>60.0</td>\n      <td>77.0</td>\n      <td>42.0</td>\n    </tr>\n    <tr>\n      <td>2000-01-01 03:00:00</td>\n      <td>97.0</td>\n      <td>58.0</td>\n      <td>73.0</td>\n      <td>34.0</td>\n    </tr>\n    <tr>\n      <td>2000-01-01 04:00:00</td>\n      <td>77.0</td>\n      <td>52.0</td>\n      <td>57.0</td>\n      <td>29.0</td>\n    </tr>\n    <tr>\n      <td>2000-01-01 05:00:00</td>\n      <td>79.0</td>\n      <td>52.0</td>\n      <td>64.0</td>\n      <td>28.0</td>\n    </tr>\n  </tbody>\n</table>\n</div>"
     },
     "metadata": {},
     "output_type": "execute_result",
     "execution_count": 8
    }
   ],
   "source": [
    "data.head()"
   ]
  },
  {
   "cell_type": "markdown",
   "metadata": {},
   "source": [
    "to answering questions about this data in a few lines of code:\n",
    "\n",
    "**Does the air pollution show a decreasing trend over the years?**"
   ]
  },
  {
   "cell_type": "code",
   "execution_count": 9,
   "metadata": {
    "pycharm": {
     "is_executing": false,
     "name": "#%%\n"
    }
   },
   "outputs": [
    {
     "data": {
      "text/plain": "<matplotlib.axes._subplots.AxesSubplot at 0x119727860>"
     },
     "metadata": {},
     "output_type": "execute_result",
     "execution_count": 9
    },
    {
     "data": {
      "text/plain": "<Figure size 432x288 with 1 Axes>",
      "image/png": "[encoded data removed]"
     },
     "metadata": {
      "needs_background": "light"
     },
     "output_type": "display_data"
    }
   ],
   "source": [
    "data['1999':].resample('M').mean().plot(ylim=[0,120])"
   ]
  },
  {
   "cell_type": "code",
   "execution_count": 10,
   "metadata": {
    "pycharm": {
     "is_executing": false,
     "name": "#%%\n"
    }
   },
   "outputs": [
    {
     "data": {
      "text/plain": "<matplotlib.axes._subplots.AxesSubplot at 0x11d93a3c8>"
     },
     "metadata": {},
     "output_type": "execute_result",
     "execution_count": 10
    },
    {
     "data": {
      "text/plain": "<Figure size 432x288 with 1 Axes>",
      "image/png": "[encoded data removed]"
     },
     "metadata": {
      "needs_background": "light"
     },
     "output_type": "display_data"
    }
   ],
   "source": [
    "data['1999':].resample('A').mean().plot(ylim=[0,100])"
   ]
  },
  {
   "cell_type": "markdown",
   "metadata": {},
   "source": [
    "**What is the difference in diurnal profile between weekdays and weekend?**"
   ]
  },
  {
   "cell_type": "code",
   "execution_count": 11,
   "metadata": {
    "pycharm": {
     "is_executing": false,
     "name": "#%%\n"
    }
   },
   "outputs": [
    {
     "data": {
      "text/plain": "<matplotlib.axes._subplots.AxesSubplot at 0x11d6ccb70>"
     },
     "metadata": {},
     "output_type": "execute_result",
     "execution_count": 11
    },
    {
     "data": {
      "text/plain": "<Figure size 432x288 with 1 Axes>",
      "image/png": "[encoded data removed]"
     },
     "metadata": {
      "needs_background": "light"
     },
     "output_type": "display_data"
    }
   ],
   "source": [
    "data['weekday'] = data.index.weekday\n",
    "data['weekend'] = data['weekday'].isin([5, 6])\n",
    "data_weekend = data.groupby(['weekend', data.index.hour])['BASCH'].mean().unstack(level=0)\n",
    "data_weekend.plot()"
   ]
  },
  {
   "cell_type": "markdown",
   "metadata": {},
   "source": [
    "# 1. Pandas: data analysis in python\n",
    "\n",
    "For data-intensive work in Python the [Pandas](http://pandas.pydata.org) library has become essential.\n",
    "\n",
    "What is `pandas`?\n",
    "\n",
    "* Pandas can be thought of as *NumPy arrays with labels* for rows and columns, and better support for heterogeneous data types, but it's also much, much more than that.\n",
    "* Pandas can also be thought of as `R`'s `data.frame` in Python.\n",
    "* Powerful for working with missing data, working with time series data, for reading and writing your data, for reshaping, grouping, merging your data, ...\n",
    "\n",
    "It's documentation: http://pandas.pydata.org/pandas-docs/stable/\n",
    "\n",
    "\n",
    "** When do you need pandas? **\n",
    "\n",
    "When working with **tabular or structured data** (like R dataframe, SQL table, Excel spreadsheet, ...):\n",
    "\n",
    "- Import data\n",
    "- Clean up messy data\n",
    "- Explore data, gain insight into data\n",
    "- Process and prepare your data for analysis\n",
    "- Analyse your data (together with scikit-learn, statsmodels, ...)\n",
    "\n",
    "<div class=\"alert alert-warning\">\n",
    "<b>ATTENTION!</b>: <br><br>\n",
    "\n",
    "Pandas is great for working with heterogeneous and tabular 1D/2D data, but not all types of data fit in such structures!\n",
    "<ul>\n",
    "<li>When working with array data (e.g. images, numerical algorithms): just stick with numpy</li>\n",
    "<li>When working with multidimensional labeled data (e.g. climate data): have a look at [xarray](http://xarray.pydata.org/en/stable/)</li>\n",
    "</ul>\n",
    "</div>"
   ]
  },
  {
   "cell_type": "markdown",
   "metadata": {},
   "source": [
    "# 2. `Series` objects\n",
    "The `pandas` library contains these useful data structures:\n",
    "* `Series` objects, that we will discuss now. A `Series` object is 1D array, similar to a column in a spreadsheet (with a column name and row labels).\n",
    "* `DataFrame` objects. This is a 2D table, similar to a spreadsheet (with column names and row labels)."
   ]
  },
  {
   "cell_type": "markdown",
   "metadata": {},
   "source": [
    "## 2.1 Creating a `Series`\n",
    "Let's start by creating our first `Series` object!"
   ]
  },
  {
   "cell_type": "code",
   "execution_count": 12,
   "metadata": {
    "pycharm": {
     "is_executing": false,
     "name": "#%%\n"
    }
   },
   "outputs": [
    {
     "data": {
      "text/plain": "0    2\n1   -1\n2    3\n3    5\ndtype: int64"
     },
     "metadata": {},
     "output_type": "execute_result",
     "execution_count": 12
    }
   ],
   "source": [
    "s = pd.Series([2,-1,3,5])\n",
    "s"
   ]
  },
  {
   "cell_type": "markdown",
   "metadata": {},
   "source": [
    "## 2.2 Similarities to a 1D `ndarray`\n",
    "`Series` objects behave much like one-dimensional NumPy `ndarray`s, and you can often pass them as parameters to NumPy functions:"
   ]
  },
  {
   "cell_type": "code",
   "execution_count": 13,
   "metadata": {
    "pycharm": {
     "is_executing": false,
     "name": "#%%\n"
    }
   },
   "outputs": [
    {
     "data": {
      "text/plain": "0      7.389056\n1      0.367879\n2     20.085537\n3    148.413159\ndtype: float64"
     },
     "metadata": {},
     "output_type": "execute_result",
     "execution_count": 13
    }
   ],
   "source": [
    "import numpy as np\n",
    "np.exp(s)"
   ]
  },
  {
   "cell_type": "markdown",
   "metadata": {},
   "source": [
    "Arithmetic operations on `Series` are also possible, and they apply *elementwise*, just like for `ndarray`s:"
   ]
  },
  {
   "cell_type": "code",
   "execution_count": 14,
   "metadata": {
    "pycharm": {
     "is_executing": false,
     "name": "#%%\n"
    }
   },
   "outputs": [
    {
     "data": {
      "text/plain": "0    1002\n1    1999\n2    3003\n3    4005\ndtype: int64"
     },
     "metadata": {},
     "output_type": "execute_result",
     "execution_count": 14
    }
   ],
   "source": [
    "s + [1000,2000,3000,4000]"
   ]
  },
  {
   "cell_type": "markdown",
   "metadata": {},
   "source": [
    "Similar to NumPy, if you add a single number to a `Series`, that number is added to all items in the `Series`. This is called * broadcasting*:"
   ]
  },
  {
   "cell_type": "code",
   "execution_count": 15,
   "metadata": {
    "pycharm": {
     "is_executing": false,
     "name": "#%%\n"
    }
   },
   "outputs": [
    {
     "data": {
      "text/plain": "0    1002\n1     999\n2    1003\n3    1005\ndtype: int64"
     },
     "metadata": {},
     "output_type": "execute_result",
     "execution_count": 15
    }
   ],
   "source": [
    "s + 1000"
   ]
  },
  {
   "cell_type": "markdown",
   "metadata": {},
   "source": [
    "The same is true for all binary operations such as `*` or `/`, and even conditional operations:"
   ]
  },
  {
   "cell_type": "code",
   "execution_count": 16,
   "metadata": {
    "pycharm": {
     "is_executing": false,
     "name": "#%%\n"
    }
   },
   "outputs": [
    {
     "data": {
      "text/plain": "0    False\n1     True\n2    False\n3    False\ndtype: bool"
     },
     "metadata": {},
     "output_type": "execute_result",
     "execution_count": 16
    }
   ],
   "source": [
    "s < 0"
   ]
  },
  {
   "cell_type": "markdown",
   "metadata": {},
   "source": [
    "## 2.3 Index labels\n",
    "Each item in a `Series` object has a unique identifier called the *index label*. By default, it is simply the rank of the item in the `Series` (starting at `0`) but you can also set the index labels manually:"
   ]
  },
  {
   "cell_type": "code",
   "execution_count": 17,
   "metadata": {
    "pycharm": {
     "is_executing": false,
     "name": "#%%\n"
    }
   },
   "outputs": [
    {
     "data": {
      "text/plain": "alice       68\nbob         83\ncharles    112\ndarwin      68\ndtype: int64"
     },
     "metadata": {},
     "output_type": "execute_result",
     "execution_count": 17
    }
   ],
   "source": [
    "s2 = pd.Series([68, 83, 112, 68], index=[\"alice\", \"bob\", \"charles\", \"darwin\"])\n",
    "s2"
   ]
  },
  {
   "cell_type": "markdown",
   "metadata": {},
   "source": [
    "You can then use the `Series` just like a `dict`:"
   ]
  },
  {
   "cell_type": "code",
   "execution_count": 18,
   "metadata": {
    "pycharm": {
     "is_executing": false,
     "name": "#%%\n"
    }
   },
   "outputs": [
    {
     "data": {
      "text/plain": "83"
     },
     "metadata": {},
     "output_type": "execute_result",
     "execution_count": 18
    }
   ],
   "source": [
    "s2[\"bob\"]"
   ]
  },
  {
   "cell_type": "markdown",
   "metadata": {},
   "source": [
    "You can still access the items by integer location, like in a regular array:"
   ]
  },
  {
   "cell_type": "code",
   "execution_count": 19,
   "metadata": {
    "pycharm": {
     "is_executing": false,
     "name": "#%%\n"
    }
   },
   "outputs": [
    {
     "data": {
      "text/plain": "83"
     },
     "metadata": {},
     "output_type": "execute_result",
     "execution_count": 19
    }
   ],
   "source": [
    "s2[1]"
   ]
  },
  {
   "cell_type": "markdown",
   "metadata": {},
   "source": [
    "To make it clear when you are accessing by label or by integer location, it is recommended to always use the `loc` attribute when accessing by label, and the `iloc` attribute when accessing by integer location:"
   ]
  },
  {
   "cell_type": "code",
   "execution_count": 20,
   "metadata": {
    "pycharm": {
     "is_executing": false,
     "name": "#%%\n"
    }
   },
   "outputs": [
    {
     "data": {
      "text/plain": "83"
     },
     "metadata": {},
     "output_type": "execute_result",
     "execution_count": 20
    }
   ],
   "source": [
    "s2.loc[\"bob\"]"
   ]
  },
  {
   "cell_type": "code",
   "execution_count": 21,
   "metadata": {
    "pycharm": {
     "is_executing": false,
     "name": "#%%\n"
    }
   },
   "outputs": [
    {
     "data": {
      "text/plain": "83"
     },
     "metadata": {},
     "output_type": "execute_result",
     "execution_count": 21
    }
   ],
   "source": [
    "s2.iloc[1]"
   ]
  },
  {
   "cell_type": "markdown",
   "metadata": {},
   "source": [
    "Slicing a `Series` also slices the index labels:"
   ]
  },
  {
   "cell_type": "code",
   "execution_count": 22,
   "metadata": {
    "pycharm": {
     "is_executing": false,
     "name": "#%%\n"
    }
   },
   "outputs": [
    {
     "data": {
      "text/plain": "bob         83\ncharles    112\ndtype: int64"
     },
     "metadata": {},
     "output_type": "execute_result",
     "execution_count": 22
    }
   ],
   "source": [
    "s2.iloc[1:3]\n"
   ]
  },
  {
   "cell_type": "markdown",
   "metadata": {},
   "source": [
    "## 2.4 Init from `dict`\n",
    "You can create a `Series` object from a `dict`. The keys will be used as index labels:"
   ]
  },
  {
   "cell_type": "code",
   "execution_count": 23,
   "metadata": {
    "pycharm": {
     "is_executing": false,
     "name": "#%%\n"
    }
   },
   "outputs": [
    {
     "data": {
      "text/plain": "alice     68\nbob       83\ncolin     86\ndarwin    68\ndtype: int64"
     },
     "metadata": {},
     "output_type": "execute_result",
     "execution_count": 23
    }
   ],
   "source": [
    "weights = {\"alice\": 68, \"bob\": 83, \"colin\": 86, \"darwin\": 68}\n",
    "s3 = pd.Series(weights)\n",
    "s3"
   ]
  },
  {
   "cell_type": "markdown",
   "metadata": {},
   "source": [
    "You can control which elements you want to include in the `Series` and in what order by explicitly specifying the desired `index`:"
   ]
  },
  {
   "cell_type": "code",
   "execution_count": 24,
   "metadata": {
    "pycharm": {
     "is_executing": false,
     "name": "#%%\n"
    }
   },
   "outputs": [
    {
     "data": {
      "text/plain": "colin    86\nalice    68\ndtype: int64"
     },
     "metadata": {},
     "output_type": "execute_result",
     "execution_count": 24
    }
   ],
   "source": [
    "s4 = pd.Series(weights, index = [\"colin\", \"alice\"])\n",
    "s4"
   ]
  },
  {
   "cell_type": "markdown",
   "metadata": {},
   "source": [
    "## 2.5 Init with a scalar\n",
    "You can also initialize a `Series` object using a scalar and a list of index labels: all items will be set to the scalar."
   ]
  },
  {
   "cell_type": "code",
   "execution_count": 25,
   "metadata": {
    "pycharm": {
     "is_executing": false,
     "name": "#%%\n"
    }
   },
   "outputs": [
    {
     "data": {
      "text/plain": "life          42\nuniverse      42\neverything    42\ndtype: int64"
     },
     "metadata": {},
     "output_type": "execute_result",
     "execution_count": 25
    }
   ],
   "source": [
    "meaning = pd.Series(42, [\"life\", \"universe\", \"everything\"])\n",
    "meaning"
   ]
  },
  {
   "cell_type": "markdown",
   "metadata": {},
   "source": [
    "## 2.6 Plotting a `Series`\n",
    "Pandas makes it easy to plot `Series` data using matplotlib (for more details on matplotlib, check out the [matplotlib tutorial](tools_matplotlib.ipynb)). Just import matplotlib and call the `plot()` method:"
   ]
  },
  {
   "cell_type": "code",
   "execution_count": 26,
   "metadata": {
    "pycharm": {
     "is_executing": false,
     "name": "#%%\n"
    }
   },
   "outputs": [
    {
     "data": {
      "text/plain": "<Figure size 432x288 with 1 Axes>",
      "image/png": "[encoded data removed]"
     },
     "metadata": {
      "needs_background": "light"
     },
     "output_type": "display_data"
    }
   ],
   "source": [
    "%matplotlib inline\n",
    "import matplotlib.pyplot as plt\n",
    "temperatures = [4.4,5.1,6.1,6.2,6.1,6.1,5.7,5.2,4.7,4.1,3.9,3.5]\n",
    "s7 = pd.Series(temperatures, name=\"Temperature\")\n",
    "s7.plot()\n",
    "plt.show()"
   ]
  },
  {
   "cell_type": "markdown",
   "metadata": {},
   "source": [
    "There are *many* options for plotting your data. It is not necessary to list them all here: if you need a particular type of plot (histograms, pie charts, etc.), just look for it in the excellent [Visualization](http://pandas.pydata.org/pandas-docs/stable/visualization.html) section of pandas' documentation, and look at the example code."
   ]
  },
  {
   "cell_type": "markdown",
   "metadata": {},
   "source": [
    "## 2.7 EXERCISES `Series`\n",
    "\n",
    "<div class=\"alert alert-success\">\n",
    "\n",
    "<b>EXERCISES</b>:\n",
    "\n",
    " <ul>\n",
    "  <li>Write a Python program to convert a NumPy array to a Pandas series.</li>\n",
    "</ul>\n",
    " <ul>\n",
    "  <li>Write a Pandas program to convert a given Series to an array.</li>\n",
    "</ul>\n",
    "<ul>\n",
    "  <li>Write a Pandas program to convert Series of lists to one Series.</li>\n",
    "</ul>\n",
    "<ul>\n",
    "  <li>Write a Pandas program to add some data to an existing Series. </li>\n",
    "</ul>\n",
    "<ul>\n",
    "  <li>Write a Pandas program to create the mean and standard deviation of the data of a given Series.</li>\n",
    "</ul>\n",
    "</div>\n"
   ]
  },
  {
   "cell_type": "code",
   "execution_count": 27,
   "outputs": [
    {
     "name": "stdout",
     "text": [
      "NumPy array:\n[10 20 30 40 50]\n"
     ],
     "output_type": "stream"
    }
   ],
   "source": [
    "np_array = np.array([10, 20, 30, 40, 50])\n",
    "print(\"NumPy array:\")\n",
    "print(np_array)"
   ],
   "metadata": {
    "collapsed": false,
    "pycharm": {
     "name": "#%%\n",
     "is_executing": false
    }
   }
  },
  {
   "cell_type": "code",
   "execution_count": 28,
   "outputs": [
    {
     "name": "stdout",
     "text": [
      "Original Data Series:\n0       100\n1       200\n2    python\n3    300.12\n4       400\ndtype: object\n"
     ],
     "output_type": "stream"
    }
   ],
   "source": [
    "s1 = pd.Series(['100', '200', 'python', '300.12', '400'])\n",
    "print(\"Original Data Series:\")\n",
    "print(s1)"
   ],
   "metadata": {
    "collapsed": false,
    "pycharm": {
     "name": "#%%\n",
     "is_executing": false
    }
   }
  },
  {
   "cell_type": "code",
   "execution_count": 29,
   "outputs": [
    {
     "name": "stdout",
     "text": [
      "Original Series of list\n0    [Red, Green, White]\n1           [Red, Black]\n2               [Yellow]\ndtype: object\n"
     ],
     "output_type": "stream"
    }
   ],
   "source": [
    "s = pd.Series([\n",
    "    ['Red', 'Green', 'White'],\n",
    "    ['Red', 'Black'],\n",
    "    ['Yellow']])\n",
    "print(\"Original Series of list\")\n",
    "print(s)"
   ],
   "metadata": {
    "collapsed": false,
    "pycharm": {
     "name": "#%%\n",
     "is_executing": false
    }
   }
  },
  {
   "cell_type": "code",
   "execution_count": 30,
   "outputs": [
    {
     "name": "stdout",
     "text": [
      "Original Data Series:\n0       100\n1       200\n2    python\n3    300.12\n4       400\ndtype: object\n"
     ],
     "output_type": "stream"
    }
   ],
   "source": [
    "s = pd.Series(['100', '200', 'python', '300.12', '400'])\n",
    "print(\"Original Data Series:\")\n",
    "print(s)"
   ],
   "metadata": {
    "collapsed": false,
    "pycharm": {
     "name": "#%%\n",
     "is_executing": false
    }
   }
  },
  {
   "cell_type": "code",
   "execution_count": 31,
   "outputs": [
    {
     "name": "stdout",
     "text": [
      "Original Data Series:\n0     1\n1     2\n2     3\n3     4\n4     5\n5     6\n6     7\n7     8\n8     9\n9     5\n10    3\ndtype: int64\n"
     ],
     "output_type": "stream"
    }
   ],
   "source": [
    "s = pd.Series(data = [1,2,3,4,5,6,7,8,9,5,3])\n",
    "print(\"Original Data Series:\")\n",
    "print(s)"
   ],
   "metadata": {
    "collapsed": false,
    "pycharm": {
     "name": "#%%\n",
     "is_executing": false
    }
   }
  },
  {
   "cell_type": "markdown",
   "metadata": {},
   "source": [
    "# 3. `DataFrame` objects\n",
    "A DataFrame object represents a spreadsheet, with cell values, column names and row index labels. You can define expressions to compute columns based on other columns, create pivot-tables, group rows, draw graphs, etc. You can see `DataFrame`s as dictionaries of `Series`.\n",
    "\n",
    "## 3.1 Creating a `DataFrame`\n",
    "You can create a DataFrame by passing a dictionary of `Series` objects:"
   ]
  },
  {
   "cell_type": "code",
   "execution_count": 32,
   "metadata": {
    "pycharm": {
     "is_executing": false,
     "name": "#%%\n"
    }
   },
   "outputs": [
    {
     "data": {
      "text/plain": "         weight  birthyear  children    hobby\nalice        68       1985       NaN   Biking\nbob          83       1984       3.0  Dancing\ncharles     112       1992       0.0      NaN",
      "text/html": "<div>\n<style scoped>\n    .dataframe tbody tr th:only-of-type {\n        vertical-align: middle;\n    }\n\n    .dataframe tbody tr th {\n        vertical-align: top;\n    }\n\n    .dataframe thead th {\n        text-align: right;\n    }\n</style>\n<table border=\"1\" class=\"dataframe\">\n  <thead>\n    <tr style=\"text-align: right;\">\n      <th></th>\n      <th>weight</th>\n      <th>birthyear</th>\n      <th>children</th>\n      <th>hobby</th>\n    </tr>\n  </thead>\n  <tbody>\n    <tr>\n      <td>alice</td>\n      <td>68</td>\n      <td>1985</td>\n      <td>NaN</td>\n      <td>Biking</td>\n    </tr>\n    <tr>\n      <td>bob</td>\n      <td>83</td>\n      <td>1984</td>\n      <td>3.0</td>\n      <td>Dancing</td>\n    </tr>\n    <tr>\n      <td>charles</td>\n      <td>112</td>\n      <td>1992</td>\n      <td>0.0</td>\n      <td>NaN</td>\n    </tr>\n  </tbody>\n</table>\n</div>"
     },
     "metadata": {},
     "output_type": "execute_result",
     "execution_count": 32
    }
   ],
   "source": [
    "people_dict = {\n",
    "    \"weight\": pd.Series([68, 83, 112], index=[\"alice\", \"bob\", \"charles\"]),\n",
    "    \"birthyear\": pd.Series([1984, 1985, 1992], index=[\"bob\", \"alice\", \"charles\"], name=\"year\"),\n",
    "    \"children\": pd.Series([0, 3], index=[\"charles\", \"bob\"]),\n",
    "    \"hobby\": pd.Series([\"Biking\", \"Dancing\"], index=[\"alice\", \"bob\"]),\n",
    "}\n",
    "people = pd.DataFrame(people_dict)\n",
    "people"
   ]
  },
  {
   "cell_type": "markdown",
   "metadata": {},
   "source": [
    "A few things to note:\n",
    "* the `Series` were automatically aligned based on their index,\n",
    "* missing values are represented as `NaN`,\n",
    "* `Series` names are ignored (the name `\"year\"` was dropped),\n",
    "* `DataFrame`s are displayed nicely in Jupyter notebooks, woohoo!"
   ]
  },
  {
   "cell_type": "markdown",
   "metadata": {},
   "source": [
    "You can access columns pretty much as you would expect. They are returned as `Series` objects:"
   ]
  },
  {
   "cell_type": "code",
   "execution_count": 33,
   "metadata": {
    "pycharm": {
     "is_executing": false,
     "name": "#%%\n"
    }
   },
   "outputs": [
    {
     "data": {
      "text/plain": "alice      1985\nbob        1984\ncharles    1992\nName: birthyear, dtype: int64"
     },
     "metadata": {},
     "output_type": "execute_result",
     "execution_count": 33
    }
   ],
   "source": [
    "people[\"birthyear\"]"
   ]
  },
  {
   "cell_type": "markdown",
   "metadata": {},
   "source": [
    "You can also get multiple columns at once:"
   ]
  },
  {
   "cell_type": "code",
   "execution_count": 34,
   "metadata": {
    "pycharm": {
     "is_executing": false,
     "name": "#%%\n"
    }
   },
   "outputs": [
    {
     "data": {
      "text/plain": "         birthyear    hobby\nalice         1985   Biking\nbob           1984  Dancing\ncharles       1992      NaN",
      "text/html": "<div>\n<style scoped>\n    .dataframe tbody tr th:only-of-type {\n        vertical-align: middle;\n    }\n\n    .dataframe tbody tr th {\n        vertical-align: top;\n    }\n\n    .dataframe thead th {\n        text-align: right;\n    }\n</style>\n<table border=\"1\" class=\"dataframe\">\n  <thead>\n    <tr style=\"text-align: right;\">\n      <th></th>\n      <th>birthyear</th>\n      <th>hobby</th>\n    </tr>\n  </thead>\n  <tbody>\n    <tr>\n      <td>alice</td>\n      <td>1985</td>\n      <td>Biking</td>\n    </tr>\n    <tr>\n      <td>bob</td>\n      <td>1984</td>\n      <td>Dancing</td>\n    </tr>\n    <tr>\n      <td>charles</td>\n      <td>1992</td>\n      <td>NaN</td>\n    </tr>\n  </tbody>\n</table>\n</div>"
     },
     "metadata": {},
     "output_type": "execute_result",
     "execution_count": 34
    }
   ],
   "source": [
    "people[[\"birthyear\", \"hobby\"]]"
   ]
  },
  {
   "cell_type": "markdown",
   "metadata": {},
   "source": [
    "If you pass a list of columns and/or index row labels to the `DataFrame` constructor, it will guarantee that these columns and/or rows will exist, in that order, and no other column/row will exist. For example:"
   ]
  },
  {
   "cell_type": "code",
   "execution_count": 35,
   "metadata": {
    "pycharm": {
     "is_executing": false,
     "name": "#%%\n"
    }
   },
   "outputs": [
    {
     "data": {
      "text/plain": "        birthyear  weight height\nbob        1984.0    83.0    NaN\nalice      1985.0    68.0    NaN\neugene        NaN     NaN    NaN",
      "text/html": "<div>\n<style scoped>\n    .dataframe tbody tr th:only-of-type {\n        vertical-align: middle;\n    }\n\n    .dataframe tbody tr th {\n        vertical-align: top;\n    }\n\n    .dataframe thead th {\n        text-align: right;\n    }\n</style>\n<table border=\"1\" class=\"dataframe\">\n  <thead>\n    <tr style=\"text-align: right;\">\n      <th></th>\n      <th>birthyear</th>\n      <th>weight</th>\n      <th>height</th>\n    </tr>\n  </thead>\n  <tbody>\n    <tr>\n      <td>bob</td>\n      <td>1984.0</td>\n      <td>83.0</td>\n      <td>NaN</td>\n    </tr>\n    <tr>\n      <td>alice</td>\n      <td>1985.0</td>\n      <td>68.0</td>\n      <td>NaN</td>\n    </tr>\n    <tr>\n      <td>eugene</td>\n      <td>NaN</td>\n      <td>NaN</td>\n      <td>NaN</td>\n    </tr>\n  </tbody>\n</table>\n</div>"
     },
     "metadata": {},
     "output_type": "execute_result",
     "execution_count": 35
    }
   ],
   "source": [
    "d2 = pd.DataFrame(\n",
    "        people_dict,\n",
    "        columns=[\"birthyear\", \"weight\", \"height\"],\n",
    "        index=[\"bob\", \"alice\", \"eugene\"]\n",
    "     )\n",
    "d2"
   ]
  },
  {
   "cell_type": "markdown",
   "metadata": {},
   "source": [
    "Another convenient way to create a `DataFrame` is to pass all the values to the constructor as an `ndarray`, or a list of lists, and specify the column names and row index labels separately:"
   ]
  },
  {
   "cell_type": "code",
   "execution_count": 36,
   "metadata": {
    "pycharm": {
     "is_executing": false,
     "name": "#%%\n"
    }
   },
   "outputs": [
    {
     "data": {
      "text/plain": "         birthyear  children    hobby  weight\nalice         1985       NaN   Biking      68\nbob           1984       3.0  Dancing      83\ncharles       1992       0.0      NaN     112",
      "text/html": "<div>\n<style scoped>\n    .dataframe tbody tr th:only-of-type {\n        vertical-align: middle;\n    }\n\n    .dataframe tbody tr th {\n        vertical-align: top;\n    }\n\n    .dataframe thead th {\n        text-align: right;\n    }\n</style>\n<table border=\"1\" class=\"dataframe\">\n  <thead>\n    <tr style=\"text-align: right;\">\n      <th></th>\n      <th>birthyear</th>\n      <th>children</th>\n      <th>hobby</th>\n      <th>weight</th>\n    </tr>\n  </thead>\n  <tbody>\n    <tr>\n      <td>alice</td>\n      <td>1985</td>\n      <td>NaN</td>\n      <td>Biking</td>\n      <td>68</td>\n    </tr>\n    <tr>\n      <td>bob</td>\n      <td>1984</td>\n      <td>3.0</td>\n      <td>Dancing</td>\n      <td>83</td>\n    </tr>\n    <tr>\n      <td>charles</td>\n      <td>1992</td>\n      <td>0.0</td>\n      <td>NaN</td>\n      <td>112</td>\n    </tr>\n  </tbody>\n</table>\n</div>"
     },
     "metadata": {},
     "output_type": "execute_result",
     "execution_count": 36
    }
   ],
   "source": [
    "values = [\n",
    "            [1985, np.nan, \"Biking\",   68],\n",
    "            [1984, 3,      \"Dancing\",  83],\n",
    "            [1992, 0,      np.nan,    112]\n",
    "         ]\n",
    "d3 = pd.DataFrame(\n",
    "        values,\n",
    "        columns=[\"birthyear\", \"children\", \"hobby\", \"weight\"],\n",
    "        index=[\"alice\", \"bob\", \"charles\"]\n",
    "     )\n",
    "d3"
   ]
  },
  {
   "cell_type": "markdown",
   "metadata": {},
   "source": [
    "To specify missing values, you can either use `np.nan` or NumPy's masked arrays:"
   ]
  },
  {
   "cell_type": "code",
   "execution_count": 37,
   "metadata": {
    "pycharm": {
     "is_executing": false,
     "name": "#%%\n"
    }
   },
   "outputs": [
    {
     "data": {
      "text/plain": "        birthyear children    hobby weight\nalice        1985      NaN   Biking     68\nbob          1984        3  Dancing     83\ncharles      1992        0      NaN    112",
      "text/html": "<div>\n<style scoped>\n    .dataframe tbody tr th:only-of-type {\n        vertical-align: middle;\n    }\n\n    .dataframe tbody tr th {\n        vertical-align: top;\n    }\n\n    .dataframe thead th {\n        text-align: right;\n    }\n</style>\n<table border=\"1\" class=\"dataframe\">\n  <thead>\n    <tr style=\"text-align: right;\">\n      <th></th>\n      <th>birthyear</th>\n      <th>children</th>\n      <th>hobby</th>\n      <th>weight</th>\n    </tr>\n  </thead>\n  <tbody>\n    <tr>\n      <td>alice</td>\n      <td>1985</td>\n      <td>NaN</td>\n      <td>Biking</td>\n      <td>68</td>\n    </tr>\n    <tr>\n      <td>bob</td>\n      <td>1984</td>\n      <td>3</td>\n      <td>Dancing</td>\n      <td>83</td>\n    </tr>\n    <tr>\n      <td>charles</td>\n      <td>1992</td>\n      <td>0</td>\n      <td>NaN</td>\n      <td>112</td>\n    </tr>\n  </tbody>\n</table>\n</div>"
     },
     "metadata": {},
     "output_type": "execute_result",
     "execution_count": 37
    }
   ],
   "source": [
    "masked_array = np.ma.asarray(values, dtype=np.object)\n",
    "masked_array[(0, 2), (1, 2)] = np.ma.masked\n",
    "d3 = pd.DataFrame(\n",
    "        masked_array,\n",
    "        columns=[\"birthyear\", \"children\", \"hobby\", \"weight\"],\n",
    "        index=[\"alice\", \"bob\", \"charles\"]\n",
    "     )\n",
    "d3"
   ]
  },
  {
   "cell_type": "markdown",
   "metadata": {},
   "source": [
    "Instead of an `ndarray`, you can also pass a `DataFrame` object:"
   ]
  },
  {
   "cell_type": "code",
   "execution_count": 38,
   "metadata": {
    "pycharm": {
     "is_executing": false,
     "name": "#%%\n"
    }
   },
   "outputs": [
    {
     "data": {
      "text/plain": "         hobby children\nalice   Biking      NaN\nbob    Dancing        3",
      "text/html": "<div>\n<style scoped>\n    .dataframe tbody tr th:only-of-type {\n        vertical-align: middle;\n    }\n\n    .dataframe tbody tr th {\n        vertical-align: top;\n    }\n\n    .dataframe thead th {\n        text-align: right;\n    }\n</style>\n<table border=\"1\" class=\"dataframe\">\n  <thead>\n    <tr style=\"text-align: right;\">\n      <th></th>\n      <th>hobby</th>\n      <th>children</th>\n    </tr>\n  </thead>\n  <tbody>\n    <tr>\n      <td>alice</td>\n      <td>Biking</td>\n      <td>NaN</td>\n    </tr>\n    <tr>\n      <td>bob</td>\n      <td>Dancing</td>\n      <td>3</td>\n    </tr>\n  </tbody>\n</table>\n</div>"
     },
     "metadata": {},
     "output_type": "execute_result",
     "execution_count": 38
    }
   ],
   "source": [
    "d4 = pd.DataFrame(\n",
    "         d3,\n",
    "         columns=[\"hobby\", \"children\"],\n",
    "         index=[\"alice\", \"bob\"]\n",
    "     )\n",
    "d4"
   ]
  },
  {
   "cell_type": "markdown",
   "metadata": {},
   "source": [
    "It is also possible to create a `DataFrame` with a dictionary (or list) of dictionaries (or list):"
   ]
  },
  {
   "cell_type": "code",
   "execution_count": 39,
   "metadata": {
    "pycharm": {
     "is_executing": false,
     "name": "#%%\n"
    }
   },
   "outputs": [
    {
     "data": {
      "text/plain": "         birthyear    hobby  weight  children\nalice         1985   Biking      68       NaN\nbob           1984  Dancing      83       3.0\ncharles       1992      NaN     112       0.0",
      "text/html": "<div>\n<style scoped>\n    .dataframe tbody tr th:only-of-type {\n        vertical-align: middle;\n    }\n\n    .dataframe tbody tr th {\n        vertical-align: top;\n    }\n\n    .dataframe thead th {\n        text-align: right;\n    }\n</style>\n<table border=\"1\" class=\"dataframe\">\n  <thead>\n    <tr style=\"text-align: right;\">\n      <th></th>\n      <th>birthyear</th>\n      <th>hobby</th>\n      <th>weight</th>\n      <th>children</th>\n    </tr>\n  </thead>\n  <tbody>\n    <tr>\n      <td>alice</td>\n      <td>1985</td>\n      <td>Biking</td>\n      <td>68</td>\n      <td>NaN</td>\n    </tr>\n    <tr>\n      <td>bob</td>\n      <td>1984</td>\n      <td>Dancing</td>\n      <td>83</td>\n      <td>3.0</td>\n    </tr>\n    <tr>\n      <td>charles</td>\n      <td>1992</td>\n      <td>NaN</td>\n      <td>112</td>\n      <td>0.0</td>\n    </tr>\n  </tbody>\n</table>\n</div>"
     },
     "metadata": {},
     "output_type": "execute_result",
     "execution_count": 39
    }
   ],
   "source": [
    "people = pd.DataFrame({\n",
    "    \"birthyear\": {\"alice\":1985, \"bob\": 1984, \"charles\": 1992},\n",
    "    \"hobby\": {\"alice\":\"Biking\", \"bob\": \"Dancing\"},\n",
    "    \"weight\": {\"alice\":68, \"bob\": 83, \"charles\": 112},\n",
    "    \"children\": {\"bob\": 3, \"charles\": 0}\n",
    "})\n",
    "people\n",
    "\n"
   ]
  },
  {
   "cell_type": "markdown",
   "metadata": {
    "pycharm": {
     "name": "#%% md\n"
    }
   },
   "source": [
    "## 3.1 EXERCISES Creating a `DataFrame`\n",
    "\n",
    "<div class=\"alert alert-success\">\n",
    "\n",
    "<b>EXERCISE</b>:\n",
    "\n",
    "<ul>\n",
    "  <li>Write a Pandas program to create and display a DataFrame from a specified dictionary data which has the index labels.</li>\n",
    "</ul>\n",
    "\n",
    "</div>"
   ]
  },
  {
   "cell_type": "code",
   "execution_count": 40,
   "outputs": [],
   "source": [
    "exam_data  = {'name': ['Anastasia', 'Dima', 'Katherine', 'James', 'Emily', 'Michael', 'Matthew', 'Laura', 'Kevin', 'Jonas'],\n",
    "        'score': [12.5, 9, 16.5, np.nan, 9, 20, 14.5, np.nan, 8, 19],\n",
    "        'attempts': [1, 3, 2, 3, 2, 3, 1, 1, 2, 1],\n",
    "        'qualify': ['yes', 'no', 'yes', 'no', 'no', 'yes', 'yes', 'no', 'no', 'yes']}\n",
    "labels = ['a', 'b', 'c', 'd', 'e', 'f', 'g', 'h', 'i', 'j']"
   ],
   "metadata": {
    "collapsed": false,
    "pycharm": {
     "name": "#%%\n",
     "is_executing": false
    }
   }
  },
  {
   "cell_type": "markdown",
   "metadata": {
    "pycharm": {
     "name": "#%% md\n"
    }
   },
   "source": [
    "## 3.2 Overview functions\n",
    "When dealing with large `DataFrames`, it is useful to get a quick overview of its content. Pandas offers a few functions for this. First, let's create a large `DataFrame` with a mix of numeric values, missing values and text values. Notice how Jupyter displays only the corners of the `DataFrame`:"
   ]
  },
  {
   "cell_type": "code",
   "execution_count": 41,
   "metadata": {
    "pycharm": {
     "is_executing": false,
     "name": "#%%\n"
    }
   },
   "outputs": [
    {
     "data": {
      "text/plain": "         A     B     C some_text      D      E      F     G      H      I  \\\n0      NaN  11.0  44.0    Blabla   99.0    NaN   88.0  22.0  165.0  143.0   \n1     11.0  22.0  55.0    Blabla  110.0    NaN   99.0  33.0    NaN  154.0   \n2     22.0  33.0  66.0    Blabla  121.0   11.0  110.0  44.0    NaN  165.0   \n3     33.0  44.0  77.0    Blabla  132.0   22.0  121.0  55.0   11.0    NaN   \n4     44.0  55.0  88.0    Blabla  143.0   33.0  132.0  66.0   22.0    NaN   \n...    ...   ...   ...       ...    ...    ...    ...   ...    ...    ...   \n9995   NaN   NaN  33.0    Blabla   88.0  165.0   77.0  11.0  154.0  132.0   \n9996   NaN  11.0  44.0    Blabla   99.0    NaN   88.0  22.0  165.0  143.0   \n9997  11.0  22.0  55.0    Blabla  110.0    NaN   99.0  33.0    NaN  154.0   \n9998  22.0  33.0  66.0    Blabla  121.0   11.0  110.0  44.0    NaN  165.0   \n9999  33.0  44.0  77.0    Blabla  132.0   22.0  121.0  55.0   11.0    NaN   \n\n      ...     Q     R     S     T      U      V      W     X      Y      Z  \n0     ...  11.0   NaN  11.0  44.0   99.0    NaN   88.0  22.0  165.0  143.0  \n1     ...  22.0  11.0  22.0  55.0  110.0    NaN   99.0  33.0    NaN  154.0  \n2     ...  33.0  22.0  33.0  66.0  121.0   11.0  110.0  44.0    NaN  165.0  \n3     ...  44.0  33.0  44.0  77.0  132.0   22.0  121.0  55.0   11.0    NaN  \n4     ...  55.0  44.0  55.0  88.0  143.0   33.0  132.0  66.0   22.0    NaN  \n...   ...   ...   ...   ...   ...    ...    ...    ...   ...    ...    ...  \n9995  ...   NaN   NaN   NaN  33.0   88.0  165.0   77.0  11.0  154.0  132.0  \n9996  ...  11.0   NaN  11.0  44.0   99.0    NaN   88.0  22.0  165.0  143.0  \n9997  ...  22.0  11.0  22.0  55.0  110.0    NaN   99.0  33.0    NaN  154.0  \n9998  ...  33.0  22.0  33.0  66.0  121.0   11.0  110.0  44.0    NaN  165.0  \n9999  ...  44.0  33.0  44.0  77.0  132.0   22.0  121.0  55.0   11.0    NaN  \n\n[10000 rows x 27 columns]",
      "text/html": "<div>\n<style scoped>\n    .dataframe tbody tr th:only-of-type {\n        vertical-align: middle;\n    }\n\n    .dataframe tbody tr th {\n        vertical-align: top;\n    }\n\n    .dataframe thead th {\n        text-align: right;\n    }\n</style>\n<table border=\"1\" class=\"dataframe\">\n  <thead>\n    <tr style=\"text-align: right;\">\n      <th></th>\n      <th>A</th>\n      <th>B</th>\n      <th>C</th>\n      <th>some_text</th>\n      <th>D</th>\n      <th>E</th>\n      <th>F</th>\n      <th>G</th>\n      <th>H</th>\n      <th>I</th>\n      <th>...</th>\n      <th>Q</th>\n      <th>R</th>\n      <th>S</th>\n      <th>T</th>\n      <th>U</th>\n      <th>V</th>\n      <th>W</th>\n      <th>X</th>\n      <th>Y</th>\n      <th>Z</th>\n    </tr>\n  </thead>\n  <tbody>\n    <tr>\n      <td>0</td>\n      <td>NaN</td>\n      <td>11.0</td>\n      <td>44.0</td>\n      <td>Blabla</td>\n      <td>99.0</td>\n      <td>NaN</td>\n      <td>88.0</td>\n      <td>22.0</td>\n      <td>165.0</td>\n      <td>143.0</td>\n      <td>...</td>\n      <td>11.0</td>\n      <td>NaN</td>\n      <td>11.0</td>\n      <td>44.0</td>\n      <td>99.0</td>\n      <td>NaN</td>\n      <td>88.0</td>\n      <td>22.0</td>\n      <td>165.0</td>\n      <td>143.0</td>\n    </tr>\n    <tr>\n      <td>1</td>\n      <td>11.0</td>\n      <td>22.0</td>\n      <td>55.0</td>\n      <td>Blabla</td>\n      <td>110.0</td>\n      <td>NaN</td>\n      <td>99.0</td>\n      <td>33.0</td>\n      <td>NaN</td>\n      <td>154.0</td>\n      <td>...</td>\n      <td>22.0</td>\n      <td>11.0</td>\n      <td>22.0</td>\n      <td>55.0</td>\n      <td>110.0</td>\n      <td>NaN</td>\n      <td>99.0</td>\n      <td>33.0</td>\n      <td>NaN</td>\n      <td>154.0</td>\n    </tr>\n    <tr>\n      <td>2</td>\n      <td>22.0</td>\n      <td>33.0</td>\n      <td>66.0</td>\n      <td>Blabla</td>\n      <td>121.0</td>\n      <td>11.0</td>\n      <td>110.0</td>\n      <td>44.0</td>\n      <td>NaN</td>\n      <td>165.0</td>\n      <td>...</td>\n      <td>33.0</td>\n      <td>22.0</td>\n      <td>33.0</td>\n      <td>66.0</td>\n      <td>121.0</td>\n      <td>11.0</td>\n      <td>110.0</td>\n      <td>44.0</td>\n      <td>NaN</td>\n      <td>165.0</td>\n    </tr>\n    <tr>\n      <td>3</td>\n      <td>33.0</td>\n      <td>44.0</td>\n      <td>77.0</td>\n      <td>Blabla</td>\n      <td>132.0</td>\n      <td>22.0</td>\n      <td>121.0</td>\n      <td>55.0</td>\n      <td>11.0</td>\n      <td>NaN</td>\n      <td>...</td>\n      <td>44.0</td>\n      <td>33.0</td>\n      <td>44.0</td>\n      <td>77.0</td>\n      <td>132.0</td>\n      <td>22.0</td>\n      <td>121.0</td>\n      <td>55.0</td>\n      <td>11.0</td>\n      <td>NaN</td>\n    </tr>\n    <tr>\n      <td>4</td>\n      <td>44.0</td>\n      <td>55.0</td>\n      <td>88.0</td>\n      <td>Blabla</td>\n      <td>143.0</td>\n      <td>33.0</td>\n      <td>132.0</td>\n      <td>66.0</td>\n      <td>22.0</td>\n      <td>NaN</td>\n      <td>...</td>\n      <td>55.0</td>\n      <td>44.0</td>\n      <td>55.0</td>\n      <td>88.0</td>\n      <td>143.0</td>\n      <td>33.0</td>\n      <td>132.0</td>\n      <td>66.0</td>\n      <td>22.0</td>\n      <td>NaN</td>\n    </tr>\n    <tr>\n      <td>...</td>\n      <td>...</td>\n      <td>...</td>\n      <td>...</td>\n      <td>...</td>\n      <td>...</td>\n      <td>...</td>\n      <td>...</td>\n      <td>...</td>\n      <td>...</td>\n      <td>...</td>\n      <td>...</td>\n      <td>...</td>\n      <td>...</td>\n      <td>...</td>\n      <td>...</td>\n      <td>...</td>\n      <td>...</td>\n      <td>...</td>\n      <td>...</td>\n      <td>...</td>\n      <td>...</td>\n    </tr>\n    <tr>\n      <td>9995</td>\n      <td>NaN</td>\n      <td>NaN</td>\n      <td>33.0</td>\n      <td>Blabla</td>\n      <td>88.0</td>\n      <td>165.0</td>\n      <td>77.0</td>\n      <td>11.0</td>\n      <td>154.0</td>\n      <td>132.0</td>\n      <td>...</td>\n      <td>NaN</td>\n      <td>NaN</td>\n      <td>NaN</td>\n      <td>33.0</td>\n      <td>88.0</td>\n      <td>165.0</td>\n      <td>77.0</td>\n      <td>11.0</td>\n      <td>154.0</td>\n      <td>132.0</td>\n    </tr>\n    <tr>\n      <td>9996</td>\n      <td>NaN</td>\n      <td>11.0</td>\n      <td>44.0</td>\n      <td>Blabla</td>\n      <td>99.0</td>\n      <td>NaN</td>\n      <td>88.0</td>\n      <td>22.0</td>\n      <td>165.0</td>\n      <td>143.0</td>\n      <td>...</td>\n      <td>11.0</td>\n      <td>NaN</td>\n      <td>11.0</td>\n      <td>44.0</td>\n      <td>99.0</td>\n      <td>NaN</td>\n      <td>88.0</td>\n      <td>22.0</td>\n      <td>165.0</td>\n      <td>143.0</td>\n    </tr>\n    <tr>\n      <td>9997</td>\n      <td>11.0</td>\n      <td>22.0</td>\n      <td>55.0</td>\n      <td>Blabla</td>\n      <td>110.0</td>\n      <td>NaN</td>\n      <td>99.0</td>\n      <td>33.0</td>\n      <td>NaN</td>\n      <td>154.0</td>\n      <td>...</td>\n      <td>22.0</td>\n      <td>11.0</td>\n      <td>22.0</td>\n      <td>55.0</td>\n      <td>110.0</td>\n      <td>NaN</td>\n      <td>99.0</td>\n      <td>33.0</td>\n      <td>NaN</td>\n      <td>154.0</td>\n    </tr>\n    <tr>\n      <td>9998</td>\n      <td>22.0</td>\n      <td>33.0</td>\n      <td>66.0</td>\n      <td>Blabla</td>\n      <td>121.0</td>\n      <td>11.0</td>\n      <td>110.0</td>\n      <td>44.0</td>\n      <td>NaN</td>\n      <td>165.0</td>\n      <td>...</td>\n      <td>33.0</td>\n      <td>22.0</td>\n      <td>33.0</td>\n      <td>66.0</td>\n      <td>121.0</td>\n      <td>11.0</td>\n      <td>110.0</td>\n      <td>44.0</td>\n      <td>NaN</td>\n      <td>165.0</td>\n    </tr>\n    <tr>\n      <td>9999</td>\n      <td>33.0</td>\n      <td>44.0</td>\n      <td>77.0</td>\n      <td>Blabla</td>\n      <td>132.0</td>\n      <td>22.0</td>\n      <td>121.0</td>\n      <td>55.0</td>\n      <td>11.0</td>\n      <td>NaN</td>\n      <td>...</td>\n      <td>44.0</td>\n      <td>33.0</td>\n      <td>44.0</td>\n      <td>77.0</td>\n      <td>132.0</td>\n      <td>22.0</td>\n      <td>121.0</td>\n      <td>55.0</td>\n      <td>11.0</td>\n      <td>NaN</td>\n    </tr>\n  </tbody>\n</table>\n<p>10000 rows × 27 columns</p>\n</div>"
     },
     "metadata": {},
     "output_type": "execute_result",
     "execution_count": 41
    }
   ],
   "source": [
    "much_data = np.fromfunction(lambda x,y: (x+y*y)%17*11, (10000, 26))\n",
    "large_df = pd.DataFrame(much_data, columns=list(\"ABCDEFGHIJKLMNOPQRSTUVWXYZ\"))\n",
    "large_df[large_df % 16 == 0] = np.nan\n",
    "large_df.insert(3,\"some_text\", \"Blabla\")\n",
    "large_df"
   ]
  },
  {
   "cell_type": "markdown",
   "metadata": {},
   "source": [
    "The `head()` method returns the top 5 rows:"
   ]
  },
  {
   "cell_type": "code",
   "execution_count": 42,
   "metadata": {
    "pycharm": {
     "is_executing": false,
     "name": "#%%\n"
    }
   },
   "outputs": [
    {
     "data": {
      "text/plain": "      A     B     C some_text      D     E      F     G      H      I  ...  \\\n0   NaN  11.0  44.0    Blabla   99.0   NaN   88.0  22.0  165.0  143.0  ...   \n1  11.0  22.0  55.0    Blabla  110.0   NaN   99.0  33.0    NaN  154.0  ...   \n2  22.0  33.0  66.0    Blabla  121.0  11.0  110.0  44.0    NaN  165.0  ...   \n3  33.0  44.0  77.0    Blabla  132.0  22.0  121.0  55.0   11.0    NaN  ...   \n4  44.0  55.0  88.0    Blabla  143.0  33.0  132.0  66.0   22.0    NaN  ...   \n\n      Q     R     S     T      U     V      W     X      Y      Z  \n0  11.0   NaN  11.0  44.0   99.0   NaN   88.0  22.0  165.0  143.0  \n1  22.0  11.0  22.0  55.0  110.0   NaN   99.0  33.0    NaN  154.0  \n2  33.0  22.0  33.0  66.0  121.0  11.0  110.0  44.0    NaN  165.0  \n3  44.0  33.0  44.0  77.0  132.0  22.0  121.0  55.0   11.0    NaN  \n4  55.0  44.0  55.0  88.0  143.0  33.0  132.0  66.0   22.0    NaN  \n\n[5 rows x 27 columns]",
      "text/html": "<div>\n<style scoped>\n    .dataframe tbody tr th:only-of-type {\n        vertical-align: middle;\n    }\n\n    .dataframe tbody tr th {\n        vertical-align: top;\n    }\n\n    .dataframe thead th {\n        text-align: right;\n    }\n</style>\n<table border=\"1\" class=\"dataframe\">\n  <thead>\n    <tr style=\"text-align: right;\">\n      <th></th>\n      <th>A</th>\n      <th>B</th>\n      <th>C</th>\n      <th>some_text</th>\n      <th>D</th>\n      <th>E</th>\n      <th>F</th>\n      <th>G</th>\n      <th>H</th>\n      <th>I</th>\n      <th>...</th>\n      <th>Q</th>\n      <th>R</th>\n      <th>S</th>\n      <th>T</th>\n      <th>U</th>\n      <th>V</th>\n      <th>W</th>\n      <th>X</th>\n      <th>Y</th>\n      <th>Z</th>\n    </tr>\n  </thead>\n  <tbody>\n    <tr>\n      <td>0</td>\n      <td>NaN</td>\n      <td>11.0</td>\n      <td>44.0</td>\n      <td>Blabla</td>\n      <td>99.0</td>\n      <td>NaN</td>\n      <td>88.0</td>\n      <td>22.0</td>\n      <td>165.0</td>\n      <td>143.0</td>\n      <td>...</td>\n      <td>11.0</td>\n      <td>NaN</td>\n      <td>11.0</td>\n      <td>44.0</td>\n      <td>99.0</td>\n      <td>NaN</td>\n      <td>88.0</td>\n      <td>22.0</td>\n      <td>165.0</td>\n      <td>143.0</td>\n    </tr>\n    <tr>\n      <td>1</td>\n      <td>11.0</td>\n      <td>22.0</td>\n      <td>55.0</td>\n      <td>Blabla</td>\n      <td>110.0</td>\n      <td>NaN</td>\n      <td>99.0</td>\n      <td>33.0</td>\n      <td>NaN</td>\n      <td>154.0</td>\n      <td>...</td>\n      <td>22.0</td>\n      <td>11.0</td>\n      <td>22.0</td>\n      <td>55.0</td>\n      <td>110.0</td>\n      <td>NaN</td>\n      <td>99.0</td>\n      <td>33.0</td>\n      <td>NaN</td>\n      <td>154.0</td>\n    </tr>\n    <tr>\n      <td>2</td>\n      <td>22.0</td>\n      <td>33.0</td>\n      <td>66.0</td>\n      <td>Blabla</td>\n      <td>121.0</td>\n      <td>11.0</td>\n      <td>110.0</td>\n      <td>44.0</td>\n      <td>NaN</td>\n      <td>165.0</td>\n      <td>...</td>\n      <td>33.0</td>\n      <td>22.0</td>\n      <td>33.0</td>\n      <td>66.0</td>\n      <td>121.0</td>\n      <td>11.0</td>\n      <td>110.0</td>\n      <td>44.0</td>\n      <td>NaN</td>\n      <td>165.0</td>\n    </tr>\n    <tr>\n      <td>3</td>\n      <td>33.0</td>\n      <td>44.0</td>\n      <td>77.0</td>\n      <td>Blabla</td>\n      <td>132.0</td>\n      <td>22.0</td>\n      <td>121.0</td>\n      <td>55.0</td>\n      <td>11.0</td>\n      <td>NaN</td>\n      <td>...</td>\n      <td>44.0</td>\n      <td>33.0</td>\n      <td>44.0</td>\n      <td>77.0</td>\n      <td>132.0</td>\n      <td>22.0</td>\n      <td>121.0</td>\n      <td>55.0</td>\n      <td>11.0</td>\n      <td>NaN</td>\n    </tr>\n    <tr>\n      <td>4</td>\n      <td>44.0</td>\n      <td>55.0</td>\n      <td>88.0</td>\n      <td>Blabla</td>\n      <td>143.0</td>\n      <td>33.0</td>\n      <td>132.0</td>\n      <td>66.0</td>\n      <td>22.0</td>\n      <td>NaN</td>\n      <td>...</td>\n      <td>55.0</td>\n      <td>44.0</td>\n      <td>55.0</td>\n      <td>88.0</td>\n      <td>143.0</td>\n      <td>33.0</td>\n      <td>132.0</td>\n      <td>66.0</td>\n      <td>22.0</td>\n      <td>NaN</td>\n    </tr>\n  </tbody>\n</table>\n<p>5 rows × 27 columns</p>\n</div>"
     },
     "metadata": {},
     "output_type": "execute_result",
     "execution_count": 42
    }
   ],
   "source": [
    "large_df.head()"
   ]
  },
  {
   "cell_type": "markdown",
   "metadata": {},
   "source": [
    "Of course there's also a `tail()` function to view the bottom 5 rows. You can pass the number of rows you want:"
   ]
  },
  {
   "cell_type": "code",
   "execution_count": 43,
   "metadata": {
    "pycharm": {
     "is_executing": false,
     "name": "#%%\n"
    }
   },
   "outputs": [
    {
     "data": {
      "text/plain": "         A     B     C some_text      D     E      F     G     H      I  ...  \\\n9998  22.0  33.0  66.0    Blabla  121.0  11.0  110.0  44.0   NaN  165.0  ...   \n9999  33.0  44.0  77.0    Blabla  132.0  22.0  121.0  55.0  11.0    NaN  ...   \n\n         Q     R     S     T      U     V      W     X     Y      Z  \n9998  33.0  22.0  33.0  66.0  121.0  11.0  110.0  44.0   NaN  165.0  \n9999  44.0  33.0  44.0  77.0  132.0  22.0  121.0  55.0  11.0    NaN  \n\n[2 rows x 27 columns]",
      "text/html": "<div>\n<style scoped>\n    .dataframe tbody tr th:only-of-type {\n        vertical-align: middle;\n    }\n\n    .dataframe tbody tr th {\n        vertical-align: top;\n    }\n\n    .dataframe thead th {\n        text-align: right;\n    }\n</style>\n<table border=\"1\" class=\"dataframe\">\n  <thead>\n    <tr style=\"text-align: right;\">\n      <th></th>\n      <th>A</th>\n      <th>B</th>\n      <th>C</th>\n      <th>some_text</th>\n      <th>D</th>\n      <th>E</th>\n      <th>F</th>\n      <th>G</th>\n      <th>H</th>\n      <th>I</th>\n      <th>...</th>\n      <th>Q</th>\n      <th>R</th>\n      <th>S</th>\n      <th>T</th>\n      <th>U</th>\n      <th>V</th>\n      <th>W</th>\n      <th>X</th>\n      <th>Y</th>\n      <th>Z</th>\n    </tr>\n  </thead>\n  <tbody>\n    <tr>\n      <td>9998</td>\n      <td>22.0</td>\n      <td>33.0</td>\n      <td>66.0</td>\n      <td>Blabla</td>\n      <td>121.0</td>\n      <td>11.0</td>\n      <td>110.0</td>\n      <td>44.0</td>\n      <td>NaN</td>\n      <td>165.0</td>\n      <td>...</td>\n      <td>33.0</td>\n      <td>22.0</td>\n      <td>33.0</td>\n      <td>66.0</td>\n      <td>121.0</td>\n      <td>11.0</td>\n      <td>110.0</td>\n      <td>44.0</td>\n      <td>NaN</td>\n      <td>165.0</td>\n    </tr>\n    <tr>\n      <td>9999</td>\n      <td>33.0</td>\n      <td>44.0</td>\n      <td>77.0</td>\n      <td>Blabla</td>\n      <td>132.0</td>\n      <td>22.0</td>\n      <td>121.0</td>\n      <td>55.0</td>\n      <td>11.0</td>\n      <td>NaN</td>\n      <td>...</td>\n      <td>44.0</td>\n      <td>33.0</td>\n      <td>44.0</td>\n      <td>77.0</td>\n      <td>132.0</td>\n      <td>22.0</td>\n      <td>121.0</td>\n      <td>55.0</td>\n      <td>11.0</td>\n      <td>NaN</td>\n    </tr>\n  </tbody>\n</table>\n<p>2 rows × 27 columns</p>\n</div>"
     },
     "metadata": {},
     "output_type": "execute_result",
     "execution_count": 43
    }
   ],
   "source": [
    "large_df.tail(n=2)"
   ]
  },
  {
   "cell_type": "markdown",
   "metadata": {},
   "source": [
    "The `info()` method prints out a summary of each columns contents:"
   ]
  },
  {
   "cell_type": "code",
   "execution_count": 44,
   "metadata": {
    "pycharm": {
     "is_executing": false,
     "name": "#%%\n"
    }
   },
   "outputs": [
    {
     "name": "stdout",
     "text": [
      "<class 'pandas.core.frame.DataFrame'>\nRangeIndex: 10000 entries, 0 to 9999\nData columns (total 27 columns):\nA            8823 non-null float64\nB            8824 non-null float64\nC            8824 non-null float64\nsome_text    10000 non-null object\nD            8824 non-null float64\nE            8822 non-null float64\nF            8824 non-null float64\nG            8824 non-null float64\nH            8822 non-null float64\nI            8823 non-null float64\nJ            8823 non-null float64\nK            8822 non-null float64\nL            8824 non-null float64\nM            8824 non-null float64\nN            8822 non-null float64\nO            8824 non-null float64\nP            8824 non-null float64\nQ            8824 non-null float64\nR            8823 non-null float64\nS            8824 non-null float64\nT            8824 non-null float64\nU            8824 non-null float64\nV            8822 non-null float64\nW            8824 non-null float64\nX            8824 non-null float64\nY            8822 non-null float64\nZ            8823 non-null float64\ndtypes: float64(26), object(1)\nmemory usage: 2.1+ MB\n"
     ],
     "output_type": "stream"
    }
   ],
   "source": [
    "large_df.info()"
   ]
  },
  {
   "cell_type": "markdown",
   "metadata": {},
   "source": [
    "Finally, the `describe()` method gives a nice overview of the main aggregated values over each column:\n",
    "* `count`: number of non-null (not NaN) values\n",
    "* `mean`: mean of non-null values\n",
    "* `std`: [standard deviation](https://en.wikipedia.org/wiki/Standard_deviation) of non-null values\n",
    "* `min`: minimum of non-null values\n",
    "* `25%`, `50%`, `75%`: 25th, 50th and 75th [percentile](https://en.wikipedia.org/wiki/Percentile) of non-null values\n",
    "* `max`: maximum of non-null values"
   ]
  },
  {
   "cell_type": "code",
   "execution_count": 45,
   "metadata": {
    "pycharm": {
     "is_executing": false,
     "name": "#%%\n"
    }
   },
   "outputs": [
    {
     "data": {
      "text/plain": "                 A            B            C            D            E  \\\ncount  8823.000000  8824.000000  8824.000000  8824.000000  8822.000000   \nmean     87.977559    87.972575    87.987534    88.012466    87.983791   \nstd      47.535911    47.535523    47.521679    47.521679    47.535001   \nmin      11.000000    11.000000    11.000000    11.000000    11.000000   \n25%      44.000000    44.000000    44.000000    44.000000    44.000000   \n50%      88.000000    88.000000    88.000000    88.000000    88.000000   \n75%     132.000000   132.000000   132.000000   132.000000   132.000000   \nmax     165.000000   165.000000   165.000000   165.000000   165.000000   \n\n                 F            G            H            I            J  ...  \\\ncount  8824.000000  8824.000000  8822.000000  8823.000000  8823.000000  ...   \nmean     88.007480    87.977561    88.000000    88.022441    88.022441  ...   \nstd      47.519371    47.529755    47.536879    47.535911    47.535911  ...   \nmin      11.000000    11.000000    11.000000    11.000000    11.000000  ...   \n25%      44.000000    44.000000    44.000000    44.000000    44.000000  ...   \n50%      88.000000    88.000000    88.000000    88.000000    88.000000  ...   \n75%     132.000000   132.000000   132.000000   132.000000   132.000000  ...   \nmax     165.000000   165.000000   165.000000   165.000000   165.000000  ...   \n\n                 Q            R            S            T            U  \\\ncount  8824.000000  8823.000000  8824.000000  8824.000000  8824.000000   \nmean     87.972575    87.977559    87.972575    87.987534    88.012466   \nstd      47.535523    47.535911    47.535523    47.521679    47.521679   \nmin      11.000000    11.000000    11.000000    11.000000    11.000000   \n25%      44.000000    44.000000    44.000000    44.000000    44.000000   \n50%      88.000000    88.000000    88.000000    88.000000    88.000000   \n75%     132.000000   132.000000   132.000000   132.000000   132.000000   \nmax     165.000000   165.000000   165.000000   165.000000   165.000000   \n\n                 V            W            X            Y            Z  \ncount  8822.000000  8824.000000  8824.000000  8822.000000  8823.000000  \nmean     87.983791    88.007480    87.977561    88.000000    88.022441  \nstd      47.535001    47.519371    47.529755    47.536879    47.535911  \nmin      11.000000    11.000000    11.000000    11.000000    11.000000  \n25%      44.000000    44.000000    44.000000    44.000000    44.000000  \n50%      88.000000    88.000000    88.000000    88.000000    88.000000  \n75%     132.000000   132.000000   132.000000   132.000000   132.000000  \nmax     165.000000   165.000000   165.000000   165.000000   165.000000  \n\n[8 rows x 26 columns]",
      "text/html": "<div>\n<style scoped>\n    .dataframe tbody tr th:only-of-type {\n        vertical-align: middle;\n    }\n\n    .dataframe tbody tr th {\n        vertical-align: top;\n    }\n\n    .dataframe thead th {\n        text-align: right;\n    }\n</style>\n<table border=\"1\" class=\"dataframe\">\n  <thead>\n    <tr style=\"text-align: right;\">\n      <th></th>\n      <th>A</th>\n      <th>B</th>\n      <th>C</th>\n      <th>D</th>\n      <th>E</th>\n      <th>F</th>\n      <th>G</th>\n      <th>H</th>\n      <th>I</th>\n      <th>J</th>\n      <th>...</th>\n      <th>Q</th>\n      <th>R</th>\n      <th>S</th>\n      <th>T</th>\n      <th>U</th>\n      <th>V</th>\n      <th>W</th>\n      <th>X</th>\n      <th>Y</th>\n      <th>Z</th>\n    </tr>\n  </thead>\n  <tbody>\n    <tr>\n      <td>count</td>\n      <td>8823.000000</td>\n      <td>8824.000000</td>\n      <td>8824.000000</td>\n      <td>8824.000000</td>\n      <td>8822.000000</td>\n      <td>8824.000000</td>\n      <td>8824.000000</td>\n      <td>8822.000000</td>\n      <td>8823.000000</td>\n      <td>8823.000000</td>\n      <td>...</td>\n      <td>8824.000000</td>\n      <td>8823.000000</td>\n      <td>8824.000000</td>\n      <td>8824.000000</td>\n      <td>8824.000000</td>\n      <td>8822.000000</td>\n      <td>8824.000000</td>\n      <td>8824.000000</td>\n      <td>8822.000000</td>\n      <td>8823.000000</td>\n    </tr>\n    <tr>\n      <td>mean</td>\n      <td>87.977559</td>\n      <td>87.972575</td>\n      <td>87.987534</td>\n      <td>88.012466</td>\n      <td>87.983791</td>\n      <td>88.007480</td>\n      <td>87.977561</td>\n      <td>88.000000</td>\n      <td>88.022441</td>\n      <td>88.022441</td>\n      <td>...</td>\n      <td>87.972575</td>\n      <td>87.977559</td>\n      <td>87.972575</td>\n      <td>87.987534</td>\n      <td>88.012466</td>\n      <td>87.983791</td>\n      <td>88.007480</td>\n      <td>87.977561</td>\n      <td>88.000000</td>\n      <td>88.022441</td>\n    </tr>\n    <tr>\n      <td>std</td>\n      <td>47.535911</td>\n      <td>47.535523</td>\n      <td>47.521679</td>\n      <td>47.521679</td>\n      <td>47.535001</td>\n      <td>47.519371</td>\n      <td>47.529755</td>\n      <td>47.536879</td>\n      <td>47.535911</td>\n      <td>47.535911</td>\n      <td>...</td>\n      <td>47.535523</td>\n      <td>47.535911</td>\n      <td>47.535523</td>\n      <td>47.521679</td>\n      <td>47.521679</td>\n      <td>47.535001</td>\n      <td>47.519371</td>\n      <td>47.529755</td>\n      <td>47.536879</td>\n      <td>47.535911</td>\n    </tr>\n    <tr>\n      <td>min</td>\n      <td>11.000000</td>\n      <td>11.000000</td>\n      <td>11.000000</td>\n      <td>11.000000</td>\n      <td>11.000000</td>\n      <td>11.000000</td>\n      <td>11.000000</td>\n      <td>11.000000</td>\n      <td>11.000000</td>\n      <td>11.000000</td>\n      <td>...</td>\n      <td>11.000000</td>\n      <td>11.000000</td>\n      <td>11.000000</td>\n      <td>11.000000</td>\n      <td>11.000000</td>\n      <td>11.000000</td>\n      <td>11.000000</td>\n      <td>11.000000</td>\n      <td>11.000000</td>\n      <td>11.000000</td>\n    </tr>\n    <tr>\n      <td>25%</td>\n      <td>44.000000</td>\n      <td>44.000000</td>\n      <td>44.000000</td>\n      <td>44.000000</td>\n      <td>44.000000</td>\n      <td>44.000000</td>\n      <td>44.000000</td>\n      <td>44.000000</td>\n      <td>44.000000</td>\n      <td>44.000000</td>\n      <td>...</td>\n      <td>44.000000</td>\n      <td>44.000000</td>\n      <td>44.000000</td>\n      <td>44.000000</td>\n      <td>44.000000</td>\n      <td>44.000000</td>\n      <td>44.000000</td>\n      <td>44.000000</td>\n      <td>44.000000</td>\n      <td>44.000000</td>\n    </tr>\n    <tr>\n      <td>50%</td>\n      <td>88.000000</td>\n      <td>88.000000</td>\n      <td>88.000000</td>\n      <td>88.000000</td>\n      <td>88.000000</td>\n      <td>88.000000</td>\n      <td>88.000000</td>\n      <td>88.000000</td>\n      <td>88.000000</td>\n      <td>88.000000</td>\n      <td>...</td>\n      <td>88.000000</td>\n      <td>88.000000</td>\n      <td>88.000000</td>\n      <td>88.000000</td>\n      <td>88.000000</td>\n      <td>88.000000</td>\n      <td>88.000000</td>\n      <td>88.000000</td>\n      <td>88.000000</td>\n      <td>88.000000</td>\n    </tr>\n    <tr>\n      <td>75%</td>\n      <td>132.000000</td>\n      <td>132.000000</td>\n      <td>132.000000</td>\n      <td>132.000000</td>\n      <td>132.000000</td>\n      <td>132.000000</td>\n      <td>132.000000</td>\n      <td>132.000000</td>\n      <td>132.000000</td>\n      <td>132.000000</td>\n      <td>...</td>\n      <td>132.000000</td>\n      <td>132.000000</td>\n      <td>132.000000</td>\n      <td>132.000000</td>\n      <td>132.000000</td>\n      <td>132.000000</td>\n      <td>132.000000</td>\n      <td>132.000000</td>\n      <td>132.000000</td>\n      <td>132.000000</td>\n    </tr>\n    <tr>\n      <td>max</td>\n      <td>165.000000</td>\n      <td>165.000000</td>\n      <td>165.000000</td>\n      <td>165.000000</td>\n      <td>165.000000</td>\n      <td>165.000000</td>\n      <td>165.000000</td>\n      <td>165.000000</td>\n      <td>165.000000</td>\n      <td>165.000000</td>\n      <td>...</td>\n      <td>165.000000</td>\n      <td>165.000000</td>\n      <td>165.000000</td>\n      <td>165.000000</td>\n      <td>165.000000</td>\n      <td>165.000000</td>\n      <td>165.000000</td>\n      <td>165.000000</td>\n      <td>165.000000</td>\n      <td>165.000000</td>\n    </tr>\n  </tbody>\n</table>\n<p>8 rows × 26 columns</p>\n</div>"
     },
     "metadata": {},
     "output_type": "execute_result",
     "execution_count": 45
    }
   ],
   "source": [
    "large_df.describe()\n"
   ]
  },
  {
   "cell_type": "markdown",
   "metadata": {},
   "source": [
    "## 3.2 EXERCISES overview of DataFrame\n",
    "\n",
    "<div class=\"alert alert-success\">\n",
    "\n",
    "<b>EXERCISE</b>:\n",
    "\n",
    "<ul>\n",
    "  <li>Write a Pandas program to display the first 10 rows of the titanic DataFrame.</li>\n",
    "</ul>\n",
    "\n",
    "<ul>\n",
    "  <li>Write a Pandas program to get the details of the columns PassengerId and Survived of the DataFrame.</li>\n",
    "</ul>\n",
    "\n",
    "\n",
    "</div>\n"
   ]
  },
  {
   "cell_type": "code",
   "execution_count": 46,
   "metadata": {
    "pycharm": {
     "is_executing": false,
     "name": "#%%\n"
    }
   },
   "outputs": [],
   "source": [
    "df = pd.read_csv('data/titanic.csv')"
   ]
  },
  {
   "cell_type": "markdown",
   "metadata": {},
   "source": [
    "## 3.3 Accessing rows\n",
    "Let's go back to the `people` `DataFrame`:"
   ]
  },
  {
   "cell_type": "code",
   "execution_count": 47,
   "metadata": {
    "pycharm": {
     "is_executing": false,
     "name": "#%%\n"
    }
   },
   "outputs": [
    {
     "data": {
      "text/plain": "         birthyear    hobby  weight  children\nalice         1985   Biking      68       NaN\nbob           1984  Dancing      83       3.0\ncharles       1992      NaN     112       0.0",
      "text/html": "<div>\n<style scoped>\n    .dataframe tbody tr th:only-of-type {\n        vertical-align: middle;\n    }\n\n    .dataframe tbody tr th {\n        vertical-align: top;\n    }\n\n    .dataframe thead th {\n        text-align: right;\n    }\n</style>\n<table border=\"1\" class=\"dataframe\">\n  <thead>\n    <tr style=\"text-align: right;\">\n      <th></th>\n      <th>birthyear</th>\n      <th>hobby</th>\n      <th>weight</th>\n      <th>children</th>\n    </tr>\n  </thead>\n  <tbody>\n    <tr>\n      <td>alice</td>\n      <td>1985</td>\n      <td>Biking</td>\n      <td>68</td>\n      <td>NaN</td>\n    </tr>\n    <tr>\n      <td>bob</td>\n      <td>1984</td>\n      <td>Dancing</td>\n      <td>83</td>\n      <td>3.0</td>\n    </tr>\n    <tr>\n      <td>charles</td>\n      <td>1992</td>\n      <td>NaN</td>\n      <td>112</td>\n      <td>0.0</td>\n    </tr>\n  </tbody>\n</table>\n</div>"
     },
     "metadata": {},
     "output_type": "execute_result",
     "execution_count": 47
    }
   ],
   "source": [
    "people"
   ]
  },
  {
   "cell_type": "markdown",
   "metadata": {},
   "source": [
    "The `loc` attribute lets you access rows instead of columns. The result is a `Series` object in which the `DataFrame`'s column names are mapped to row index labels:"
   ]
  },
  {
   "cell_type": "code",
   "execution_count": 48,
   "metadata": {
    "pycharm": {
     "is_executing": false,
     "name": "#%%\n"
    }
   },
   "outputs": [
    {
     "data": {
      "text/plain": "birthyear    1992\nhobby         NaN\nweight        112\nchildren        0\nName: charles, dtype: object"
     },
     "metadata": {},
     "output_type": "execute_result",
     "execution_count": 48
    }
   ],
   "source": [
    "people.loc[\"charles\"]"
   ]
  },
  {
   "cell_type": "markdown",
   "metadata": {},
   "source": [
    "You can also access rows by integer location using the `iloc` attribute:"
   ]
  },
  {
   "cell_type": "code",
   "execution_count": 49,
   "metadata": {
    "pycharm": {
     "is_executing": false,
     "name": "#%%\n"
    }
   },
   "outputs": [
    {
     "data": {
      "text/plain": "birthyear    1992\nhobby         NaN\nweight        112\nchildren        0\nName: charles, dtype: object"
     },
     "metadata": {},
     "output_type": "execute_result",
     "execution_count": 49
    }
   ],
   "source": [
    "people.iloc[2]"
   ]
  },
  {
   "cell_type": "markdown",
   "metadata": {},
   "source": [
    "You can also get a slice of rows, and this returns a `DataFrame` object:"
   ]
  },
  {
   "cell_type": "code",
   "execution_count": 50,
   "metadata": {
    "pycharm": {
     "is_executing": false,
     "name": "#%%\n"
    }
   },
   "outputs": [
    {
     "data": {
      "text/plain": "         birthyear    hobby  weight  children\nbob           1984  Dancing      83       3.0\ncharles       1992      NaN     112       0.0",
      "text/html": "<div>\n<style scoped>\n    .dataframe tbody tr th:only-of-type {\n        vertical-align: middle;\n    }\n\n    .dataframe tbody tr th {\n        vertical-align: top;\n    }\n\n    .dataframe thead th {\n        text-align: right;\n    }\n</style>\n<table border=\"1\" class=\"dataframe\">\n  <thead>\n    <tr style=\"text-align: right;\">\n      <th></th>\n      <th>birthyear</th>\n      <th>hobby</th>\n      <th>weight</th>\n      <th>children</th>\n    </tr>\n  </thead>\n  <tbody>\n    <tr>\n      <td>bob</td>\n      <td>1984</td>\n      <td>Dancing</td>\n      <td>83</td>\n      <td>3.0</td>\n    </tr>\n    <tr>\n      <td>charles</td>\n      <td>1992</td>\n      <td>NaN</td>\n      <td>112</td>\n      <td>0.0</td>\n    </tr>\n  </tbody>\n</table>\n</div>"
     },
     "metadata": {},
     "output_type": "execute_result",
     "execution_count": 50
    }
   ],
   "source": [
    "people.iloc[1:3]"
   ]
  },
  {
   "cell_type": "markdown",
   "metadata": {},
   "source": [
    "Finally, you can pass a boolean array to get the matching rows:"
   ]
  },
  {
   "cell_type": "code",
   "execution_count": 51,
   "metadata": {
    "pycharm": {
     "is_executing": false,
     "name": "#%%\n"
    }
   },
   "outputs": [
    {
     "data": {
      "text/plain": "         birthyear   hobby  weight  children\nalice         1985  Biking      68       NaN\ncharles       1992     NaN     112       0.0",
      "text/html": "<div>\n<style scoped>\n    .dataframe tbody tr th:only-of-type {\n        vertical-align: middle;\n    }\n\n    .dataframe tbody tr th {\n        vertical-align: top;\n    }\n\n    .dataframe thead th {\n        text-align: right;\n    }\n</style>\n<table border=\"1\" class=\"dataframe\">\n  <thead>\n    <tr style=\"text-align: right;\">\n      <th></th>\n      <th>birthyear</th>\n      <th>hobby</th>\n      <th>weight</th>\n      <th>children</th>\n    </tr>\n  </thead>\n  <tbody>\n    <tr>\n      <td>alice</td>\n      <td>1985</td>\n      <td>Biking</td>\n      <td>68</td>\n      <td>NaN</td>\n    </tr>\n    <tr>\n      <td>charles</td>\n      <td>1992</td>\n      <td>NaN</td>\n      <td>112</td>\n      <td>0.0</td>\n    </tr>\n  </tbody>\n</table>\n</div>"
     },
     "metadata": {},
     "output_type": "execute_result",
     "execution_count": 51
    }
   ],
   "source": [
    "people[np.array([True, False, True])]"
   ]
  },
  {
   "cell_type": "markdown",
   "metadata": {},
   "source": [
    "This is most useful when combined with boolean expressions:"
   ]
  },
  {
   "cell_type": "code",
   "execution_count": 52,
   "metadata": {
    "pycharm": {
     "is_executing": false,
     "name": "#%%\n"
    }
   },
   "outputs": [
    {
     "data": {
      "text/plain": "       birthyear    hobby  weight  children\nalice       1985   Biking      68       NaN\nbob         1984  Dancing      83       3.0",
      "text/html": "<div>\n<style scoped>\n    .dataframe tbody tr th:only-of-type {\n        vertical-align: middle;\n    }\n\n    .dataframe tbody tr th {\n        vertical-align: top;\n    }\n\n    .dataframe thead th {\n        text-align: right;\n    }\n</style>\n<table border=\"1\" class=\"dataframe\">\n  <thead>\n    <tr style=\"text-align: right;\">\n      <th></th>\n      <th>birthyear</th>\n      <th>hobby</th>\n      <th>weight</th>\n      <th>children</th>\n    </tr>\n  </thead>\n  <tbody>\n    <tr>\n      <td>alice</td>\n      <td>1985</td>\n      <td>Biking</td>\n      <td>68</td>\n      <td>NaN</td>\n    </tr>\n    <tr>\n      <td>bob</td>\n      <td>1984</td>\n      <td>Dancing</td>\n      <td>83</td>\n      <td>3.0</td>\n    </tr>\n  </tbody>\n</table>\n</div>"
     },
     "metadata": {},
     "output_type": "execute_result",
     "execution_count": 52
    }
   ],
   "source": [
    "people[people[\"birthyear\"] < 1990]"
   ]
  },
  {
   "cell_type": "markdown",
   "metadata": {
    "pycharm": {
     "name": "#%% md\n"
    }
   },
   "source": [
    "## 3.3 EXERCISES Accessing rows\n",
    "\n",
    "<div class=\"alert alert-success\">\n",
    "\n",
    "<b>EXERCISE</b>:\n",
    "\n",
    "<ul>\n",
    "  <li>Write a Pandas program to change the score in row 'd' to 11.5.</li>\n",
    "</ul>\n",
    "\n",
    "</div>\n"
   ]
  },
  {
   "cell_type": "code",
   "execution_count": 53,
   "metadata": {
    "pycharm": {
     "is_executing": false,
     "name": "#%%\n"
    }
   },
   "outputs": [],
   "source": [
    "exam_data  = {'name': ['Anastasia', 'Dima', 'Katherine', 'James', 'Emily', 'Michael', 'Matthew', 'Laura', 'Kevin', 'Jonas'],\n",
    "        'score': [12.5, 9, 16.5, np.nan, 9, 20, 14.5, np.nan, 8, 19],\n",
    "        'attempts': [1, 3, 2, 3, 2, 3, 1, 1, 2, 1],\n",
    "        'qualify': ['yes', 'no', 'yes', 'no', 'no', 'yes', 'yes', 'no', 'no', 'yes']}\n",
    "labels = ['a', 'b', 'c', 'd', 'e', 'f', 'g', 'h', 'i', 'j']\n",
    "\n"
   ]
  },
  {
   "cell_type": "markdown",
   "metadata": {},
   "source": [
    "## 3.4 Adding and removing columns\n",
    "You can generally treat `DataFrame` objects like dictionaries of `Series`, so the following work fine:"
   ]
  },
  {
   "cell_type": "code",
   "execution_count": 54,
   "metadata": {
    "pycharm": {
     "is_executing": false,
     "name": "#%%\n"
    }
   },
   "outputs": [
    {
     "data": {
      "text/plain": "         birthyear    hobby  weight  children\nalice         1985   Biking      68       NaN\nbob           1984  Dancing      83       3.0\ncharles       1992      NaN     112       0.0",
      "text/html": "<div>\n<style scoped>\n    .dataframe tbody tr th:only-of-type {\n        vertical-align: middle;\n    }\n\n    .dataframe tbody tr th {\n        vertical-align: top;\n    }\n\n    .dataframe thead th {\n        text-align: right;\n    }\n</style>\n<table border=\"1\" class=\"dataframe\">\n  <thead>\n    <tr style=\"text-align: right;\">\n      <th></th>\n      <th>birthyear</th>\n      <th>hobby</th>\n      <th>weight</th>\n      <th>children</th>\n    </tr>\n  </thead>\n  <tbody>\n    <tr>\n      <td>alice</td>\n      <td>1985</td>\n      <td>Biking</td>\n      <td>68</td>\n      <td>NaN</td>\n    </tr>\n    <tr>\n      <td>bob</td>\n      <td>1984</td>\n      <td>Dancing</td>\n      <td>83</td>\n      <td>3.0</td>\n    </tr>\n    <tr>\n      <td>charles</td>\n      <td>1992</td>\n      <td>NaN</td>\n      <td>112</td>\n      <td>0.0</td>\n    </tr>\n  </tbody>\n</table>\n</div>"
     },
     "metadata": {},
     "output_type": "execute_result",
     "execution_count": 54
    }
   ],
   "source": [
    "people"
   ]
  },
  {
   "cell_type": "code",
   "execution_count": 55,
   "metadata": {
    "pycharm": {
     "is_executing": false,
     "name": "#%%\n"
    }
   },
   "outputs": [
    {
     "data": {
      "text/plain": "           hobby  weight  age  over 30\nalice     Biking      68   33     True\nbob      Dancing      83   34     True\ncharles      NaN     112   26    False",
      "text/html": "<div>\n<style scoped>\n    .dataframe tbody tr th:only-of-type {\n        vertical-align: middle;\n    }\n\n    .dataframe tbody tr th {\n        vertical-align: top;\n    }\n\n    .dataframe thead th {\n        text-align: right;\n    }\n</style>\n<table border=\"1\" class=\"dataframe\">\n  <thead>\n    <tr style=\"text-align: right;\">\n      <th></th>\n      <th>hobby</th>\n      <th>weight</th>\n      <th>age</th>\n      <th>over 30</th>\n    </tr>\n  </thead>\n  <tbody>\n    <tr>\n      <td>alice</td>\n      <td>Biking</td>\n      <td>68</td>\n      <td>33</td>\n      <td>True</td>\n    </tr>\n    <tr>\n      <td>bob</td>\n      <td>Dancing</td>\n      <td>83</td>\n      <td>34</td>\n      <td>True</td>\n    </tr>\n    <tr>\n      <td>charles</td>\n      <td>NaN</td>\n      <td>112</td>\n      <td>26</td>\n      <td>False</td>\n    </tr>\n  </tbody>\n</table>\n</div>"
     },
     "metadata": {},
     "output_type": "execute_result",
     "execution_count": 55
    }
   ],
   "source": [
    "people[\"age\"] = 2018 - people[\"birthyear\"]  # adds a new column \"age\"\n",
    "people[\"over 30\"] = people[\"age\"] > 30      # adds another column \"over 30\"\n",
    "birthyears = people.pop(\"birthyear\")\n",
    "del people[\"children\"]\n",
    "\n",
    "people"
   ]
  },
  {
   "cell_type": "code",
   "execution_count": 56,
   "metadata": {
    "pycharm": {
     "is_executing": false,
     "name": "#%%\n"
    }
   },
   "outputs": [
    {
     "data": {
      "text/plain": "alice      1985\nbob        1984\ncharles    1992\nName: birthyear, dtype: int64"
     },
     "metadata": {},
     "output_type": "execute_result",
     "execution_count": 56
    }
   ],
   "source": [
    "birthyears"
   ]
  },
  {
   "cell_type": "markdown",
   "metadata": {},
   "source": [
    "When you add a new colum, it must have the same number of rows. Missing rows are filled with NaN, and extra rows are ignored:"
   ]
  },
  {
   "cell_type": "code",
   "execution_count": 57,
   "metadata": {
    "pycharm": {
     "is_executing": false,
     "name": "#%%\n"
    }
   },
   "outputs": [
    {
     "data": {
      "text/plain": "           hobby  weight  age  over 30  pets\nalice     Biking      68   33     True   NaN\nbob      Dancing      83   34     True   0.0\ncharles      NaN     112   26    False   5.0",
      "text/html": "<div>\n<style scoped>\n    .dataframe tbody tr th:only-of-type {\n        vertical-align: middle;\n    }\n\n    .dataframe tbody tr th {\n        vertical-align: top;\n    }\n\n    .dataframe thead th {\n        text-align: right;\n    }\n</style>\n<table border=\"1\" class=\"dataframe\">\n  <thead>\n    <tr style=\"text-align: right;\">\n      <th></th>\n      <th>hobby</th>\n      <th>weight</th>\n      <th>age</th>\n      <th>over 30</th>\n      <th>pets</th>\n    </tr>\n  </thead>\n  <tbody>\n    <tr>\n      <td>alice</td>\n      <td>Biking</td>\n      <td>68</td>\n      <td>33</td>\n      <td>True</td>\n      <td>NaN</td>\n    </tr>\n    <tr>\n      <td>bob</td>\n      <td>Dancing</td>\n      <td>83</td>\n      <td>34</td>\n      <td>True</td>\n      <td>0.0</td>\n    </tr>\n    <tr>\n      <td>charles</td>\n      <td>NaN</td>\n      <td>112</td>\n      <td>26</td>\n      <td>False</td>\n      <td>5.0</td>\n    </tr>\n  </tbody>\n</table>\n</div>"
     },
     "metadata": {},
     "output_type": "execute_result",
     "execution_count": 57
    }
   ],
   "source": [
    "people[\"pets\"] = pd.Series({\"bob\": 0, \"charles\": 5, \"eugene\":1})  # alice is missing, eugene is ignored\n",
    "people"
   ]
  },
  {
   "cell_type": "markdown",
   "metadata": {},
   "source": [
    "When adding a new column, it is added at the end (on the right) by default. You can also insert a column anywhere else using the `insert()` method:"
   ]
  },
  {
   "cell_type": "code",
   "execution_count": 58,
   "metadata": {
    "pycharm": {
     "is_executing": false,
     "name": "#%%\n"
    }
   },
   "outputs": [
    {
     "data": {
      "text/plain": "           hobby  height  weight  age  over 30  pets\nalice     Biking     172      68   33     True   NaN\nbob      Dancing     181      83   34     True   0.0\ncharles      NaN     185     112   26    False   5.0",
      "text/html": "<div>\n<style scoped>\n    .dataframe tbody tr th:only-of-type {\n        vertical-align: middle;\n    }\n\n    .dataframe tbody tr th {\n        vertical-align: top;\n    }\n\n    .dataframe thead th {\n        text-align: right;\n    }\n</style>\n<table border=\"1\" class=\"dataframe\">\n  <thead>\n    <tr style=\"text-align: right;\">\n      <th></th>\n      <th>hobby</th>\n      <th>height</th>\n      <th>weight</th>\n      <th>age</th>\n      <th>over 30</th>\n      <th>pets</th>\n    </tr>\n  </thead>\n  <tbody>\n    <tr>\n      <td>alice</td>\n      <td>Biking</td>\n      <td>172</td>\n      <td>68</td>\n      <td>33</td>\n      <td>True</td>\n      <td>NaN</td>\n    </tr>\n    <tr>\n      <td>bob</td>\n      <td>Dancing</td>\n      <td>181</td>\n      <td>83</td>\n      <td>34</td>\n      <td>True</td>\n      <td>0.0</td>\n    </tr>\n    <tr>\n      <td>charles</td>\n      <td>NaN</td>\n      <td>185</td>\n      <td>112</td>\n      <td>26</td>\n      <td>False</td>\n      <td>5.0</td>\n    </tr>\n  </tbody>\n</table>\n</div>"
     },
     "metadata": {},
     "output_type": "execute_result",
     "execution_count": 58
    }
   ],
   "source": [
    "people.insert(1, \"height\", [172, 181, 185])\n",
    "people"
   ]
  },
  {
   "cell_type": "markdown",
   "metadata": {},
   "source": [
    "## 3.5 Evaluating an expression\n",
    "A great feature supported by pandas is expression evaluation. This relies on the `numexpr` library which must be installed."
   ]
  },
  {
   "cell_type": "code",
   "execution_count": 59,
   "metadata": {
    "pycharm": {
     "is_executing": false,
     "name": "#%%\n"
    }
   },
   "outputs": [
    {
     "data": {
      "text/plain": "alice      False\nbob         True\ncharles     True\ndtype: bool"
     },
     "metadata": {},
     "output_type": "execute_result",
     "execution_count": 59
    }
   ],
   "source": [
    "people.eval(\"weight / (height/100) ** 2 > 25\")"
   ]
  },
  {
   "cell_type": "markdown",
   "metadata": {},
   "source": [
    "Assignment expressions are also supported. Let's set `inplace=True` to directly modify the `DataFrame` rather than getting a modified copy:"
   ]
  },
  {
   "cell_type": "code",
   "execution_count": 60,
   "metadata": {
    "pycharm": {
     "is_executing": false,
     "name": "#%%\n"
    }
   },
   "outputs": [
    {
     "data": {
      "text/plain": "           hobby  height  weight  age  over 30  pets  body_mass_index\nalice     Biking     172      68   33     True   NaN        22.985398\nbob      Dancing     181      83   34     True   0.0        25.335002\ncharles      NaN     185     112   26    False   5.0        32.724617",
      "text/html": "<div>\n<style scoped>\n    .dataframe tbody tr th:only-of-type {\n        vertical-align: middle;\n    }\n\n    .dataframe tbody tr th {\n        vertical-align: top;\n    }\n\n    .dataframe thead th {\n        text-align: right;\n    }\n</style>\n<table border=\"1\" class=\"dataframe\">\n  <thead>\n    <tr style=\"text-align: right;\">\n      <th></th>\n      <th>hobby</th>\n      <th>height</th>\n      <th>weight</th>\n      <th>age</th>\n      <th>over 30</th>\n      <th>pets</th>\n      <th>body_mass_index</th>\n    </tr>\n  </thead>\n  <tbody>\n    <tr>\n      <td>alice</td>\n      <td>Biking</td>\n      <td>172</td>\n      <td>68</td>\n      <td>33</td>\n      <td>True</td>\n      <td>NaN</td>\n      <td>22.985398</td>\n    </tr>\n    <tr>\n      <td>bob</td>\n      <td>Dancing</td>\n      <td>181</td>\n      <td>83</td>\n      <td>34</td>\n      <td>True</td>\n      <td>0.0</td>\n      <td>25.335002</td>\n    </tr>\n    <tr>\n      <td>charles</td>\n      <td>NaN</td>\n      <td>185</td>\n      <td>112</td>\n      <td>26</td>\n      <td>False</td>\n      <td>5.0</td>\n      <td>32.724617</td>\n    </tr>\n  </tbody>\n</table>\n</div>"
     },
     "metadata": {},
     "output_type": "execute_result",
     "execution_count": 60
    }
   ],
   "source": [
    "people.eval(\"body_mass_index = weight / (height/100) ** 2\", inplace=True)\n",
    "people"
   ]
  },
  {
   "cell_type": "markdown",
   "metadata": {},
   "source": [
    "You can use a local or global variable in an expression by prefixing it with `'@'`:"
   ]
  },
  {
   "cell_type": "code",
   "execution_count": 61,
   "metadata": {
    "pycharm": {
     "is_executing": false,
     "name": "#%%\n"
    }
   },
   "outputs": [
    {
     "data": {
      "text/plain": "           hobby  height  weight  age  over 30  pets  body_mass_index  \\\nalice     Biking     172      68   33     True   NaN        22.985398   \nbob      Dancing     181      83   34     True   0.0        25.335002   \ncharles      NaN     185     112   26    False   5.0        32.724617   \n\n         overweight  \nalice         False  \nbob           False  \ncharles        True  ",
      "text/html": "<div>\n<style scoped>\n    .dataframe tbody tr th:only-of-type {\n        vertical-align: middle;\n    }\n\n    .dataframe tbody tr th {\n        vertical-align: top;\n    }\n\n    .dataframe thead th {\n        text-align: right;\n    }\n</style>\n<table border=\"1\" class=\"dataframe\">\n  <thead>\n    <tr style=\"text-align: right;\">\n      <th></th>\n      <th>hobby</th>\n      <th>height</th>\n      <th>weight</th>\n      <th>age</th>\n      <th>over 30</th>\n      <th>pets</th>\n      <th>body_mass_index</th>\n      <th>overweight</th>\n    </tr>\n  </thead>\n  <tbody>\n    <tr>\n      <td>alice</td>\n      <td>Biking</td>\n      <td>172</td>\n      <td>68</td>\n      <td>33</td>\n      <td>True</td>\n      <td>NaN</td>\n      <td>22.985398</td>\n      <td>False</td>\n    </tr>\n    <tr>\n      <td>bob</td>\n      <td>Dancing</td>\n      <td>181</td>\n      <td>83</td>\n      <td>34</td>\n      <td>True</td>\n      <td>0.0</td>\n      <td>25.335002</td>\n      <td>False</td>\n    </tr>\n    <tr>\n      <td>charles</td>\n      <td>NaN</td>\n      <td>185</td>\n      <td>112</td>\n      <td>26</td>\n      <td>False</td>\n      <td>5.0</td>\n      <td>32.724617</td>\n      <td>True</td>\n    </tr>\n  </tbody>\n</table>\n</div>"
     },
     "metadata": {},
     "output_type": "execute_result",
     "execution_count": 61
    }
   ],
   "source": [
    "overweight_threshold = 30\n",
    "people.eval(\"overweight = body_mass_index > @overweight_threshold\", inplace=True)\n",
    "people"
   ]
  },
  {
   "cell_type": "markdown",
   "metadata": {},
   "source": [
    "## 3.6 Querying a `DataFrame`\n",
    "The `query()` method lets you filter a `DataFrame` based on a query expression:"
   ]
  },
  {
   "cell_type": "code",
   "execution_count": 62,
   "metadata": {
    "pycharm": {
     "is_executing": false,
     "name": "#%%\n"
    }
   },
   "outputs": [
    {
     "data": {
      "text/plain": "       hobby  height  weight  age  over 30  pets  body_mass_index  overweight\nbob  Dancing     181      83   34     True   0.0        25.335002       False",
      "text/html": "<div>\n<style scoped>\n    .dataframe tbody tr th:only-of-type {\n        vertical-align: middle;\n    }\n\n    .dataframe tbody tr th {\n        vertical-align: top;\n    }\n\n    .dataframe thead th {\n        text-align: right;\n    }\n</style>\n<table border=\"1\" class=\"dataframe\">\n  <thead>\n    <tr style=\"text-align: right;\">\n      <th></th>\n      <th>hobby</th>\n      <th>height</th>\n      <th>weight</th>\n      <th>age</th>\n      <th>over 30</th>\n      <th>pets</th>\n      <th>body_mass_index</th>\n      <th>overweight</th>\n    </tr>\n  </thead>\n  <tbody>\n    <tr>\n      <td>bob</td>\n      <td>Dancing</td>\n      <td>181</td>\n      <td>83</td>\n      <td>34</td>\n      <td>True</td>\n      <td>0.0</td>\n      <td>25.335002</td>\n      <td>False</td>\n    </tr>\n  </tbody>\n</table>\n</div>"
     },
     "metadata": {},
     "output_type": "execute_result",
     "execution_count": 62
    }
   ],
   "source": [
    "people.query(\"age > 30 and pets == 0\")"
   ]
  },
  {
   "cell_type": "markdown",
   "metadata": {
    "pycharm": {
     "name": "#%% md\n"
    }
   },
   "source": [
    "## 3.6 EXERCISES Querying a `DataFrame`\n",
    "\n",
    "<div class=\"alert alert-success\">\n",
    "\n",
    "<b>EXERCISE</b>:\n",
    "\n",
    "<ul>\n",
    "  <li>Write a Pandas program to select the rows where number of attempts in the examination is less than 2 and score greater than 15.</li>\n",
    "</ul>\n",
    "\n",
    "</div>\n"
   ]
  },
  {
   "cell_type": "code",
   "execution_count": 63,
   "metadata": {
    "pycharm": {
     "is_executing": false,
     "name": "#%%\n"
    }
   },
   "outputs": [],
   "source": [
    "exam_data  = {'name': ['Anastasia', 'Dima', 'Katherine', 'James', 'Emily', 'Michael', 'Matthew', 'Laura', 'Kevin', 'Jonas'],\n",
    "        'score': [12.5, 9, 16.5, np.nan, 9, 20, 14.5, np.nan, 8, 19],\n",
    "        'attempts': [1, 3, 2, 3, 2, 3, 1, 1, 2, 1],\n",
    "        'qualify': ['yes', 'no', 'yes', 'no', 'no', 'yes', 'yes', 'no', 'no', 'yes']}\n",
    "labels = ['a', 'b', 'c', 'd', 'e', 'f', 'g', 'h', 'i', 'j']"
   ]
  },
  {
   "cell_type": "markdown",
   "metadata": {},
   "source": [
    "## 3.7 Sorting a `DataFrame`\n",
    "You can sort a `DataFrame` by calling its `sort_index` method. By default it sorts the rows by their index label, in ascending order, but let's reverse the order:"
   ]
  },
  {
   "cell_type": "code",
   "execution_count": 64,
   "metadata": {
    "pycharm": {
     "is_executing": false,
     "name": "#%%\n"
    }
   },
   "outputs": [
    {
     "data": {
      "text/plain": "           hobby  height  weight  age  over 30  pets  body_mass_index  \\\ncharles      NaN     185     112   26    False   5.0        32.724617   \nbob      Dancing     181      83   34     True   0.0        25.335002   \nalice     Biking     172      68   33     True   NaN        22.985398   \n\n         overweight  \ncharles        True  \nbob           False  \nalice         False  ",
      "text/html": "<div>\n<style scoped>\n    .dataframe tbody tr th:only-of-type {\n        vertical-align: middle;\n    }\n\n    .dataframe tbody tr th {\n        vertical-align: top;\n    }\n\n    .dataframe thead th {\n        text-align: right;\n    }\n</style>\n<table border=\"1\" class=\"dataframe\">\n  <thead>\n    <tr style=\"text-align: right;\">\n      <th></th>\n      <th>hobby</th>\n      <th>height</th>\n      <th>weight</th>\n      <th>age</th>\n      <th>over 30</th>\n      <th>pets</th>\n      <th>body_mass_index</th>\n      <th>overweight</th>\n    </tr>\n  </thead>\n  <tbody>\n    <tr>\n      <td>charles</td>\n      <td>NaN</td>\n      <td>185</td>\n      <td>112</td>\n      <td>26</td>\n      <td>False</td>\n      <td>5.0</td>\n      <td>32.724617</td>\n      <td>True</td>\n    </tr>\n    <tr>\n      <td>bob</td>\n      <td>Dancing</td>\n      <td>181</td>\n      <td>83</td>\n      <td>34</td>\n      <td>True</td>\n      <td>0.0</td>\n      <td>25.335002</td>\n      <td>False</td>\n    </tr>\n    <tr>\n      <td>alice</td>\n      <td>Biking</td>\n      <td>172</td>\n      <td>68</td>\n      <td>33</td>\n      <td>True</td>\n      <td>NaN</td>\n      <td>22.985398</td>\n      <td>False</td>\n    </tr>\n  </tbody>\n</table>\n</div>"
     },
     "metadata": {},
     "output_type": "execute_result",
     "execution_count": 64
    }
   ],
   "source": [
    "people.sort_index(ascending=False)"
   ]
  },
  {
   "cell_type": "markdown",
   "metadata": {},
   "source": [
    "Note that `sort_index` returned a sorted *copy* of the `DataFrame`. To modify `people` directly, we can set the `inplace` argument to `True`. Also, we can sort the columns instead of the rows by setting `axis=1`:"
   ]
  },
  {
   "cell_type": "code",
   "execution_count": 65,
   "metadata": {
    "pycharm": {
     "is_executing": false,
     "name": "#%%\n"
    }
   },
   "outputs": [
    {
     "data": {
      "text/plain": "         age  body_mass_index  height    hobby  over 30  overweight  pets  \\\nalice     33        22.985398     172   Biking     True       False   NaN   \nbob       34        25.335002     181  Dancing     True       False   0.0   \ncharles   26        32.724617     185      NaN    False        True   5.0   \n\n         weight  \nalice        68  \nbob          83  \ncharles     112  ",
      "text/html": "<div>\n<style scoped>\n    .dataframe tbody tr th:only-of-type {\n        vertical-align: middle;\n    }\n\n    .dataframe tbody tr th {\n        vertical-align: top;\n    }\n\n    .dataframe thead th {\n        text-align: right;\n    }\n</style>\n<table border=\"1\" class=\"dataframe\">\n  <thead>\n    <tr style=\"text-align: right;\">\n      <th></th>\n      <th>age</th>\n      <th>body_mass_index</th>\n      <th>height</th>\n      <th>hobby</th>\n      <th>over 30</th>\n      <th>overweight</th>\n      <th>pets</th>\n      <th>weight</th>\n    </tr>\n  </thead>\n  <tbody>\n    <tr>\n      <td>alice</td>\n      <td>33</td>\n      <td>22.985398</td>\n      <td>172</td>\n      <td>Biking</td>\n      <td>True</td>\n      <td>False</td>\n      <td>NaN</td>\n      <td>68</td>\n    </tr>\n    <tr>\n      <td>bob</td>\n      <td>34</td>\n      <td>25.335002</td>\n      <td>181</td>\n      <td>Dancing</td>\n      <td>True</td>\n      <td>False</td>\n      <td>0.0</td>\n      <td>83</td>\n    </tr>\n    <tr>\n      <td>charles</td>\n      <td>26</td>\n      <td>32.724617</td>\n      <td>185</td>\n      <td>NaN</td>\n      <td>False</td>\n      <td>True</td>\n      <td>5.0</td>\n      <td>112</td>\n    </tr>\n  </tbody>\n</table>\n</div>"
     },
     "metadata": {},
     "output_type": "execute_result",
     "execution_count": 65
    }
   ],
   "source": [
    "people.sort_index(axis=1, inplace=True)\n",
    "people"
   ]
  },
  {
   "cell_type": "markdown",
   "metadata": {},
   "source": [
    "To sort the `DataFrame` by the values instead of the labels, we can use `sort_values` and specify the column to sort by:"
   ]
  },
  {
   "cell_type": "code",
   "execution_count": 66,
   "metadata": {
    "pycharm": {
     "is_executing": false,
     "name": "#%%\n"
    }
   },
   "outputs": [
    {
     "data": {
      "text/plain": "         age  body_mass_index  height    hobby  over 30  overweight  pets  \\\ncharles   26        32.724617     185      NaN    False        True   5.0   \nalice     33        22.985398     172   Biking     True       False   NaN   \nbob       34        25.335002     181  Dancing     True       False   0.0   \n\n         weight  \ncharles     112  \nalice        68  \nbob          83  ",
      "text/html": "<div>\n<style scoped>\n    .dataframe tbody tr th:only-of-type {\n        vertical-align: middle;\n    }\n\n    .dataframe tbody tr th {\n        vertical-align: top;\n    }\n\n    .dataframe thead th {\n        text-align: right;\n    }\n</style>\n<table border=\"1\" class=\"dataframe\">\n  <thead>\n    <tr style=\"text-align: right;\">\n      <th></th>\n      <th>age</th>\n      <th>body_mass_index</th>\n      <th>height</th>\n      <th>hobby</th>\n      <th>over 30</th>\n      <th>overweight</th>\n      <th>pets</th>\n      <th>weight</th>\n    </tr>\n  </thead>\n  <tbody>\n    <tr>\n      <td>charles</td>\n      <td>26</td>\n      <td>32.724617</td>\n      <td>185</td>\n      <td>NaN</td>\n      <td>False</td>\n      <td>True</td>\n      <td>5.0</td>\n      <td>112</td>\n    </tr>\n    <tr>\n      <td>alice</td>\n      <td>33</td>\n      <td>22.985398</td>\n      <td>172</td>\n      <td>Biking</td>\n      <td>True</td>\n      <td>False</td>\n      <td>NaN</td>\n      <td>68</td>\n    </tr>\n    <tr>\n      <td>bob</td>\n      <td>34</td>\n      <td>25.335002</td>\n      <td>181</td>\n      <td>Dancing</td>\n      <td>True</td>\n      <td>False</td>\n      <td>0.0</td>\n      <td>83</td>\n    </tr>\n  </tbody>\n</table>\n</div>"
     },
     "metadata": {},
     "output_type": "execute_result",
     "execution_count": 66
    }
   ],
   "source": [
    "people.sort_values(by=\"age\", inplace=True)\n",
    "people"
   ]
  },
  {
   "cell_type": "markdown",
   "metadata": {
    "pycharm": {
     "name": "#%% md\n"
    }
   },
   "source": [
    "## 3.7 EXERCISES Sorting a `DataFrame`\n",
    "\n",
    "<div class=\"alert alert-success\">\n",
    "\n",
    "<b>EXERCISE</b>:\n",
    "\n",
    "<ul>\n",
    "  <li>Write a Pandas program to sort the data frame first by 'name' in descending order, then by 'score' in ascending order.</li>\n",
    "</ul>\n",
    "\n",
    "</div>\n"
   ]
  },
  {
   "cell_type": "code",
   "execution_count": 67,
   "metadata": {
    "pycharm": {
     "is_executing": false,
     "name": "#%%\n"
    }
   },
   "outputs": [],
   "source": [
    "exam_data  = {'name': ['Anastasia', 'Dima', 'Katherine', 'James', 'Emily', 'Michael', 'Matthew', 'Laura', 'Kevin', 'Jonas'],\n",
    "        'score': [12.5, 9, 16.5, np.nan, 9, 20, 14.5, np.nan, 8, 19],\n",
    "        'attempts': [1, 3, 2, 3, 2, 3, 1, 1, 2, 1],\n",
    "        'qualify': ['yes', 'no', 'yes', 'no', 'no', 'yes', 'yes', 'no', 'no', 'yes']}\n",
    "labels = ['a', 'b', 'c', 'd', 'e', 'f', 'g', 'h', 'i', 'j']"
   ]
  },
  {
   "cell_type": "markdown",
   "metadata": {},
   "source": [
    "## 3.8 Plotting a `DataFrame`\n",
    "Just like for `Series`, pandas makes it easy to draw nice graphs based on a `DataFrame`.\n",
    "\n",
    "For example, it is trivial to create a line plot from a `DataFrame`'s data by calling its `plot` method:"
   ]
  },
  {
   "cell_type": "code",
   "execution_count": 68,
   "metadata": {
    "pycharm": {
     "is_executing": false,
     "name": "#%%\n"
    }
   },
   "outputs": [
    {
     "data": {
      "text/plain": "<Figure size 432x288 with 1 Axes>",
      "image/png": "[encoded data removed]"
     },
     "metadata": {
      "needs_background": "light"
     },
     "output_type": "display_data"
    }
   ],
   "source": [
    "people.plot(kind = \"line\", x = \"body_mass_index\", y = [\"height\", \"weight\"])\n",
    "plt.show()"
   ]
  },
  {
   "cell_type": "markdown",
   "metadata": {},
   "source": [
    "You can pass extra arguments supported by matplotlib's functions. For example, we can create scatterplot and pass it a list of sizes using the `s` argument of matplotlib's `scatter()` function:"
   ]
  },
  {
   "cell_type": "code",
   "execution_count": 69,
   "metadata": {
    "pycharm": {
     "is_executing": false,
     "name": "#%%\n"
    }
   },
   "outputs": [
    {
     "data": {
      "text/plain": "<Figure size 432x288 with 1 Axes>",
      "image/png": "[encoded data removed]"
     },
     "metadata": {
      "needs_background": "light"
     },
     "output_type": "display_data"
    }
   ],
   "source": [
    "people.plot(kind = \"scatter\", x = \"height\", y = \"weight\", s=[40, 120, 200])\n",
    "plt.show()"
   ]
  },
  {
   "cell_type": "markdown",
   "metadata": {},
   "source": [
    "Again, there are way too many options to list here: the best option is to scroll through the [Visualization](http://pandas.pydata.org/pandas-docs/stable/visualization.html) page in pandas' documentation, find the plot you are interested in and look at the example code."
   ]
  },
  {
   "cell_type": "markdown",
   "metadata": {},
   "source": [
    "## 3.9 Operations on `DataFrame`s\n",
    "Although `DataFrame`s do not try to mimick NumPy arrays, there are a few similarities. Let's create a `DataFrame` to demonstrate this:"
   ]
  },
  {
   "cell_type": "code",
   "execution_count": 70,
   "metadata": {
    "pycharm": {
     "is_executing": false,
     "name": "#%%\n"
    }
   },
   "outputs": [
    {
     "data": {
      "text/plain": "         sep  oct  nov\nalice      8    8    9\nbob       10    9    9\ncharles    4    8    2\ndarwin     9   10   10",
      "text/html": "<div>\n<style scoped>\n    .dataframe tbody tr th:only-of-type {\n        vertical-align: middle;\n    }\n\n    .dataframe tbody tr th {\n        vertical-align: top;\n    }\n\n    .dataframe thead th {\n        text-align: right;\n    }\n</style>\n<table border=\"1\" class=\"dataframe\">\n  <thead>\n    <tr style=\"text-align: right;\">\n      <th></th>\n      <th>sep</th>\n      <th>oct</th>\n      <th>nov</th>\n    </tr>\n  </thead>\n  <tbody>\n    <tr>\n      <td>alice</td>\n      <td>8</td>\n      <td>8</td>\n      <td>9</td>\n    </tr>\n    <tr>\n      <td>bob</td>\n      <td>10</td>\n      <td>9</td>\n      <td>9</td>\n    </tr>\n    <tr>\n      <td>charles</td>\n      <td>4</td>\n      <td>8</td>\n      <td>2</td>\n    </tr>\n    <tr>\n      <td>darwin</td>\n      <td>9</td>\n      <td>10</td>\n      <td>10</td>\n    </tr>\n  </tbody>\n</table>\n</div>"
     },
     "metadata": {},
     "output_type": "execute_result",
     "execution_count": 70
    }
   ],
   "source": [
    "grades_array = np.array([[8,8,9],[10,9,9],[4, 8, 2], [9, 10, 10]])\n",
    "grades = pd.DataFrame(grades_array, columns=[\"sep\", \"oct\", \"nov\"], index=[\"alice\",\"bob\",\"charles\",\"darwin\"])\n",
    "grades"
   ]
  },
  {
   "cell_type": "markdown",
   "metadata": {},
   "source": [
    "You can apply NumPy mathematical functions on a `DataFrame`: the function is applied to all values:"
   ]
  },
  {
   "cell_type": "code",
   "execution_count": 71,
   "metadata": {
    "pycharm": {
     "is_executing": false,
     "name": "#%%\n"
    }
   },
   "outputs": [
    {
     "data": {
      "text/plain": "              sep       oct       nov\nalice    2.828427  2.828427  3.000000\nbob      3.162278  3.000000  3.000000\ncharles  2.000000  2.828427  1.414214\ndarwin   3.000000  3.162278  3.162278",
      "text/html": "<div>\n<style scoped>\n    .dataframe tbody tr th:only-of-type {\n        vertical-align: middle;\n    }\n\n    .dataframe tbody tr th {\n        vertical-align: top;\n    }\n\n    .dataframe thead th {\n        text-align: right;\n    }\n</style>\n<table border=\"1\" class=\"dataframe\">\n  <thead>\n    <tr style=\"text-align: right;\">\n      <th></th>\n      <th>sep</th>\n      <th>oct</th>\n      <th>nov</th>\n    </tr>\n  </thead>\n  <tbody>\n    <tr>\n      <td>alice</td>\n      <td>2.828427</td>\n      <td>2.828427</td>\n      <td>3.000000</td>\n    </tr>\n    <tr>\n      <td>bob</td>\n      <td>3.162278</td>\n      <td>3.000000</td>\n      <td>3.000000</td>\n    </tr>\n    <tr>\n      <td>charles</td>\n      <td>2.000000</td>\n      <td>2.828427</td>\n      <td>1.414214</td>\n    </tr>\n    <tr>\n      <td>darwin</td>\n      <td>3.000000</td>\n      <td>3.162278</td>\n      <td>3.162278</td>\n    </tr>\n  </tbody>\n</table>\n</div>"
     },
     "metadata": {},
     "output_type": "execute_result",
     "execution_count": 71
    }
   ],
   "source": [
    "np.sqrt(grades)"
   ]
  },
  {
   "cell_type": "markdown",
   "metadata": {},
   "source": [
    "Similarly, adding a single value to a `DataFrame` will add that value to all elements in the `DataFrame`. This is called *broadcasting*:"
   ]
  },
  {
   "cell_type": "code",
   "execution_count": 72,
   "metadata": {
    "pycharm": {
     "is_executing": false,
     "name": "#%%\n"
    }
   },
   "outputs": [
    {
     "data": {
      "text/plain": "         sep  oct  nov\nalice      9    9   10\nbob       11   10   10\ncharles    5    9    3\ndarwin    10   11   11",
      "text/html": "<div>\n<style scoped>\n    .dataframe tbody tr th:only-of-type {\n        vertical-align: middle;\n    }\n\n    .dataframe tbody tr th {\n        vertical-align: top;\n    }\n\n    .dataframe thead th {\n        text-align: right;\n    }\n</style>\n<table border=\"1\" class=\"dataframe\">\n  <thead>\n    <tr style=\"text-align: right;\">\n      <th></th>\n      <th>sep</th>\n      <th>oct</th>\n      <th>nov</th>\n    </tr>\n  </thead>\n  <tbody>\n    <tr>\n      <td>alice</td>\n      <td>9</td>\n      <td>9</td>\n      <td>10</td>\n    </tr>\n    <tr>\n      <td>bob</td>\n      <td>11</td>\n      <td>10</td>\n      <td>10</td>\n    </tr>\n    <tr>\n      <td>charles</td>\n      <td>5</td>\n      <td>9</td>\n      <td>3</td>\n    </tr>\n    <tr>\n      <td>darwin</td>\n      <td>10</td>\n      <td>11</td>\n      <td>11</td>\n    </tr>\n  </tbody>\n</table>\n</div>"
     },
     "metadata": {},
     "output_type": "execute_result",
     "execution_count": 72
    }
   ],
   "source": [
    "grades + 1"
   ]
  },
  {
   "cell_type": "markdown",
   "metadata": {},
   "source": [
    "Of course, the same is true for all other binary operations, including arithmetic (`*`,`/`,`**`...) and conditional (`>`, `==`...) operations:"
   ]
  },
  {
   "cell_type": "code",
   "execution_count": 73,
   "metadata": {
    "pycharm": {
     "is_executing": false,
     "name": "#%%\n"
    }
   },
   "outputs": [
    {
     "data": {
      "text/plain": "           sep   oct    nov\nalice     True  True   True\nbob       True  True   True\ncharles  False  True  False\ndarwin    True  True   True",
      "text/html": "<div>\n<style scoped>\n    .dataframe tbody tr th:only-of-type {\n        vertical-align: middle;\n    }\n\n    .dataframe tbody tr th {\n        vertical-align: top;\n    }\n\n    .dataframe thead th {\n        text-align: right;\n    }\n</style>\n<table border=\"1\" class=\"dataframe\">\n  <thead>\n    <tr style=\"text-align: right;\">\n      <th></th>\n      <th>sep</th>\n      <th>oct</th>\n      <th>nov</th>\n    </tr>\n  </thead>\n  <tbody>\n    <tr>\n      <td>alice</td>\n      <td>True</td>\n      <td>True</td>\n      <td>True</td>\n    </tr>\n    <tr>\n      <td>bob</td>\n      <td>True</td>\n      <td>True</td>\n      <td>True</td>\n    </tr>\n    <tr>\n      <td>charles</td>\n      <td>False</td>\n      <td>True</td>\n      <td>False</td>\n    </tr>\n    <tr>\n      <td>darwin</td>\n      <td>True</td>\n      <td>True</td>\n      <td>True</td>\n    </tr>\n  </tbody>\n</table>\n</div>"
     },
     "metadata": {},
     "output_type": "execute_result",
     "execution_count": 73
    }
   ],
   "source": [
    "grades >= 5"
   ]
  },
  {
   "cell_type": "markdown",
   "metadata": {},
   "source": [
    "Aggregation operations, such as computing the `max`, the `sum` or the `mean` of a `DataFrame`, apply to each column, and you get back a `Series` object:"
   ]
  },
  {
   "cell_type": "code",
   "execution_count": 74,
   "metadata": {
    "pycharm": {
     "is_executing": false,
     "name": "#%%\n"
    }
   },
   "outputs": [
    {
     "data": {
      "text/plain": "sep    7.75\noct    8.75\nnov    7.50\ndtype: float64"
     },
     "metadata": {},
     "output_type": "execute_result",
     "execution_count": 74
    }
   ],
   "source": [
    "grades.mean()"
   ]
  },
  {
   "cell_type": "markdown",
   "metadata": {},
   "source": [
    "The `all` method is also an aggregation operation: it checks whether all values are `True` or not. Let's see during which months all students got a grade greater than `5`:"
   ]
  },
  {
   "cell_type": "code",
   "execution_count": 75,
   "metadata": {
    "pycharm": {
     "is_executing": false,
     "name": "#%%\n"
    }
   },
   "outputs": [
    {
     "data": {
      "text/plain": "sep    False\noct     True\nnov    False\ndtype: bool"
     },
     "metadata": {},
     "output_type": "execute_result",
     "execution_count": 75
    }
   ],
   "source": [
    "(grades > 5).all()"
   ]
  },
  {
   "cell_type": "markdown",
   "metadata": {},
   "source": [
    "Most of these functions take an optional `axis` parameter which lets you specify along which axis of the `DataFrame` you want the operation executed. The default is `axis=0`, meaning that the operation is executed vertically (on each column). You can set `axis=1` to execute the operation horizontally (on each row). For example, let's find out which students had all grades greater than `5`:"
   ]
  },
  {
   "cell_type": "code",
   "execution_count": 76,
   "metadata": {
    "pycharm": {
     "is_executing": false,
     "name": "#%%\n"
    }
   },
   "outputs": [
    {
     "data": {
      "text/plain": "alice       True\nbob         True\ncharles    False\ndarwin      True\ndtype: bool"
     },
     "metadata": {},
     "output_type": "execute_result",
     "execution_count": 76
    }
   ],
   "source": [
    "(grades > 5).all(axis = 1)"
   ]
  },
  {
   "cell_type": "markdown",
   "metadata": {},
   "source": [
    "The `any` method returns `True` if any value is True. Let's see who got at least one grade 10:"
   ]
  },
  {
   "cell_type": "code",
   "execution_count": 77,
   "metadata": {
    "pycharm": {
     "is_executing": false,
     "name": "#%%\n"
    }
   },
   "outputs": [
    {
     "data": {
      "text/plain": "alice      False\nbob         True\ncharles    False\ndarwin      True\ndtype: bool"
     },
     "metadata": {},
     "output_type": "execute_result",
     "execution_count": 77
    }
   ],
   "source": [
    "(grades == 10).any(axis = 1)"
   ]
  },
  {
   "cell_type": "markdown",
   "metadata": {},
   "source": [
    "If you add a `Series` object to a `DataFrame` (or execute any other binary operation), pandas attempts to broadcast the operation to all *rows* in the `DataFrame`. This only works if the `Series` has the same size as the `DataFrame`s rows. For example, let's substract the `mean` of the `DataFrame` (a `Series` object) from the `DataFrame`:"
   ]
  },
  {
   "cell_type": "code",
   "execution_count": 78,
   "metadata": {
    "pycharm": {
     "is_executing": false,
     "name": "#%%\n"
    }
   },
   "outputs": [
    {
     "data": {
      "text/plain": "          sep   oct  nov\nalice    0.25 -0.75  1.5\nbob      2.25  0.25  1.5\ncharles -3.75 -0.75 -5.5\ndarwin   1.25  1.25  2.5",
      "text/html": "<div>\n<style scoped>\n    .dataframe tbody tr th:only-of-type {\n        vertical-align: middle;\n    }\n\n    .dataframe tbody tr th {\n        vertical-align: top;\n    }\n\n    .dataframe thead th {\n        text-align: right;\n    }\n</style>\n<table border=\"1\" class=\"dataframe\">\n  <thead>\n    <tr style=\"text-align: right;\">\n      <th></th>\n      <th>sep</th>\n      <th>oct</th>\n      <th>nov</th>\n    </tr>\n  </thead>\n  <tbody>\n    <tr>\n      <td>alice</td>\n      <td>0.25</td>\n      <td>-0.75</td>\n      <td>1.5</td>\n    </tr>\n    <tr>\n      <td>bob</td>\n      <td>2.25</td>\n      <td>0.25</td>\n      <td>1.5</td>\n    </tr>\n    <tr>\n      <td>charles</td>\n      <td>-3.75</td>\n      <td>-0.75</td>\n      <td>-5.5</td>\n    </tr>\n    <tr>\n      <td>darwin</td>\n      <td>1.25</td>\n      <td>1.25</td>\n      <td>2.5</td>\n    </tr>\n  </tbody>\n</table>\n</div>"
     },
     "metadata": {},
     "output_type": "execute_result",
     "execution_count": 78
    }
   ],
   "source": [
    "grades - grades.mean()  # equivalent to: grades - [7.75, 8.75, 7.50]"
   ]
  },
  {
   "cell_type": "markdown",
   "metadata": {},
   "source": [
    "We substracted `7.75` from all September grades, `8.75` from October grades and `7.50` from November grades. It is equivalent to substracting this `DataFrame`:"
   ]
  },
  {
   "cell_type": "code",
   "execution_count": 79,
   "metadata": {
    "pycharm": {
     "is_executing": false,
     "name": "#%%\n"
    }
   },
   "outputs": [
    {
     "data": {
      "text/plain": "          sep   oct  nov\nalice    7.75  8.75  7.5\nbob      7.75  8.75  7.5\ncharles  7.75  8.75  7.5\ndarwin   7.75  8.75  7.5",
      "text/html": "<div>\n<style scoped>\n    .dataframe tbody tr th:only-of-type {\n        vertical-align: middle;\n    }\n\n    .dataframe tbody tr th {\n        vertical-align: top;\n    }\n\n    .dataframe thead th {\n        text-align: right;\n    }\n</style>\n<table border=\"1\" class=\"dataframe\">\n  <thead>\n    <tr style=\"text-align: right;\">\n      <th></th>\n      <th>sep</th>\n      <th>oct</th>\n      <th>nov</th>\n    </tr>\n  </thead>\n  <tbody>\n    <tr>\n      <td>alice</td>\n      <td>7.75</td>\n      <td>8.75</td>\n      <td>7.5</td>\n    </tr>\n    <tr>\n      <td>bob</td>\n      <td>7.75</td>\n      <td>8.75</td>\n      <td>7.5</td>\n    </tr>\n    <tr>\n      <td>charles</td>\n      <td>7.75</td>\n      <td>8.75</td>\n      <td>7.5</td>\n    </tr>\n    <tr>\n      <td>darwin</td>\n      <td>7.75</td>\n      <td>8.75</td>\n      <td>7.5</td>\n    </tr>\n  </tbody>\n</table>\n</div>"
     },
     "metadata": {},
     "output_type": "execute_result",
     "execution_count": 79
    }
   ],
   "source": [
    "pd.DataFrame([[7.75, 8.75, 7.50]]*4, index=grades.index, columns=grades.columns)"
   ]
  },
  {
   "cell_type": "markdown",
   "metadata": {},
   "source": [
    "If you want to substract the global mean from every grade, here is one way to do it:"
   ]
  },
  {
   "cell_type": "code",
   "execution_count": 80,
   "metadata": {
    "pycharm": {
     "is_executing": false,
     "name": "#%%\n"
    }
   },
   "outputs": [
    {
     "data": {
      "text/plain": "         sep  oct  nov\nalice    0.0  0.0  1.0\nbob      2.0  1.0  1.0\ncharles -4.0  0.0 -6.0\ndarwin   1.0  2.0  2.0",
      "text/html": "<div>\n<style scoped>\n    .dataframe tbody tr th:only-of-type {\n        vertical-align: middle;\n    }\n\n    .dataframe tbody tr th {\n        vertical-align: top;\n    }\n\n    .dataframe thead th {\n        text-align: right;\n    }\n</style>\n<table border=\"1\" class=\"dataframe\">\n  <thead>\n    <tr style=\"text-align: right;\">\n      <th></th>\n      <th>sep</th>\n      <th>oct</th>\n      <th>nov</th>\n    </tr>\n  </thead>\n  <tbody>\n    <tr>\n      <td>alice</td>\n      <td>0.0</td>\n      <td>0.0</td>\n      <td>1.0</td>\n    </tr>\n    <tr>\n      <td>bob</td>\n      <td>2.0</td>\n      <td>1.0</td>\n      <td>1.0</td>\n    </tr>\n    <tr>\n      <td>charles</td>\n      <td>-4.0</td>\n      <td>0.0</td>\n      <td>-6.0</td>\n    </tr>\n    <tr>\n      <td>darwin</td>\n      <td>1.0</td>\n      <td>2.0</td>\n      <td>2.0</td>\n    </tr>\n  </tbody>\n</table>\n</div>"
     },
     "metadata": {},
     "output_type": "execute_result",
     "execution_count": 80
    }
   ],
   "source": [
    "grades - grades.values.mean() # substracts the global mean (8.00) from all grades\n"
   ]
  },
  {
   "cell_type": "markdown",
   "metadata": {
    "pycharm": {
     "name": "#%% md\n"
    }
   },
   "source": [
    "## 3.9 EXERCISES Operations on `DataFrame`s\n",
    "\n",
    "<div class=\"alert alert-success\">\n",
    "\n",
    "<b>EXERCISE</b>:\n",
    "\n",
    "<ul>\n",
    "  <li>Write a Pandas program to calculate the mean score for each different student in data frame.</li>\n",
    "</ul>\n",
    "\n",
    "</div>\n"
   ]
  },
  {
   "cell_type": "code",
   "execution_count": 81,
   "metadata": {
    "pycharm": {
     "is_executing": false,
     "name": "#%%\n"
    }
   },
   "outputs": [],
   "source": [
    "exam_data  = {'name': ['Anastasia', 'Dima', 'Katherine', 'James', 'Emily', 'Michael', 'Matthew', 'Laura', 'Kevin', 'Jonas'],\n",
    "        'score': [12.5, 9, 16.5, np.nan, 9, 20, 14.5, np.nan, 8, 19],\n",
    "        'attempts': [1, 3, 2, 3, 2, 3, 1, 1, 2, 1],\n",
    "        'qualify': ['yes', 'no', 'yes', 'no', 'no', 'yes', 'yes', 'no', 'no', 'yes']}\n",
    "labels = ['a', 'b', 'c', 'd', 'e', 'f', 'g', 'h', 'i', 'j']"
   ]
  },
  {
   "cell_type": "markdown",
   "metadata": {},
   "source": [
    "## 3.10 ADVANCED EXERCISES on `DataFrame`\n",
    "\n",
    "NO2 dataset."
   ]
  },
  {
   "cell_type": "code",
   "execution_count": 82,
   "metadata": {
    "pycharm": {
     "is_executing": false,
     "name": "#%%\n"
    }
   },
   "outputs": [],
   "source": [
    "no2 = pd.read_csv('data/20000101_20161231-NO2.csv', sep=';', skiprows=[1], na_values=['n/d'], index_col=0, parse_dates=True)\n"
   ]
  },
  {
   "cell_type": "markdown",
   "metadata": {},
   "source": [
    "<div class=\"alert alert-success\">\n",
    "\n",
    "<b>EXERCISE</b>: The evolution of the yearly averages with, and the overall mean of all stations\n",
    "\n",
    "</div>"
   ]
  },
  {
   "cell_type": "markdown",
   "metadata": {},
   "source": [
    "<div class=\"alert alert-success\">\n",
    "\n",
    "<b>EXERCISE</b>: how does the *typical monthly profile* look like for the different stations?\n",
    "\n",
    " <ul>\n",
    "  <li>Add a 'month' column to the dataframe.</li>\n",
    "  <li>Group by the month to obtain the typical monthly averages over the different years.</li>\n",
    "</ul>\n",
    "</div>"
   ]
  },
  {
   "cell_type": "markdown",
   "metadata": {},
   "source": [
    "<div class=\"alert alert-success\">\n",
    "\n",
    "<b>EXERCISE</b>: The typical diurnal profile for the different stations\n",
    "\n",
    " <ul>\n",
    "  <li>Similar as for the month, you can now group by the hour of the day.</li>\n",
    "</ul>\n",
    "</div>"
   ]
  },
  {
   "cell_type": "markdown",
   "metadata": {},
   "source": [
    "<div class=\"alert alert-success\">\n",
    "\n",
    "<b>EXERCISE</b>: What is the difference in the typical diurnal profile between week and weekend days for the 'BASCH' station.\n",
    "\n",
    " <ul>\n",
    "  <li>Add a column 'weekday' defining the different days in the week.</li>\n",
    "  <li>Add a column 'weekend' defining if a days is in the weekend (i.e. days 5 and 6) or not (True/False).</li>\n",
    "  <li>You can groupby on multiple items at the same time. In this case you would need to group by both weekend/weekday and hour of the day.</li>\n",
    "</ul>\n",
    "</div>\n"
   ]
  },
  {
   "cell_type": "markdown",
   "metadata": {},
   "source": [
    "<div class=\"alert alert-success\">\n",
    "\n",
    "<b>EXERCISE</b>: What are the number of exceedances of hourly values above the European limit 200 µg/m3 ?\n",
    "\n",
    "Count the number of exceedances of hourly values above the European limit 200 µg/m3 for each year and station after 2005. Make a barplot of the counts. Add an horizontal line indicating the maximum number of exceedances (which is 18) allowed per year?\n",
    "<br><br>\n",
    "\n",
    "Hints:\n",
    "\n",
    " <ul>\n",
    "  <li>Create a new DataFrame, called `exceedances`, (with boolean values) indicating if the threshold is exceeded or not</li>\n",
    "  <li>Remember that the sum of True values can be used to count elements. Do this using groupby for each year.</li>\n",
    "  <li>Adding a horizontal line can be done with the matplotlib function `ax.axhline`.</li>\n",
    "</ul>\n",
    "</div>\n"
   ]
  },
  {
   "cell_type": "markdown",
   "metadata": {},
   "source": [
    "# 4. Handling time\n",
    "Many datasets have timestamps, and pandas is awesome at manipulating such data:\n",
    "* it can represent periods (such as 2016Q3) and frequencies (such as \"monthly\"),\n",
    "* it can convert periods to actual timestamps, and *vice versa*,\n",
    "* it can resample data and aggregate values any way you like,\n",
    "* it can handle timezones.\n"
   ]
  },
  {
   "cell_type": "markdown",
   "metadata": {},
   "source": [
    "## 4.1 Introduction: datetime module\n",
    "\n",
    "Standard Python contains the `datetime` module to handle with date and time data:"
   ]
  },
  {
   "cell_type": "code",
   "execution_count": 83,
   "metadata": {
    "pycharm": {
     "is_executing": false,
     "name": "#%%\n"
    }
   },
   "outputs": [],
   "source": [
    "import datetime"
   ]
  },
  {
   "cell_type": "code",
   "execution_count": 84,
   "metadata": {
    "pycharm": {
     "is_executing": false,
     "name": "#%%\n"
    }
   },
   "outputs": [
    {
     "data": {
      "text/plain": "datetime.datetime(2016, 12, 19, 13, 30)"
     },
     "metadata": {},
     "output_type": "execute_result",
     "execution_count": 84
    }
   ],
   "source": [
    "dt = datetime.datetime(year=2016, month=12, day=19, hour=13, minute=30)\n",
    "dt"
   ]
  },
  {
   "cell_type": "code",
   "execution_count": 85,
   "metadata": {
    "pycharm": {
     "is_executing": false,
     "name": "#%%\n"
    }
   },
   "outputs": [
    {
     "name": "stdout",
     "text": [
      "2016-12-19 13:30:00\n"
     ],
     "output_type": "stream"
    }
   ],
   "source": [
    "print(dt) # .day,..."
   ]
  },
  {
   "cell_type": "code",
   "execution_count": 86,
   "metadata": {
    "pycharm": {
     "is_executing": false,
     "name": "#%%\n"
    }
   },
   "outputs": [
    {
     "name": "stdout",
     "text": [
      "19 December 2016\n"
     ],
     "output_type": "stream"
    }
   ],
   "source": [
    "print(dt.strftime(\"%d %B %Y\"))\n"
   ]
  },
  {
   "cell_type": "markdown",
   "metadata": {},
   "source": [
    "## 4.2 Dates and times in pandas"
   ]
  },
  {
   "cell_type": "markdown",
   "metadata": {},
   "source": [
    "## The ``Timestamp`` object"
   ]
  },
  {
   "cell_type": "markdown",
   "metadata": {},
   "source": [
    "Pandas has its own date and time objects, which are compatible with the standard `datetime` objects, but provide some more functionality to work with.  \n",
    "\n",
    "The `Timestamp` object can also be constructed from a string:"
   ]
  },
  {
   "cell_type": "code",
   "execution_count": 87,
   "metadata": {
    "pycharm": {
     "is_executing": false,
     "name": "#%%\n"
    }
   },
   "outputs": [
    {
     "data": {
      "text/plain": "Timestamp('2016-12-19 00:00:00')"
     },
     "metadata": {},
     "output_type": "execute_result",
     "execution_count": 87
    }
   ],
   "source": [
    "ts = pd.Timestamp('2016-12-19')\n",
    "ts"
   ]
  },
  {
   "cell_type": "markdown",
   "metadata": {},
   "source": [
    "Like with `datetime.datetime` objects, there are several useful attributes available on the `Timestamp`. For example, we can get the month:"
   ]
  },
  {
   "cell_type": "code",
   "execution_count": 88,
   "metadata": {
    "pycharm": {
     "is_executing": false,
     "name": "#%%\n"
    }
   },
   "outputs": [
    {
     "data": {
      "text/plain": "12"
     },
     "metadata": {},
     "output_type": "execute_result",
     "execution_count": 88
    }
   ],
   "source": [
    "ts.month"
   ]
  },
  {
   "cell_type": "code",
   "execution_count": 89,
   "metadata": {
    "pycharm": {
     "is_executing": false,
     "name": "#%%\n"
    }
   },
   "outputs": [
    {
     "data": {
      "text/plain": "Timestamp('2016-12-24 00:00:00')"
     },
     "metadata": {},
     "output_type": "execute_result",
     "execution_count": 89
    }
   ],
   "source": [
    "ts + pd.Timedelta('5 days')"
   ]
  },
  {
   "cell_type": "markdown",
   "metadata": {
    "pycharm": {
     "name": "#%% md\n"
    }
   },
   "source": [
    "## 4.3 Time range\n",
    "Let's start by creating a time series using `pd.date_range()`. This returns a `DatetimeIndex` containing one datetime per hour for 12 hours starting on October 29th 2016 at 5:30pm.\n"
   ]
  },
  {
   "cell_type": "code",
   "execution_count": 90,
   "metadata": {
    "pycharm": {
     "is_executing": false,
     "name": "#%%\n"
    }
   },
   "outputs": [
    {
     "data": {
      "text/plain": "DatetimeIndex(['2016-10-29 17:30:00', '2016-10-29 18:30:00',\n               '2016-10-29 19:30:00', '2016-10-29 20:30:00',\n               '2016-10-29 21:30:00', '2016-10-29 22:30:00',\n               '2016-10-29 23:30:00', '2016-10-30 00:30:00',\n               '2016-10-30 01:30:00', '2016-10-30 02:30:00',\n               '2016-10-30 03:30:00', '2016-10-30 04:30:00'],\n              dtype='datetime64[ns]', freq='H')"
     },
     "metadata": {},
     "output_type": "execute_result",
     "execution_count": 90
    }
   ],
   "source": [
    "dates = pd.date_range('2016/10/29 5:30pm', periods=12, freq='H')\n",
    "dates"
   ]
  },
  {
   "cell_type": "markdown",
   "metadata": {},
   "source": [
    "This `DatetimeIndex` may be used as an index in a `Series`:"
   ]
  },
  {
   "cell_type": "code",
   "execution_count": 91,
   "metadata": {
    "pycharm": {
     "is_executing": false,
     "name": "#%%\n"
    }
   },
   "outputs": [
    {
     "data": {
      "text/plain": "2016-10-29 17:30:00    4.4\n2016-10-29 18:30:00    5.1\n2016-10-29 19:30:00    6.1\n2016-10-29 20:30:00    6.2\n2016-10-29 21:30:00    6.1\n2016-10-29 22:30:00    6.1\n2016-10-29 23:30:00    5.7\n2016-10-30 00:30:00    5.2\n2016-10-30 01:30:00    4.7\n2016-10-30 02:30:00    4.1\n2016-10-30 03:30:00    3.9\n2016-10-30 04:30:00    3.5\nFreq: H, dtype: float64"
     },
     "metadata": {},
     "output_type": "execute_result",
     "execution_count": 91
    }
   ],
   "source": [
    "temp_series = pd.Series(temperatures, dates)\n",
    "temp_series"
   ]
  },
  {
   "cell_type": "markdown",
   "metadata": {},
   "source": [
    "Let's plot this series:"
   ]
  },
  {
   "cell_type": "code",
   "execution_count": 92,
   "metadata": {
    "pycharm": {
     "is_executing": false,
     "name": "#%%\n"
    }
   },
   "outputs": [
    {
     "data": {
      "text/plain": "<Figure size 432x288 with 1 Axes>",
      "image/png": "[encoded data removed]"
     },
     "metadata": {
      "needs_background": "light"
     },
     "output_type": "display_data"
    }
   ],
   "source": [
    "temp_series.plot(kind=\"bar\")\n",
    "\n",
    "plt.grid(True)\n",
    "plt.show()"
   ]
  },
  {
   "cell_type": "markdown",
   "metadata": {},
   "source": [
    "## 4.4 Selecting data from a time series"
   ]
  },
  {
   "cell_type": "markdown",
   "metadata": {},
   "source": [
    "We can use label based indexing on a timeseries as expected:"
   ]
  },
  {
   "cell_type": "code",
   "execution_count": 93,
   "metadata": {
    "pycharm": {
     "is_executing": false,
     "name": "#%%\n"
    }
   },
   "outputs": [
    {
     "data": {
      "text/plain": "                      L06_347  LS06_347  LS06_348\nTime                                             \n2012-01-01 09:00:00  0.330750  0.293583  0.029750\n2012-01-01 12:00:00  0.295000  0.285167  0.031750\n2012-01-01 15:00:00  0.301417  0.287750  0.031417\n2012-01-01 18:00:00  0.322083  0.304167  0.038083",
      "text/html": "<div>\n<style scoped>\n    .dataframe tbody tr th:only-of-type {\n        vertical-align: middle;\n    }\n\n    .dataframe tbody tr th {\n        vertical-align: top;\n    }\n\n    .dataframe thead th {\n        text-align: right;\n    }\n</style>\n<table border=\"1\" class=\"dataframe\">\n  <thead>\n    <tr style=\"text-align: right;\">\n      <th></th>\n      <th>L06_347</th>\n      <th>LS06_347</th>\n      <th>LS06_348</th>\n    </tr>\n    <tr>\n      <th>Time</th>\n      <th></th>\n      <th></th>\n      <th></th>\n    </tr>\n  </thead>\n  <tbody>\n    <tr>\n      <td>2012-01-01 09:00:00</td>\n      <td>0.330750</td>\n      <td>0.293583</td>\n      <td>0.029750</td>\n    </tr>\n    <tr>\n      <td>2012-01-01 12:00:00</td>\n      <td>0.295000</td>\n      <td>0.285167</td>\n      <td>0.031750</td>\n    </tr>\n    <tr>\n      <td>2012-01-01 15:00:00</td>\n      <td>0.301417</td>\n      <td>0.287750</td>\n      <td>0.031417</td>\n    </tr>\n    <tr>\n      <td>2012-01-01 18:00:00</td>\n      <td>0.322083</td>\n      <td>0.304167</td>\n      <td>0.038083</td>\n    </tr>\n  </tbody>\n</table>\n</div>"
     },
     "metadata": {},
     "output_type": "execute_result",
     "execution_count": 93
    }
   ],
   "source": [
    "data = pd.read_csv(\"data/flowdata.csv\", index_col=0, parse_dates=True)\n",
    "\n",
    "data[pd.Timestamp(\"2012-01-01 09:00\"):pd.Timestamp(\"2012-01-01 19:00\")]"
   ]
  },
  {
   "cell_type": "markdown",
   "metadata": {},
   "source": [
    "But, for convenience, indexing a time series also works with strings:"
   ]
  },
  {
   "cell_type": "code",
   "execution_count": 94,
   "metadata": {
    "pycharm": {
     "is_executing": false,
     "name": "#%%\n"
    }
   },
   "outputs": [
    {
     "data": {
      "text/plain": "                      L06_347  LS06_347  LS06_348\nTime                                             \n2012-01-01 09:00:00  0.330750  0.293583  0.029750\n2012-01-01 12:00:00  0.295000  0.285167  0.031750\n2012-01-01 15:00:00  0.301417  0.287750  0.031417\n2012-01-01 18:00:00  0.322083  0.304167  0.038083",
      "text/html": "<div>\n<style scoped>\n    .dataframe tbody tr th:only-of-type {\n        vertical-align: middle;\n    }\n\n    .dataframe tbody tr th {\n        vertical-align: top;\n    }\n\n    .dataframe thead th {\n        text-align: right;\n    }\n</style>\n<table border=\"1\" class=\"dataframe\">\n  <thead>\n    <tr style=\"text-align: right;\">\n      <th></th>\n      <th>L06_347</th>\n      <th>LS06_347</th>\n      <th>LS06_348</th>\n    </tr>\n    <tr>\n      <th>Time</th>\n      <th></th>\n      <th></th>\n      <th></th>\n    </tr>\n  </thead>\n  <tbody>\n    <tr>\n      <td>2012-01-01 09:00:00</td>\n      <td>0.330750</td>\n      <td>0.293583</td>\n      <td>0.029750</td>\n    </tr>\n    <tr>\n      <td>2012-01-01 12:00:00</td>\n      <td>0.295000</td>\n      <td>0.285167</td>\n      <td>0.031750</td>\n    </tr>\n    <tr>\n      <td>2012-01-01 15:00:00</td>\n      <td>0.301417</td>\n      <td>0.287750</td>\n      <td>0.031417</td>\n    </tr>\n    <tr>\n      <td>2012-01-01 18:00:00</td>\n      <td>0.322083</td>\n      <td>0.304167</td>\n      <td>0.038083</td>\n    </tr>\n  </tbody>\n</table>\n</div>"
     },
     "metadata": {},
     "output_type": "execute_result",
     "execution_count": 94
    }
   ],
   "source": [
    "data[\"2012-01-01 09:00\":\"2012-01-01 19:00\"]"
   ]
  },
  {
   "cell_type": "markdown",
   "metadata": {},
   "source": [
    "A nice feature is **\"partial string\" indexing**, where we can do implicit slicing by providing a partial datetime string.\n",
    "\n",
    "E.g. all data of 2013:"
   ]
  },
  {
   "cell_type": "code",
   "execution_count": 95,
   "metadata": {
    "pycharm": {
     "is_executing": false,
     "name": "#%%\n"
    }
   },
   "outputs": [
    {
     "data": {
      "text/plain": "                      L06_347  LS06_347  LS06_348\nTime                                             \n2013-01-01 00:00:00  1.688333  1.688333  0.207333\n2013-01-01 03:00:00  2.693333  2.693333  0.201500\n2013-01-01 06:00:00  2.220833  2.220833  0.166917\n2013-01-01 09:00:00  2.055000  2.055000  0.175667\n2013-01-01 12:00:00  1.710000  1.710000  0.129583\n2013-01-01 15:00:00  1.420000  1.420000  0.096333\n2013-01-01 18:00:00  1.178583  1.178583  0.083083\n2013-01-01 21:00:00  0.898250  0.898250  0.077167\n2013-01-02 00:00:00  0.860000  0.860000  0.075000",
      "text/html": "<div>\n<style scoped>\n    .dataframe tbody tr th:only-of-type {\n        vertical-align: middle;\n    }\n\n    .dataframe tbody tr th {\n        vertical-align: top;\n    }\n\n    .dataframe thead th {\n        text-align: right;\n    }\n</style>\n<table border=\"1\" class=\"dataframe\">\n  <thead>\n    <tr style=\"text-align: right;\">\n      <th></th>\n      <th>L06_347</th>\n      <th>LS06_347</th>\n      <th>LS06_348</th>\n    </tr>\n    <tr>\n      <th>Time</th>\n      <th></th>\n      <th></th>\n      <th></th>\n    </tr>\n  </thead>\n  <tbody>\n    <tr>\n      <td>2013-01-01 00:00:00</td>\n      <td>1.688333</td>\n      <td>1.688333</td>\n      <td>0.207333</td>\n    </tr>\n    <tr>\n      <td>2013-01-01 03:00:00</td>\n      <td>2.693333</td>\n      <td>2.693333</td>\n      <td>0.201500</td>\n    </tr>\n    <tr>\n      <td>2013-01-01 06:00:00</td>\n      <td>2.220833</td>\n      <td>2.220833</td>\n      <td>0.166917</td>\n    </tr>\n    <tr>\n      <td>2013-01-01 09:00:00</td>\n      <td>2.055000</td>\n      <td>2.055000</td>\n      <td>0.175667</td>\n    </tr>\n    <tr>\n      <td>2013-01-01 12:00:00</td>\n      <td>1.710000</td>\n      <td>1.710000</td>\n      <td>0.129583</td>\n    </tr>\n    <tr>\n      <td>2013-01-01 15:00:00</td>\n      <td>1.420000</td>\n      <td>1.420000</td>\n      <td>0.096333</td>\n    </tr>\n    <tr>\n      <td>2013-01-01 18:00:00</td>\n      <td>1.178583</td>\n      <td>1.178583</td>\n      <td>0.083083</td>\n    </tr>\n    <tr>\n      <td>2013-01-01 21:00:00</td>\n      <td>0.898250</td>\n      <td>0.898250</td>\n      <td>0.077167</td>\n    </tr>\n    <tr>\n      <td>2013-01-02 00:00:00</td>\n      <td>0.860000</td>\n      <td>0.860000</td>\n      <td>0.075000</td>\n    </tr>\n  </tbody>\n</table>\n</div>"
     },
     "metadata": {},
     "output_type": "execute_result",
     "execution_count": 95
    }
   ],
   "source": [
    "data['2013']"
   ]
  },
  {
   "cell_type": "markdown",
   "metadata": {},
   "source": [
    "Normally you would expect this to access a column named '2013', but as for a DatetimeIndex, pandas also tries to interprete it as a datetime slice."
   ]
  },
  {
   "cell_type": "markdown",
   "metadata": {},
   "source": [
    "Or all data of January up to March 2012:"
   ]
  },
  {
   "cell_type": "code",
   "execution_count": 96,
   "metadata": {
    "pycharm": {
     "is_executing": false,
     "name": "#%%\n"
    }
   },
   "outputs": [
    {
     "data": {
      "text/plain": "                      L06_347  LS06_347  LS06_348\nTime                                             \n2012-01-01 00:00:00  0.307167  0.273917  0.028000\n2012-01-01 03:00:00  0.302917  0.270833  0.030583\n2012-01-01 06:00:00  0.331500  0.284750  0.030917\n2012-01-01 09:00:00  0.330750  0.293583  0.029750\n2012-01-01 12:00:00  0.295000  0.285167  0.031750\n...                       ...       ...       ...\n2012-03-31 09:00:00  0.104917  0.125000  0.012417\n2012-03-31 12:00:00  0.098333  0.124417  0.011833\n2012-03-31 15:00:00  0.091917  0.123917  0.011500\n2012-03-31 18:00:00  0.085750  0.121417  0.011000\n2012-03-31 21:00:00  0.068417  0.119750  0.010417\n\n[728 rows x 3 columns]",
      "text/html": "<div>\n<style scoped>\n    .dataframe tbody tr th:only-of-type {\n        vertical-align: middle;\n    }\n\n    .dataframe tbody tr th {\n        vertical-align: top;\n    }\n\n    .dataframe thead th {\n        text-align: right;\n    }\n</style>\n<table border=\"1\" class=\"dataframe\">\n  <thead>\n    <tr style=\"text-align: right;\">\n      <th></th>\n      <th>L06_347</th>\n      <th>LS06_347</th>\n      <th>LS06_348</th>\n    </tr>\n    <tr>\n      <th>Time</th>\n      <th></th>\n      <th></th>\n      <th></th>\n    </tr>\n  </thead>\n  <tbody>\n    <tr>\n      <td>2012-01-01 00:00:00</td>\n      <td>0.307167</td>\n      <td>0.273917</td>\n      <td>0.028000</td>\n    </tr>\n    <tr>\n      <td>2012-01-01 03:00:00</td>\n      <td>0.302917</td>\n      <td>0.270833</td>\n      <td>0.030583</td>\n    </tr>\n    <tr>\n      <td>2012-01-01 06:00:00</td>\n      <td>0.331500</td>\n      <td>0.284750</td>\n      <td>0.030917</td>\n    </tr>\n    <tr>\n      <td>2012-01-01 09:00:00</td>\n      <td>0.330750</td>\n      <td>0.293583</td>\n      <td>0.029750</td>\n    </tr>\n    <tr>\n      <td>2012-01-01 12:00:00</td>\n      <td>0.295000</td>\n      <td>0.285167</td>\n      <td>0.031750</td>\n    </tr>\n    <tr>\n      <td>...</td>\n      <td>...</td>\n      <td>...</td>\n      <td>...</td>\n    </tr>\n    <tr>\n      <td>2012-03-31 09:00:00</td>\n      <td>0.104917</td>\n      <td>0.125000</td>\n      <td>0.012417</td>\n    </tr>\n    <tr>\n      <td>2012-03-31 12:00:00</td>\n      <td>0.098333</td>\n      <td>0.124417</td>\n      <td>0.011833</td>\n    </tr>\n    <tr>\n      <td>2012-03-31 15:00:00</td>\n      <td>0.091917</td>\n      <td>0.123917</td>\n      <td>0.011500</td>\n    </tr>\n    <tr>\n      <td>2012-03-31 18:00:00</td>\n      <td>0.085750</td>\n      <td>0.121417</td>\n      <td>0.011000</td>\n    </tr>\n    <tr>\n      <td>2012-03-31 21:00:00</td>\n      <td>0.068417</td>\n      <td>0.119750</td>\n      <td>0.010417</td>\n    </tr>\n  </tbody>\n</table>\n<p>728 rows × 3 columns</p>\n</div>"
     },
     "metadata": {},
     "output_type": "execute_result",
     "execution_count": 96
    }
   ],
   "source": [
    "data['2012-01':'2012-03']\n"
   ]
  },
  {
   "cell_type": "markdown",
   "metadata": {
    "pycharm": {
     "name": "#%% md\n"
    }
   },
   "source": [
    "## 4.4 EXERCISES Selecting data from a time series\n",
    "\n",
    "<div class=\"alert alert-success\">\n",
    "\n",
    "<b>EXERCISE</b>:\n",
    "\n",
    " <ul>\n",
    "  <li>select all data starting from 2012</li>\n",
    "</ul>\n",
    "</div>"
   ]
  },
  {
   "cell_type": "markdown",
   "metadata": {},
   "source": [
    "<div class=\"alert alert-success\">\n",
    "\n",
    "<b>EXERCISE</b>:\n",
    "\n",
    " <ul>\n",
    "  <li>select all data in January for all different years</li>\n",
    "</ul>\n",
    "</div>"
   ]
  },
  {
   "cell_type": "markdown",
   "metadata": {},
   "source": [
    "<div class=\"alert alert-success\">\n",
    "\n",
    "<b>EXERCISE</b>:\n",
    "\n",
    " <ul>\n",
    "  <li>select all data in January, February and March for all different years</li>\n",
    "</ul>\n",
    "</div>"
   ]
  },
  {
   "cell_type": "markdown",
   "metadata": {},
   "source": [
    "<div class=\"alert alert-success\">\n",
    "\n",
    "<b>EXERCISE</b>:\n",
    "\n",
    " <ul>\n",
    "  <li>select all 'daytime' data (between 8h and 20h) for all days</li>\n",
    "</ul>\n",
    "</div>"
   ]
  },
  {
   "cell_type": "markdown",
   "metadata": {},
   "source": [
    "## 4.5 Resampling\n",
    "Pandas lets us resample a time series very simply. Just call the `resample()` method and specify a new frequency:"
   ]
  },
  {
   "cell_type": "code",
   "execution_count": 97,
   "metadata": {
    "pycharm": {
     "is_executing": false,
     "name": "#%%\n"
    }
   },
   "outputs": [
    {
     "data": {
      "text/plain": "<pandas.core.resample.DatetimeIndexResampler object at 0x11d2cb240>"
     },
     "metadata": {},
     "output_type": "execute_result",
     "execution_count": 97
    }
   ],
   "source": [
    "temp_series_freq_2H = temp_series.resample(\"2H\")\n",
    "temp_series_freq_2H"
   ]
  },
  {
   "cell_type": "markdown",
   "metadata": {},
   "source": [
    "The resampling operation is actually a deferred operation, which is why we did not get a `Series` object, but a `DatetimeIndexResampler` object instead. To actually perform the resampling operation, we can simply call the `mean()` method: Pandas will compute the mean of every pair of consecutive hours:"
   ]
  },
  {
   "cell_type": "code",
   "execution_count": 98,
   "metadata": {
    "pycharm": {
     "is_executing": false,
     "name": "#%%\n"
    }
   },
   "outputs": [],
   "source": [
    "temp_series_freq_2H = temp_series_freq_2H.mean()"
   ]
  },
  {
   "cell_type": "markdown",
   "metadata": {},
   "source": [
    "Let's plot the result:"
   ]
  },
  {
   "cell_type": "code",
   "execution_count": 99,
   "metadata": {
    "pycharm": {
     "is_executing": false,
     "name": "#%%\n"
    }
   },
   "outputs": [
    {
     "data": {
      "text/plain": "<Figure size 432x288 with 1 Axes>",
      "image/png": "[encoded data removed]"
     },
     "metadata": {
      "needs_background": "light"
     },
     "output_type": "display_data"
    }
   ],
   "source": [
    "temp_series_freq_2H.plot(kind=\"bar\")\n",
    "plt.show()"
   ]
  },
  {
   "cell_type": "markdown",
   "metadata": {},
   "source": [
    "Note how the values have automatically been aggregated into 2-hour periods. If we look at the 6-8pm period, for example, we had a value of `5.1` at 6:30pm, and `6.1` at 7:30pm. After resampling, we just have one value of `5.6`, which is the mean of `5.1` and `6.1`. Rather than computing the mean, we could have used any other aggregation function, for example we can decide to keep the minimum value of each period:"
   ]
  },
  {
   "cell_type": "code",
   "execution_count": 100,
   "metadata": {
    "pycharm": {
     "is_executing": false,
     "name": "#%%\n"
    }
   },
   "outputs": [
    {
     "data": {
      "text/plain": "2016-10-29 16:00:00    4.4\n2016-10-29 18:00:00    5.1\n2016-10-29 20:00:00    6.1\n2016-10-29 22:00:00    5.7\n2016-10-30 00:00:00    4.7\n2016-10-30 02:00:00    3.9\n2016-10-30 04:00:00    3.5\nFreq: 2H, dtype: float64"
     },
     "metadata": {},
     "output_type": "execute_result",
     "execution_count": 100
    }
   ],
   "source": [
    "temp_series_freq_2H = temp_series.resample(\"2H\").min()\n",
    "temp_series_freq_2H"
   ]
  },
  {
   "cell_type": "markdown",
   "metadata": {},
   "source": [
    "Or, equivalently, we could use the `apply()` method instead:"
   ]
  },
  {
   "cell_type": "code",
   "execution_count": 101,
   "metadata": {
    "pycharm": {
     "is_executing": false,
     "name": "#%%\n"
    }
   },
   "outputs": [
    {
     "data": {
      "text/plain": "2016-10-29 16:00:00    4.4\n2016-10-29 18:00:00    5.1\n2016-10-29 20:00:00    6.1\n2016-10-29 22:00:00    5.7\n2016-10-30 00:00:00    4.7\n2016-10-30 02:00:00    3.9\n2016-10-30 04:00:00    3.5\nFreq: 2H, dtype: float64"
     },
     "metadata": {},
     "output_type": "execute_result",
     "execution_count": 101
    }
   ],
   "source": [
    "temp_series_freq_2H = temp_series.resample(\"2H\").apply(np.min)\n",
    "temp_series_freq_2H"
   ]
  },
  {
   "cell_type": "markdown",
   "metadata": {},
   "source": [
    "## 4.5 EXERCISES Resampling\n",
    "\n",
    "<div class=\"alert alert-success\">\n",
    "\n",
    "<b>EXERCISE</b>:\n",
    "\n",
    " <ul>\n",
    "  <li>plot the monthly standard deviation of the columns</li>\n",
    "</ul>\n",
    "</div>"
   ]
  },
  {
   "cell_type": "markdown",
   "metadata": {},
   "source": [
    "<div class=\"alert alert-success\">\n",
    "\n",
    "<b>EXERCISE</b>:\n",
    "\n",
    " <ul>\n",
    "  <li>plot the monthly mean and median values for the years 2011-2012 for 'L06_347'<br><br></li>\n",
    "</ul>\n",
    "    \n",
    "    **Note** <br>You can create a new figure with `fig, ax = plt.subplots()` and add each of the plots to the created `ax` object (see documentation of pandas plot function)\n",
    "</div>\n"
   ]
  },
  {
   "cell_type": "markdown",
   "metadata": {},
   "source": [
    "<div class=\"alert alert-success\">\n",
    "\n",
    "<b>EXERCISE</b>:\n",
    "\n",
    " <ul>\n",
    "  <li>plot the monthly mininum and maximum daily average value of the 'LS06_348' column</li>\n",
    "</ul>\n",
    "</div>"
   ]
  },
  {
   "cell_type": "markdown",
   "metadata": {},
   "source": [
    "<div class=\"alert alert-success\">\n",
    "<b>EXERCISE</b>:\n",
    "\n",
    " <ul>\n",
    "  <li>make a bar plot of the mean of the stations in year of 2013 (Remark: create a `fig, ax = plt.subplots()` object and add the plot to the created ax</li>\n",
    "</ul>\n",
    "\n",
    "</div>"
   ]
  },
  {
   "cell_type": "markdown",
   "metadata": {},
   "source": [
    "<div class=\"alert alert-success\">\n",
    "<b>EXERCISE</b>:\n",
    "\n",
    " <ul>\n",
    "  <li>Calculate the typical yearly pattern with monthly resolution (plot of the typical monthly average over the years)</li>\n",
    "</ul>\n",
    "\n",
    "</div>"
   ]
  },
  {
   "cell_type": "markdown",
   "metadata": {},
   "source": [
    "## 4.6 Upsampling and interpolation\n",
    "This was an example of downsampling. We can also upsample (ie. increase the frequency), but this creates holes in our data:"
   ]
  },
  {
   "cell_type": "code",
   "execution_count": 102,
   "metadata": {
    "pycharm": {
     "is_executing": false,
     "name": "#%%\n"
    }
   },
   "outputs": [
    {
     "data": {
      "text/plain": "2016-10-29 17:30:00    4.4\n2016-10-29 17:45:00    NaN\n2016-10-29 18:00:00    NaN\n2016-10-29 18:15:00    NaN\n2016-10-29 18:30:00    5.1\n2016-10-29 18:45:00    NaN\n2016-10-29 19:00:00    NaN\n2016-10-29 19:15:00    NaN\n2016-10-29 19:30:00    6.1\n2016-10-29 19:45:00    NaN\nFreq: 15T, dtype: float64"
     },
     "metadata": {},
     "output_type": "execute_result",
     "execution_count": 102
    }
   ],
   "source": [
    "temp_series_freq_15min = temp_series.resample(\"15Min\").mean()\n",
    "temp_series_freq_15min.head(n=10) # `head` displays the top n values"
   ]
  },
  {
   "cell_type": "markdown",
   "metadata": {},
   "source": [
    "One solution is to fill the gaps by interpolating. We just call the `interpolate()` method. The default is to use linear interpolation, but we can also select another method, such as cubic interpolation:"
   ]
  },
  {
   "cell_type": "code",
   "execution_count": 103,
   "metadata": {
    "pycharm": {
     "is_executing": false,
     "name": "#%%\n"
    }
   },
   "outputs": [
    {
     "data": {
      "text/plain": "2016-10-29 17:30:00    4.400000\n2016-10-29 17:45:00    4.452911\n2016-10-29 18:00:00    4.605113\n2016-10-29 18:15:00    4.829758\n2016-10-29 18:30:00    5.100000\n2016-10-29 18:45:00    5.388992\n2016-10-29 19:00:00    5.669887\n2016-10-29 19:15:00    5.915839\n2016-10-29 19:30:00    6.100000\n2016-10-29 19:45:00    6.203621\nFreq: 15T, dtype: float64"
     },
     "metadata": {},
     "output_type": "execute_result",
     "execution_count": 103
    }
   ],
   "source": [
    "temp_series_freq_15min = temp_series.resample(\"15Min\").interpolate(method=\"cubic\")\n",
    "temp_series_freq_15min.head(n=10)"
   ]
  },
  {
   "cell_type": "code",
   "execution_count": 104,
   "metadata": {
    "pycharm": {
     "is_executing": false,
     "name": "#%%\n"
    }
   },
   "outputs": [
    {
     "data": {
      "text/plain": "<Figure size 432x288 with 1 Axes>",
      "image/png": "[encoded data removed]"
     },
     "metadata": {
      "needs_background": "light"
     },
     "output_type": "display_data"
    }
   ],
   "source": [
    "temp_series.plot(label=\"Period: 1 hour\")\n",
    "temp_series_freq_15min.plot(label=\"Period: 15 minutes\")\n",
    "plt.legend()\n",
    "plt.show()\n"
   ]
  },
  {
   "cell_type": "markdown",
   "metadata": {},
   "source": [
    "## 4.7 Timezones\n",
    "By default datetimes are *naive*: they are not aware of timezones, so 2016-10-30 02:30 might mean October 30th 2016 at 2:30am in Paris or in New York. We can make datetimes timezone *aware* by calling the `tz_localize()` method:"
   ]
  },
  {
   "cell_type": "code",
   "execution_count": 105,
   "metadata": {
    "pycharm": {
     "is_executing": false,
     "name": "#%%\n"
    }
   },
   "outputs": [
    {
     "data": {
      "text/plain": "2016-10-29 17:30:00-04:00    4.4\n2016-10-29 18:30:00-04:00    5.1\n2016-10-29 19:30:00-04:00    6.1\n2016-10-29 20:30:00-04:00    6.2\n2016-10-29 21:30:00-04:00    6.1\n2016-10-29 22:30:00-04:00    6.1\n2016-10-29 23:30:00-04:00    5.7\n2016-10-30 00:30:00-04:00    5.2\n2016-10-30 01:30:00-04:00    4.7\n2016-10-30 02:30:00-04:00    4.1\n2016-10-30 03:30:00-04:00    3.9\n2016-10-30 04:30:00-04:00    3.5\nFreq: H, dtype: float64"
     },
     "metadata": {},
     "output_type": "execute_result",
     "execution_count": 105
    }
   ],
   "source": [
    "temp_series_ny = temp_series.tz_localize(\"America/New_York\")\n",
    "temp_series_ny"
   ]
  },
  {
   "cell_type": "markdown",
   "metadata": {},
   "source": [
    "Note that `-04:00` is now appended to all the datetimes. This means that these datetimes refer to [UTC](https://en.wikipedia.org/wiki/Coordinated_Universal_Time) - 4 hours.\n",
    "\n",
    "We can convert these datetimes to Paris time like this:"
   ]
  },
  {
   "cell_type": "code",
   "execution_count": 106,
   "metadata": {
    "pycharm": {
     "is_executing": false,
     "name": "#%%\n"
    }
   },
   "outputs": [
    {
     "data": {
      "text/plain": "2016-10-29 23:30:00+02:00    4.4\n2016-10-30 00:30:00+02:00    5.1\n2016-10-30 01:30:00+02:00    6.1\n2016-10-30 02:30:00+02:00    6.2\n2016-10-30 02:30:00+01:00    6.1\n2016-10-30 03:30:00+01:00    6.1\n2016-10-30 04:30:00+01:00    5.7\n2016-10-30 05:30:00+01:00    5.2\n2016-10-30 06:30:00+01:00    4.7\n2016-10-30 07:30:00+01:00    4.1\n2016-10-30 08:30:00+01:00    3.9\n2016-10-30 09:30:00+01:00    3.5\nFreq: H, dtype: float64"
     },
     "metadata": {},
     "output_type": "execute_result",
     "execution_count": 106
    }
   ],
   "source": [
    "temp_series_paris = temp_series_ny.tz_convert(\"Europe/Paris\")\n",
    "temp_series_paris"
   ]
  },
  {
   "cell_type": "markdown",
   "metadata": {},
   "source": [
    "You may have noticed that the UTC offset changes from `+02:00` to `+01:00`: this is because France switches to winter time at 3am that particular night (time goes back to 2am). Notice that 2:30am occurs twice! Let's go back to a naive representation (if you log some data hourly using local time, without storing the timezone, you might get something like this):"
   ]
  },
  {
   "cell_type": "code",
   "execution_count": 107,
   "metadata": {
    "pycharm": {
     "is_executing": false,
     "name": "#%%\n"
    }
   },
   "outputs": [
    {
     "data": {
      "text/plain": "2016-10-29 23:30:00    4.4\n2016-10-30 00:30:00    5.1\n2016-10-30 01:30:00    6.1\n2016-10-30 02:30:00    6.2\n2016-10-30 02:30:00    6.1\n2016-10-30 03:30:00    6.1\n2016-10-30 04:30:00    5.7\n2016-10-30 05:30:00    5.2\n2016-10-30 06:30:00    4.7\n2016-10-30 07:30:00    4.1\n2016-10-30 08:30:00    3.9\n2016-10-30 09:30:00    3.5\nFreq: H, dtype: float64"
     },
     "metadata": {},
     "output_type": "execute_result",
     "execution_count": 107
    }
   ],
   "source": [
    "temp_series_paris_naive = temp_series_paris.tz_localize(None)\n",
    "temp_series_paris_naive"
   ]
  },
  {
   "cell_type": "markdown",
   "metadata": {},
   "source": [
    "Now `02:30` is really ambiguous. If we try to localize these naive datetimes to the Paris timezone, we get an error:"
   ]
  },
  {
   "cell_type": "code",
   "execution_count": 108,
   "metadata": {
    "pycharm": {
     "is_executing": false,
     "name": "#%%\n"
    }
   },
   "outputs": [
    {
     "name": "stdout",
     "text": [
      "<class 'pytz.exceptions.AmbiguousTimeError'>\nCannot infer dst time from %r, try using the 'ambiguous' argument\n"
     ],
     "output_type": "stream"
    }
   ],
   "source": [
    "try:\n",
    "    temp_series_paris_naive.tz_localize(\"Europe/Paris\")\n",
    "except Exception as e:\n",
    "    print(type(e))\n",
    "    print(e)"
   ]
  },
  {
   "cell_type": "markdown",
   "metadata": {},
   "source": [
    "Fortunately using the `ambiguous` argument we can tell pandas to infer the right DST (Daylight Saving Time) based on the order of the ambiguous timestamps:"
   ]
  },
  {
   "cell_type": "code",
   "execution_count": 109,
   "metadata": {
    "pycharm": {
     "is_executing": false,
     "name": "#%%\n"
    }
   },
   "outputs": [
    {
     "data": {
      "text/plain": "2016-10-29 23:30:00+02:00    4.4\n2016-10-30 00:30:00+02:00    5.1\n2016-10-30 01:30:00+02:00    6.1\n2016-10-30 02:30:00+02:00    6.2\n2016-10-30 02:30:00+01:00    6.1\n2016-10-30 03:30:00+01:00    6.1\n2016-10-30 04:30:00+01:00    5.7\n2016-10-30 05:30:00+01:00    5.2\n2016-10-30 06:30:00+01:00    4.7\n2016-10-30 07:30:00+01:00    4.1\n2016-10-30 08:30:00+01:00    3.9\n2016-10-30 09:30:00+01:00    3.5\nFreq: H, dtype: float64"
     },
     "metadata": {},
     "output_type": "execute_result",
     "execution_count": 109
    }
   ],
   "source": [
    "temp_series_paris_naive.tz_localize(\"Europe/Paris\", ambiguous=\"infer\")\n"
   ]
  },
  {
   "cell_type": "markdown",
   "metadata": {},
   "source": [
    "Pandas also provides many other time-related functions that we recommend you check out in the [documentation](http://pandas.pydata.org/pandas-docs/stable/timeseries.html). To whet your appetite, here is one way to get the last business day of each month in 2016, at 9am:"
   ]
  },
  {
   "cell_type": "code",
   "execution_count": 110,
   "metadata": {
    "pycharm": {
     "is_executing": false,
     "name": "#%%\n"
    }
   },
   "outputs": [
    {
     "data": {
      "text/plain": "PeriodIndex(['2016-01-29 09:00', '2016-02-29 09:00', '2016-03-31 09:00',\n             '2016-04-29 09:00', '2016-05-31 09:00', '2016-06-30 09:00',\n             '2016-07-29 09:00', '2016-08-31 09:00', '2016-09-30 09:00',\n             '2016-10-31 09:00', '2016-11-30 09:00', '2016-12-30 09:00'],\n            dtype='period[H]', freq='H')"
     },
     "metadata": {},
     "output_type": "execute_result",
     "execution_count": 110
    }
   ],
   "source": [
    "months_2016 = pd.period_range(\"2016\", periods=12, freq=\"M\")\n",
    "one_day_after_last_days = months_2016.asfreq(\"D\") + 1\n",
    "last_bdays = one_day_after_last_days.to_timestamp() - pd.tseries.offsets.BDay()\n",
    "last_bdays.to_period(\"H\") + 9\n"
   ]
  },
  {
   "cell_type": "markdown",
   "metadata": {},
   "source": [
    "# 5. Saving & loading\n",
    "Pandas can save `DataFrame`s to various backends, including file formats such as CSV, Excel, JSON, HTML and HDF5, or to a SQL database. Let's create a `DataFrame` to demonstrate this:"
   ]
  },
  {
   "cell_type": "code",
   "execution_count": 111,
   "metadata": {
    "pycharm": {
     "is_executing": false,
     "name": "#%%\n"
    }
   },
   "outputs": [
    {
     "data": {
      "text/plain": "         hobby  weight  birthyear  children\nalice   Biking    68.5       1985       NaN\nbob    Dancing    83.1       1984       3.0",
      "text/html": "<div>\n<style scoped>\n    .dataframe tbody tr th:only-of-type {\n        vertical-align: middle;\n    }\n\n    .dataframe tbody tr th {\n        vertical-align: top;\n    }\n\n    .dataframe thead th {\n        text-align: right;\n    }\n</style>\n<table border=\"1\" class=\"dataframe\">\n  <thead>\n    <tr style=\"text-align: right;\">\n      <th></th>\n      <th>hobby</th>\n      <th>weight</th>\n      <th>birthyear</th>\n      <th>children</th>\n    </tr>\n  </thead>\n  <tbody>\n    <tr>\n      <td>alice</td>\n      <td>Biking</td>\n      <td>68.5</td>\n      <td>1985</td>\n      <td>NaN</td>\n    </tr>\n    <tr>\n      <td>bob</td>\n      <td>Dancing</td>\n      <td>83.1</td>\n      <td>1984</td>\n      <td>3.0</td>\n    </tr>\n  </tbody>\n</table>\n</div>"
     },
     "metadata": {},
     "output_type": "execute_result",
     "execution_count": 111
    }
   ],
   "source": [
    "my_df = pd.DataFrame(\n",
    "    [[\"Biking\", 68.5, 1985, np.nan], [\"Dancing\", 83.1, 1984, 3]], \n",
    "    columns=[\"hobby\",\"weight\",\"birthyear\",\"children\"],\n",
    "    index=[\"alice\", \"bob\"]\n",
    ")\n",
    "my_df"
   ]
  },
  {
   "cell_type": "markdown",
   "metadata": {},
   "source": [
    "## 5.1 Saving\n",
    "Let's save it to CSV, HTML and JSON:"
   ]
  },
  {
   "cell_type": "code",
   "execution_count": 112,
   "metadata": {
    "pycharm": {
     "is_executing": false,
     "name": "#%%\n"
    }
   },
   "outputs": [],
   "source": [
    "my_df.to_csv(\"my_df.csv\")\n",
    "my_df.to_html(\"my_df.html\")\n",
    "my_df.to_json(\"my_df.json\")"
   ]
  },
  {
   "cell_type": "markdown",
   "metadata": {},
   "source": [
    "Done! Let's take a peek at what was saved:"
   ]
  },
  {
   "cell_type": "code",
   "execution_count": 113,
   "metadata": {
    "pycharm": {
     "is_executing": false,
     "name": "#%%\n"
    }
   },
   "outputs": [
    {
     "name": "stdout",
     "text": [
      "# my_df.csv\n,hobby,weight,birthyear,children\nalice,Biking,68.5,1985,\nbob,Dancing,83.1,1984,3.0\n\n\n# my_df.html\n<table border=\"1\" class=\"dataframe\">\n  <thead>\n    <tr style=\"text-align: right;\">\n      <th></th>\n      <th>hobby</th>\n      <th>weight</th>\n      <th>birthyear</th>\n      <th>children</th>\n    </tr>\n  </thead>\n  <tbody>\n    <tr>\n      <th>alice</th>\n      <td>Biking</td>\n      <td>68.5</td>\n      <td>1985</td>\n      <td>NaN</td>\n    </tr>\n    <tr>\n      <th>bob</th>\n      <td>Dancing</td>\n      <td>83.1</td>\n      <td>1984</td>\n      <td>3.0</td>\n    </tr>\n  </tbody>\n</table>\n\n# my_df.json\n{\"hobby\":{\"alice\":\"Biking\",\"bob\":\"Dancing\"},\"weight\":{\"alice\":68.5,\"bob\":83.1},\"birthyear\":{\"alice\":1985,\"bob\":1984},\"children\":{\"alice\":null,\"bob\":3.0}}\n\n"
     ],
     "output_type": "stream"
    }
   ],
   "source": [
    "for filename in (\"my_df.csv\", \"my_df.html\", \"my_df.json\"):\n",
    "    print(\"#\", filename)\n",
    "    with open(filename, \"rt\") as f:\n",
    "        print(f.read())\n",
    "        print()\n"
   ]
  },
  {
   "cell_type": "markdown",
   "metadata": {},
   "source": [
    "Note that the index is saved as the first column (with no name) in a CSV file, as `<th>` tags in HTML and as keys in JSON.\n",
    "\n",
    "Saving to other formats works very similarly, but some formats require extra libraries to be installed. For example, saving to Excel requires the openpyxl library:"
   ]
  },
  {
   "cell_type": "code",
   "execution_count": 114,
   "metadata": {
    "pycharm": {
     "is_executing": false,
     "name": "#%%\n"
    }
   },
   "outputs": [
    {
     "name": "stdout",
     "text": [
      "No module named 'openpyxl'\n"
     ],
     "output_type": "stream"
    }
   ],
   "source": [
    "try:\n",
    "    my_df.to_excel(\"my_df.xlsx\", sheet_name='People')\n",
    "except ImportError as e:\n",
    "    print(e)"
   ]
  },
  {
   "cell_type": "markdown",
   "metadata": {},
   "source": [
    "## 5.2 Loading\n",
    "Now let's load our CSV file back into a `DataFrame`:"
   ]
  },
  {
   "cell_type": "code",
   "execution_count": 115,
   "metadata": {
    "pycharm": {
     "is_executing": false,
     "name": "#%%\n"
    }
   },
   "outputs": [
    {
     "data": {
      "text/plain": "         hobby  weight  birthyear  children\nalice   Biking    68.5       1985       NaN\nbob    Dancing    83.1       1984       3.0",
      "text/html": "<div>\n<style scoped>\n    .dataframe tbody tr th:only-of-type {\n        vertical-align: middle;\n    }\n\n    .dataframe tbody tr th {\n        vertical-align: top;\n    }\n\n    .dataframe thead th {\n        text-align: right;\n    }\n</style>\n<table border=\"1\" class=\"dataframe\">\n  <thead>\n    <tr style=\"text-align: right;\">\n      <th></th>\n      <th>hobby</th>\n      <th>weight</th>\n      <th>birthyear</th>\n      <th>children</th>\n    </tr>\n  </thead>\n  <tbody>\n    <tr>\n      <td>alice</td>\n      <td>Biking</td>\n      <td>68.5</td>\n      <td>1985</td>\n      <td>NaN</td>\n    </tr>\n    <tr>\n      <td>bob</td>\n      <td>Dancing</td>\n      <td>83.1</td>\n      <td>1984</td>\n      <td>3.0</td>\n    </tr>\n  </tbody>\n</table>\n</div>"
     },
     "metadata": {},
     "output_type": "execute_result",
     "execution_count": 115
    }
   ],
   "source": [
    "my_df_loaded = pd.read_csv(\"my_df.csv\", index_col=0)\n",
    "my_df_loaded"
   ]
  },
  {
   "cell_type": "markdown",
   "metadata": {},
   "source": [
    "As you might guess, there are similar `read_json`, `read_html`, `read_excel` functions as well.  We can also read data straight from the Internet. For example, let's load all U.S. cities from [simplemaps.com](http://simplemaps.com/):"
   ]
  },
  {
   "cell_type": "code",
   "execution_count": 116,
   "metadata": {
    "pycharm": {
     "is_executing": false,
     "name": "#%%\n"
    }
   },
   "outputs": [
    {
     "name": "stdout",
     "text": [
      "HTTP Error 403: Forbidden\n"
     ],
     "output_type": "stream"
    }
   ],
   "source": [
    "us_cities = None\n",
    "try:\n",
    "    csv_url = \"http://simplemaps.com/files/cities.csv\"\n",
    "    us_cities = pd.read_csv(csv_url, index_col=0)\n",
    "    us_cities = us_cities.head()\n",
    "except IOError as e:\n",
    "    print(e)\n",
    "us_cities"
   ]
  },
  {
   "cell_type": "markdown",
   "metadata": {},
   "source": [
    "There are more options available, in particular regarding datetime format. Check out the [documentation](http://pandas.pydata.org/pandas-docs/stable/io.html) for more details."
   ]
  },
  {
   "cell_type": "markdown",
   "metadata": {},
   "source": [
    "# 6. Combining `DataFrame`s\n",
    "\n",
    "## 6.1 SQL-like joins\n",
    "One powerful feature of pandas is it's ability to perform SQL-like joins on `DataFrame`s. Various types of joins are supported: inner joins, left/right outer joins and full joins. To illustrate this, let's start by creating a couple simple `DataFrame`s:"
   ]
  },
  {
   "cell_type": "code",
   "execution_count": 117,
   "metadata": {
    "pycharm": {
     "is_executing": false,
     "name": "#%%\n"
    }
   },
   "outputs": [
    {
     "data": {
      "text/plain": "  state            city        lat         lng\n0    CA   San Francisco  37.781334 -122.416728\n1    NY        New York  40.705649  -74.008344\n2    FL           Miami  25.791100  -80.320733\n3    OH       Cleveland  41.473508  -81.739791\n4    UT  Salt Lake City  40.755851 -111.896657",
      "text/html": "<div>\n<style scoped>\n    .dataframe tbody tr th:only-of-type {\n        vertical-align: middle;\n    }\n\n    .dataframe tbody tr th {\n        vertical-align: top;\n    }\n\n    .dataframe thead th {\n        text-align: right;\n    }\n</style>\n<table border=\"1\" class=\"dataframe\">\n  <thead>\n    <tr style=\"text-align: right;\">\n      <th></th>\n      <th>state</th>\n      <th>city</th>\n      <th>lat</th>\n      <th>lng</th>\n    </tr>\n  </thead>\n  <tbody>\n    <tr>\n      <td>0</td>\n      <td>CA</td>\n      <td>San Francisco</td>\n      <td>37.781334</td>\n      <td>-122.416728</td>\n    </tr>\n    <tr>\n      <td>1</td>\n      <td>NY</td>\n      <td>New York</td>\n      <td>40.705649</td>\n      <td>-74.008344</td>\n    </tr>\n    <tr>\n      <td>2</td>\n      <td>FL</td>\n      <td>Miami</td>\n      <td>25.791100</td>\n      <td>-80.320733</td>\n    </tr>\n    <tr>\n      <td>3</td>\n      <td>OH</td>\n      <td>Cleveland</td>\n      <td>41.473508</td>\n      <td>-81.739791</td>\n    </tr>\n    <tr>\n      <td>4</td>\n      <td>UT</td>\n      <td>Salt Lake City</td>\n      <td>40.755851</td>\n      <td>-111.896657</td>\n    </tr>\n  </tbody>\n</table>\n</div>"
     },
     "metadata": {},
     "output_type": "execute_result",
     "execution_count": 117
    }
   ],
   "source": [
    "city_loc = pd.DataFrame(\n",
    "    [\n",
    "        [\"CA\", \"San Francisco\", 37.781334, -122.416728],\n",
    "        [\"NY\", \"New York\", 40.705649, -74.008344],\n",
    "        [\"FL\", \"Miami\", 25.791100, -80.320733],\n",
    "        [\"OH\", \"Cleveland\", 41.473508, -81.739791],\n",
    "        [\"UT\", \"Salt Lake City\", 40.755851, -111.896657]\n",
    "    ], columns=[\"state\", \"city\", \"lat\", \"lng\"])\n",
    "city_loc"
   ]
  },
  {
   "cell_type": "code",
   "execution_count": 118,
   "metadata": {
    "pycharm": {
     "is_executing": false,
     "name": "#%%\n"
    }
   },
   "outputs": [
    {
     "data": {
      "text/plain": "   population           city       state\n3      808976  San Francisco  California\n4     8363710       New York    New-York\n5      413201          Miami     Florida\n6     2242193        Houston       Texas",
      "text/html": "<div>\n<style scoped>\n    .dataframe tbody tr th:only-of-type {\n        vertical-align: middle;\n    }\n\n    .dataframe tbody tr th {\n        vertical-align: top;\n    }\n\n    .dataframe thead th {\n        text-align: right;\n    }\n</style>\n<table border=\"1\" class=\"dataframe\">\n  <thead>\n    <tr style=\"text-align: right;\">\n      <th></th>\n      <th>population</th>\n      <th>city</th>\n      <th>state</th>\n    </tr>\n  </thead>\n  <tbody>\n    <tr>\n      <td>3</td>\n      <td>808976</td>\n      <td>San Francisco</td>\n      <td>California</td>\n    </tr>\n    <tr>\n      <td>4</td>\n      <td>8363710</td>\n      <td>New York</td>\n      <td>New-York</td>\n    </tr>\n    <tr>\n      <td>5</td>\n      <td>413201</td>\n      <td>Miami</td>\n      <td>Florida</td>\n    </tr>\n    <tr>\n      <td>6</td>\n      <td>2242193</td>\n      <td>Houston</td>\n      <td>Texas</td>\n    </tr>\n  </tbody>\n</table>\n</div>"
     },
     "metadata": {},
     "output_type": "execute_result",
     "execution_count": 118
    }
   ],
   "source": [
    "city_pop = pd.DataFrame(\n",
    "    [\n",
    "        [808976, \"San Francisco\", \"California\"],\n",
    "        [8363710, \"New York\", \"New-York\"],\n",
    "        [413201, \"Miami\", \"Florida\"],\n",
    "        [2242193, \"Houston\", \"Texas\"]\n",
    "    ], index=[3,4,5,6], columns=[\"population\", \"city\", \"state\"])\n",
    "city_pop"
   ]
  },
  {
   "cell_type": "markdown",
   "metadata": {},
   "source": [
    "Now let's join these `DataFrame`s using the `merge()` function:"
   ]
  },
  {
   "cell_type": "code",
   "execution_count": 119,
   "metadata": {
    "pycharm": {
     "is_executing": false,
     "name": "#%%\n"
    }
   },
   "outputs": [
    {
     "data": {
      "text/plain": "  state_x           city        lat         lng  population     state_y\n0      CA  San Francisco  37.781334 -122.416728      808976  California\n1      NY       New York  40.705649  -74.008344     8363710    New-York\n2      FL          Miami  25.791100  -80.320733      413201     Florida",
      "text/html": "<div>\n<style scoped>\n    .dataframe tbody tr th:only-of-type {\n        vertical-align: middle;\n    }\n\n    .dataframe tbody tr th {\n        vertical-align: top;\n    }\n\n    .dataframe thead th {\n        text-align: right;\n    }\n</style>\n<table border=\"1\" class=\"dataframe\">\n  <thead>\n    <tr style=\"text-align: right;\">\n      <th></th>\n      <th>state_x</th>\n      <th>city</th>\n      <th>lat</th>\n      <th>lng</th>\n      <th>population</th>\n      <th>state_y</th>\n    </tr>\n  </thead>\n  <tbody>\n    <tr>\n      <td>0</td>\n      <td>CA</td>\n      <td>San Francisco</td>\n      <td>37.781334</td>\n      <td>-122.416728</td>\n      <td>808976</td>\n      <td>California</td>\n    </tr>\n    <tr>\n      <td>1</td>\n      <td>NY</td>\n      <td>New York</td>\n      <td>40.705649</td>\n      <td>-74.008344</td>\n      <td>8363710</td>\n      <td>New-York</td>\n    </tr>\n    <tr>\n      <td>2</td>\n      <td>FL</td>\n      <td>Miami</td>\n      <td>25.791100</td>\n      <td>-80.320733</td>\n      <td>413201</td>\n      <td>Florida</td>\n    </tr>\n  </tbody>\n</table>\n</div>"
     },
     "metadata": {},
     "output_type": "execute_result",
     "execution_count": 119
    }
   ],
   "source": [
    "pd.merge(left=city_loc, right=city_pop, on=\"city\")"
   ]
  },
  {
   "cell_type": "markdown",
   "metadata": {},
   "source": [
    "Note that both `DataFrame`s have a column named `state`, so in the result they got renamed to `state_x` and `state_y`.\n",
    "\n",
    "Also, note that Cleveland, Salt Lake City and Houston were dropped because they don't exist in *both* `DataFrame`s. This is the equivalent of a SQL `INNER JOIN`. If you want a `FULL OUTER JOIN`, where no city gets dropped and `NaN` values are added, you must specify `how=\"outer\"`:"
   ]
  },
  {
   "cell_type": "code",
   "execution_count": 120,
   "metadata": {
    "pycharm": {
     "is_executing": false,
     "name": "#%%\n"
    }
   },
   "outputs": [
    {
     "data": {
      "text/plain": "  state_x            city        lat         lng  population     state_y\n0      CA   San Francisco  37.781334 -122.416728    808976.0  California\n1      NY        New York  40.705649  -74.008344   8363710.0    New-York\n2      FL           Miami  25.791100  -80.320733    413201.0     Florida\n3      OH       Cleveland  41.473508  -81.739791         NaN         NaN\n4      UT  Salt Lake City  40.755851 -111.896657         NaN         NaN\n5     NaN         Houston        NaN         NaN   2242193.0       Texas",
      "text/html": "<div>\n<style scoped>\n    .dataframe tbody tr th:only-of-type {\n        vertical-align: middle;\n    }\n\n    .dataframe tbody tr th {\n        vertical-align: top;\n    }\n\n    .dataframe thead th {\n        text-align: right;\n    }\n</style>\n<table border=\"1\" class=\"dataframe\">\n  <thead>\n    <tr style=\"text-align: right;\">\n      <th></th>\n      <th>state_x</th>\n      <th>city</th>\n      <th>lat</th>\n      <th>lng</th>\n      <th>population</th>\n      <th>state_y</th>\n    </tr>\n  </thead>\n  <tbody>\n    <tr>\n      <td>0</td>\n      <td>CA</td>\n      <td>San Francisco</td>\n      <td>37.781334</td>\n      <td>-122.416728</td>\n      <td>808976.0</td>\n      <td>California</td>\n    </tr>\n    <tr>\n      <td>1</td>\n      <td>NY</td>\n      <td>New York</td>\n      <td>40.705649</td>\n      <td>-74.008344</td>\n      <td>8363710.0</td>\n      <td>New-York</td>\n    </tr>\n    <tr>\n      <td>2</td>\n      <td>FL</td>\n      <td>Miami</td>\n      <td>25.791100</td>\n      <td>-80.320733</td>\n      <td>413201.0</td>\n      <td>Florida</td>\n    </tr>\n    <tr>\n      <td>3</td>\n      <td>OH</td>\n      <td>Cleveland</td>\n      <td>41.473508</td>\n      <td>-81.739791</td>\n      <td>NaN</td>\n      <td>NaN</td>\n    </tr>\n    <tr>\n      <td>4</td>\n      <td>UT</td>\n      <td>Salt Lake City</td>\n      <td>40.755851</td>\n      <td>-111.896657</td>\n      <td>NaN</td>\n      <td>NaN</td>\n    </tr>\n    <tr>\n      <td>5</td>\n      <td>NaN</td>\n      <td>Houston</td>\n      <td>NaN</td>\n      <td>NaN</td>\n      <td>2242193.0</td>\n      <td>Texas</td>\n    </tr>\n  </tbody>\n</table>\n</div>"
     },
     "metadata": {},
     "output_type": "execute_result",
     "execution_count": 120
    }
   ],
   "source": [
    "all_cities = pd.merge(left=city_loc, right=city_pop, on=\"city\", how=\"outer\")\n",
    "all_cities"
   ]
  },
  {
   "cell_type": "markdown",
   "metadata": {},
   "source": [
    "Of course `LEFT OUTER JOIN` is also available by setting `how=\"left\"`: only the cities present in the left `DataFrame` end up in the result. Similarly, with `how=\"right\"` only cities in the right `DataFrame` appear in the result. For example:"
   ]
  },
  {
   "cell_type": "code",
   "execution_count": 121,
   "metadata": {
    "pycharm": {
     "is_executing": false,
     "name": "#%%\n"
    }
   },
   "outputs": [
    {
     "data": {
      "text/plain": "  state_x           city        lat         lng  population     state_y\n0      CA  San Francisco  37.781334 -122.416728      808976  California\n1      NY       New York  40.705649  -74.008344     8363710    New-York\n2      FL          Miami  25.791100  -80.320733      413201     Florida\n3     NaN        Houston        NaN         NaN     2242193       Texas",
      "text/html": "<div>\n<style scoped>\n    .dataframe tbody tr th:only-of-type {\n        vertical-align: middle;\n    }\n\n    .dataframe tbody tr th {\n        vertical-align: top;\n    }\n\n    .dataframe thead th {\n        text-align: right;\n    }\n</style>\n<table border=\"1\" class=\"dataframe\">\n  <thead>\n    <tr style=\"text-align: right;\">\n      <th></th>\n      <th>state_x</th>\n      <th>city</th>\n      <th>lat</th>\n      <th>lng</th>\n      <th>population</th>\n      <th>state_y</th>\n    </tr>\n  </thead>\n  <tbody>\n    <tr>\n      <td>0</td>\n      <td>CA</td>\n      <td>San Francisco</td>\n      <td>37.781334</td>\n      <td>-122.416728</td>\n      <td>808976</td>\n      <td>California</td>\n    </tr>\n    <tr>\n      <td>1</td>\n      <td>NY</td>\n      <td>New York</td>\n      <td>40.705649</td>\n      <td>-74.008344</td>\n      <td>8363710</td>\n      <td>New-York</td>\n    </tr>\n    <tr>\n      <td>2</td>\n      <td>FL</td>\n      <td>Miami</td>\n      <td>25.791100</td>\n      <td>-80.320733</td>\n      <td>413201</td>\n      <td>Florida</td>\n    </tr>\n    <tr>\n      <td>3</td>\n      <td>NaN</td>\n      <td>Houston</td>\n      <td>NaN</td>\n      <td>NaN</td>\n      <td>2242193</td>\n      <td>Texas</td>\n    </tr>\n  </tbody>\n</table>\n</div>"
     },
     "metadata": {},
     "output_type": "execute_result",
     "execution_count": 121
    }
   ],
   "source": [
    "pd.merge(left=city_loc, right=city_pop, on=\"city\", how=\"right\")"
   ]
  },
  {
   "cell_type": "markdown",
   "metadata": {},
   "source": [
    "If the key to join on is actually in one (or both) `DataFrame`'s index, you must use `left_index=True` and/or `right_index=True`. If the key column names differ, you must use `left_on` and `right_on`. For example:"
   ]
  },
  {
   "cell_type": "code",
   "execution_count": 122,
   "metadata": {
    "pycharm": {
     "is_executing": false,
     "name": "#%%\n"
    }
   },
   "outputs": [
    {
     "data": {
      "text/plain": "  state_x           city        lat         lng  population           name  \\\n0      CA  San Francisco  37.781334 -122.416728      808976  San Francisco   \n1      NY       New York  40.705649  -74.008344     8363710       New York   \n2      FL          Miami  25.791100  -80.320733      413201          Miami   \n\n      state_y  \n0  California  \n1    New-York  \n2     Florida  ",
      "text/html": "<div>\n<style scoped>\n    .dataframe tbody tr th:only-of-type {\n        vertical-align: middle;\n    }\n\n    .dataframe tbody tr th {\n        vertical-align: top;\n    }\n\n    .dataframe thead th {\n        text-align: right;\n    }\n</style>\n<table border=\"1\" class=\"dataframe\">\n  <thead>\n    <tr style=\"text-align: right;\">\n      <th></th>\n      <th>state_x</th>\n      <th>city</th>\n      <th>lat</th>\n      <th>lng</th>\n      <th>population</th>\n      <th>name</th>\n      <th>state_y</th>\n    </tr>\n  </thead>\n  <tbody>\n    <tr>\n      <td>0</td>\n      <td>CA</td>\n      <td>San Francisco</td>\n      <td>37.781334</td>\n      <td>-122.416728</td>\n      <td>808976</td>\n      <td>San Francisco</td>\n      <td>California</td>\n    </tr>\n    <tr>\n      <td>1</td>\n      <td>NY</td>\n      <td>New York</td>\n      <td>40.705649</td>\n      <td>-74.008344</td>\n      <td>8363710</td>\n      <td>New York</td>\n      <td>New-York</td>\n    </tr>\n    <tr>\n      <td>2</td>\n      <td>FL</td>\n      <td>Miami</td>\n      <td>25.791100</td>\n      <td>-80.320733</td>\n      <td>413201</td>\n      <td>Miami</td>\n      <td>Florida</td>\n    </tr>\n  </tbody>\n</table>\n</div>"
     },
     "metadata": {},
     "output_type": "execute_result",
     "execution_count": 122
    }
   ],
   "source": [
    "city_pop2 = city_pop.copy()\n",
    "city_pop2.columns = [\"population\", \"name\", \"state\"]\n",
    "pd.merge(left=city_loc, right=city_pop2, left_on=\"city\", right_on=\"name\")"
   ]
  },
  {
   "cell_type": "markdown",
   "metadata": {},
   "source": [
    "## 6.2 Concatenation\n",
    "Rather than joining `DataFrame`s, we may just want to concatenate them. That's what `concat()` is for:"
   ]
  },
  {
   "cell_type": "code",
   "execution_count": 141,
   "metadata": {
    "pycharm": {
     "is_executing": false,
     "name": "#%%\n"
    }
   },
   "outputs": [
    {
     "data": {
      "text/plain": "             city        lat         lng  population       state\n0   San Francisco  37.781334 -122.416728         NaN          CA\n1        New York  40.705649  -74.008344         NaN          NY\n2           Miami  25.791100  -80.320733         NaN          FL\n3       Cleveland  41.473508  -81.739791         NaN          OH\n4  Salt Lake City  40.755851 -111.896657         NaN          UT\n3   San Francisco        NaN         NaN    808976.0  California\n4        New York        NaN         NaN   8363710.0    New-York\n5           Miami        NaN         NaN    413201.0     Florida\n6         Houston        NaN         NaN   2242193.0       Texas",
      "text/html": "<div>\n<style scoped>\n    .dataframe tbody tr th:only-of-type {\n        vertical-align: middle;\n    }\n\n    .dataframe tbody tr th {\n        vertical-align: top;\n    }\n\n    .dataframe thead th {\n        text-align: right;\n    }\n</style>\n<table border=\"1\" class=\"dataframe\">\n  <thead>\n    <tr style=\"text-align: right;\">\n      <th></th>\n      <th>city</th>\n      <th>lat</th>\n      <th>lng</th>\n      <th>population</th>\n      <th>state</th>\n    </tr>\n  </thead>\n  <tbody>\n    <tr>\n      <td>0</td>\n      <td>San Francisco</td>\n      <td>37.781334</td>\n      <td>-122.416728</td>\n      <td>NaN</td>\n      <td>CA</td>\n    </tr>\n    <tr>\n      <td>1</td>\n      <td>New York</td>\n      <td>40.705649</td>\n      <td>-74.008344</td>\n      <td>NaN</td>\n      <td>NY</td>\n    </tr>\n    <tr>\n      <td>2</td>\n      <td>Miami</td>\n      <td>25.791100</td>\n      <td>-80.320733</td>\n      <td>NaN</td>\n      <td>FL</td>\n    </tr>\n    <tr>\n      <td>3</td>\n      <td>Cleveland</td>\n      <td>41.473508</td>\n      <td>-81.739791</td>\n      <td>NaN</td>\n      <td>OH</td>\n    </tr>\n    <tr>\n      <td>4</td>\n      <td>Salt Lake City</td>\n      <td>40.755851</td>\n      <td>-111.896657</td>\n      <td>NaN</td>\n      <td>UT</td>\n    </tr>\n    <tr>\n      <td>3</td>\n      <td>San Francisco</td>\n      <td>NaN</td>\n      <td>NaN</td>\n      <td>808976.0</td>\n      <td>California</td>\n    </tr>\n    <tr>\n      <td>4</td>\n      <td>New York</td>\n      <td>NaN</td>\n      <td>NaN</td>\n      <td>8363710.0</td>\n      <td>New-York</td>\n    </tr>\n    <tr>\n      <td>5</td>\n      <td>Miami</td>\n      <td>NaN</td>\n      <td>NaN</td>\n      <td>413201.0</td>\n      <td>Florida</td>\n    </tr>\n    <tr>\n      <td>6</td>\n      <td>Houston</td>\n      <td>NaN</td>\n      <td>NaN</td>\n      <td>2242193.0</td>\n      <td>Texas</td>\n    </tr>\n  </tbody>\n</table>\n</div>"
     },
     "metadata": {},
     "output_type": "execute_result",
     "execution_count": 141
    }
   ],
   "source": [
    "result_concat = pd.concat([city_loc, city_pop], sort=True)\n",
    "result_concat"
   ]
  },
  {
   "cell_type": "markdown",
   "metadata": {},
   "source": [
    "Note that this operation aligned the data horizontally (by columns) but not vertically (by rows). In this example, we end up with multiple rows having the same index (eg. 3). Pandas handles this rather gracefully:"
   ]
  },
  {
   "cell_type": "code",
   "execution_count": 124,
   "metadata": {
    "pycharm": {
     "is_executing": false,
     "name": "#%%\n"
    }
   },
   "outputs": [
    {
     "data": {
      "text/plain": "            city        lat        lng  population       state\n3      Cleveland  41.473508 -81.739791         NaN          OH\n3  San Francisco        NaN        NaN    808976.0  California",
      "text/html": "<div>\n<style scoped>\n    .dataframe tbody tr th:only-of-type {\n        vertical-align: middle;\n    }\n\n    .dataframe tbody tr th {\n        vertical-align: top;\n    }\n\n    .dataframe thead th {\n        text-align: right;\n    }\n</style>\n<table border=\"1\" class=\"dataframe\">\n  <thead>\n    <tr style=\"text-align: right;\">\n      <th></th>\n      <th>city</th>\n      <th>lat</th>\n      <th>lng</th>\n      <th>population</th>\n      <th>state</th>\n    </tr>\n  </thead>\n  <tbody>\n    <tr>\n      <td>3</td>\n      <td>Cleveland</td>\n      <td>41.473508</td>\n      <td>-81.739791</td>\n      <td>NaN</td>\n      <td>OH</td>\n    </tr>\n    <tr>\n      <td>3</td>\n      <td>San Francisco</td>\n      <td>NaN</td>\n      <td>NaN</td>\n      <td>808976.0</td>\n      <td>California</td>\n    </tr>\n  </tbody>\n</table>\n</div>"
     },
     "metadata": {},
     "output_type": "execute_result",
     "execution_count": 124
    }
   ],
   "source": [
    "result_concat.loc[3]"
   ]
  },
  {
   "cell_type": "markdown",
   "metadata": {},
   "source": [
    "Or you can tell pandas to just ignore the index:"
   ]
  },
  {
   "cell_type": "code",
   "execution_count": 125,
   "metadata": {
    "pycharm": {
     "is_executing": false,
     "name": "#%%\n"
    }
   },
   "outputs": [
    {
     "name": "stderr",
     "text": [
      "/Users/dumas/PycharmProjects/proj0016_tutorials/venv/lib/python3.7/site-packages/ipykernel_launcher.py:1: FutureWarning: Sorting because non-concatenation axis is not aligned. A future version\nof pandas will change to not sort by default.\n\nTo accept the future behavior, pass 'sort=False'.\n\nTo retain the current behavior and silence the warning, pass 'sort=True'.\n\n  \"\"\"Entry point for launching an IPython kernel.\n"
     ],
     "output_type": "stream"
    },
    {
     "data": {
      "text/plain": "             city        lat         lng  population       state\n0   San Francisco  37.781334 -122.416728         NaN          CA\n1        New York  40.705649  -74.008344         NaN          NY\n2           Miami  25.791100  -80.320733         NaN          FL\n3       Cleveland  41.473508  -81.739791         NaN          OH\n4  Salt Lake City  40.755851 -111.896657         NaN          UT\n5   San Francisco        NaN         NaN    808976.0  California\n6        New York        NaN         NaN   8363710.0    New-York\n7           Miami        NaN         NaN    413201.0     Florida\n8         Houston        NaN         NaN   2242193.0       Texas",
      "text/html": "<div>\n<style scoped>\n    .dataframe tbody tr th:only-of-type {\n        vertical-align: middle;\n    }\n\n    .dataframe tbody tr th {\n        vertical-align: top;\n    }\n\n    .dataframe thead th {\n        text-align: right;\n    }\n</style>\n<table border=\"1\" class=\"dataframe\">\n  <thead>\n    <tr style=\"text-align: right;\">\n      <th></th>\n      <th>city</th>\n      <th>lat</th>\n      <th>lng</th>\n      <th>population</th>\n      <th>state</th>\n    </tr>\n  </thead>\n  <tbody>\n    <tr>\n      <td>0</td>\n      <td>San Francisco</td>\n      <td>37.781334</td>\n      <td>-122.416728</td>\n      <td>NaN</td>\n      <td>CA</td>\n    </tr>\n    <tr>\n      <td>1</td>\n      <td>New York</td>\n      <td>40.705649</td>\n      <td>-74.008344</td>\n      <td>NaN</td>\n      <td>NY</td>\n    </tr>\n    <tr>\n      <td>2</td>\n      <td>Miami</td>\n      <td>25.791100</td>\n      <td>-80.320733</td>\n      <td>NaN</td>\n      <td>FL</td>\n    </tr>\n    <tr>\n      <td>3</td>\n      <td>Cleveland</td>\n      <td>41.473508</td>\n      <td>-81.739791</td>\n      <td>NaN</td>\n      <td>OH</td>\n    </tr>\n    <tr>\n      <td>4</td>\n      <td>Salt Lake City</td>\n      <td>40.755851</td>\n      <td>-111.896657</td>\n      <td>NaN</td>\n      <td>UT</td>\n    </tr>\n    <tr>\n      <td>5</td>\n      <td>San Francisco</td>\n      <td>NaN</td>\n      <td>NaN</td>\n      <td>808976.0</td>\n      <td>California</td>\n    </tr>\n    <tr>\n      <td>6</td>\n      <td>New York</td>\n      <td>NaN</td>\n      <td>NaN</td>\n      <td>8363710.0</td>\n      <td>New-York</td>\n    </tr>\n    <tr>\n      <td>7</td>\n      <td>Miami</td>\n      <td>NaN</td>\n      <td>NaN</td>\n      <td>413201.0</td>\n      <td>Florida</td>\n    </tr>\n    <tr>\n      <td>8</td>\n      <td>Houston</td>\n      <td>NaN</td>\n      <td>NaN</td>\n      <td>2242193.0</td>\n      <td>Texas</td>\n    </tr>\n  </tbody>\n</table>\n</div>"
     },
     "metadata": {},
     "output_type": "execute_result",
     "execution_count": 125
    }
   ],
   "source": [
    "pd.concat([city_loc, city_pop], ignore_index=True, sort=True)"
   ]
  },
  {
   "cell_type": "markdown",
   "metadata": {},
   "source": [
    "Notice that when a column does not exist in a `DataFrame`, it acts as if it was filled with `NaN` values. If we set `join=\"inner\"`, then only columns that exist in *both* `DataFrame`s are returned:"
   ]
  },
  {
   "cell_type": "code",
   "execution_count": 126,
   "metadata": {
    "pycharm": {
     "is_executing": false,
     "name": "#%%\n"
    }
   },
   "outputs": [
    {
     "data": {
      "text/plain": "        state            city\n0          CA   San Francisco\n1          NY        New York\n2          FL           Miami\n3          OH       Cleveland\n4          UT  Salt Lake City\n3  California   San Francisco\n4    New-York        New York\n5     Florida           Miami\n6       Texas         Houston",
      "text/html": "<div>\n<style scoped>\n    .dataframe tbody tr th:only-of-type {\n        vertical-align: middle;\n    }\n\n    .dataframe tbody tr th {\n        vertical-align: top;\n    }\n\n    .dataframe thead th {\n        text-align: right;\n    }\n</style>\n<table border=\"1\" class=\"dataframe\">\n  <thead>\n    <tr style=\"text-align: right;\">\n      <th></th>\n      <th>state</th>\n      <th>city</th>\n    </tr>\n  </thead>\n  <tbody>\n    <tr>\n      <td>0</td>\n      <td>CA</td>\n      <td>San Francisco</td>\n    </tr>\n    <tr>\n      <td>1</td>\n      <td>NY</td>\n      <td>New York</td>\n    </tr>\n    <tr>\n      <td>2</td>\n      <td>FL</td>\n      <td>Miami</td>\n    </tr>\n    <tr>\n      <td>3</td>\n      <td>OH</td>\n      <td>Cleveland</td>\n    </tr>\n    <tr>\n      <td>4</td>\n      <td>UT</td>\n      <td>Salt Lake City</td>\n    </tr>\n    <tr>\n      <td>3</td>\n      <td>California</td>\n      <td>San Francisco</td>\n    </tr>\n    <tr>\n      <td>4</td>\n      <td>New-York</td>\n      <td>New York</td>\n    </tr>\n    <tr>\n      <td>5</td>\n      <td>Florida</td>\n      <td>Miami</td>\n    </tr>\n    <tr>\n      <td>6</td>\n      <td>Texas</td>\n      <td>Houston</td>\n    </tr>\n  </tbody>\n</table>\n</div>"
     },
     "metadata": {},
     "output_type": "execute_result",
     "execution_count": 126
    }
   ],
   "source": [
    "pd.concat([city_loc, city_pop], join=\"inner\", sort=True)"
   ]
  },
  {
   "cell_type": "markdown",
   "metadata": {},
   "source": [
    "You can concatenate `DataFrame`s horizontally instead of vertically by setting `axis=1`:"
   ]
  },
  {
   "cell_type": "code",
   "execution_count": 127,
   "metadata": {
    "pycharm": {
     "is_executing": false,
     "name": "#%%\n"
    }
   },
   "outputs": [
    {
     "data": {
      "text/plain": "  state            city        lat         lng  population           city  \\\n0    CA   San Francisco  37.781334 -122.416728         NaN            NaN   \n1    NY        New York  40.705649  -74.008344         NaN            NaN   \n2    FL           Miami  25.791100  -80.320733         NaN            NaN   \n3    OH       Cleveland  41.473508  -81.739791    808976.0  San Francisco   \n4    UT  Salt Lake City  40.755851 -111.896657   8363710.0       New York   \n5   NaN             NaN        NaN         NaN    413201.0          Miami   \n6   NaN             NaN        NaN         NaN   2242193.0        Houston   \n\n        state  \n0         NaN  \n1         NaN  \n2         NaN  \n3  California  \n4    New-York  \n5     Florida  \n6       Texas  ",
      "text/html": "<div>\n<style scoped>\n    .dataframe tbody tr th:only-of-type {\n        vertical-align: middle;\n    }\n\n    .dataframe tbody tr th {\n        vertical-align: top;\n    }\n\n    .dataframe thead th {\n        text-align: right;\n    }\n</style>\n<table border=\"1\" class=\"dataframe\">\n  <thead>\n    <tr style=\"text-align: right;\">\n      <th></th>\n      <th>state</th>\n      <th>city</th>\n      <th>lat</th>\n      <th>lng</th>\n      <th>population</th>\n      <th>city</th>\n      <th>state</th>\n    </tr>\n  </thead>\n  <tbody>\n    <tr>\n      <td>0</td>\n      <td>CA</td>\n      <td>San Francisco</td>\n      <td>37.781334</td>\n      <td>-122.416728</td>\n      <td>NaN</td>\n      <td>NaN</td>\n      <td>NaN</td>\n    </tr>\n    <tr>\n      <td>1</td>\n      <td>NY</td>\n      <td>New York</td>\n      <td>40.705649</td>\n      <td>-74.008344</td>\n      <td>NaN</td>\n      <td>NaN</td>\n      <td>NaN</td>\n    </tr>\n    <tr>\n      <td>2</td>\n      <td>FL</td>\n      <td>Miami</td>\n      <td>25.791100</td>\n      <td>-80.320733</td>\n      <td>NaN</td>\n      <td>NaN</td>\n      <td>NaN</td>\n    </tr>\n    <tr>\n      <td>3</td>\n      <td>OH</td>\n      <td>Cleveland</td>\n      <td>41.473508</td>\n      <td>-81.739791</td>\n      <td>808976.0</td>\n      <td>San Francisco</td>\n      <td>California</td>\n    </tr>\n    <tr>\n      <td>4</td>\n      <td>UT</td>\n      <td>Salt Lake City</td>\n      <td>40.755851</td>\n      <td>-111.896657</td>\n      <td>8363710.0</td>\n      <td>New York</td>\n      <td>New-York</td>\n    </tr>\n    <tr>\n      <td>5</td>\n      <td>NaN</td>\n      <td>NaN</td>\n      <td>NaN</td>\n      <td>NaN</td>\n      <td>413201.0</td>\n      <td>Miami</td>\n      <td>Florida</td>\n    </tr>\n    <tr>\n      <td>6</td>\n      <td>NaN</td>\n      <td>NaN</td>\n      <td>NaN</td>\n      <td>NaN</td>\n      <td>2242193.0</td>\n      <td>Houston</td>\n      <td>Texas</td>\n    </tr>\n  </tbody>\n</table>\n</div>"
     },
     "metadata": {},
     "output_type": "execute_result",
     "execution_count": 127
    }
   ],
   "source": [
    "pd.concat([city_loc, city_pop], axis=1, sort=True)"
   ]
  },
  {
   "cell_type": "markdown",
   "metadata": {},
   "source": [
    "In this case it really does not make much sense because the indices do not align well (eg. Cleveland and San Francisco end up on the same row, because they shared the index label `3`). So let's reindex the `DataFrame`s by city name before concatenating:"
   ]
  },
  {
   "cell_type": "code",
   "execution_count": 128,
   "metadata": {
    "pycharm": {
     "is_executing": false,
     "name": "#%%\n"
    }
   },
   "outputs": [
    {
     "name": "stderr",
     "text": [
      "/Users/dumas/PycharmProjects/proj0016_tutorials/venv/lib/python3.7/site-packages/ipykernel_launcher.py:1: FutureWarning: Sorting because non-concatenation axis is not aligned. A future version\nof pandas will change to not sort by default.\n\nTo accept the future behavior, pass 'sort=False'.\n\nTo retain the current behavior and silence the warning, pass 'sort=True'.\n\n  \"\"\"Entry point for launching an IPython kernel.\n"
     ],
     "output_type": "stream"
    },
    {
     "data": {
      "text/plain": "               state        lat         lng  population       state\nCleveland         OH  41.473508  -81.739791         NaN         NaN\nHouston          NaN        NaN         NaN   2242193.0       Texas\nMiami             FL  25.791100  -80.320733    413201.0     Florida\nNew York          NY  40.705649  -74.008344   8363710.0    New-York\nSalt Lake City    UT  40.755851 -111.896657         NaN         NaN\nSan Francisco     CA  37.781334 -122.416728    808976.0  California",
      "text/html": "<div>\n<style scoped>\n    .dataframe tbody tr th:only-of-type {\n        vertical-align: middle;\n    }\n\n    .dataframe tbody tr th {\n        vertical-align: top;\n    }\n\n    .dataframe thead th {\n        text-align: right;\n    }\n</style>\n<table border=\"1\" class=\"dataframe\">\n  <thead>\n    <tr style=\"text-align: right;\">\n      <th></th>\n      <th>state</th>\n      <th>lat</th>\n      <th>lng</th>\n      <th>population</th>\n      <th>state</th>\n    </tr>\n  </thead>\n  <tbody>\n    <tr>\n      <td>Cleveland</td>\n      <td>OH</td>\n      <td>41.473508</td>\n      <td>-81.739791</td>\n      <td>NaN</td>\n      <td>NaN</td>\n    </tr>\n    <tr>\n      <td>Houston</td>\n      <td>NaN</td>\n      <td>NaN</td>\n      <td>NaN</td>\n      <td>2242193.0</td>\n      <td>Texas</td>\n    </tr>\n    <tr>\n      <td>Miami</td>\n      <td>FL</td>\n      <td>25.791100</td>\n      <td>-80.320733</td>\n      <td>413201.0</td>\n      <td>Florida</td>\n    </tr>\n    <tr>\n      <td>New York</td>\n      <td>NY</td>\n      <td>40.705649</td>\n      <td>-74.008344</td>\n      <td>8363710.0</td>\n      <td>New-York</td>\n    </tr>\n    <tr>\n      <td>Salt Lake City</td>\n      <td>UT</td>\n      <td>40.755851</td>\n      <td>-111.896657</td>\n      <td>NaN</td>\n      <td>NaN</td>\n    </tr>\n    <tr>\n      <td>San Francisco</td>\n      <td>CA</td>\n      <td>37.781334</td>\n      <td>-122.416728</td>\n      <td>808976.0</td>\n      <td>California</td>\n    </tr>\n  </tbody>\n</table>\n</div>"
     },
     "metadata": {},
     "output_type": "execute_result",
     "execution_count": 128
    }
   ],
   "source": [
    "pd.concat([city_loc.set_index(\"city\"), city_pop.set_index(\"city\")], axis=1, sort=True)"
   ]
  },
  {
   "cell_type": "markdown",
   "metadata": {},
   "source": [
    "This looks a lot like a `FULL OUTER JOIN`, except that the `state` columns were not renamed to `state_x` and `state_y`, and the `city` column is now the index."
   ]
  },
  {
   "cell_type": "markdown",
   "metadata": {},
   "source": [
    "The `append()` method is a useful shorthand for concatenating `DataFrame`s vertically:"
   ]
  },
  {
   "cell_type": "code",
   "execution_count": 129,
   "metadata": {
    "pycharm": {
     "is_executing": false,
     "name": "#%%\n"
    }
   },
   "outputs": [
    {
     "name": "stderr",
     "text": [
      "/Users/dumas/PycharmProjects/proj0016_tutorials/venv/lib/python3.7/site-packages/pandas/core/frame.py:7123: FutureWarning: Sorting because non-concatenation axis is not aligned. A future version\nof pandas will change to not sort by default.\n\nTo accept the future behavior, pass 'sort=False'.\n\nTo retain the current behavior and silence the warning, pass 'sort=True'.\n\n  sort=sort,\n"
     ],
     "output_type": "stream"
    },
    {
     "data": {
      "text/plain": "             city        lat         lng  population       state\n0   San Francisco  37.781334 -122.416728         NaN          CA\n1        New York  40.705649  -74.008344         NaN          NY\n2           Miami  25.791100  -80.320733         NaN          FL\n3       Cleveland  41.473508  -81.739791         NaN          OH\n4  Salt Lake City  40.755851 -111.896657         NaN          UT\n3   San Francisco        NaN         NaN    808976.0  California\n4        New York        NaN         NaN   8363710.0    New-York\n5           Miami        NaN         NaN    413201.0     Florida\n6         Houston        NaN         NaN   2242193.0       Texas",
      "text/html": "<div>\n<style scoped>\n    .dataframe tbody tr th:only-of-type {\n        vertical-align: middle;\n    }\n\n    .dataframe tbody tr th {\n        vertical-align: top;\n    }\n\n    .dataframe thead th {\n        text-align: right;\n    }\n</style>\n<table border=\"1\" class=\"dataframe\">\n  <thead>\n    <tr style=\"text-align: right;\">\n      <th></th>\n      <th>city</th>\n      <th>lat</th>\n      <th>lng</th>\n      <th>population</th>\n      <th>state</th>\n    </tr>\n  </thead>\n  <tbody>\n    <tr>\n      <td>0</td>\n      <td>San Francisco</td>\n      <td>37.781334</td>\n      <td>-122.416728</td>\n      <td>NaN</td>\n      <td>CA</td>\n    </tr>\n    <tr>\n      <td>1</td>\n      <td>New York</td>\n      <td>40.705649</td>\n      <td>-74.008344</td>\n      <td>NaN</td>\n      <td>NY</td>\n    </tr>\n    <tr>\n      <td>2</td>\n      <td>Miami</td>\n      <td>25.791100</td>\n      <td>-80.320733</td>\n      <td>NaN</td>\n      <td>FL</td>\n    </tr>\n    <tr>\n      <td>3</td>\n      <td>Cleveland</td>\n      <td>41.473508</td>\n      <td>-81.739791</td>\n      <td>NaN</td>\n      <td>OH</td>\n    </tr>\n    <tr>\n      <td>4</td>\n      <td>Salt Lake City</td>\n      <td>40.755851</td>\n      <td>-111.896657</td>\n      <td>NaN</td>\n      <td>UT</td>\n    </tr>\n    <tr>\n      <td>3</td>\n      <td>San Francisco</td>\n      <td>NaN</td>\n      <td>NaN</td>\n      <td>808976.0</td>\n      <td>California</td>\n    </tr>\n    <tr>\n      <td>4</td>\n      <td>New York</td>\n      <td>NaN</td>\n      <td>NaN</td>\n      <td>8363710.0</td>\n      <td>New-York</td>\n    </tr>\n    <tr>\n      <td>5</td>\n      <td>Miami</td>\n      <td>NaN</td>\n      <td>NaN</td>\n      <td>413201.0</td>\n      <td>Florida</td>\n    </tr>\n    <tr>\n      <td>6</td>\n      <td>Houston</td>\n      <td>NaN</td>\n      <td>NaN</td>\n      <td>2242193.0</td>\n      <td>Texas</td>\n    </tr>\n  </tbody>\n</table>\n</div>"
     },
     "metadata": {},
     "output_type": "execute_result",
     "execution_count": 129
    }
   ],
   "source": [
    "city_loc.append(city_pop)"
   ]
  },
  {
   "cell_type": "markdown",
   "metadata": {},
   "source": [
    "As always in pandas, the `append()` method does *not* actually modify `city_loc`: it works on a copy and returns the modified copy."
   ]
  },
  {
   "cell_type": "markdown",
   "metadata": {},
   "source": [
    "# 7. Handling missing data\n",
    "\n",
    "Dealing with missing data is a frequent task when working with real life data. Pandas offers a few tools to handle missing data.\n",
    " "
   ]
  },
  {
   "cell_type": "markdown",
   "metadata": {},
   "source": [
    "Let's create a `DataFrame` with bonus points for each person from October to December:"
   ]
  },
  {
   "cell_type": "code",
   "execution_count": 130,
   "metadata": {
    "pycharm": {
     "is_executing": false,
     "name": "#%%\n"
    }
   },
   "outputs": [
    {
     "data": {
      "text/plain": "         oct  nov  dec\nbob      0.0  NaN  2.0\ncolin    NaN  1.0  0.0\ndarwin   0.0  1.0  0.0\ncharles  3.0  3.0  0.0",
      "text/html": "<div>\n<style scoped>\n    .dataframe tbody tr th:only-of-type {\n        vertical-align: middle;\n    }\n\n    .dataframe tbody tr th {\n        vertical-align: top;\n    }\n\n    .dataframe thead th {\n        text-align: right;\n    }\n</style>\n<table border=\"1\" class=\"dataframe\">\n  <thead>\n    <tr style=\"text-align: right;\">\n      <th></th>\n      <th>oct</th>\n      <th>nov</th>\n      <th>dec</th>\n    </tr>\n  </thead>\n  <tbody>\n    <tr>\n      <td>bob</td>\n      <td>0.0</td>\n      <td>NaN</td>\n      <td>2.0</td>\n    </tr>\n    <tr>\n      <td>colin</td>\n      <td>NaN</td>\n      <td>1.0</td>\n      <td>0.0</td>\n    </tr>\n    <tr>\n      <td>darwin</td>\n      <td>0.0</td>\n      <td>1.0</td>\n      <td>0.0</td>\n    </tr>\n    <tr>\n      <td>charles</td>\n      <td>3.0</td>\n      <td>3.0</td>\n      <td>0.0</td>\n    </tr>\n  </tbody>\n</table>\n</div>"
     },
     "metadata": {},
     "output_type": "execute_result",
     "execution_count": 130
    }
   ],
   "source": [
    "bonus_array = np.array([[0,np.nan,2],[np.nan,1,0],[0, 1, 0], [3, 3, 0]])\n",
    "bonus_points = pd.DataFrame(bonus_array, columns=[\"oct\", \"nov\", \"dec\"], index=[\"bob\",\"colin\", \"darwin\", \"charles\"])\n",
    "bonus_points"
   ]
  },
  {
   "cell_type": "code",
   "execution_count": 131,
   "metadata": {
    "pycharm": {
     "is_executing": false,
     "name": "#%%\n"
    }
   },
   "outputs": [
    {
     "data": {
      "text/plain": "         dec   nov   oct  sep\nalice    NaN   NaN   NaN  NaN\nbob      NaN   NaN   9.0  NaN\ncharles  NaN   5.0  11.0  NaN\ncolin    NaN   NaN   NaN  NaN\ndarwin   NaN  11.0  10.0  NaN",
      "text/html": "<div>\n<style scoped>\n    .dataframe tbody tr th:only-of-type {\n        vertical-align: middle;\n    }\n\n    .dataframe tbody tr th {\n        vertical-align: top;\n    }\n\n    .dataframe thead th {\n        text-align: right;\n    }\n</style>\n<table border=\"1\" class=\"dataframe\">\n  <thead>\n    <tr style=\"text-align: right;\">\n      <th></th>\n      <th>dec</th>\n      <th>nov</th>\n      <th>oct</th>\n      <th>sep</th>\n    </tr>\n  </thead>\n  <tbody>\n    <tr>\n      <td>alice</td>\n      <td>NaN</td>\n      <td>NaN</td>\n      <td>NaN</td>\n      <td>NaN</td>\n    </tr>\n    <tr>\n      <td>bob</td>\n      <td>NaN</td>\n      <td>NaN</td>\n      <td>9.0</td>\n      <td>NaN</td>\n    </tr>\n    <tr>\n      <td>charles</td>\n      <td>NaN</td>\n      <td>5.0</td>\n      <td>11.0</td>\n      <td>NaN</td>\n    </tr>\n    <tr>\n      <td>colin</td>\n      <td>NaN</td>\n      <td>NaN</td>\n      <td>NaN</td>\n      <td>NaN</td>\n    </tr>\n    <tr>\n      <td>darwin</td>\n      <td>NaN</td>\n      <td>11.0</td>\n      <td>10.0</td>\n      <td>NaN</td>\n    </tr>\n  </tbody>\n</table>\n</div>"
     },
     "metadata": {},
     "output_type": "execute_result",
     "execution_count": 131
    }
   ],
   "source": [
    "grades + bonus_points"
   ]
  },
  {
   "cell_type": "markdown",
   "metadata": {},
   "source": [
    "Let's try to fix the problem above. For example, we can decide that missing data should result in a zero, instead of `NaN`. We can replace all `NaN` values by a any value using the `fillna()` method:"
   ]
  },
  {
   "cell_type": "code",
   "execution_count": 132,
   "metadata": {
    "pycharm": {
     "is_executing": false,
     "name": "#%%\n"
    }
   },
   "outputs": [
    {
     "data": {
      "text/plain": "         dec   nov   oct  sep\nalice    0.0   0.0   0.0  0.0\nbob      0.0   0.0   9.0  0.0\ncharles  0.0   5.0  11.0  0.0\ncolin    0.0   0.0   0.0  0.0\ndarwin   0.0  11.0  10.0  0.0",
      "text/html": "<div>\n<style scoped>\n    .dataframe tbody tr th:only-of-type {\n        vertical-align: middle;\n    }\n\n    .dataframe tbody tr th {\n        vertical-align: top;\n    }\n\n    .dataframe thead th {\n        text-align: right;\n    }\n</style>\n<table border=\"1\" class=\"dataframe\">\n  <thead>\n    <tr style=\"text-align: right;\">\n      <th></th>\n      <th>dec</th>\n      <th>nov</th>\n      <th>oct</th>\n      <th>sep</th>\n    </tr>\n  </thead>\n  <tbody>\n    <tr>\n      <td>alice</td>\n      <td>0.0</td>\n      <td>0.0</td>\n      <td>0.0</td>\n      <td>0.0</td>\n    </tr>\n    <tr>\n      <td>bob</td>\n      <td>0.0</td>\n      <td>0.0</td>\n      <td>9.0</td>\n      <td>0.0</td>\n    </tr>\n    <tr>\n      <td>charles</td>\n      <td>0.0</td>\n      <td>5.0</td>\n      <td>11.0</td>\n      <td>0.0</td>\n    </tr>\n    <tr>\n      <td>colin</td>\n      <td>0.0</td>\n      <td>0.0</td>\n      <td>0.0</td>\n      <td>0.0</td>\n    </tr>\n    <tr>\n      <td>darwin</td>\n      <td>0.0</td>\n      <td>11.0</td>\n      <td>10.0</td>\n      <td>0.0</td>\n    </tr>\n  </tbody>\n</table>\n</div>"
     },
     "metadata": {},
     "output_type": "execute_result",
     "execution_count": 132
    }
   ],
   "source": [
    "(grades + bonus_points).fillna(0)"
   ]
  },
  {
   "cell_type": "markdown",
   "metadata": {},
   "source": [
    "It's a bit unfair that we're setting grades to zero in September, though. Perhaps we should decide that missing grades are missing grades, but missing bonus points should be replaced by zeros:"
   ]
  },
  {
   "cell_type": "code",
   "execution_count": 133,
   "metadata": {
    "pycharm": {
     "is_executing": false,
     "name": "#%%\n"
    }
   },
   "outputs": [
    {
     "data": {
      "text/plain": "         dec   nov   oct   sep\nalice    NaN   9.0   8.0   8.0\nbob      NaN   9.0   9.0  10.0\ncharles  NaN   5.0  11.0   4.0\ncolin    NaN   NaN   NaN   NaN\ndarwin   NaN  11.0  10.0   9.0",
      "text/html": "<div>\n<style scoped>\n    .dataframe tbody tr th:only-of-type {\n        vertical-align: middle;\n    }\n\n    .dataframe tbody tr th {\n        vertical-align: top;\n    }\n\n    .dataframe thead th {\n        text-align: right;\n    }\n</style>\n<table border=\"1\" class=\"dataframe\">\n  <thead>\n    <tr style=\"text-align: right;\">\n      <th></th>\n      <th>dec</th>\n      <th>nov</th>\n      <th>oct</th>\n      <th>sep</th>\n    </tr>\n  </thead>\n  <tbody>\n    <tr>\n      <td>alice</td>\n      <td>NaN</td>\n      <td>9.0</td>\n      <td>8.0</td>\n      <td>8.0</td>\n    </tr>\n    <tr>\n      <td>bob</td>\n      <td>NaN</td>\n      <td>9.0</td>\n      <td>9.0</td>\n      <td>10.0</td>\n    </tr>\n    <tr>\n      <td>charles</td>\n      <td>NaN</td>\n      <td>5.0</td>\n      <td>11.0</td>\n      <td>4.0</td>\n    </tr>\n    <tr>\n      <td>colin</td>\n      <td>NaN</td>\n      <td>NaN</td>\n      <td>NaN</td>\n      <td>NaN</td>\n    </tr>\n    <tr>\n      <td>darwin</td>\n      <td>NaN</td>\n      <td>11.0</td>\n      <td>10.0</td>\n      <td>9.0</td>\n    </tr>\n  </tbody>\n</table>\n</div>"
     },
     "metadata": {},
     "output_type": "execute_result",
     "execution_count": 133
    }
   ],
   "source": [
    "fixed_bonus_points = bonus_points.fillna(0)\n",
    "fixed_bonus_points.insert(0, \"sep\", 0)\n",
    "fixed_bonus_points.loc[\"alice\"] = 0\n",
    "grades + fixed_bonus_points"
   ]
  },
  {
   "cell_type": "markdown",
   "metadata": {},
   "source": [
    "That's much better: although we made up some data, we have not been too unfair.\n",
    "\n",
    "Another way to handle missing data is to interpolate. Let's look at the `bonus_points` `DataFrame` again:"
   ]
  },
  {
   "cell_type": "code",
   "execution_count": 134,
   "metadata": {
    "pycharm": {
     "is_executing": false,
     "name": "#%%\n"
    }
   },
   "outputs": [
    {
     "data": {
      "text/plain": "         oct  nov  dec\nbob      0.0  NaN  2.0\ncolin    NaN  1.0  0.0\ndarwin   0.0  1.0  0.0\ncharles  3.0  3.0  0.0",
      "text/html": "<div>\n<style scoped>\n    .dataframe tbody tr th:only-of-type {\n        vertical-align: middle;\n    }\n\n    .dataframe tbody tr th {\n        vertical-align: top;\n    }\n\n    .dataframe thead th {\n        text-align: right;\n    }\n</style>\n<table border=\"1\" class=\"dataframe\">\n  <thead>\n    <tr style=\"text-align: right;\">\n      <th></th>\n      <th>oct</th>\n      <th>nov</th>\n      <th>dec</th>\n    </tr>\n  </thead>\n  <tbody>\n    <tr>\n      <td>bob</td>\n      <td>0.0</td>\n      <td>NaN</td>\n      <td>2.0</td>\n    </tr>\n    <tr>\n      <td>colin</td>\n      <td>NaN</td>\n      <td>1.0</td>\n      <td>0.0</td>\n    </tr>\n    <tr>\n      <td>darwin</td>\n      <td>0.0</td>\n      <td>1.0</td>\n      <td>0.0</td>\n    </tr>\n    <tr>\n      <td>charles</td>\n      <td>3.0</td>\n      <td>3.0</td>\n      <td>0.0</td>\n    </tr>\n  </tbody>\n</table>\n</div>"
     },
     "metadata": {},
     "output_type": "execute_result",
     "execution_count": 134
    }
   ],
   "source": [
    "bonus_points"
   ]
  },
  {
   "cell_type": "markdown",
   "metadata": {},
   "source": [
    "Now let's call the `interpolate` method. By default, it interpolates vertically (`axis=0`), so let's tell it to interpolate horizontally (`axis=1`)."
   ]
  },
  {
   "cell_type": "code",
   "execution_count": 135,
   "metadata": {
    "pycharm": {
     "is_executing": false,
     "name": "#%%\n"
    }
   },
   "outputs": [
    {
     "data": {
      "text/plain": "         oct  nov  dec\nbob      0.0  1.0  2.0\ncolin    NaN  1.0  0.0\ndarwin   0.0  1.0  0.0\ncharles  3.0  3.0  0.0",
      "text/html": "<div>\n<style scoped>\n    .dataframe tbody tr th:only-of-type {\n        vertical-align: middle;\n    }\n\n    .dataframe tbody tr th {\n        vertical-align: top;\n    }\n\n    .dataframe thead th {\n        text-align: right;\n    }\n</style>\n<table border=\"1\" class=\"dataframe\">\n  <thead>\n    <tr style=\"text-align: right;\">\n      <th></th>\n      <th>oct</th>\n      <th>nov</th>\n      <th>dec</th>\n    </tr>\n  </thead>\n  <tbody>\n    <tr>\n      <td>bob</td>\n      <td>0.0</td>\n      <td>1.0</td>\n      <td>2.0</td>\n    </tr>\n    <tr>\n      <td>colin</td>\n      <td>NaN</td>\n      <td>1.0</td>\n      <td>0.0</td>\n    </tr>\n    <tr>\n      <td>darwin</td>\n      <td>0.0</td>\n      <td>1.0</td>\n      <td>0.0</td>\n    </tr>\n    <tr>\n      <td>charles</td>\n      <td>3.0</td>\n      <td>3.0</td>\n      <td>0.0</td>\n    </tr>\n  </tbody>\n</table>\n</div>"
     },
     "metadata": {},
     "output_type": "execute_result",
     "execution_count": 135
    }
   ],
   "source": [
    "bonus_points.interpolate(axis=1)"
   ]
  },
  {
   "cell_type": "markdown",
   "metadata": {},
   "source": [
    "Bob had 0 bonus points in October, and 2 in December. When we interpolate for November, we get the mean: 1 bonus point. Colin had 1 bonus point in November, but we do not know how many bonus points he had in September, so we cannot interpolate, this is why there is still a missing value in October after interpolation. To fix this, we can set the September bonus points to 0 before interpolation."
   ]
  },
  {
   "cell_type": "code",
   "execution_count": 136,
   "metadata": {
    "pycharm": {
     "is_executing": false,
     "name": "#%%\n"
    }
   },
   "outputs": [
    {
     "data": {
      "text/plain": "         sep  oct  nov  dec\nbob      0.0  0.0  1.0  2.0\ncolin    0.0  0.5  1.0  0.0\ndarwin   0.0  0.0  1.0  0.0\ncharles  0.0  3.0  3.0  0.0\nalice    0.0  0.0  0.0  0.0",
      "text/html": "<div>\n<style scoped>\n    .dataframe tbody tr th:only-of-type {\n        vertical-align: middle;\n    }\n\n    .dataframe tbody tr th {\n        vertical-align: top;\n    }\n\n    .dataframe thead th {\n        text-align: right;\n    }\n</style>\n<table border=\"1\" class=\"dataframe\">\n  <thead>\n    <tr style=\"text-align: right;\">\n      <th></th>\n      <th>sep</th>\n      <th>oct</th>\n      <th>nov</th>\n      <th>dec</th>\n    </tr>\n  </thead>\n  <tbody>\n    <tr>\n      <td>bob</td>\n      <td>0.0</td>\n      <td>0.0</td>\n      <td>1.0</td>\n      <td>2.0</td>\n    </tr>\n    <tr>\n      <td>colin</td>\n      <td>0.0</td>\n      <td>0.5</td>\n      <td>1.0</td>\n      <td>0.0</td>\n    </tr>\n    <tr>\n      <td>darwin</td>\n      <td>0.0</td>\n      <td>0.0</td>\n      <td>1.0</td>\n      <td>0.0</td>\n    </tr>\n    <tr>\n      <td>charles</td>\n      <td>0.0</td>\n      <td>3.0</td>\n      <td>3.0</td>\n      <td>0.0</td>\n    </tr>\n    <tr>\n      <td>alice</td>\n      <td>0.0</td>\n      <td>0.0</td>\n      <td>0.0</td>\n      <td>0.0</td>\n    </tr>\n  </tbody>\n</table>\n</div>"
     },
     "metadata": {},
     "output_type": "execute_result",
     "execution_count": 136
    }
   ],
   "source": [
    "better_bonus_points = bonus_points.copy()\n",
    "better_bonus_points.insert(0, \"sep\", 0)\n",
    "better_bonus_points.loc[\"alice\"] = 0\n",
    "better_bonus_points = better_bonus_points.interpolate(axis=1)\n",
    "better_bonus_points"
   ]
  },
  {
   "cell_type": "markdown",
   "metadata": {},
   "source": [
    "Great, now we have reasonable bonus points everywhere. Let's find out the final grades:"
   ]
  },
  {
   "cell_type": "code",
   "execution_count": 137,
   "metadata": {
    "pycharm": {
     "is_executing": false,
     "name": "#%%\n"
    }
   },
   "outputs": [
    {
     "data": {
      "text/plain": "         dec   nov   oct   sep\nalice    NaN   9.0   8.0   8.0\nbob      NaN  10.0   9.0  10.0\ncharles  NaN   5.0  11.0   4.0\ncolin    NaN   NaN   NaN   NaN\ndarwin   NaN  11.0  10.0   9.0",
      "text/html": "<div>\n<style scoped>\n    .dataframe tbody tr th:only-of-type {\n        vertical-align: middle;\n    }\n\n    .dataframe tbody tr th {\n        vertical-align: top;\n    }\n\n    .dataframe thead th {\n        text-align: right;\n    }\n</style>\n<table border=\"1\" class=\"dataframe\">\n  <thead>\n    <tr style=\"text-align: right;\">\n      <th></th>\n      <th>dec</th>\n      <th>nov</th>\n      <th>oct</th>\n      <th>sep</th>\n    </tr>\n  </thead>\n  <tbody>\n    <tr>\n      <td>alice</td>\n      <td>NaN</td>\n      <td>9.0</td>\n      <td>8.0</td>\n      <td>8.0</td>\n    </tr>\n    <tr>\n      <td>bob</td>\n      <td>NaN</td>\n      <td>10.0</td>\n      <td>9.0</td>\n      <td>10.0</td>\n    </tr>\n    <tr>\n      <td>charles</td>\n      <td>NaN</td>\n      <td>5.0</td>\n      <td>11.0</td>\n      <td>4.0</td>\n    </tr>\n    <tr>\n      <td>colin</td>\n      <td>NaN</td>\n      <td>NaN</td>\n      <td>NaN</td>\n      <td>NaN</td>\n    </tr>\n    <tr>\n      <td>darwin</td>\n      <td>NaN</td>\n      <td>11.0</td>\n      <td>10.0</td>\n      <td>9.0</td>\n    </tr>\n  </tbody>\n</table>\n</div>"
     },
     "metadata": {},
     "output_type": "execute_result",
     "execution_count": 137
    }
   ],
   "source": [
    "grades + better_bonus_points"
   ]
  },
  {
   "cell_type": "markdown",
   "metadata": {},
   "source": [
    "It is slightly annoying that the September column ends up on the right. This is because the `DataFrame`s we are adding do not have the exact same columns (the `grades` `DataFrame` is missing the `\"dec\"` column), so to make things predictable, pandas orders the final columns alphabetically. To fix this, we can simply add the missing column before adding:"
   ]
  },
  {
   "cell_type": "code",
   "execution_count": 138,
   "metadata": {
    "pycharm": {
     "is_executing": false,
     "name": "#%%\n"
    }
   },
   "outputs": [
    {
     "data": {
      "text/plain": "          sep   oct   nov  dec\nalice     8.0   8.0   9.0  NaN\nbob      10.0   9.0  10.0  NaN\ncharles   4.0  11.0   5.0  NaN\ncolin     NaN   NaN   NaN  NaN\ndarwin    9.0  10.0  11.0  NaN",
      "text/html": "<div>\n<style scoped>\n    .dataframe tbody tr th:only-of-type {\n        vertical-align: middle;\n    }\n\n    .dataframe tbody tr th {\n        vertical-align: top;\n    }\n\n    .dataframe thead th {\n        text-align: right;\n    }\n</style>\n<table border=\"1\" class=\"dataframe\">\n  <thead>\n    <tr style=\"text-align: right;\">\n      <th></th>\n      <th>sep</th>\n      <th>oct</th>\n      <th>nov</th>\n      <th>dec</th>\n    </tr>\n  </thead>\n  <tbody>\n    <tr>\n      <td>alice</td>\n      <td>8.0</td>\n      <td>8.0</td>\n      <td>9.0</td>\n      <td>NaN</td>\n    </tr>\n    <tr>\n      <td>bob</td>\n      <td>10.0</td>\n      <td>9.0</td>\n      <td>10.0</td>\n      <td>NaN</td>\n    </tr>\n    <tr>\n      <td>charles</td>\n      <td>4.0</td>\n      <td>11.0</td>\n      <td>5.0</td>\n      <td>NaN</td>\n    </tr>\n    <tr>\n      <td>colin</td>\n      <td>NaN</td>\n      <td>NaN</td>\n      <td>NaN</td>\n      <td>NaN</td>\n    </tr>\n    <tr>\n      <td>darwin</td>\n      <td>9.0</td>\n      <td>10.0</td>\n      <td>11.0</td>\n      <td>NaN</td>\n    </tr>\n  </tbody>\n</table>\n</div>"
     },
     "metadata": {},
     "output_type": "execute_result",
     "execution_count": 138
    }
   ],
   "source": [
    "grades[\"dec\"] = np.nan\n",
    "final_grades = grades + better_bonus_points\n",
    "final_grades"
   ]
  },
  {
   "cell_type": "markdown",
   "metadata": {},
   "source": [
    "There's not much we can do about December and Colin: it's bad enough that we are making up bonus points, but we can't reasonably make up grades (well I guess some teachers probably do). So let's call the `dropna()` method to get rid of rows that are full of `NaN`s:"
   ]
  },
  {
   "cell_type": "code",
   "execution_count": 139,
   "metadata": {
    "pycharm": {
     "is_executing": false,
     "name": "#%%\n"
    }
   },
   "outputs": [
    {
     "data": {
      "text/plain": "          sep   oct   nov  dec\nalice     8.0   8.0   9.0  NaN\nbob      10.0   9.0  10.0  NaN\ncharles   4.0  11.0   5.0  NaN\ndarwin    9.0  10.0  11.0  NaN",
      "text/html": "<div>\n<style scoped>\n    .dataframe tbody tr th:only-of-type {\n        vertical-align: middle;\n    }\n\n    .dataframe tbody tr th {\n        vertical-align: top;\n    }\n\n    .dataframe thead th {\n        text-align: right;\n    }\n</style>\n<table border=\"1\" class=\"dataframe\">\n  <thead>\n    <tr style=\"text-align: right;\">\n      <th></th>\n      <th>sep</th>\n      <th>oct</th>\n      <th>nov</th>\n      <th>dec</th>\n    </tr>\n  </thead>\n  <tbody>\n    <tr>\n      <td>alice</td>\n      <td>8.0</td>\n      <td>8.0</td>\n      <td>9.0</td>\n      <td>NaN</td>\n    </tr>\n    <tr>\n      <td>bob</td>\n      <td>10.0</td>\n      <td>9.0</td>\n      <td>10.0</td>\n      <td>NaN</td>\n    </tr>\n    <tr>\n      <td>charles</td>\n      <td>4.0</td>\n      <td>11.0</td>\n      <td>5.0</td>\n      <td>NaN</td>\n    </tr>\n    <tr>\n      <td>darwin</td>\n      <td>9.0</td>\n      <td>10.0</td>\n      <td>11.0</td>\n      <td>NaN</td>\n    </tr>\n  </tbody>\n</table>\n</div>"
     },
     "metadata": {},
     "output_type": "execute_result",
     "execution_count": 139
    }
   ],
   "source": [
    "final_grades_clean = final_grades.dropna(how=\"all\")\n",
    "final_grades_clean"
   ]
  },
  {
   "cell_type": "markdown",
   "metadata": {},
   "source": [
    "Now let's remove columns that are full of `NaN`s by setting the `axis` argument to `1`:"
   ]
  },
  {
   "cell_type": "code",
   "execution_count": 140,
   "metadata": {
    "pycharm": {
     "is_executing": false,
     "name": "#%%\n"
    }
   },
   "outputs": [
    {
     "data": {
      "text/plain": "          sep   oct   nov\nalice     8.0   8.0   9.0\nbob      10.0   9.0  10.0\ncharles   4.0  11.0   5.0\ndarwin    9.0  10.0  11.0",
      "text/html": "<div>\n<style scoped>\n    .dataframe tbody tr th:only-of-type {\n        vertical-align: middle;\n    }\n\n    .dataframe tbody tr th {\n        vertical-align: top;\n    }\n\n    .dataframe thead th {\n        text-align: right;\n    }\n</style>\n<table border=\"1\" class=\"dataframe\">\n  <thead>\n    <tr style=\"text-align: right;\">\n      <th></th>\n      <th>sep</th>\n      <th>oct</th>\n      <th>nov</th>\n    </tr>\n  </thead>\n  <tbody>\n    <tr>\n      <td>alice</td>\n      <td>8.0</td>\n      <td>8.0</td>\n      <td>9.0</td>\n    </tr>\n    <tr>\n      <td>bob</td>\n      <td>10.0</td>\n      <td>9.0</td>\n      <td>10.0</td>\n    </tr>\n    <tr>\n      <td>charles</td>\n      <td>4.0</td>\n      <td>11.0</td>\n      <td>5.0</td>\n    </tr>\n    <tr>\n      <td>darwin</td>\n      <td>9.0</td>\n      <td>10.0</td>\n      <td>11.0</td>\n    </tr>\n  </tbody>\n</table>\n</div>"
     },
     "metadata": {},
     "output_type": "execute_result",
     "execution_count": 140
    }
   ],
   "source": [
    "final_grades_clean = final_grades_clean.dropna(axis=1, how=\"all\")\n",
    "final_grades_clean\n"
   ]
  },
  {
   "cell_type": "markdown",
   "metadata": {},
   "source": [
    "# What next?\n",
    "As you probably noticed by now, pandas is quite a large library with *many* features. \n",
    "Although we went through the most important features, there is still a lot to discover. \n",
    "Probably the best way to learn more is to get your hands dirty with some real-life data. \n",
    "It is also a good idea to go through pandas' excellent [documentation](http://pandas.pydata.org/pandas-docs/stable/index.html), in particular the [Cookbook](http://pandas.pydata.org/pandas-docs/stable/cookbook.html).\n"
   ]
  },
  {
   "cell_type": "markdown",
   "metadata": {},
   "source": [
    "## What we didn't talk about..."
   ]
  },
  {
   "cell_type": "markdown",
   "metadata": {},
   "source": [
    "- Reshaping data: `pivot_table`, `melt`, `stack`, `unstack`\n",
    "- ..."
   ]
  },
  {
   "cell_type": "markdown",
   "metadata": {},
   "source": [
    "\n",
    "## Further reading\n",
    "\n",
    "* Pandas documentation: http://pandas.pydata.org/pandas-docs/stable/\n",
    "\n",
    "* Books\n",
    "\n",
    "    * \"Python for Data Analysis\" by Wes McKinney\n",
    "    * \"Python Data Science Handbook\" by Jake VanderPlas\n",
    "\n",
    "* Tutorials (many good online tutorials!)\n",
    "\n",
    "  * https://github.com/jorisvandenbossche/pandas-tutorial\n",
    "  * https://github.com/brandon-rhodes/pycon-pandas-tutorial\n",
    "\n",
    "* Tom Augspurger's blog\n",
    "\n",
    "  * https://tomaugspurger.github.io/modern-1.html"
   ]
  }
 ],
 "metadata": {
  "kernelspec": {
   "display_name": "Python 3",
   "language": "python",
   "name": "python3"
  },
  "language_info": {
   "codemirror_mode": {
    "name": "ipython",
    "version": 3
   },
   "file_extension": ".py",
   "mimetype": "text/x-python",
   "name": "python",
   "nbconvert_exporter": "python",
   "pygments_lexer": "ipython3",
   "version": "3.7.1"
  },
  "pycharm": {
   "stem_cell": {
    "cell_type": "raw",
    "source": [],
    "metadata": {
     "collapsed": false
    }
   }
  },
  "toc": {
   "toc_cell": false,
   "toc_number_sections": true,
   "toc_section_display": "none",
   "toc_threshold": 6,
   "toc_window_display": true
  }
 },
 "nbformat": 4,
 "nbformat_minor": 1
}