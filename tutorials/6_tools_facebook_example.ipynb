{
 "cells": [
  {
   "cell_type": "markdown",
   "metadata": {
    "pycharm": {
     "name": "#%% md\n"
    }
   },
   "source": [
    "# Tools - numpy - matplotlib - networkx - d3.js - detecting missing data and clustering"
   ]
  },
  {
   "cell_type": "markdown",
   "metadata": {},
   "source": [
    "# Summary\n",
    "\n",
    "## 0. Function to generate data\n",
    "## 1. Generating data\n",
    "## 2. EXERCISE Plot the data sorted given cluster information\n",
    "## 3. EXERCISE Create and plot the square adjacency matrix (without cluster information nor auto clustering)\n",
    "## 4. EXERCISE Use networkx to create a Graph G, and plot it\n",
    "## 5. An example usage of d3.js to create an interactive graph layout\n",
    "## 6. EXERCISE Bonus : sort the adjacency matrix to highlight clusters, and plot it."
   ]
  },
  {
   "cell_type": "code",
   "execution_count": 2,
   "metadata": {
    "pycharm": {
     "is_executing": true
    }
   },
   "outputs": [],
   "source": [
    "import numpy as np\n",
    "import matplotlib.pyplot as plt\n",
    "import networkx as nx\n",
    "from scipy.sparse import csr_matrix\n",
    "from scipy.sparse.csgraph import reverse_cuthill_mckee\n",
    "import json\n",
    "import pickle\n",
    "%matplotlib inline"
   ]
  },
  {
   "cell_type": "markdown",
   "metadata": {},
   "source": [
    "# 0. Function to generate data."
   ]
  },
  {
   "cell_type": "code",
   "execution_count": 3,
   "metadata": {
    "pycharm": {
     "name": "#%%\n"
    }
   },
   "outputs": [],
   "source": [
    "def generate_data():\n",
    "    \"\"\"\n",
    "    Generate data.\n",
    "    :return: connections and members_cluster\n",
    "    \"\"\"\n",
    "    members_cluster = np.random.random_integers(0, 1, (N_MEMBERS, 3)).sum(axis=1) + 1  # Cluster number of members\n",
    "    \n",
    "    tmp = np.random.rand(N_REPLIES, N_MEMBERS)\n",
    "    connections = np.zeros((N_REPLIES, N_MEMBERS))\n",
    "    connections[tmp < OUT_OF_CLUSTER_P] = 1\n",
    "    \n",
    "    # Check\n",
    "    print(connections.sum() / (N_REPLIES * N_MEMBERS))\n",
    "    \n",
    "    for i in range(N_REPLIES):\n",
    "        cluster_i = members_cluster[i]\n",
    "        for j in range(N_MEMBERS):\n",
    "            cluster_j = members_cluster[j]\n",
    "            if i == j:\n",
    "                connections[i, j] = 0\n",
    "            elif cluster_i == cluster_j:\n",
    "                connections[i, j] = 1 if np.random.rand() < IN_CLUSTER_P else 0\n",
    "    \n",
    "    with open('data/connections.pkl','wb') as f:\n",
    "         pickle.dump(connections, f)\n",
    "    \n",
    "    with open('data/member_cluster.pkl','wb') as f:\n",
    "         pickle.dump(members_cluster, f)\n",
    "    return connections, members_cluster"
   ]
  },
  {
   "cell_type": "markdown",
   "metadata": {},
   "source": [
    "# 1. Generating data"
   ]
  },
  {
   "cell_type": "code",
   "execution_count": 4,
   "metadata": {
    "pycharm": {
     "is_executing": false,
     "name": "#%%\n"
    }
   },
   "outputs": [],
   "source": [
    "GENERATE_DATA = True  # Turn on if you want fresh data\n",
    "N_MEMBERS = 150\n",
    "N_REPLIES = 100  # < N_MEMBERS!\n",
    "OUT_OF_CLUSTER_P = 0.05  # Probability of connection out of cluster\n",
    "IN_CLUSTER_P = 0.8  # Probability of connection in cluster\n"
   ]
  },
  {
   "cell_type": "code",
   "execution_count": 5,
   "metadata": {
    "pycharm": {
     "is_executing": false,
     "name": "#%%\n"
    }
   },
   "outputs": [
    {
     "name": "stdout",
     "output_type": "stream",
     "text": [
      "Generating data\n",
      "0.0488\n"
     ]
    },
    {
     "name": "stderr",
     "output_type": "stream",
     "text": [
      "/Users/dumas/PycharmProjects/proj0016-big-data-project/venv/lib/python3.7/site-packages/ipykernel_launcher.py:6: DeprecationWarning: This function is deprecated. Please call randint(0, 1 + 1) instead\n",
      "  \n"
     ]
    },
    {
     "data": {
      "text/plain": [
       "<matplotlib.image.AxesImage at 0x11d2f5c18>"
      ]
     },
     "execution_count": 5,
     "metadata": {},
     "output_type": "execute_result"
    },
    {
     "data": {
      "image/png": "[encoded data removed]",
      "text/plain": [
       "<Figure size 432x288 with 1 Axes>"
      ]
     },
     "metadata": {
      "needs_background": "light"
     },
     "output_type": "display_data"
    }
   ],
   "source": [
    "# Load data\n",
    "if GENERATE_DATA:\n",
    "    print(\"Generating data\")\n",
    "    connections, members_cluster = generate_data()\n",
    "else:\n",
    "    print(\"Loading data\")\n",
    "    with open('data/connections.pkl','rb') as f:\n",
    "         connections = pickle.load(f)\n",
    "    \n",
    "    with open('data/member_cluster.pkl','rb') as f:\n",
    "         members_cluster = pickle.load(f)\n",
    "\n",
    "plt.imshow(connections, cmap=\"PuBu\")"
   ]
  },
  {
   "cell_type": "markdown",
   "metadata": {},
   "source": [
    "## 2 EXERCISE Plot the data sorted given cluster information\n",
    "\n",
    "<div class=\"alert alert-success\">\n",
    "<ul>\n",
    "  <li>connections is a N_REPLIES * N_MEMBERS adjacency matrix</li>\n",
    "  <li>members_cluster contains the cluster information (ground_truth) </li>\n",
    "  <li>Plot the matrix to highlight cluster information</li>\n",
    "</ul>\n",
    "</div>\n"
   ]
  },
  {
   "cell_type": "code",
   "execution_count": null,
   "metadata": {
    "pycharm": {
     "name": "#%%\n"
    }
   },
   "outputs": [],
   "source": []
  },
  {
   "cell_type": "markdown",
   "metadata": {},
   "source": [
    "## 3 EXERCISE Create and plot the square adjacency matrix (without cluster information nor auto clustering)\n",
    "\n",
    "<div class=\"alert alert-success\">\n",
    "<ul>\n",
    "  <li>Store the matrix in an array S</li>\n",
    "</ul>\n",
    "</div>"
   ]
  },
  {
   "cell_type": "code",
   "execution_count": 7,
   "metadata": {
    "pycharm": {
     "is_executing": false,
     "name": "#%%\n"
    }
   },
   "outputs": [],
   "source": []
  },
  {
   "cell_type": "markdown",
   "metadata": {
    "pycharm": {
     "is_executing": false,
     "name": "#%% md\n"
    }
   },
   "source": [
    "## 4 EXERCISE Use networkx to create a Graph G, and plot it"
   ]
  },
  {
   "cell_type": "code",
   "execution_count": null,
   "metadata": {
    "pycharm": {
     "name": "#%%\n"
    }
   },
   "outputs": [],
   "source": []
  },
  {
   "cell_type": "markdown",
   "metadata": {
    "pycharm": {
     "name": "#%% md\n"
    }
   },
   "source": [
    "## 5 Below is an example usage of d3.js to create an interactive graph layout"
   ]
  },
  {
   "cell_type": "code",
   "execution_count": 6,
   "metadata": {
    "pycharm": {
     "is_executing": false,
     "name": "#%%\n"
    }
   },
   "outputs": [
    {
     "ename": "NameError",
     "evalue": "name 'G' is not defined",
     "output_type": "error",
     "traceback": [
      "\u001b[0;31m---------------------------------------------------------------------------\u001b[0m",
      "\u001b[0;31mNameError\u001b[0m                                 Traceback (most recent call last)",
      "\u001b[0;32m<ipython-input-6-1a093555549e>\u001b[0m in \u001b[0;36m<module>\u001b[0;34m\u001b[0m\n\u001b[1;32m      1\u001b[0m \u001b[0;31m# Dump to json for d3.js\u001b[0m\u001b[0;34m\u001b[0m\u001b[0;34m\u001b[0m\u001b[0;34m\u001b[0m\u001b[0m\n\u001b[0;32m----> 2\u001b[0;31m \u001b[0mnodes\u001b[0m \u001b[0;34m=\u001b[0m \u001b[0;34m[\u001b[0m\u001b[0;34m{\u001b[0m\u001b[0;34m'name'\u001b[0m\u001b[0;34m:\u001b[0m \u001b[0mstr\u001b[0m\u001b[0;34m(\u001b[0m\u001b[0mi\u001b[0m\u001b[0;34m)\u001b[0m\u001b[0;34m,\u001b[0m \u001b[0;34m'club'\u001b[0m\u001b[0;34m:\u001b[0m \u001b[0mint\u001b[0m\u001b[0;34m(\u001b[0m\u001b[0mmembers_cluster\u001b[0m\u001b[0;34m[\u001b[0m\u001b[0mi\u001b[0m\u001b[0;34m]\u001b[0m\u001b[0;34m)\u001b[0m\u001b[0;34m}\u001b[0m \u001b[0;32mfor\u001b[0m \u001b[0mi\u001b[0m \u001b[0;32min\u001b[0m \u001b[0mG\u001b[0m\u001b[0;34m.\u001b[0m\u001b[0mnodes\u001b[0m\u001b[0;34m(\u001b[0m\u001b[0;34m)\u001b[0m\u001b[0;34m]\u001b[0m\u001b[0;34m\u001b[0m\u001b[0;34m\u001b[0m\u001b[0m\n\u001b[0m\u001b[1;32m      3\u001b[0m links = [{'source': u[0], 'target': u[1]}\n\u001b[1;32m      4\u001b[0m          for u in G.edges()]\n\u001b[1;32m      5\u001b[0m \u001b[0;32mwith\u001b[0m \u001b[0mopen\u001b[0m\u001b[0;34m(\u001b[0m\u001b[0;34m'data/graph.json'\u001b[0m\u001b[0;34m,\u001b[0m \u001b[0;34m'w'\u001b[0m\u001b[0;34m)\u001b[0m \u001b[0;32mas\u001b[0m \u001b[0mf\u001b[0m\u001b[0;34m:\u001b[0m\u001b[0;34m\u001b[0m\u001b[0;34m\u001b[0m\u001b[0m\n",
      "\u001b[0;31mNameError\u001b[0m: name 'G' is not defined"
     ]
    }
   ],
   "source": [
    "# Dump to json for d3.js\n",
    "nodes = [{'name': str(i), 'club': int(members_cluster[i])} for i in G.nodes()]\n",
    "links = [{'source': u[0], 'target': u[1]}\n",
    "         for u in G.edges()]\n",
    "with open('data/graph.json', 'w') as f:\n",
    "    json.dump({'nodes': nodes, 'links': links}, f, indent=4,)"
   ]
  },
  {
   "cell_type": "code",
   "execution_count": 77,
   "metadata": {
    "pycharm": {
     "is_executing": false,
     "name": "#%%\n"
    }
   },
   "outputs": [
    {
     "data": {
      "text/html": [
       "<div id=\"d3-example\"></div>\n",
       "<style>\n",
       ".node {stroke: #fff; stroke-width: 1.5px;}\n",
       ".link {stroke: #999; stroke-opacity: .6;}\n",
       "</style>\n"
      ],
      "text/plain": [
       "<IPython.core.display.HTML object>"
      ]
     },
     "metadata": {},
     "output_type": "display_data"
    }
   ],
   "source": [
    "%%html\n",
    "<div id=\"d3-example\"></div>\n",
    "<style>\n",
    ".node {stroke: #fff; stroke-width: 1.5px;}\n",
    ".link {stroke: #999; stroke-opacity: .6;}\n",
    "</style>"
   ]
  },
  {
   "cell_type": "code",
   "execution_count": 78,
   "metadata": {
    "pycharm": {
     "is_executing": false,
     "name": "#%%\n"
    }
   },
   "outputs": [
    {
     "data": {
      "application/javascript": [
       "// We load the d3.js library from the Web.\n",
       "require.config({\n",
       "    paths:\n",
       "        {d3: \"http://d3js.org/d3.v3.min\"}\n",
       "});\n",
       "require([\"d3\"], function (d3) {\n",
       "    // The code in this block is executed when the\n",
       "    // d3.js library has been loaded.\n",
       "\n",
       "    // First, we specify the size of the canvas\n",
       "    // containing the visualization (size of the\n",
       "    // <div> element).\n",
       "    var width = 1000, height = 1000;\n",
       "\n",
       "    // We create a color scale.\n",
       "    var color = d3.scale.category10();\n",
       "\n",
       "    // We create a force-directed dynamic graph layout.\n",
       "    var force = d3.layout.force()\n",
       "        .charge(-120)\n",
       "        .linkDistance(100)\n",
       "        .size([width, height]);\n",
       "\n",
       "    // In the <div> element, we create a <svg> graphic\n",
       "    // that will contain our interactive visualization.\n",
       "    var svg = d3.select(\"#d3-example\").select(\"svg\")\n",
       "    if (svg.empty()) {\n",
       "        svg = d3.select(\"#d3-example\").append(\"svg\")\n",
       "            .attr(\"width\", width)\n",
       "            .attr(\"height\", height);\n",
       "    }\n",
       "\n",
       "    // We load the JSON file.\n",
       "    d3.json(\"graph.json\", function (error, graph) {\n",
       "        // In this block, the file has been loaded\n",
       "        // and the 'graph' object contains our graph.\n",
       "\n",
       "        // We load the nodes and links in the\n",
       "        // force-directed graph.\n",
       "        force.nodes(graph.nodes)\n",
       "            .links(graph.links)\n",
       "            .start();\n",
       "\n",
       "        // We create a <line> SVG element for each link\n",
       "        // in the graph.\n",
       "        var link = svg.selectAll(\".link\")\n",
       "            .data(graph.links)\n",
       "            .enter().append(\"line\")\n",
       "            .attr(\"class\", \"link\");\n",
       "\n",
       "        // We create a <circle> SVG element for each node\n",
       "        // in the graph, and we specify a few attributes.\n",
       "        var node = svg.selectAll(\".node\")\n",
       "            .data(graph.nodes)\n",
       "            .enter().append(\"circle\")\n",
       "            .attr(\"class\", \"node\")\n",
       "            .attr(\"r\", 10)  // radius\n",
       "            .style(\"fill\", function (d) {\n",
       "                // The node color depends on the club.\n",
       "                return color(d.club);\n",
       "            })\n",
       "            .call(force.drag);\n",
       "\n",
       "        // The name of each node is the node number.\n",
       "        node.append(\"title\")\n",
       "            .text(function (d) {\n",
       "                return d.name;\n",
       "            });\n",
       "\n",
       "        // We bind the positions of the SVG elements\n",
       "        // to the positions of the dynamic force-directed\n",
       "        // graph, at each time step.\n",
       "        force.on(\"tick\", function () {\n",
       "            link.attr(\"x1\", function (d) {\n",
       "                return d.source.x\n",
       "            })\n",
       "                .attr(\"y1\", function (d) {\n",
       "                    return d.source.y\n",
       "                })\n",
       "                .attr(\"x2\", function (d) {\n",
       "                    return d.target.x\n",
       "                })\n",
       "                .attr(\"y2\", function (d) {\n",
       "                    return d.target.y\n",
       "                });\n",
       "\n",
       "            node.attr(\"cx\", function (d) {\n",
       "                return d.x\n",
       "            })\n",
       "                .attr(\"cy\", function (d) {\n",
       "                    return d.y\n",
       "                });\n",
       "        });\n",
       "    });\n",
       "});\n"
      ],
      "text/plain": [
       "<IPython.core.display.Javascript object>"
      ]
     },
     "metadata": {},
     "output_type": "display_data"
    }
   ],
   "source": [
    "%%javascript\n",
    "// We load the d3.js library from the Web.\n",
    "require.config({\n",
    "    paths:\n",
    "        {d3: \"http://d3js.org/d3.v3.min\"}\n",
    "});\n",
    "require([\"d3\"], function (d3) {\n",
    "    // The code in this block is executed when the\n",
    "    // d3.js library has been loaded.\n",
    "\n",
    "    // First, we specify the size of the canvas\n",
    "    // containing the visualization (size of the\n",
    "    // <div> element).\n",
    "    var width = 1000, height = 1000;\n",
    "\n",
    "    // We create a color scale.\n",
    "    var color = d3.scale.category10();\n",
    "\n",
    "    // We create a force-directed dynamic graph layout.\n",
    "    var force = d3.layout.force()\n",
    "        .charge(-120)\n",
    "        .linkDistance(100)\n",
    "        .size([width, height]);\n",
    "\n",
    "    // In the <div> element, we create a <svg> graphic\n",
    "    // that will contain our interactive visualization.\n",
    "    var svg = d3.select(\"#d3-example\").select(\"svg\")\n",
    "    if (svg.empty()) {\n",
    "        svg = d3.select(\"#d3-example\").append(\"svg\")\n",
    "            .attr(\"width\", width)\n",
    "            .attr(\"height\", height);\n",
    "    }\n",
    "\n",
    "    // We load the JSON file.\n",
    "    d3.json(\"data/graph.json\", function (error, graph) {\n",
    "        // In this block, the file has been loaded\n",
    "        // and the 'graph' object contains our graph.\n",
    "\n",
    "        // We load the nodes and links in the\n",
    "        // force-directed graph.\n",
    "        force.nodes(graph.nodes)\n",
    "            .links(graph.links)\n",
    "            .start();\n",
    "\n",
    "        // We create a <line> SVG element for each link\n",
    "        // in the graph.\n",
    "        var link = svg.selectAll(\".link\")\n",
    "            .data(graph.links)\n",
    "            .enter().append(\"line\")\n",
    "            .attr(\"class\", \"link\");\n",
    "\n",
    "        // We create a <circle> SVG element for each node\n",
    "        // in the graph, and we specify a few attributes.\n",
    "        var node = svg.selectAll(\".node\")\n",
    "            .data(graph.nodes)\n",
    "            .enter().append(\"circle\")\n",
    "            .attr(\"class\", \"node\")\n",
    "            .attr(\"r\", 10)  // radius\n",
    "            .style(\"fill\", function (d) {\n",
    "                // The node color depends on the club.\n",
    "                return color(d.club);\n",
    "            })\n",
    "            .call(force.drag);\n",
    "\n",
    "        // The name of each node is the node number.\n",
    "        node.append(\"title\")\n",
    "            .text(function (d) {\n",
    "                return d.name;\n",
    "            });\n",
    "\n",
    "        // We bind the positions of the SVG elements\n",
    "        // to the positions of the dynamic force-directed\n",
    "        // graph, at each time step.\n",
    "        force.on(\"tick\", function () {\n",
    "            link.attr(\"x1\", function (d) {\n",
    "                return d.source.x\n",
    "            })\n",
    "                .attr(\"y1\", function (d) {\n",
    "                    return d.source.y\n",
    "                })\n",
    "                .attr(\"x2\", function (d) {\n",
    "                    return d.target.x\n",
    "                })\n",
    "                .attr(\"y2\", function (d) {\n",
    "                    return d.target.y\n",
    "                });\n",
    "\n",
    "            node.attr(\"cx\", function (d) {\n",
    "                return d.x\n",
    "            })\n",
    "                .attr(\"cy\", function (d) {\n",
    "                    return d.y\n",
    "                });\n",
    "        });\n",
    "    });\n",
    "});"
   ]
  },
  {
   "cell_type": "markdown",
   "metadata": {
    "pycharm": {
     "is_executing": false,
     "name": "#%% md\n"
    }
   },
   "source": [
    "## 6 EXERCISE Bonus : sort the adjacency matrix to highlight clusters, and plot it."
   ]
  },
  {
   "cell_type": "code",
   "execution_count": null,
   "metadata": {
    "pycharm": {
     "name": "#%%\n"
    }
   },
   "outputs": [],
   "source": []
  }
 ],
 "metadata": {
  "kernelspec": {
   "display_name": "Python 3",
   "language": "python",
   "name": "python3"
  },
  "language_info": {
   "codemirror_mode": {
    "name": "ipython",
    "version": 3
   },
   "file_extension": ".py",
   "mimetype": "text/x-python",
   "name": "python",
   "nbconvert_exporter": "python",
   "pygments_lexer": "ipython3",
   "version": "3.7.1"
  },
  "pycharm": {
   "stem_cell": {
    "cell_type": "raw",
    "metadata": {
     "collapsed": false
    },
    "source": []
   }
  }
 },
 "nbformat": 4,
 "nbformat_minor": 1
}
