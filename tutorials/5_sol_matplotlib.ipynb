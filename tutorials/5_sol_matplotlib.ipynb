{
 "cells": [
  {
   "cell_type": "markdown",
   "source": [
    "# Solution to Matplotlib exercises"
   ],
   "metadata": {
    "collapsed": false
   }
  },
  {
   "cell_type": "markdown",
   "source": [
    "---"
   ],
   "metadata": {
    "collapsed": false
   }
  },
  {
   "cell_type": "code",
   "execution_count": 1,
   "outputs": [],
   "source": [
    "import pandas as pd\n",
    "import numpy as np\n",
    "import matplotlib.pyplot as plt"
   ],
   "metadata": {
    "collapsed": false,
    "pycharm": {
     "name": "#%%\n",
     "is_executing": false
    }
   }
  },
  {
   "cell_type": "markdown",
   "source": [
    "## 2 EXERCISE BASIC PLOT\n",
    "\n",
    "<div class=\"alert alert-success\">\n",
    "\n",
    "<b>Plot dealing with missing data</b>:\n",
    "\n",
    "<ul>\n",
    "  <li>Plot the NO2 of January 2000. What about the VERS station ? Plot only data for this station</li>\n",
    "   <li>Display all the index for which there is a nan value. Count the number of missing values</li>\n",
    "   <li>Find different ways to handle missing data for this station for Januray 2000. Plot the results. Is it acceptable ?</li>\n",
    "   <li>Try to generate random number froma normal to handle missing values</li>\n",
    "\n",
    "</ul>\n",
    "\n",
    "</div>"
   ],
   "metadata": {
    "collapsed": false
   }
  },
  {
   "cell_type": "code",
   "execution_count": null,
   "outputs": [],
   "source": [
    "data = pd.read_csv('data/20000101_20161231-NO2.csv', sep=';', skiprows=[1], na_values=['n/d'], index_col=0, parse_dates=True)\n",
    "\n",
    "data['2000-1'].plot()"
   ],
   "metadata": {
    "collapsed": false,
    "pycharm": {
     "name": "#%%\n"
    }
   }
  },
  {
   "cell_type": "code",
   "execution_count": null,
   "outputs": [],
   "source": [
    "\n",
    "data['VERS']['2000-1'].plot()"
   ],
   "metadata": {
    "collapsed": false,
    "pycharm": {
     "name": "#%%\n"
    }
   }
  },
  {
   "cell_type": "code",
   "execution_count": null,
   "outputs": [],
   "source": [
    "data['VERS'][data['VERS'].isnull()]\n",
    "len_nan = len(data['VERS']['2000-1'][data['VERS']['2000-1'].isnull()])\n",
    "len_nan = data['VERS']['2000-1'][data['VERS']['2000-1'].isnull()].values.shape[0]"
   ],
   "metadata": {
    "collapsed": false,
    "pycharm": {
     "name": "#%%\n"
    }
   }
  },
  {
   "cell_type": "code",
   "execution_count": null,
   "outputs": [],
   "source": [
    "df1 = data['VERS']['2000-1'].copy()\n",
    "df2 = data['VERS']['2000-1'].copy()\n",
    "df3 = data['VERS']['2000-1'].copy()\n",
    "df4 = data['VERS']['2000-1'].copy()\n",
    "\n",
    "df1 = df1.fillna(0)\n",
    "df2.fillna(method='ffill',inplace=True)\n",
    "df3 = df3.interpolate('linear')\n",
    "df4 = df4.interpolate('quadratic')\n",
    "df_concat = pd.concat([df1, df2, df3, df4], axis=1, join='inner')\n",
    "df_concat.columns = ['0 nan', 'ffill', 'linear', 'quadratic']\n",
    "df_concat.plot()"
   ],
   "metadata": {
    "collapsed": false,
    "pycharm": {
     "name": "#%%\n"
    }
   }
  },
  {
   "cell_type": "code",
   "execution_count": null,
   "outputs": [],
   "source": [
    "# https://docs.scipy.org/doc/numpy-1.15.1/reference/generated/numpy.random.randn.html\n",
    "# sigma * np.random.randn(...) + mu\n",
    "\n",
    "df5 = data['VERS']['2000-1'].copy()\n",
    "\n",
    "\n",
    "mean_VERS = data['VERS'].mean()\n",
    "std_VERS = data['VERS'].std()\n",
    "\n",
    "# std_VERS * np.random.randn(len_nan) + mean_VERS\n",
    "random_n = std_VERS * np.random.randn(len_nan) + mean_VERS\n",
    "df5[df5.isnull()] = random_n\n",
    "\n",
    "df_concat = pd.concat([df_concat, df5], axis=1, join='inner')\n",
    "df_concat.columns = ['0 nan', 'ffill', 'linear', 'quadratic', 'random N']\n",
    "df_concat.plot()"
   ],
   "metadata": {
    "collapsed": false,
    "pycharm": {
     "name": "#%%\n"
    }
   }
  },
  {
   "cell_type": "markdown",
   "source": [
    "## 12 EXERCISE Hexagonal PLOT\n",
    "\n",
    "<div class=\"alert alert-success\">\n",
    "\n",
    "<b>From Scatter plot to Hexagonal plot</b>:\n",
    "\n",
    "<ul>\n",
    "  <li>Given the data do a scatter plot with black color.</li>\n",
    "  <li>Do an Hexagonal plot with black color and gridsize=50. Add a colorbar to your plot.</li>\n",
    "  <li>Set an inferno color map instead of a black color to the hexagonal plot.</li>\n",
    "  <li>Transform the colorbar to a log one./li>\n",
    "  <li>Set the color map to tab20c instead of inferno.</li>\n",
    "\n",
    "</ul>\n",
    "\n",
    "</div>\n"
   ],
   "metadata": {
    "collapsed": false
   }
  },
  {
   "cell_type": "code",
   "execution_count": null,
   "outputs": [],
   "source": [
    "import numpy as np\n",
    "import matplotlib.pyplot as plt\n",
    "\n",
    "# Fixing random state for reproducibility\n",
    "np.random.seed(19680801)\n",
    "\n",
    "n = 100000\n",
    "x = np.random.standard_normal(n)\n",
    "y = 2.0 + 3.0 * x + 4.0 * np.random.standard_normal(n)\n",
    "xmin = x.min()\n",
    "xmax = x.max()\n",
    "ymin = y.min()\n",
    "ymax = y.max()"
   ],
   "metadata": {
    "collapsed": false,
    "pycharm": {
     "name": "#%%\n"
    }
   }
  },
  {
   "cell_type": "code",
   "execution_count": null,
   "outputs": [],
   "source": [
    "plt.figure(1)\n",
    "plt.scatter(x, y, color='black')\n",
    "plt.xlim(xmin, xmax)\n",
    "plt.ylim(ymin, ymax)\n",
    "plt.title('Scatter plot')\n",
    "plt.show()"
   ],
   "metadata": {
    "collapsed": false,
    "pycharm": {
     "name": "#%%\n"
    }
   }
  },
  {
   "cell_type": "code",
   "execution_count": null,
   "outputs": [],
   "source": [
    "plt.figure(2)\n",
    "plt.hexbin(x, y, color='black',gridsize=50)\n",
    "plt.xlim(xmin, xmax)\n",
    "plt.ylim(ymin, ymax)\n",
    "plt.title('Hexbin plot')\n",
    "cb = plt.colorbar()\n",
    "plt.show()"
   ],
   "metadata": {
    "collapsed": false,
    "pycharm": {
     "name": "#%%\n"
    }
   }
  },
  {
   "cell_type": "code",
   "execution_count": null,
   "outputs": [],
   "source": [
    "plt.figure(3)\n",
    "plt.hexbin(x, y, cmap='inferno', gridsize=50)\n",
    "plt.xlim(xmin, xmax)\n",
    "plt.ylim(ymin, ymax)\n",
    "plt.title('Hexbin plot with inferno color map')\n",
    "cb = plt.colorbar(cmap='inferno')\n",
    "plt.show()"
   ],
   "metadata": {
    "collapsed": false,
    "pycharm": {
     "name": "#%%\n"
    }
   }
  },
  {
   "cell_type": "code",
   "execution_count": null,
   "outputs": [],
   "source": [
    "plt.figure(4)\n",
    "plt.hexbin(x, y, cmap='inferno', bins='log', gridsize=50)\n",
    "plt.xlim(xmin, xmax)\n",
    "plt.ylim(ymin, ymax)\n",
    "plt.title('Hexbin plot with inferno log color map')\n",
    "cb = plt.colorbar(cmap='inferno')\n",
    "cb.set_label('log10(N)')\n",
    "plt.show()"
   ],
   "metadata": {
    "collapsed": false,
    "pycharm": {
     "name": "#%%\n"
    }
   }
  },
  {
   "cell_type": "code",
   "execution_count": null,
   "outputs": [],
   "source": [
    "plt.figure(5)\n",
    "plt.hexbin(x, y, cmap='tab20c', bins='log', gridsize=50)\n",
    "plt.xlim(xmin, xmax)\n",
    "plt.ylim(ymin, ymax)\n",
    "plt.title('Hexbin plot with tab20c log color map')\n",
    "cb = plt.colorbar(cmap='tab20c')\n",
    "cb.set_label('log10(N)')\n",
    "plt.show()\n"
   ],
   "metadata": {
    "collapsed": false,
    "pycharm": {
     "name": "#%%\n"
    }
   }
  }
 ],
 "metadata": {
  "kernelspec": {
   "display_name": "Python 3",
   "language": "python",
   "name": "python3"
  },
  "language_info": {
   "codemirror_mode": {
    "name": "ipython",
    "version": 3
   },
   "file_extension": ".py",
   "mimetype": "text/x-python",
   "name": "python",
   "nbconvert_exporter": "python",
   "pygments_lexer": "ipython3",
   "version": "3.7.1"
  },
  "pycharm": {
   "stem_cell": {
    "cell_type": "raw",
    "source": [],
    "metadata": {
     "collapsed": false
    }
   }
  },
  "toc": {
   "toc_cell": false,
   "toc_number_sections": true,
   "toc_section_display": "block",
   "toc_threshold": 6,
   "toc_window_display": false
  },
  "toc_position": {
   "height": "677px",
   "left": "1195.02px",
   "right": "20px",
   "top": "78px",
   "width": "238px"
  }
 },
 "nbformat": 4,
 "nbformat_minor": 1
}